{
 "cells": [
  {
   "cell_type": "markdown",
   "metadata": {},
   "source": [
    "Importing required libraries and modules"
   ]
  },
  {
   "cell_type": "code",
   "execution_count": null,
   "metadata": {},
   "outputs": [],
   "source": [
    "import pandas as pd\n",
    "import numpy as np\n",
    "import urllib\n",
    "import os \n",
    "import requests\n",
    "import matplotlib.pyplot as plt\n",
    "from sklearn.metrics import r2_score\n",
    "import seaborn as seabornInstance \n",
    "from sklearn.model_selection import train_test_split \n",
    "from sklearn.linear_model import LinearRegression\n",
    "from sklearn import metrics\n",
    "get_ipython().magic(u'matplotlib inline')\n",
    "import time\n",
    "from Bio import SeqIO\n",
    "from Bio.Seq import Seq\n",
    "from Bio.Blast import NCBIWWW\n",
    "from Bio.Blast import NCBIXML\n",
    "from Bio.PDB import *\n",
    "import os, shutil\n",
    "from biopandas.pdb import PandasPdb\n",
    "from Bio import ExPASy\n",
    "from selenium import webdriver\n",
    "from selenium.webdriver.common.keys import Keys\n",
    "from selenium.webdriver.firefox.options import Options\n",
    "import pymol as p\n"
   ]
  },
  {
   "cell_type": "markdown",
   "metadata": {},
   "source": [
    "BLAST protocol - Collects target signatures from user and matches target record with PubChem data linked to target which is required to perform AutoQSAR based drug lead generation against the target "
   ]
  },
  {
   "cell_type": "code",
   "execution_count": 25,
   "metadata": {},
   "outputs": [
    {
     "name": "stdout",
     "output_type": "stream",
     "text": [
      "Paste input in a form of FASTA sequence: MSTESMIRDVELAEEALPKKTGGPQGSRRCLFLSLFSFLIVAGATTLFCLLHFGVIGPQREEFPRDLSLISPLAQAVRSSSRTPSDKPVAHVVANPQAEGQLQWLNRRANALLANGVELRDNQLVVPSEGLYLIYSQVLFKGQGCPSTHVLLTHTISRIAVSYQTKVNLLSAIKSPCQRETPEGAEAKPWYEPIYLGGVFQLEKGDRLSAEINRPDYLDFAESGQVYFGIIAL\n",
      "Query sent to NCBIWWW against swissprot database\n",
      "Top hits: ['P01375', 'P33620', 'Q8HZD9']\n",
      "Target not found in database\n",
      "Target not found in database\n",
      "Entry P01375 present in database!\n",
      "Entry P01375 present in database!\n"
     ]
    }
   ],
   "source": [
    "# protein_query = \"SMAVGACVLCNSQTSLRCGACIRRPFLCCKCCYDHVISTSHKLVLSVNPYVCNAPGCDVTDVTQLYLGGMSYYCKSHKPPISFPLCANGQVFGLYKNTCVGSDNVTDFNAIATCDWTNAGDYILANTCTERLKLFAAETLKATEETFKLSYGIATVREVLSDRELHLSWEVGKPRPPLNRNYVFTGYRVTKNSKVQIGEYTFEKGDYGDAVVYRGTTTYKLNVGDYFVLTSHTVMPLSAPTLVPQEHYVRITGLYPTLNISDEFSSNVANYQKVGMQKYSTLQGPPGTGKSHFAIGLALYYPSARIVYTACSHAAVDALCEKALKYLPIDKCSRIIPARARVECFDKFKVNSTLEQYVFCTVNALPETTADIVVFDEISMATNYDLSVVNARLRAKHYVYIGDPAQLPAPRTLLTKGTLEPEYFNSVCRLMKTIGPDMFLGTCRRCPAEIVDTVSALVYDNKLKAHKDKSAQCFKMFYKGVITHDVSSAINRPQIGVVREFLTRNPAWRKAVFISPYNSQNAVASKILGLPTQTVDSSQGSEYDYVIFTQTTETAHSCNVNRFNVAITRAKVGILCIMSDRDLYDKLQFTSLEIPRRNVATLQ\"\n",
    "\n",
    "# nucleotide_query = \"ATGGCGATGCTTCAGACGAATCTTGGCTTCATTACTTCTCCGACATTTCTGTGTCCGAAGCTTAAAGTCAAATTGAACTCTTATCTGTGGTTTAGCTATCGTTCTCAAGTTCAAAAACTGGATTTTTCGAAAAGGGTTAATAGAAGCTACAAAAGAGATGCTTTATTATTGTCAATCAAGTGTTCTTCATCGACTGGATTTGATAATAGCAATGTTGTTGTGAAGGAGAAGAGTGTATCTGTGATTCTTTTAGCTGGAGGTCAAGGCAAGAGAATGAAAATGAGTATGCCAAAGCAGTACATACCACTTCTTGGTCAGCCAATTGCTTTGTATAGCTTTTTCACGTTTTCACGTATGCCTGAAGTGAAGGAAATTGTAGTTGTATGTGATCCTTTTTTCAGAGACATTTTTGAAGAATACGAAGAATCAATTGATGTTGATCTTAGATTCGCTATTCCTGGCAAAGAAAGACAAGATTCTGTTTACAGTGGACTTCAGGAAATCGATGTGAACTCTGAGCTTGTTTGTATCCACGACTCTGCCCGACCATTGGTGAATACTGAAGATGTCGAGAAGGTCCTTAAAGATGGTTCCGCGGTTGGAGCAGCTGTACTTGGTGTTCCTGCTAAAGCTACAATCAAAGAGGTCAATTCTGATTCGCTTGTGGTGAAAACTCTCGACAGAAAAACCCTATGGGAAATGCAGACACCACAGGTGATCAAACCAGAGCTATTGAAAAAGGGTTTCGAGCTTGTAAAAAGTGAAGGTCTAGAGGTAACAGATGACGTTTCGATTGTTGAATACCTCAAGCATCCAGTTTATGTCTCTCAAGGATCTTATACAAACATCAAGGTTACAACACCTGATGATTTACTGCTTGCTGAGAGAATCTTGAGCGAGGACTCATGA\"\n",
    "\n",
    "query = Seq(input(\"Paste input in a form of FASTA sequence: \"))\n",
    "\n",
    "# def blast_input():\n",
    "# my_query = Seq(nucleotide_query)\n",
    "# query = SeqIO.read(\"sample.fasta\", format=\"fasta\")\n",
    "try:\n",
    "    print(\"Query sent to NCBIWWW against swissprot database\")\n",
    "    result_handle = NCBIWWW.qblast(\"blastp\", \"swissprot\", query)\n",
    "    blast_result = open(\"my_blast_result.xml\", \"w\")\n",
    "    blast_result.write(result_handle.read())\n",
    "    blast_result.close()\n",
    "    result_handle.close()\n",
    "except ValueError:\n",
    "    my_translated_query = my_query.translate()\n",
    "    print(f\"DNA/RNA sequence detected. Sequence translated to : {my_translated_query}\")\n",
    "    result_handle = NCBIWWW.qblast(\"blastp\", \"swissprot\", my_translated_query)\n",
    "    blast_result = open(\"my_blast_result.xml\", \"w\")\n",
    "    blast_result.write(result_handle.read())\n",
    "    blast_result.close()\n",
    "    result_handle.close()\n",
    "\n",
    "\n",
    "# def read_blast_output():\n",
    "result = open(\"my_blast_result.xml\")\n",
    "blast_records = NCBIXML.parse(result)\n",
    "number_of_alignments = 0\n",
    "hit_ids = []\n",
    "for rec in blast_records:\n",
    "    for alignment in rec.alignments:\n",
    "        hit_ids.append(alignment.accession)\n",
    "        number_of_alignments += 1\n",
    "        if number_of_alignments == 3: # Take three top alignments and stop\n",
    "            break\n",
    "print(f\"Top hits: {hit_ids}\")\n",
    "# return hit_ids\n",
    "if len(hit_ids) == 0:\n",
    "    print(\"No hits identified in the database. Check your FASTA input.\")\n",
    "# def read_target_db(input_list: list):\n",
    "with open('target', 'r') as df:\n",
    "    for line in df:\n",
    "        line = line.split()\n",
    "        try:\n",
    "            for entry in hit_ids:\n",
    "                if entry in line[2]:\n",
    "                    print(f\"Entry {entry} present in database!\")\n",
    "                    check_id = entry\n",
    "                    break\n",
    "        except:\n",
    "            print(\"Target not found in database\")\n",
    "\n",
    "# if __name__ == '__main__':\n",
    "#     blast_input()\n",
    "#     read_target_db(read_blast_output())"
   ]
  },
  {
   "cell_type": "code",
   "execution_count": 26,
   "metadata": {},
   "outputs": [],
   "source": [
    "link1 = \"https://pubchem.ncbi.nlm.nih.gov/sdq/sdqagent.cgi?infmt=json&outfmt=csv&query={%22download%22:%22*%22,%22collection%22:%22bioactivity%22,%22where%22:{%22ands%22:[{%22protacxn%22:%22notnull%22},{%22cid%22:%22notnull%22},{%22repacxn%22:%22P0C6U8%22}]},%22order%22:[%22activity,asc%22],%22start%22:1,%22limit%22:10000000,%22downloadfilename%22:%22{PROTACXN_P0C6U8}_bioactivity_protein%22}\""
   ]
  },
  {
   "cell_type": "code",
   "execution_count": 37,
   "metadata": {},
   "outputs": [
    {
     "name": "stdout",
     "output_type": "stream",
     "text": [
      "https://pubchem.ncbi.nlm.nih.gov/sdq/sdqagent.cgi?infmt=json&outfmt=csv&query={%22download%22:%22*%22,%22collection%22:%22bioactivity%22,%22where%22:{%22ands%22:[{%22protacxn%22:%22notnull%22},{%22cid%22:%22notnull%22},{%22repacxn%22:%22P01375%22}]},%22order%22:[%22activity,asc%22],%22start%22:1,%22limit%22:10000000,%22downloadfilename%22:%22{PROTACXN_P01375}_bioactivity_protein%22}\n"
     ]
    }
   ],
   "source": [
    "link1 = link1.replace('P0C6U8', check_id)\n",
    "print(link1) \n"
   ]
  },
  {
   "cell_type": "markdown",
   "metadata": {},
   "source": [
    "Data fetching from PubChem begins. Data linked to target of active compounds against target, their molecular descriptors and experimental activity value is fetched "
   ]
  },
  {
   "cell_type": "code",
   "execution_count": 61,
   "metadata": {},
   "outputs": [
    {
     "name": "stdout",
     "output_type": "stream",
     "text": [
      "Completed the Request\n"
     ]
    }
   ],
   "source": [
    "for i in range(2):\n",
    "    try:\n",
    "        req = requests.get(link1)\n",
    "        url_content = req.content\n",
    "        csv_file = open('downloaded1.csv', 'wb')\n",
    "        csv_file.write(url_content)\n",
    "        csv_file.close()\n",
    "        print(\"Completed the Request\")\n",
    "        break\n",
    "    #except IncompleteRead as I:\n",
    "     #   print(\"Server Overloading , Proceeding\")\n",
    "      #  break\n",
    "    except Exception as a:\n",
    "        print(str(a)+\" is the error , Trying {} time\".format(i))\n",
    "        continue\n",
    "    else:\n",
    "        break\n",
    "else:\n",
    "    print(\"something Wrong , Try running Again [refer error code for more]\")"
   ]
  },
  {
   "cell_type": "code",
   "execution_count": 62,
   "metadata": {},
   "outputs": [
    {
     "data": {
      "text/html": [
       "<div>\n",
       "<style scoped>\n",
       "    .dataframe tbody tr th:only-of-type {\n",
       "        vertical-align: middle;\n",
       "    }\n",
       "\n",
       "    .dataframe tbody tr th {\n",
       "        vertical-align: top;\n",
       "    }\n",
       "\n",
       "    .dataframe thead th {\n",
       "        text-align: right;\n",
       "    }\n",
       "</style>\n",
       "<table border=\"1\" class=\"dataframe\">\n",
       "  <thead>\n",
       "    <tr style=\"text-align: right;\">\n",
       "      <th></th>\n",
       "      <th>baid</th>\n",
       "      <th>activity</th>\n",
       "      <th>aid</th>\n",
       "      <th>sid</th>\n",
       "      <th>mid</th>\n",
       "      <th>cid</th>\n",
       "      <th>geneid</th>\n",
       "      <th>taxid</th>\n",
       "      <th>pmid</th>\n",
       "      <th>aidtype</th>\n",
       "      <th>...</th>\n",
       "      <th>protacxn</th>\n",
       "      <th>acname</th>\n",
       "      <th>acvalue</th>\n",
       "      <th>aidsrcname</th>\n",
       "      <th>aidname</th>\n",
       "      <th>cmpdname</th>\n",
       "      <th>targetname</th>\n",
       "      <th>targeturl</th>\n",
       "      <th>ecs</th>\n",
       "      <th>repacxn</th>\n",
       "    </tr>\n",
       "  </thead>\n",
       "  <tbody>\n",
       "    <tr>\n",
       "      <th>0</th>\n",
       "      <td>87650010</td>\n",
       "      <td>Active</td>\n",
       "      <td>1852</td>\n",
       "      <td>24841471</td>\n",
       "      <td>0</td>\n",
       "      <td>164754</td>\n",
       "      <td>7124</td>\n",
       "      <td>9606</td>\n",
       "      <td>NaN</td>\n",
       "      <td>Other</td>\n",
       "      <td>...</td>\n",
       "      <td>NP_000585</td>\n",
       "      <td>NaN</td>\n",
       "      <td>NaN</td>\n",
       "      <td>Burnham Center for Chemical Genomics</td>\n",
       "      <td>HTS assay for identification of inhibitors of ...</td>\n",
       "      <td>Enniatin B</td>\n",
       "      <td>TNF - tumor necrosis factor (human)</td>\n",
       "      <td>/gene/7124</td>\n",
       "      <td>NaN</td>\n",
       "      <td>P01375</td>\n",
       "    </tr>\n",
       "    <tr>\n",
       "      <th>1</th>\n",
       "      <td>87650665</td>\n",
       "      <td>Active</td>\n",
       "      <td>1852</td>\n",
       "      <td>24818849</td>\n",
       "      <td>0</td>\n",
       "      <td>203396</td>\n",
       "      <td>7124</td>\n",
       "      <td>9606</td>\n",
       "      <td>NaN</td>\n",
       "      <td>Other</td>\n",
       "      <td>...</td>\n",
       "      <td>NP_000585</td>\n",
       "      <td>NaN</td>\n",
       "      <td>NaN</td>\n",
       "      <td>Burnham Center for Chemical Genomics</td>\n",
       "      <td>HTS assay for identification of inhibitors of ...</td>\n",
       "      <td>4,5-Dibromo-2-phenylpyridazin-3(2H)-one</td>\n",
       "      <td>TNF - tumor necrosis factor (human)</td>\n",
       "      <td>/gene/7124</td>\n",
       "      <td>NaN</td>\n",
       "      <td>P01375</td>\n",
       "    </tr>\n",
       "    <tr>\n",
       "      <th>2</th>\n",
       "      <td>87650885</td>\n",
       "      <td>Active</td>\n",
       "      <td>1852</td>\n",
       "      <td>17510830</td>\n",
       "      <td>0</td>\n",
       "      <td>208719</td>\n",
       "      <td>7124</td>\n",
       "      <td>9606</td>\n",
       "      <td>NaN</td>\n",
       "      <td>Other</td>\n",
       "      <td>...</td>\n",
       "      <td>NP_000585</td>\n",
       "      <td>NaN</td>\n",
       "      <td>NaN</td>\n",
       "      <td>Burnham Center for Chemical Genomics</td>\n",
       "      <td>HTS assay for identification of inhibitors of ...</td>\n",
       "      <td>5-(p-Tolylazo)-8-quinolinol</td>\n",
       "      <td>TNF - tumor necrosis factor (human)</td>\n",
       "      <td>/gene/7124</td>\n",
       "      <td>NaN</td>\n",
       "      <td>P01375</td>\n",
       "    </tr>\n",
       "    <tr>\n",
       "      <th>3</th>\n",
       "      <td>87651570</td>\n",
       "      <td>Active</td>\n",
       "      <td>1852</td>\n",
       "      <td>24818561</td>\n",
       "      <td>0</td>\n",
       "      <td>224481</td>\n",
       "      <td>7124</td>\n",
       "      <td>9606</td>\n",
       "      <td>NaN</td>\n",
       "      <td>Other</td>\n",
       "      <td>...</td>\n",
       "      <td>NP_000585</td>\n",
       "      <td>NaN</td>\n",
       "      <td>NaN</td>\n",
       "      <td>Burnham Center for Chemical Genomics</td>\n",
       "      <td>HTS assay for identification of inhibitors of ...</td>\n",
       "      <td>2-Chloro-N,N-diphenylacetamide</td>\n",
       "      <td>TNF - tumor necrosis factor (human)</td>\n",
       "      <td>/gene/7124</td>\n",
       "      <td>NaN</td>\n",
       "      <td>P01375</td>\n",
       "    </tr>\n",
       "    <tr>\n",
       "      <th>4</th>\n",
       "      <td>87655148</td>\n",
       "      <td>Active</td>\n",
       "      <td>1852</td>\n",
       "      <td>844338</td>\n",
       "      <td>0</td>\n",
       "      <td>646658</td>\n",
       "      <td>7124</td>\n",
       "      <td>9606</td>\n",
       "      <td>NaN</td>\n",
       "      <td>Other</td>\n",
       "      <td>...</td>\n",
       "      <td>NP_000585</td>\n",
       "      <td>NaN</td>\n",
       "      <td>NaN</td>\n",
       "      <td>Burnham Center for Chemical Genomics</td>\n",
       "      <td>HTS assay for identification of inhibitors of ...</td>\n",
       "      <td>2-(7-Butyl-1,3-dimethyl-2,6-dioxo-2,3,6,7-tetr...</td>\n",
       "      <td>TNF - tumor necrosis factor (human)</td>\n",
       "      <td>/gene/7124</td>\n",
       "      <td>NaN</td>\n",
       "      <td>P01375</td>\n",
       "    </tr>\n",
       "    <tr>\n",
       "      <th>...</th>\n",
       "      <td>...</td>\n",
       "      <td>...</td>\n",
       "      <td>...</td>\n",
       "      <td>...</td>\n",
       "      <td>...</td>\n",
       "      <td>...</td>\n",
       "      <td>...</td>\n",
       "      <td>...</td>\n",
       "      <td>...</td>\n",
       "      <td>...</td>\n",
       "      <td>...</td>\n",
       "      <td>...</td>\n",
       "      <td>...</td>\n",
       "      <td>...</td>\n",
       "      <td>...</td>\n",
       "      <td>...</td>\n",
       "      <td>...</td>\n",
       "      <td>...</td>\n",
       "      <td>...</td>\n",
       "      <td>...</td>\n",
       "      <td>...</td>\n",
       "    </tr>\n",
       "    <tr>\n",
       "      <th>6607</th>\n",
       "      <td>460544356</td>\n",
       "      <td>Unspecified</td>\n",
       "      <td>1186217</td>\n",
       "      <td>312348743</td>\n",
       "      <td>0</td>\n",
       "      <td>874861</td>\n",
       "      <td>7124</td>\n",
       "      <td>9606</td>\n",
       "      <td>25078315.0</td>\n",
       "      <td>Literature-derived</td>\n",
       "      <td>...</td>\n",
       "      <td>P01375</td>\n",
       "      <td>NaN</td>\n",
       "      <td>NaN</td>\n",
       "      <td>ChEMBL</td>\n",
       "      <td>Inhibition of TNFalpha in HEK293T cells transf...</td>\n",
       "      <td>N-(3-Chloro-4-hydroxyphenyl)-4-fluorobenzenesu...</td>\n",
       "      <td>TNF - tumor necrosis factor (human)</td>\n",
       "      <td>/gene/7124</td>\n",
       "      <td>NaN</td>\n",
       "      <td>P01375</td>\n",
       "    </tr>\n",
       "    <tr>\n",
       "      <th>6608</th>\n",
       "      <td>460544358</td>\n",
       "      <td>Unspecified</td>\n",
       "      <td>1186217</td>\n",
       "      <td>312370226</td>\n",
       "      <td>0</td>\n",
       "      <td>1137620</td>\n",
       "      <td>7124</td>\n",
       "      <td>9606</td>\n",
       "      <td>25078315.0</td>\n",
       "      <td>Literature-derived</td>\n",
       "      <td>...</td>\n",
       "      <td>P01375</td>\n",
       "      <td>NaN</td>\n",
       "      <td>NaN</td>\n",
       "      <td>ChEMBL</td>\n",
       "      <td>Inhibition of TNFalpha in HEK293T cells transf...</td>\n",
       "      <td>(3,5-Dichloro-4-hydroxyphenyl)(2-naphthylsulfo...</td>\n",
       "      <td>TNF - tumor necrosis factor (human)</td>\n",
       "      <td>/gene/7124</td>\n",
       "      <td>NaN</td>\n",
       "      <td>P01375</td>\n",
       "    </tr>\n",
       "    <tr>\n",
       "      <th>6609</th>\n",
       "      <td>460865365</td>\n",
       "      <td>Unspecified</td>\n",
       "      <td>733377</td>\n",
       "      <td>103562257</td>\n",
       "      <td>0</td>\n",
       "      <td>5327044</td>\n",
       "      <td>7124</td>\n",
       "      <td>9606</td>\n",
       "      <td>24900576.0</td>\n",
       "      <td>Literature-derived</td>\n",
       "      <td>...</td>\n",
       "      <td>P01375</td>\n",
       "      <td>NaN</td>\n",
       "      <td>NaN</td>\n",
       "      <td>ChEMBL</td>\n",
       "      <td>Binding affinity to GST-tagged human TNF-alpha...</td>\n",
       "      <td>6,7-Dimethyl-3-[(methyl{2-[methyl({1-[3-(trifl...</td>\n",
       "      <td>TNF - tumor necrosis factor (human)</td>\n",
       "      <td>/gene/7124</td>\n",
       "      <td>NaN</td>\n",
       "      <td>P01375</td>\n",
       "    </tr>\n",
       "    <tr>\n",
       "      <th>6610</th>\n",
       "      <td>460865369</td>\n",
       "      <td>Unspecified</td>\n",
       "      <td>733378</td>\n",
       "      <td>103562257</td>\n",
       "      <td>0</td>\n",
       "      <td>5327044</td>\n",
       "      <td>7124</td>\n",
       "      <td>9606</td>\n",
       "      <td>24900576.0</td>\n",
       "      <td>Literature-derived</td>\n",
       "      <td>...</td>\n",
       "      <td>P01375</td>\n",
       "      <td>NaN</td>\n",
       "      <td>NaN</td>\n",
       "      <td>ChEMBL</td>\n",
       "      <td>Ratio of Kd for GST-tagged human TNF-alpha in ...</td>\n",
       "      <td>6,7-Dimethyl-3-[(methyl{2-[methyl({1-[3-(trifl...</td>\n",
       "      <td>TNF - tumor necrosis factor (human)</td>\n",
       "      <td>/gene/7124</td>\n",
       "      <td>NaN</td>\n",
       "      <td>P01375</td>\n",
       "    </tr>\n",
       "    <tr>\n",
       "      <th>6611</th>\n",
       "      <td>461656807</td>\n",
       "      <td>Unspecified</td>\n",
       "      <td>1344367</td>\n",
       "      <td>374311448</td>\n",
       "      <td>0</td>\n",
       "      <td>58329377</td>\n",
       "      <td>7124</td>\n",
       "      <td>9606</td>\n",
       "      <td>NaN</td>\n",
       "      <td>Confirmatory</td>\n",
       "      <td>...</td>\n",
       "      <td>P01375</td>\n",
       "      <td>IC50</td>\n",
       "      <td>50.0</td>\n",
       "      <td>ChEMBL</td>\n",
       "      <td>ELISA Assay: Add 100 μL of sample or standards...</td>\n",
       "      <td>Methyl 4-[3-(3-chlorophenyl)-7-methoxy-2,4-dio...</td>\n",
       "      <td>TNF - tumor necrosis factor (human)</td>\n",
       "      <td>/gene/7124</td>\n",
       "      <td>NaN</td>\n",
       "      <td>P01375</td>\n",
       "    </tr>\n",
       "  </tbody>\n",
       "</table>\n",
       "<p>6612 rows × 23 columns</p>\n",
       "</div>"
      ],
      "text/plain": [
       "           baid     activity      aid        sid  mid       cid  geneid  \\\n",
       "0      87650010       Active     1852   24841471    0    164754    7124   \n",
       "1      87650665       Active     1852   24818849    0    203396    7124   \n",
       "2      87650885       Active     1852   17510830    0    208719    7124   \n",
       "3      87651570       Active     1852   24818561    0    224481    7124   \n",
       "4      87655148       Active     1852     844338    0    646658    7124   \n",
       "...         ...          ...      ...        ...  ...       ...     ...   \n",
       "6607  460544356  Unspecified  1186217  312348743    0    874861    7124   \n",
       "6608  460544358  Unspecified  1186217  312370226    0   1137620    7124   \n",
       "6609  460865365  Unspecified   733377  103562257    0   5327044    7124   \n",
       "6610  460865369  Unspecified   733378  103562257    0   5327044    7124   \n",
       "6611  461656807  Unspecified  1344367  374311448    0  58329377    7124   \n",
       "\n",
       "      taxid        pmid             aidtype  ...   protacxn  acname  acvalue  \\\n",
       "0      9606         NaN               Other  ...  NP_000585     NaN      NaN   \n",
       "1      9606         NaN               Other  ...  NP_000585     NaN      NaN   \n",
       "2      9606         NaN               Other  ...  NP_000585     NaN      NaN   \n",
       "3      9606         NaN               Other  ...  NP_000585     NaN      NaN   \n",
       "4      9606         NaN               Other  ...  NP_000585     NaN      NaN   \n",
       "...     ...         ...                 ...  ...        ...     ...      ...   \n",
       "6607   9606  25078315.0  Literature-derived  ...     P01375     NaN      NaN   \n",
       "6608   9606  25078315.0  Literature-derived  ...     P01375     NaN      NaN   \n",
       "6609   9606  24900576.0  Literature-derived  ...     P01375     NaN      NaN   \n",
       "6610   9606  24900576.0  Literature-derived  ...     P01375     NaN      NaN   \n",
       "6611   9606         NaN        Confirmatory  ...     P01375    IC50     50.0   \n",
       "\n",
       "                                aidsrcname  \\\n",
       "0     Burnham Center for Chemical Genomics   \n",
       "1     Burnham Center for Chemical Genomics   \n",
       "2     Burnham Center for Chemical Genomics   \n",
       "3     Burnham Center for Chemical Genomics   \n",
       "4     Burnham Center for Chemical Genomics   \n",
       "...                                    ...   \n",
       "6607                                ChEMBL   \n",
       "6608                                ChEMBL   \n",
       "6609                                ChEMBL   \n",
       "6610                                ChEMBL   \n",
       "6611                                ChEMBL   \n",
       "\n",
       "                                                aidname  \\\n",
       "0     HTS assay for identification of inhibitors of ...   \n",
       "1     HTS assay for identification of inhibitors of ...   \n",
       "2     HTS assay for identification of inhibitors of ...   \n",
       "3     HTS assay for identification of inhibitors of ...   \n",
       "4     HTS assay for identification of inhibitors of ...   \n",
       "...                                                 ...   \n",
       "6607  Inhibition of TNFalpha in HEK293T cells transf...   \n",
       "6608  Inhibition of TNFalpha in HEK293T cells transf...   \n",
       "6609  Binding affinity to GST-tagged human TNF-alpha...   \n",
       "6610  Ratio of Kd for GST-tagged human TNF-alpha in ...   \n",
       "6611  ELISA Assay: Add 100 μL of sample or standards...   \n",
       "\n",
       "                                               cmpdname  \\\n",
       "0                                            Enniatin B   \n",
       "1               4,5-Dibromo-2-phenylpyridazin-3(2H)-one   \n",
       "2                           5-(p-Tolylazo)-8-quinolinol   \n",
       "3                        2-Chloro-N,N-diphenylacetamide   \n",
       "4     2-(7-Butyl-1,3-dimethyl-2,6-dioxo-2,3,6,7-tetr...   \n",
       "...                                                 ...   \n",
       "6607  N-(3-Chloro-4-hydroxyphenyl)-4-fluorobenzenesu...   \n",
       "6608  (3,5-Dichloro-4-hydroxyphenyl)(2-naphthylsulfo...   \n",
       "6609  6,7-Dimethyl-3-[(methyl{2-[methyl({1-[3-(trifl...   \n",
       "6610  6,7-Dimethyl-3-[(methyl{2-[methyl({1-[3-(trifl...   \n",
       "6611  Methyl 4-[3-(3-chlorophenyl)-7-methoxy-2,4-dio...   \n",
       "\n",
       "                               targetname   targeturl ecs repacxn  \n",
       "0     TNF - tumor necrosis factor (human)  /gene/7124 NaN  P01375  \n",
       "1     TNF - tumor necrosis factor (human)  /gene/7124 NaN  P01375  \n",
       "2     TNF - tumor necrosis factor (human)  /gene/7124 NaN  P01375  \n",
       "3     TNF - tumor necrosis factor (human)  /gene/7124 NaN  P01375  \n",
       "4     TNF - tumor necrosis factor (human)  /gene/7124 NaN  P01375  \n",
       "...                                   ...         ...  ..     ...  \n",
       "6607  TNF - tumor necrosis factor (human)  /gene/7124 NaN  P01375  \n",
       "6608  TNF - tumor necrosis factor (human)  /gene/7124 NaN  P01375  \n",
       "6609  TNF - tumor necrosis factor (human)  /gene/7124 NaN  P01375  \n",
       "6610  TNF - tumor necrosis factor (human)  /gene/7124 NaN  P01375  \n",
       "6611  TNF - tumor necrosis factor (human)  /gene/7124 NaN  P01375  \n",
       "\n",
       "[6612 rows x 23 columns]"
      ]
     },
     "execution_count": 62,
     "metadata": {},
     "output_type": "execute_result"
    }
   ],
   "source": [
    "data = pd.read_csv(\"downloaded1.csv\",error_bad_lines=False)\n",
    "\n",
    "data"
   ]
  },
  {
   "cell_type": "code",
   "execution_count": 63,
   "metadata": {},
   "outputs": [],
   "source": [
    "#data cleaning up\n",
    "new_data = data[['cid','acvalue']]\n",
    "new_data = new_data.dropna()\n",
    "LSTM_data = data['cid']"
   ]
  },
  {
   "cell_type": "code",
   "execution_count": 64,
   "metadata": {},
   "outputs": [],
   "source": [
    "except_val=0\n",
    "cid_value = new_data['cid'].to_list()\n",
    "PIC50_value = (-np.log10(new_data['acvalue']*10**-6)).to_list()\n",
    "\n",
    "PIC50_value = pd.DataFrame(PIC50_value,columns = [\"y\"])\n",
    "y_data = PIC50_value"
   ]
  },
  {
   "cell_type": "code",
   "execution_count": 65,
   "metadata": {},
   "outputs": [],
   "source": [
    "#WebAPI PubChem\n",
    "\n",
    "link = \"https://pubchem.ncbi.nlm.nih.gov/rest/pug/compound/cid/new_link_me/property/MolecularWeight,HeavyAtomCount,XLOGP,Complexity,HBondAcceptorCount,MonoisotopicMass,RotatableBondCount,TPSA/CSV\"\n",
    "link_fixed = \"https://pubchem.ncbi.nlm.nih.gov/rest/pug/compound/cid/new_link_me/property/MolecularWeight,HeavyAtomCount,XLOGP,Complexity,HBondAcceptorCount,MonoisotopicMass,RotatableBondCount,TPSA/CSV\"\n",
    "sub_link = \"https://pubchem.ncbi.nlm.nih.gov/rest/pug/compound/fastsimilarity_2d/cid/replaceme/cids/TXT\"\n",
    "sub_link_fixed = \"https://pubchem.ncbi.nlm.nih.gov/rest/pug/compound/fastsimilarity_2d/cid/replaceme/cids/TXT\"\n",
    "#the link with the required properties.\n",
    "counter = 1"
   ]
  },
  {
   "cell_type": "code",
   "execution_count": 66,
   "metadata": {},
   "outputs": [],
   "source": [
    "final_data_frame = pd.DataFrame()\n",
    "x_data = pd.DataFrame()\n",
    "cid_main_counter=0 \n",
    "for x in cid_value:\n",
    "    for iter_x in range(1000):\n",
    "        try:    \n",
    "            link = link_fixed\n",
    "            link = link.replace(\"new_link_me\",str(x))\n",
    "            data1 = pd.read_csv(link)\n",
    "            data1 = pd.DataFrame(data1)\n",
    "            x_data = x_data.append(data1)\n",
    "            data1 = 0\n",
    "        except Exception as e:\n",
    "            print(\"Exception Encountered as {} .! , Trying again !Iteration : {}\".format(str(e),str(iter_x)))\n",
    "            time.sleep(5)\n",
    "            continue\n",
    "        else:\n",
    "            break\n",
    "    \n",
    "    else:\n",
    "        print(\"Something Wrong with the Trials ! Restart The Algorithm!\")"
   ]
  },
  {
   "cell_type": "code",
   "execution_count": 67,
   "metadata": {},
   "outputs": [],
   "source": [
    "x_data_saved = x_data\n",
    "x_data = x_data_saved\n",
    "n_cid=[]"
   ]
  },
  {
   "cell_type": "code",
   "execution_count": 68,
   "metadata": {},
   "outputs": [
    {
     "name": "stdout",
     "output_type": "stream",
     "text": [
      "Re-Trying\n",
      "Re-Trying\n"
     ]
    }
   ],
   "source": [
    "for i in cid_value:\n",
    "    max_tries = 10\n",
    "    \n",
    "    for iter_ in range(max_tries):\n",
    "        try:\n",
    "            #print(\"inside Try\")\n",
    "            #time.sleep(5)\n",
    "\n",
    "\n",
    "            link = link_fixed\n",
    "            link = link.replace(\"new_link_me\",str(i))\n",
    "            f_data = pd.read_csv(link) \n",
    "            \n",
    "            sub_link = sub_link_fixed\n",
    "            sub_link = sub_link.replace(\"replaceme\",str(i))\n",
    "            res = urllib.request.urlopen(sub_link)\n",
    "            data_sub = res.read()\n",
    "            data_sub = str(data_sub)\n",
    "            data_sub = data_sub.replace(\"\\\\n\",\",\") ; data_sub = data_sub.replace('b',\" \")\n",
    "            data_sub = data_sub.replace(\"'\",\"\"); data_sub = data_sub.replace(\" \",\"\")\n",
    "            n_count_loop = 0 \n",
    "            #time.sleep(3)\n",
    "            #print(\"Going for the loop\")\n",
    "            for j in data_sub.split(\",\"):\n",
    "                n_count_loop+=1\n",
    "                if(len(j)>1):\n",
    "                    if(n_count_loop<=30):\n",
    "                        n_cid.append(j)\n",
    "                    else:\n",
    "                        break\n",
    "                else:\n",
    "                    pass\n",
    "             \n",
    "        except:\n",
    "            if(except_val>=15):\n",
    "                break\n",
    "            else:\n",
    "                print(\"Re-Trying\")\n",
    "                except_val+=1\n",
    "                #time.sleep(3)\n",
    "                continue\n",
    "        else:\n",
    "            break\n",
    "    '''else:\n",
    "        print(\"Either The Network is Down(So no point in continuing ) , Or Some Uknown Error Spotted!. Refer Error Code , Continuing with Fetched Data\")\n",
    "        time.sleep(5)\n",
    "        break'''\n",
    "    \n",
    "    \n",
    "    '''final_data_frame = final_data_frame.append(f_data)\n",
    "    cid_main_counter+=1\n",
    "    final_data_frame.to_csv(\"fdf1.csv\")\n",
    "         \n",
    "   \n",
    "\n",
    "    print(\"Main cid no: {}\".format(cid_main_counter))\n",
    "    #time.sleep(5)'''\n",
    "    \n",
    "\n"
   ]
  },
  {
   "cell_type": "code",
   "execution_count": 69,
   "metadata": {},
   "outputs": [],
   "source": [
    "k_count = 0\n",
    "t_count = 0\n",
    "phase_count=0\n",
    "f_data = pd.DataFrame()"
   ]
  },
  {
   "cell_type": "code",
   "execution_count": null,
   "metadata": {},
   "outputs": [],
   "source": [
    "#data mining PubChem through web API\n",
    "\n",
    "for k in n_cid:\n",
    "    k_count+=1\n",
    "    t_count+=1\n",
    "    phase_count+=1\n",
    "    for sub_iter in range(10):\n",
    "            try:\n",
    "                if(t_count>=50):\n",
    "                    #print(\"taking Rest\")\n",
    "                    time.sleep(15)\n",
    "                    t_count=0\n",
    "                    \n",
    "                #print(\"Inside Try\"+str(k_count))\n",
    "            \n",
    "                link = link_fixed\n",
    "                link = link.replace(\"new_link_me\",str(k))\n",
    "                #print(\"replacement done\"+str(k_count))\n",
    "                f_data_df = pd.read_csv(link)\n",
    "                f_data = f_data.append(f_data_df)\n",
    "                print(\"Passed Without Exception\"+str(k_count))\n",
    "                break\n",
    "\n",
    "            except Exception as e:\n",
    "                print(str(e) + \"Encountered , Please Wait :+ \"+str(k_count))\n",
    "                time.sleep(20)\n",
    "                continue\n",
    "\n",
    "    final_data_frame = final_data_frame.append(f_data)\n",
    "    cid_main_counter+=1\n",
    "    final_data_frame.to_csv(\"fdf1.csv\")\n",
    "    print(\"Data Fetching Continued\"+ str(k_count))\n",
    "    \n",
    "    \n"
   ]
  },
  {
   "cell_type": "code",
   "execution_count": 71,
   "metadata": {},
   "outputs": [
    {
     "name": "stdout",
     "output_type": "stream",
     "text": [
      "(3861, 9)\n",
      "The Final Training DataSet: X_data = (2461, 9) , Y_data = (2461, 1)\n",
      "The Final Data For Preditcion is : (3861, 9)\n"
     ]
    }
   ],
   "source": [
    "final_data_frame.drop_duplicates(inplace=True)\n",
    "print(final_data_frame.shape)\n",
    "print(\"The Final Training DataSet: X_data = {} , Y_data = {}\".format(x_data.shape,y_data.shape))\n",
    "print(\"The Final Data For Preditcion is : {}\".format(final_data_frame.shape))"
   ]
  },
  {
   "cell_type": "code",
   "execution_count": 73,
   "metadata": {},
   "outputs": [
    {
     "name": "stdout",
     "output_type": "stream",
     "text": [
      "81879\n"
     ]
    }
   ],
   "source": [
    "n_cid.extend(LSTM_data)\n",
    "print(len(n_cid))"
   ]
  },
  {
   "cell_type": "code",
   "execution_count": 74,
   "metadata": {},
   "outputs": [],
   "source": [
    "try:\n",
    "    final_data_frame.reset_index(inplace=True)\n",
    "    final_data_frame.drop('index',axis=1,inplace=True)\n",
    "except:\n",
    "    pass\n"
   ]
  },
  {
   "cell_type": "code",
   "execution_count": 75,
   "metadata": {},
   "outputs": [],
   "source": [
    "final_data_frame_reset = final_data_frame\n",
    "x_data_reset = x_data\n",
    "y_data_reset = y_data"
   ]
  },
  {
   "cell_type": "code",
   "execution_count": null,
   "metadata": {},
   "outputs": [],
   "source": []
  },
  {
   "cell_type": "markdown",
   "metadata": {},
   "source": [
    " "
   ]
  },
  {
   "cell_type": "markdown",
   "metadata": {},
   "source": [
    " "
   ]
  },
  {
   "cell_type": "markdown",
   "metadata": {},
   "source": [
    "Auto QSAR algorithm"
   ]
  },
  {
   "cell_type": "code",
   "execution_count": 76,
   "metadata": {},
   "outputs": [
    {
     "data": {
      "text/plain": [
       "'#RUN TO RESET ONLY : TESTING CAUTION\\nfinal_data_frame = final_data_frame_reset\\nx_data = x_data_reset\\ny_data = y_data_reset'"
      ]
     },
     "execution_count": 76,
     "metadata": {},
     "output_type": "execute_result"
    }
   ],
   "source": [
    "'''#RUN TO RESET ONLY : TESTING CAUTION\n",
    "final_data_frame = final_data_frame_reset\n",
    "x_data = x_data_reset\n",
    "y_data = y_data_reset'''"
   ]
  },
  {
   "cell_type": "code",
   "execution_count": 77,
   "metadata": {},
   "outputs": [],
   "source": [
    "#data preparation for QSAR model building\n",
    "x_data = pd.DataFrame(x_data)"
   ]
  },
  {
   "cell_type": "code",
   "execution_count": 78,
   "metadata": {},
   "outputs": [],
   "source": [
    "y_data = pd.DataFrame(y_data)"
   ]
  },
  {
   "cell_type": "code",
   "execution_count": 79,
   "metadata": {},
   "outputs": [
    {
     "name": "stdout",
     "output_type": "stream",
     "text": [
      "X :- (2461, 9) Y :- (2461, 1)\n"
     ]
    }
   ],
   "source": [
    "print(\"X :- \"+str(x_data.shape)+\" Y :- \"+str(y_data.shape) )"
   ]
  },
  {
   "cell_type": "code",
   "execution_count": 80,
   "metadata": {},
   "outputs": [],
   "source": [
    "train_file = pd.DataFrame()\n",
    "x_data = x_data.astype(\"float64\")\n",
    "y_data = y_data.astype(\"float64\")"
   ]
  },
  {
   "cell_type": "code",
   "execution_count": 81,
   "metadata": {},
   "outputs": [
    {
     "data": {
      "text/html": [
       "<div>\n",
       "<style scoped>\n",
       "    .dataframe tbody tr th:only-of-type {\n",
       "        vertical-align: middle;\n",
       "    }\n",
       "\n",
       "    .dataframe tbody tr th {\n",
       "        vertical-align: top;\n",
       "    }\n",
       "\n",
       "    .dataframe thead th {\n",
       "        text-align: right;\n",
       "    }\n",
       "</style>\n",
       "<table border=\"1\" class=\"dataframe\">\n",
       "  <thead>\n",
       "    <tr style=\"text-align: right;\">\n",
       "      <th></th>\n",
       "      <th>CID</th>\n",
       "      <th>MolecularWeight</th>\n",
       "      <th>HeavyAtomCount</th>\n",
       "      <th>XLogP</th>\n",
       "      <th>Complexity</th>\n",
       "      <th>HBondAcceptorCount</th>\n",
       "      <th>MonoisotopicMass</th>\n",
       "      <th>RotatableBondCount</th>\n",
       "      <th>TPSA</th>\n",
       "    </tr>\n",
       "  </thead>\n",
       "  <tbody>\n",
       "    <tr>\n",
       "      <th>0</th>\n",
       "      <td>649032.0</td>\n",
       "      <td>437.5</td>\n",
       "      <td>29.0</td>\n",
       "      <td>2.1</td>\n",
       "      <td>640.0</td>\n",
       "      <td>8.0</td>\n",
       "      <td>437.130380</td>\n",
       "      <td>8.0</td>\n",
       "      <td>167.0</td>\n",
       "    </tr>\n",
       "    <tr>\n",
       "      <th>0</th>\n",
       "      <td>653676.0</td>\n",
       "      <td>448.6</td>\n",
       "      <td>30.0</td>\n",
       "      <td>2.6</td>\n",
       "      <td>697.0</td>\n",
       "      <td>7.0</td>\n",
       "      <td>448.135131</td>\n",
       "      <td>6.0</td>\n",
       "      <td>154.0</td>\n",
       "    </tr>\n",
       "    <tr>\n",
       "      <th>0</th>\n",
       "      <td>666267.0</td>\n",
       "      <td>445.0</td>\n",
       "      <td>31.0</td>\n",
       "      <td>2.8</td>\n",
       "      <td>658.0</td>\n",
       "      <td>5.0</td>\n",
       "      <td>444.204052</td>\n",
       "      <td>6.0</td>\n",
       "      <td>64.9</td>\n",
       "    </tr>\n",
       "    <tr>\n",
       "      <th>0</th>\n",
       "      <td>3237441.0</td>\n",
       "      <td>449.4</td>\n",
       "      <td>30.0</td>\n",
       "      <td>3.8</td>\n",
       "      <td>685.0</td>\n",
       "      <td>11.0</td>\n",
       "      <td>449.046868</td>\n",
       "      <td>5.0</td>\n",
       "      <td>105.0</td>\n",
       "    </tr>\n",
       "    <tr>\n",
       "      <th>0</th>\n",
       "      <td>3123424.0</td>\n",
       "      <td>372.5</td>\n",
       "      <td>26.0</td>\n",
       "      <td>3.7</td>\n",
       "      <td>498.0</td>\n",
       "      <td>4.0</td>\n",
       "      <td>372.161997</td>\n",
       "      <td>8.0</td>\n",
       "      <td>92.5</td>\n",
       "    </tr>\n",
       "  </tbody>\n",
       "</table>\n",
       "</div>"
      ],
      "text/plain": [
       "         CID  MolecularWeight  HeavyAtomCount  XLogP  Complexity  \\\n",
       "0   649032.0            437.5            29.0    2.1       640.0   \n",
       "0   653676.0            448.6            30.0    2.6       697.0   \n",
       "0   666267.0            445.0            31.0    2.8       658.0   \n",
       "0  3237441.0            449.4            30.0    3.8       685.0   \n",
       "0  3123424.0            372.5            26.0    3.7       498.0   \n",
       "\n",
       "   HBondAcceptorCount  MonoisotopicMass  RotatableBondCount   TPSA  \n",
       "0                 8.0        437.130380                 8.0  167.0  \n",
       "0                 7.0        448.135131                 6.0  154.0  \n",
       "0                 5.0        444.204052                 6.0   64.9  \n",
       "0                11.0        449.046868                 5.0  105.0  \n",
       "0                 4.0        372.161997                 8.0   92.5  "
      ]
     },
     "execution_count": 81,
     "metadata": {},
     "output_type": "execute_result"
    }
   ],
   "source": [
    "#molecular features for AutoQSAR model building\n",
    "x_data.head()"
   ]
  },
  {
   "cell_type": "code",
   "execution_count": 82,
   "metadata": {},
   "outputs": [
    {
     "data": {
      "text/html": [
       "<div>\n",
       "<style scoped>\n",
       "    .dataframe tbody tr th:only-of-type {\n",
       "        vertical-align: middle;\n",
       "    }\n",
       "\n",
       "    .dataframe tbody tr th {\n",
       "        vertical-align: top;\n",
       "    }\n",
       "\n",
       "    .dataframe thead th {\n",
       "        text-align: right;\n",
       "    }\n",
       "</style>\n",
       "<table border=\"1\" class=\"dataframe\">\n",
       "  <thead>\n",
       "    <tr style=\"text-align: right;\">\n",
       "      <th></th>\n",
       "      <th>y</th>\n",
       "    </tr>\n",
       "  </thead>\n",
       "  <tbody>\n",
       "    <tr>\n",
       "      <th>0</th>\n",
       "      <td>4.886057</td>\n",
       "    </tr>\n",
       "    <tr>\n",
       "      <th>1</th>\n",
       "      <td>5.673664</td>\n",
       "    </tr>\n",
       "    <tr>\n",
       "      <th>2</th>\n",
       "      <td>5.474955</td>\n",
       "    </tr>\n",
       "    <tr>\n",
       "      <th>3</th>\n",
       "      <td>4.987163</td>\n",
       "    </tr>\n",
       "    <tr>\n",
       "      <th>4</th>\n",
       "      <td>4.752027</td>\n",
       "    </tr>\n",
       "  </tbody>\n",
       "</table>\n",
       "</div>"
      ],
      "text/plain": [
       "          y\n",
       "0  4.886057\n",
       "1  5.673664\n",
       "2  5.474955\n",
       "3  4.987163\n",
       "4  4.752027"
      ]
     },
     "execution_count": 82,
     "metadata": {},
     "output_type": "execute_result"
    }
   ],
   "source": [
    "#experimental inhibition value for model building\n",
    "y_data.head()"
   ]
  },
  {
   "cell_type": "code",
   "execution_count": 83,
   "metadata": {},
   "outputs": [
    {
     "data": {
      "text/html": [
       "<div>\n",
       "<style scoped>\n",
       "    .dataframe tbody tr th:only-of-type {\n",
       "        vertical-align: middle;\n",
       "    }\n",
       "\n",
       "    .dataframe tbody tr th {\n",
       "        vertical-align: top;\n",
       "    }\n",
       "\n",
       "    .dataframe thead th {\n",
       "        text-align: right;\n",
       "    }\n",
       "</style>\n",
       "<table border=\"1\" class=\"dataframe\">\n",
       "  <thead>\n",
       "    <tr style=\"text-align: right;\">\n",
       "      <th></th>\n",
       "      <th>CID</th>\n",
       "      <th>MolecularWeight</th>\n",
       "      <th>HeavyAtomCount</th>\n",
       "      <th>XLogP</th>\n",
       "      <th>Complexity</th>\n",
       "      <th>HBondAcceptorCount</th>\n",
       "      <th>MonoisotopicMass</th>\n",
       "      <th>RotatableBondCount</th>\n",
       "      <th>TPSA</th>\n",
       "    </tr>\n",
       "  </thead>\n",
       "  <tbody>\n",
       "    <tr>\n",
       "      <th>0</th>\n",
       "      <td>649032.0</td>\n",
       "      <td>437.5</td>\n",
       "      <td>29.0</td>\n",
       "      <td>2.1</td>\n",
       "      <td>640.0</td>\n",
       "      <td>8.0</td>\n",
       "      <td>437.130380</td>\n",
       "      <td>8.0</td>\n",
       "      <td>167.0</td>\n",
       "    </tr>\n",
       "    <tr>\n",
       "      <th>0</th>\n",
       "      <td>653676.0</td>\n",
       "      <td>448.6</td>\n",
       "      <td>30.0</td>\n",
       "      <td>2.6</td>\n",
       "      <td>697.0</td>\n",
       "      <td>7.0</td>\n",
       "      <td>448.135131</td>\n",
       "      <td>6.0</td>\n",
       "      <td>154.0</td>\n",
       "    </tr>\n",
       "    <tr>\n",
       "      <th>0</th>\n",
       "      <td>666267.0</td>\n",
       "      <td>445.0</td>\n",
       "      <td>31.0</td>\n",
       "      <td>2.8</td>\n",
       "      <td>658.0</td>\n",
       "      <td>5.0</td>\n",
       "      <td>444.204052</td>\n",
       "      <td>6.0</td>\n",
       "      <td>64.9</td>\n",
       "    </tr>\n",
       "    <tr>\n",
       "      <th>0</th>\n",
       "      <td>3237441.0</td>\n",
       "      <td>449.4</td>\n",
       "      <td>30.0</td>\n",
       "      <td>3.8</td>\n",
       "      <td>685.0</td>\n",
       "      <td>11.0</td>\n",
       "      <td>449.046868</td>\n",
       "      <td>5.0</td>\n",
       "      <td>105.0</td>\n",
       "    </tr>\n",
       "    <tr>\n",
       "      <th>0</th>\n",
       "      <td>3123424.0</td>\n",
       "      <td>372.5</td>\n",
       "      <td>26.0</td>\n",
       "      <td>3.7</td>\n",
       "      <td>498.0</td>\n",
       "      <td>4.0</td>\n",
       "      <td>372.161997</td>\n",
       "      <td>8.0</td>\n",
       "      <td>92.5</td>\n",
       "    </tr>\n",
       "  </tbody>\n",
       "</table>\n",
       "</div>"
      ],
      "text/plain": [
       "         CID  MolecularWeight  HeavyAtomCount  XLogP  Complexity  \\\n",
       "0   649032.0            437.5            29.0    2.1       640.0   \n",
       "0   653676.0            448.6            30.0    2.6       697.0   \n",
       "0   666267.0            445.0            31.0    2.8       658.0   \n",
       "0  3237441.0            449.4            30.0    3.8       685.0   \n",
       "0  3123424.0            372.5            26.0    3.7       498.0   \n",
       "\n",
       "   HBondAcceptorCount  MonoisotopicMass  RotatableBondCount   TPSA  \n",
       "0                 8.0        437.130380                 8.0  167.0  \n",
       "0                 7.0        448.135131                 6.0  154.0  \n",
       "0                 5.0        444.204052                 6.0   64.9  \n",
       "0                11.0        449.046868                 5.0  105.0  \n",
       "0                 4.0        372.161997                 8.0   92.5  "
      ]
     },
     "execution_count": 83,
     "metadata": {},
     "output_type": "execute_result"
    }
   ],
   "source": [
    "x_data.head()"
   ]
  },
  {
   "cell_type": "code",
   "execution_count": 84,
   "metadata": {},
   "outputs": [],
   "source": [
    "new = y_data['y'].to_list()"
   ]
  },
  {
   "cell_type": "code",
   "execution_count": 85,
   "metadata": {},
   "outputs": [],
   "source": [
    "train_file  = x_data\n",
    "train_file['y'] = new"
   ]
  },
  {
   "cell_type": "code",
   "execution_count": 86,
   "metadata": {},
   "outputs": [],
   "source": [
    "cid_reg_list=train_file['CID'].to_list()\n",
    "train_file.drop('CID',axis=1,inplace =True)\n"
   ]
  },
  {
   "cell_type": "code",
   "execution_count": 87,
   "metadata": {},
   "outputs": [
    {
     "data": {
      "text/html": [
       "<div>\n",
       "<style scoped>\n",
       "    .dataframe tbody tr th:only-of-type {\n",
       "        vertical-align: middle;\n",
       "    }\n",
       "\n",
       "    .dataframe tbody tr th {\n",
       "        vertical-align: top;\n",
       "    }\n",
       "\n",
       "    .dataframe thead th {\n",
       "        text-align: right;\n",
       "    }\n",
       "</style>\n",
       "<table border=\"1\" class=\"dataframe\">\n",
       "  <thead>\n",
       "    <tr style=\"text-align: right;\">\n",
       "      <th></th>\n",
       "      <th>MolecularWeight</th>\n",
       "      <th>HeavyAtomCount</th>\n",
       "      <th>XLogP</th>\n",
       "      <th>Complexity</th>\n",
       "      <th>HBondAcceptorCount</th>\n",
       "      <th>MonoisotopicMass</th>\n",
       "      <th>RotatableBondCount</th>\n",
       "      <th>TPSA</th>\n",
       "      <th>y</th>\n",
       "    </tr>\n",
       "  </thead>\n",
       "  <tbody>\n",
       "    <tr>\n",
       "      <th>0</th>\n",
       "      <td>437.50</td>\n",
       "      <td>29.0</td>\n",
       "      <td>2.1</td>\n",
       "      <td>640.0</td>\n",
       "      <td>8.0</td>\n",
       "      <td>437.130380</td>\n",
       "      <td>8.0</td>\n",
       "      <td>167.0</td>\n",
       "      <td>4.886057</td>\n",
       "    </tr>\n",
       "    <tr>\n",
       "      <th>0</th>\n",
       "      <td>448.60</td>\n",
       "      <td>30.0</td>\n",
       "      <td>2.6</td>\n",
       "      <td>697.0</td>\n",
       "      <td>7.0</td>\n",
       "      <td>448.135131</td>\n",
       "      <td>6.0</td>\n",
       "      <td>154.0</td>\n",
       "      <td>5.673664</td>\n",
       "    </tr>\n",
       "    <tr>\n",
       "      <th>0</th>\n",
       "      <td>445.00</td>\n",
       "      <td>31.0</td>\n",
       "      <td>2.8</td>\n",
       "      <td>658.0</td>\n",
       "      <td>5.0</td>\n",
       "      <td>444.204052</td>\n",
       "      <td>6.0</td>\n",
       "      <td>64.9</td>\n",
       "      <td>5.474955</td>\n",
       "    </tr>\n",
       "    <tr>\n",
       "      <th>0</th>\n",
       "      <td>449.40</td>\n",
       "      <td>30.0</td>\n",
       "      <td>3.8</td>\n",
       "      <td>685.0</td>\n",
       "      <td>11.0</td>\n",
       "      <td>449.046868</td>\n",
       "      <td>5.0</td>\n",
       "      <td>105.0</td>\n",
       "      <td>4.987163</td>\n",
       "    </tr>\n",
       "    <tr>\n",
       "      <th>0</th>\n",
       "      <td>372.50</td>\n",
       "      <td>26.0</td>\n",
       "      <td>3.7</td>\n",
       "      <td>498.0</td>\n",
       "      <td>4.0</td>\n",
       "      <td>372.161997</td>\n",
       "      <td>8.0</td>\n",
       "      <td>92.5</td>\n",
       "      <td>4.752027</td>\n",
       "    </tr>\n",
       "    <tr>\n",
       "      <th>...</th>\n",
       "      <td>...</td>\n",
       "      <td>...</td>\n",
       "      <td>...</td>\n",
       "      <td>...</td>\n",
       "      <td>...</td>\n",
       "      <td>...</td>\n",
       "      <td>...</td>\n",
       "      <td>...</td>\n",
       "      <td>...</td>\n",
       "    </tr>\n",
       "    <tr>\n",
       "      <th>0</th>\n",
       "      <td>390.40</td>\n",
       "      <td>27.0</td>\n",
       "      <td>0.7</td>\n",
       "      <td>609.0</td>\n",
       "      <td>8.0</td>\n",
       "      <td>390.127423</td>\n",
       "      <td>4.0</td>\n",
       "      <td>92.1</td>\n",
       "      <td>4.522879</td>\n",
       "    </tr>\n",
       "    <tr>\n",
       "      <th>0</th>\n",
       "      <td>153.14</td>\n",
       "      <td>11.0</td>\n",
       "      <td>1.3</td>\n",
       "      <td>160.0</td>\n",
       "      <td>4.0</td>\n",
       "      <td>153.042593</td>\n",
       "      <td>1.0</td>\n",
       "      <td>83.6</td>\n",
       "      <td>1.686133</td>\n",
       "    </tr>\n",
       "    <tr>\n",
       "      <th>0</th>\n",
       "      <td>301.72</td>\n",
       "      <td>19.0</td>\n",
       "      <td>2.8</td>\n",
       "      <td>392.0</td>\n",
       "      <td>5.0</td>\n",
       "      <td>300.997570</td>\n",
       "      <td>3.0</td>\n",
       "      <td>74.8</td>\n",
       "      <td>4.000000</td>\n",
       "    </tr>\n",
       "    <tr>\n",
       "      <th>0</th>\n",
       "      <td>368.20</td>\n",
       "      <td>23.0</td>\n",
       "      <td>4.6</td>\n",
       "      <td>498.0</td>\n",
       "      <td>4.0</td>\n",
       "      <td>366.983670</td>\n",
       "      <td>3.0</td>\n",
       "      <td>74.8</td>\n",
       "      <td>4.000000</td>\n",
       "    </tr>\n",
       "    <tr>\n",
       "      <th>0</th>\n",
       "      <td>494.90</td>\n",
       "      <td>35.0</td>\n",
       "      <td>3.7</td>\n",
       "      <td>822.0</td>\n",
       "      <td>6.0</td>\n",
       "      <td>494.135698</td>\n",
       "      <td>4.0</td>\n",
       "      <td>92.3</td>\n",
       "      <td>4.301030</td>\n",
       "    </tr>\n",
       "  </tbody>\n",
       "</table>\n",
       "<p>2461 rows × 9 columns</p>\n",
       "</div>"
      ],
      "text/plain": [
       "    MolecularWeight  HeavyAtomCount  XLogP  Complexity  HBondAcceptorCount  \\\n",
       "0            437.50            29.0    2.1       640.0                 8.0   \n",
       "0            448.60            30.0    2.6       697.0                 7.0   \n",
       "0            445.00            31.0    2.8       658.0                 5.0   \n",
       "0            449.40            30.0    3.8       685.0                11.0   \n",
       "0            372.50            26.0    3.7       498.0                 4.0   \n",
       "..              ...             ...    ...         ...                 ...   \n",
       "0            390.40            27.0    0.7       609.0                 8.0   \n",
       "0            153.14            11.0    1.3       160.0                 4.0   \n",
       "0            301.72            19.0    2.8       392.0                 5.0   \n",
       "0            368.20            23.0    4.6       498.0                 4.0   \n",
       "0            494.90            35.0    3.7       822.0                 6.0   \n",
       "\n",
       "    MonoisotopicMass  RotatableBondCount   TPSA         y  \n",
       "0         437.130380                 8.0  167.0  4.886057  \n",
       "0         448.135131                 6.0  154.0  5.673664  \n",
       "0         444.204052                 6.0   64.9  5.474955  \n",
       "0         449.046868                 5.0  105.0  4.987163  \n",
       "0         372.161997                 8.0   92.5  4.752027  \n",
       "..               ...                 ...    ...       ...  \n",
       "0         390.127423                 4.0   92.1  4.522879  \n",
       "0         153.042593                 1.0   83.6  1.686133  \n",
       "0         300.997570                 3.0   74.8  4.000000  \n",
       "0         366.983670                 3.0   74.8  4.000000  \n",
       "0         494.135698                 4.0   92.3  4.301030  \n",
       "\n",
       "[2461 rows x 9 columns]"
      ]
     },
     "execution_count": 87,
     "metadata": {},
     "output_type": "execute_result"
    }
   ],
   "source": [
    "for x in train_file.isnull().any():\n",
    "    if x == True:\n",
    "        train_file = train_file.fillna(method='ffill')\n",
    "train_file\n",
    "\n",
    "#data set of molecular features and experimental inhibition value for QSAR model building"
   ]
  },
  {
   "cell_type": "code",
   "execution_count": 88,
   "metadata": {},
   "outputs": [],
   "source": [
    "x = list(train_file.columns)\n",
    "x = x[:-1]\n",
    "\n",
    "x_ = train_file[x].values\n",
    "y_ = train_file['y'].values"
   ]
  },
  {
   "cell_type": "code",
   "execution_count": 89,
   "metadata": {},
   "outputs": [],
   "source": [
    "train_file.describe()\n",
    "x_ = x_.astype(\"float64\")\n",
    "y_ = y_.astype(\"float64\")"
   ]
  },
  {
   "cell_type": "code",
   "execution_count": 90,
   "metadata": {},
   "outputs": [],
   "source": [
    "X_train, X_test, y_train, y_test = train_test_split(x_, y_, test_size=0.1, random_state=0)\n"
   ]
  },
  {
   "cell_type": "markdown",
   "metadata": {},
   "source": [
    " "
   ]
  },
  {
   "cell_type": "code",
   "execution_count": 91,
   "metadata": {},
   "outputs": [],
   "source": [
    "#AutoQSAR workflow\n",
    "\n",
    "from sklearn.preprocessing import PolynomialFeatures\n",
    "from sklearn.pipeline import make_pipeline\n",
    "from sklearn.linear_model import LinearRegression\n",
    "from sklearn import preprocessing"
   ]
  },
  {
   "cell_type": "code",
   "execution_count": 92,
   "metadata": {},
   "outputs": [
    {
     "data": {
      "text/plain": [
       "Pipeline(memory=None,\n",
       "         steps=[('polynomialfeatures',\n",
       "                 PolynomialFeatures(degree=1, include_bias=True,\n",
       "                                    interaction_only=False, order='C')),\n",
       "                ('standardscaler',\n",
       "                 StandardScaler(copy=True, with_mean=True, with_std=True)),\n",
       "                ('linearregression',\n",
       "                 LinearRegression(copy_X=True, fit_intercept=True, n_jobs=None,\n",
       "                                  normalize=False))],\n",
       "         verbose=False)"
      ]
     },
     "execution_count": 92,
     "metadata": {},
     "output_type": "execute_result"
    }
   ],
   "source": [
    "scaler = preprocessing.StandardScaler()\n",
    "degree=1\n",
    "polyreg_scaled=make_pipeline(PolynomialFeatures(degree),scaler,LinearRegression())\n",
    "polyreg_scaled.fit(X_train,y_train)"
   ]
  },
  {
   "cell_type": "code",
   "execution_count": 93,
   "metadata": {},
   "outputs": [
    {
     "data": {
      "text/plain": [
       "0.478917275165057"
      ]
     },
     "execution_count": 93,
     "metadata": {},
     "output_type": "execute_result"
    }
   ],
   "source": [
    "#R2 Score\n",
    "y_pred = polyreg_scaled.predict(X_test)\n",
    "main_r2 = r2_score(y_test, y_pred, multioutput='uniform_average')\n",
    "max_ = main_r2 \n",
    "max_"
   ]
  },
  {
   "cell_type": "code",
   "execution_count": 94,
   "metadata": {},
   "outputs": [],
   "source": [
    "from itertools import combinations\n",
    "comb_list = [[]]"
   ]
  },
  {
   "cell_type": "code",
   "execution_count": 95,
   "metadata": {},
   "outputs": [],
   "source": [
    "#creating combinations , function\n",
    "def sub(arr,r):\n",
    "    global comb_list\n",
    "    for i in r:\n",
    "        comb = list(combinations(arr,i))\n",
    "        comb_list.append(comb)\n",
    "    return comb_list\n",
    "newone = 0\n",
    "newone = sub(x , [2,3,4,5,6])\n",
    "del newone[0]"
   ]
  },
  {
   "cell_type": "code",
   "execution_count": 96,
   "metadata": {},
   "outputs": [],
   "source": [
    "#QSAR model building based on linear multivariate regression for all possible combinations of descriptors and choosing the model with best statistical quality "
   ]
  },
  {
   "cell_type": "code",
   "execution_count": 97,
   "metadata": {},
   "outputs": [],
   "source": [
    "#degree 1 \n",
    "coef_dict  = 0\n",
    "loop_index = 0\n",
    "coef_dict = [[]]\n",
    "r2_score_new =[]\n",
    "max_r2 = []\n",
    "index_r2 =[]\n",
    "for i in range(0,len(newone)):\n",
    "    \n",
    "    index_r=0\n",
    "    for combi_ in newone[loop_index]:\n",
    "        \n",
    "        #print(combi_)\n",
    "        features = list(combi_)\n",
    "        features_=train_file[features].values\n",
    "        output_=train_file['y'].values\n",
    "        X_train, X_test, y_train, y_test = train_test_split(features_, output_, test_size=0.1, random_state=0)\n",
    "        scaler = preprocessing.StandardScaler()\n",
    "        degree=1\n",
    "        polyreg_scaled=make_pipeline(PolynomialFeatures(degree),scaler,LinearRegression())\n",
    "        polyreg_scaled.fit(X_train,y_train)\n",
    "        y_pred = polyreg_scaled.predict(X_test)\n",
    "        r2_score_  = r2_score(y_test, y_pred, multioutput='uniform_average')\n",
    "        r2_score_new.append(r2_score_)\n",
    "    loop_index+=1\n",
    "        \n",
    "    \n",
    "    max_r2.append(max(r2_score_new))\n",
    "    index_r = r2_score_new.index(max(r2_score_new))\n",
    "    index_r2.append(index_r)\n",
    "    r2_score_new =[]"
   ]
  },
  {
   "cell_type": "code",
   "execution_count": 98,
   "metadata": {},
   "outputs": [],
   "source": [
    "#Extracting the best value so far using the regressor\n",
    "sec_index = max_r2.index(max(max_r2))\n",
    "fir_index = index_r2[sec_index]\n"
   ]
  },
  {
   "cell_type": "code",
   "execution_count": 99,
   "metadata": {},
   "outputs": [],
   "source": [
    "if main_r2 > max(max_r2):\n",
    "    r2_features = x\n",
    "else:\n",
    "    \n",
    "    features  = newone[sec_index][fir_index]\n",
    "    maxi_r2 = max(max_r2)"
   ]
  },
  {
   "cell_type": "code",
   "execution_count": 100,
   "metadata": {},
   "outputs": [
    {
     "name": "stdout",
     "output_type": "stream",
     "text": [
      "R2 - degree1 = 0.4792535624044717\n",
      "Features = ('HeavyAtomCount', 'XLogP', 'Complexity', 'MonoisotopicMass', 'RotatableBondCount', 'TPSA')\n"
     ]
    }
   ],
   "source": [
    "print(\"R2 - degree1 = \" + str(maxi_r2)+str(\"\\n\")+str(\"Features = \")+str(features))\n",
    "reg_max_r2 = max(max_r2)"
   ]
  },
  {
   "cell_type": "code",
   "execution_count": 101,
   "metadata": {},
   "outputs": [],
   "source": [
    "#We have the best degree 1 model\n",
    "model_dict = {}\n",
    "model_dict[1]=[maxi_r2,features]"
   ]
  },
  {
   "cell_type": "code",
   "execution_count": 102,
   "metadata": {},
   "outputs": [],
   "source": [
    "for x in train_file.isnull().any():\n",
    "    if x == True:\n",
    "        train_file = train_file.fillna(method='ffill')"
   ]
  },
  {
   "cell_type": "code",
   "execution_count": 103,
   "metadata": {},
   "outputs": [],
   "source": [
    "#QSAR model building based on non-linear multivariate regression(degree 2) for all possible combinations of descriptors and choosing the model with best statistical quality \n",
    "coef_dict  = 0\n",
    "loop_index = 0\n",
    "coef_dict = [[]]\n",
    "r2_score_new =[]\n",
    "max_r2 = []\n",
    "index_r2 =[]\n",
    "for i in range(0,len(newone)):\n",
    "    \n",
    "    index_r=0\n",
    "    for combi_ in newone[loop_index]:\n",
    "        \n",
    "        #print(combi_)\n",
    "        features = list(combi_)\n",
    "        features_=train_file[features].values\n",
    "        output_=train_file['y'].values\n",
    "        X_train, X_test, y_train, y_test = train_test_split(features_, output_, test_size=0.1, random_state=0)\n",
    "        scaler = preprocessing.StandardScaler()\n",
    "        degree=2\n",
    "        polyreg_scaled=make_pipeline(PolynomialFeatures(degree),scaler,LinearRegression())\n",
    "        polyreg_scaled.fit(X_train,y_train)\n",
    "        y_pred = polyreg_scaled.predict(X_test)\n",
    "        r2_score_  = r2_score(y_test, y_pred, multioutput='uniform_average')\n",
    "        r2_score_new.append(r2_score_)\n",
    "    loop_index+=1\n",
    "        \n",
    "    \n",
    "    max_r2.append(max(r2_score_new))\n",
    "    index_r = r2_score_new.index(max(r2_score_new))\n",
    "    index_r2.append(index_r)\n",
    "    r2_score_new =[]"
   ]
  },
  {
   "cell_type": "code",
   "execution_count": 104,
   "metadata": {},
   "outputs": [],
   "source": [
    "#Extracting the best value so far using the regressor\n",
    "sec_index = max_r2.index(max(max_r2))\n",
    "fir_index = index_r2[sec_index]"
   ]
  },
  {
   "cell_type": "code",
   "execution_count": 105,
   "metadata": {},
   "outputs": [],
   "source": [
    "if main_r2 > max(max_r2):\n",
    "    r2_features = x\n",
    "else:\n",
    "    \n",
    "    features  = newone[sec_index][fir_index]\n",
    "    maxi_r2 = max(max_r2)"
   ]
  },
  {
   "cell_type": "code",
   "execution_count": 106,
   "metadata": {},
   "outputs": [
    {
     "name": "stdout",
     "output_type": "stream",
     "text": [
      "R2 - degree2 = 0.5811898180540496\n",
      "Features = ('HeavyAtomCount', 'XLogP', 'Complexity', 'MonoisotopicMass', 'RotatableBondCount', 'TPSA')\n"
     ]
    }
   ],
   "source": [
    "print(\"R2 - degree2 = \" + str(maxi_r2)+str(\"\\n\")+str(\"Features = \")+str(features))\n",
    "reg_max_r2 = max(max_r2)"
   ]
  },
  {
   "cell_type": "code",
   "execution_count": 107,
   "metadata": {},
   "outputs": [],
   "source": [
    "model_dict[2]=[maxi_r2,features]"
   ]
  },
  {
   "cell_type": "code",
   "execution_count": 108,
   "metadata": {},
   "outputs": [],
   "source": [
    "for x in train_file.isnull().any():\n",
    "    if x == True:\n",
    "        train_file = train_file.fillna(method='ffill')"
   ]
  },
  {
   "cell_type": "code",
   "execution_count": 109,
   "metadata": {},
   "outputs": [
    {
     "data": {
      "text/plain": [
       "{1: [0.4792535624044717,\n",
       "  ('HeavyAtomCount',\n",
       "   'XLogP',\n",
       "   'Complexity',\n",
       "   'MonoisotopicMass',\n",
       "   'RotatableBondCount',\n",
       "   'TPSA')],\n",
       " 2: [0.5811898180540496,\n",
       "  ('HeavyAtomCount',\n",
       "   'XLogP',\n",
       "   'Complexity',\n",
       "   'MonoisotopicMass',\n",
       "   'RotatableBondCount',\n",
       "   'TPSA')]}"
      ]
     },
     "execution_count": 109,
     "metadata": {},
     "output_type": "execute_result"
    }
   ],
   "source": [
    "model_dict"
   ]
  },
  {
   "cell_type": "code",
   "execution_count": 110,
   "metadata": {},
   "outputs": [],
   "source": [
    "#QSAR model building based on non-linear multivariate regression(degree 3) for all possible combinations of descriptors and choosing the model with best statistical quality \n",
    "\n",
    "\n",
    "import pandas as pd\n",
    "\n",
    "import numpy as np\n",
    "\n",
    "import urllib\n",
    "\n",
    "import os \n",
    "\n",
    "import requests\n",
    "\n",
    "import matplotlib.pyplot as plt\n",
    "\n",
    "from sklearn.metrics import r2_score\n",
    "\n",
    "import seaborn as seabornInstance \n",
    "\n",
    "from sklearn.model_selection import train_test_split \n",
    "\n",
    "from sklearn.linear_model import LinearRegression\n",
    "\n",
    "from sklearn import metrics\n",
    "\n",
    "get_ipython().magic(u'matplotlib inline')\n",
    "\n",
    "import time\n",
    "\n",
    "link1 = \"https://pubchem.ncbi.nlm.nih.gov/sdq/sdqagent.cgi?infmt=json&outfmt=csv&query={%22download%22:%22*%22,%22collection%22:%22bioactivity%22,%22where%22:{%22ands%22:[{%22protacxn%22:%22notnull%22},{%22cid%22:%22notnull%22},{%22repacxn%22:%22P0C6U8%22}]},%22order%22:[%22activity,asc%22],%22start%22:1,%22limit%22:10000000,%22downloadfilename%22:%22PROTACXN_P0C6U8_bioactivity_protein%22}\"\n",
    "\n",
    "for i in range(0,2):\n",
    "\n",
    "    try:\n",
    "\n",
    "        os.remove('downloaded1.csv')\n",
    "\n",
    "        #print(\"Deleted old File\")\n",
    "\n",
    "        break\n",
    "\n",
    "    except Exception as e:\n",
    "\n",
    "        #print(\"No file \")\n",
    "\n",
    "        break\n",
    "\n",
    "    else:\n",
    "\n",
    "        break\n",
    "\n",
    "for i in range(2):\n",
    "\n",
    "    try:\n",
    "\n",
    "        data = pd.read_csv(link1)\n",
    "\n",
    "        break\n",
    "\n",
    "    #except IncompleteRead as I:\n",
    "\n",
    "     #   print(\"Server Overloading , Proceeding\")\n",
    "\n",
    "      #  break\n",
    "\n",
    "    except Exception as a:\n",
    "\n",
    "        print(str(a)+\" is the error , Trying {} time\".format(i))\n",
    "\n",
    "        continue\n",
    "\n",
    "    else:\n",
    "\n",
    "        break\n",
    "\n",
    "else:\n",
    "\n",
    "    print(\"something Wrong , Try running Again [refer error code for more]\")\n",
    "\n",
    "#data = pd.read_csv(\"downloaded1.csv\",error_bad_lines=False)\n",
    "\n",
    "data = pd.DataFrame(data)\n",
    "\n",
    "coef_dict  = 0\n",
    "loop_index = 0\n",
    "coef_dict = [[]]\n",
    "r2_score_new =[]\n",
    "max_r2 = []\n",
    "index_r2 =[]\n",
    "for i in range(0,len(newone)):\n",
    "    \n",
    "    index_r=0\n",
    "    for combi_ in newone[loop_index]:\n",
    "        \n",
    "        #print(combi_)\n",
    "        features = list(combi_)\n",
    "        features_=train_file[features].values\n",
    "        output_=train_file['y'].values\n",
    "        X_train, X_test, y_train, y_test = train_test_split(features_, output_, test_size=0.1, random_state=0)\n",
    "        scaler = preprocessing.StandardScaler()\n",
    "        degree=3\n",
    "        polyreg_scaled=make_pipeline(PolynomialFeatures(degree),scaler,LinearRegression())\n",
    "        polyreg_scaled.fit(X_train,y_train)\n",
    "        y_pred = polyreg_scaled.predict(X_test)\n",
    "        r2_score_  = r2_score(y_test, y_pred, multioutput='uniform_average')\n",
    "        r2_score_new.append(r2_score_)\n",
    "    loop_index+=1\n",
    "        \n",
    "    \n",
    "    max_r2.append(max(r2_score_new))\n",
    "    index_r = r2_score_new.index(max(r2_score_new))\n",
    "    index_r2.append(index_r)\n",
    "    r2_score_new =[]"
   ]
  },
  {
   "cell_type": "code",
   "execution_count": 111,
   "metadata": {},
   "outputs": [],
   "source": [
    "#Extracting the best value so far using the regressor\n",
    "sec_index = max_r2.index(max(max_r2))\n",
    "fir_index = index_r2[sec_index]"
   ]
  },
  {
   "cell_type": "code",
   "execution_count": 112,
   "metadata": {},
   "outputs": [],
   "source": [
    "if main_r2 > max(max_r2):\n",
    "    r2_features = x\n",
    "else:\n",
    "    \n",
    "    features  = newone[sec_index][fir_index]\n",
    "    maxi_r2 = max(max_r2)"
   ]
  },
  {
   "cell_type": "code",
   "execution_count": 113,
   "metadata": {},
   "outputs": [
    {
     "name": "stdout",
     "output_type": "stream",
     "text": [
      "R2 - degree3 = 0.5915122224245102\n",
      "Features = ('HeavyAtomCount', 'Complexity', 'HBondAcceptorCount', 'MonoisotopicMass', 'RotatableBondCount', 'TPSA')\n"
     ]
    }
   ],
   "source": [
    "print(\"R2 - degree3 = \" + str(maxi_r2)+str(\"\\n\")+str(\"Features = \")+str(features))\n",
    "reg_max_r2 = max(max_r2)"
   ]
  },
  {
   "cell_type": "code",
   "execution_count": 114,
   "metadata": {},
   "outputs": [],
   "source": [
    "model_dict[3]=[maxi_r2,features]"
   ]
  },
  {
   "cell_type": "code",
   "execution_count": 115,
   "metadata": {},
   "outputs": [],
   "source": [
    "for x in train_file.isnull().any():\n",
    "    if x == True:\n",
    "        train_file = train_file.fillna(method='ffill')"
   ]
  },
  {
   "cell_type": "code",
   "execution_count": 116,
   "metadata": {},
   "outputs": [
    {
     "data": {
      "text/plain": [
       "{1: [0.4792535624044717,\n",
       "  ('HeavyAtomCount',\n",
       "   'XLogP',\n",
       "   'Complexity',\n",
       "   'MonoisotopicMass',\n",
       "   'RotatableBondCount',\n",
       "   'TPSA')],\n",
       " 2: [0.5811898180540496,\n",
       "  ('HeavyAtomCount',\n",
       "   'XLogP',\n",
       "   'Complexity',\n",
       "   'MonoisotopicMass',\n",
       "   'RotatableBondCount',\n",
       "   'TPSA')],\n",
       " 3: [0.5915122224245102,\n",
       "  ('HeavyAtomCount',\n",
       "   'Complexity',\n",
       "   'HBondAcceptorCount',\n",
       "   'MonoisotopicMass',\n",
       "   'RotatableBondCount',\n",
       "   'TPSA')]}"
      ]
     },
     "execution_count": 116,
     "metadata": {},
     "output_type": "execute_result"
    }
   ],
   "source": [
    "model_dict"
   ]
  },
  {
   "cell_type": "code",
   "execution_count": 117,
   "metadata": {},
   "outputs": [],
   "source": [
    "top_cid_mix_df = pd.DataFrame()"
   ]
  },
  {
   "cell_type": "markdown",
   "metadata": {},
   "source": [
    "  "
   ]
  },
  {
   "cell_type": "markdown",
   "metadata": {},
   "source": [
    " "
   ]
  },
  {
   "cell_type": "markdown",
   "metadata": {},
   "source": [
    " "
   ]
  },
  {
   "cell_type": "code",
   "execution_count": 118,
   "metadata": {},
   "outputs": [
    {
     "data": {
      "text/plain": [
       "[0.4792535624044717,\n",
       " ('HeavyAtomCount',\n",
       "  'XLogP',\n",
       "  'Complexity',\n",
       "  'MonoisotopicMass',\n",
       "  'RotatableBondCount',\n",
       "  'TPSA')]"
      ]
     },
     "execution_count": 118,
     "metadata": {},
     "output_type": "execute_result"
    }
   ],
   "source": [
    "#Prediction with the validated model\n",
    "model_dict[1]"
   ]
  },
  {
   "cell_type": "code",
   "execution_count": 119,
   "metadata": {},
   "outputs": [
    {
     "data": {
      "text/plain": [
       "['HeavyAtomCount',\n",
       " 'XLogP',\n",
       " 'Complexity',\n",
       " 'MonoisotopicMass',\n",
       " 'RotatableBondCount',\n",
       " 'TPSA']"
      ]
     },
     "execution_count": 119,
     "metadata": {},
     "output_type": "execute_result"
    }
   ],
   "source": [
    "features = list(model_dict[1][1])\n",
    "features"
   ]
  },
  {
   "cell_type": "code",
   "execution_count": 120,
   "metadata": {},
   "outputs": [
    {
     "data": {
      "text/plain": [
       "((2461, 6), (2461,))"
      ]
     },
     "execution_count": 120,
     "metadata": {},
     "output_type": "execute_result"
    }
   ],
   "source": [
    "x_trained =train_file[features].values\n",
    "y_trained = train_file['y'].values\n",
    "x_trained.shape,y_trained.shape"
   ]
  },
  {
   "cell_type": "code",
   "execution_count": 121,
   "metadata": {},
   "outputs": [],
   "source": [
    "X_train, X_test, y_train, y_test = train_test_split(x_trained, y_trained, test_size=0.1, random_state=0)"
   ]
  },
  {
   "cell_type": "code",
   "execution_count": 122,
   "metadata": {},
   "outputs": [
    {
     "data": {
      "text/plain": [
       "Pipeline(memory=None,\n",
       "         steps=[('polynomialfeatures',\n",
       "                 PolynomialFeatures(degree=1, include_bias=True,\n",
       "                                    interaction_only=False, order='C')),\n",
       "                ('standardscaler',\n",
       "                 StandardScaler(copy=True, with_mean=True, with_std=True)),\n",
       "                ('linearregression',\n",
       "                 LinearRegression(copy_X=True, fit_intercept=True, n_jobs=None,\n",
       "                                  normalize=False))],\n",
       "         verbose=False)"
      ]
     },
     "execution_count": 122,
     "metadata": {},
     "output_type": "execute_result"
    }
   ],
   "source": [
    "#poly regression - degree 1\n",
    "scaler = preprocessing.StandardScaler()\n",
    "degree=1\n",
    "polyreg_scaled=make_pipeline(PolynomialFeatures(degree),scaler,LinearRegression())\n",
    "polyreg_scaled.fit(X_train,y_train)"
   ]
  },
  {
   "cell_type": "code",
   "execution_count": 123,
   "metadata": {},
   "outputs": [
    {
     "data": {
      "text/plain": [
       "0.4792535624044717"
      ]
     },
     "execution_count": 123,
     "metadata": {},
     "output_type": "execute_result"
    }
   ],
   "source": [
    "#R2 Score\n",
    "y_pred = polyreg_scaled.predict(X_test)\n",
    "r2_score(y_test, y_pred, multioutput='uniform_average')"
   ]
  },
  {
   "cell_type": "code",
   "execution_count": 124,
   "metadata": {},
   "outputs": [],
   "source": [
    "final_data_frameF1 = final_data_frame[final_data_frame['MolecularWeight'] <= 500]\n",
    "final_data_frameF2 = final_data_frameF1[final_data_frameF1['XLogP'] <=5.0]"
   ]
  },
  {
   "cell_type": "code",
   "execution_count": 125,
   "metadata": {},
   "outputs": [],
   "source": [
    "pred_data_cid = final_data_frameF2[\"CID\"].to_list()"
   ]
  },
  {
   "cell_type": "code",
   "execution_count": 126,
   "metadata": {},
   "outputs": [
    {
     "data": {
      "text/plain": [
       "['HeavyAtomCount',\n",
       " 'XLogP',\n",
       " 'Complexity',\n",
       " 'MonoisotopicMass',\n",
       " 'RotatableBondCount',\n",
       " 'TPSA',\n",
       " 'CID']"
      ]
     },
     "execution_count": 126,
     "metadata": {},
     "output_type": "execute_result"
    }
   ],
   "source": [
    "#features.append('CID')\n",
    "new_features = features.append(\"CID\")\n",
    "features"
   ]
  },
  {
   "cell_type": "code",
   "execution_count": 127,
   "metadata": {},
   "outputs": [
    {
     "name": "stderr",
     "output_type": "stream",
     "text": [
      "/home/ben/anaconda3/lib/python3.7/site-packages/pandas/core/frame.py:3997: SettingWithCopyWarning: \n",
      "A value is trying to be set on a copy of a slice from a DataFrame\n",
      "\n",
      "See the caveats in the documentation: https://pandas.pydata.org/pandas-docs/stable/user_guide/indexing.html#returning-a-view-versus-a-copy\n",
      "  errors=errors,\n"
     ]
    },
    {
     "data": {
      "text/plain": [
       "(3254, 6)"
      ]
     },
     "execution_count": 127,
     "metadata": {},
     "output_type": "execute_result"
    }
   ],
   "source": [
    "final_data_frame1 = final_data_frameF2[features]\n",
    "for x in final_data_frame1.isnull().any():\n",
    "    if x == True:\n",
    "        final_data_frame1 = final_data_frame1.fillna(method='ffill')\n",
    "final_data_frame1.drop(columns='CID',inplace=True)\n",
    "final_data_frame1.shape"
   ]
  },
  {
   "cell_type": "code",
   "execution_count": 128,
   "metadata": {},
   "outputs": [],
   "source": [
    "final_pred_1 = polyreg_scaled.predict(final_data_frame1)"
   ]
  },
  {
   "cell_type": "code",
   "execution_count": 129,
   "metadata": {},
   "outputs": [
    {
     "name": "stderr",
     "output_type": "stream",
     "text": [
      "/home/ben/anaconda3/lib/python3.7/site-packages/ipykernel_launcher.py:2: SettingWithCopyWarning: \n",
      "A value is trying to be set on a copy of a slice from a DataFrame.\n",
      "Try using .loc[row_indexer,col_indexer] = value instead\n",
      "\n",
      "See the caveats in the documentation: https://pandas.pydata.org/pandas-docs/stable/user_guide/indexing.html#returning-a-view-versus-a-copy\n",
      "  \n",
      "/home/ben/anaconda3/lib/python3.7/site-packages/ipykernel_launcher.py:3: SettingWithCopyWarning: \n",
      "A value is trying to be set on a copy of a slice from a DataFrame.\n",
      "Try using .loc[row_indexer,col_indexer] = value instead\n",
      "\n",
      "See the caveats in the documentation: https://pandas.pydata.org/pandas-docs/stable/user_guide/indexing.html#returning-a-view-versus-a-copy\n",
      "  This is separate from the ipykernel package so we can avoid doing imports until\n"
     ]
    }
   ],
   "source": [
    "final_pred_1 = list(final_pred_1)\n",
    "final_data_frame1['CID'] = pred_data_cid\n",
    "final_data_frame1['y_'] = final_pred_1"
   ]
  },
  {
   "cell_type": "code",
   "execution_count": 130,
   "metadata": {},
   "outputs": [],
   "source": [
    "saved_final_data_frame1 = final_data_frame1\n",
    "sorted_final_df = final_data_frame1.sort_values('y_',ascending =0)\n",
    "final_larg= sorted_final_df.head(50)"
   ]
  },
  {
   "cell_type": "code",
   "execution_count": 131,
   "metadata": {},
   "outputs": [],
   "source": [
    "final_larg = final_larg[['CID','y_']]\n",
    "top_cid = final_larg[\"CID\"].to_list()"
   ]
  },
  {
   "cell_type": "code",
   "execution_count": 132,
   "metadata": {},
   "outputs": [
    {
     "name": "stdout",
     "output_type": "stream",
     "text": [
      "The Top 50 Drug Leads Which are identified with PubChem cid's are (USING Linear REGRESSION): \n",
      "1 : 364723\n",
      "2 : 356283\n",
      "3 : 3074872\n",
      "4 : 70681601\n",
      "5 : 129780132\n",
      "6 : 3157191\n",
      "7 : 711253\n",
      "8 : 387846\n",
      "9 : 356284\n",
      "10 : 613997\n",
      "11 : 76308151\n",
      "12 : 1312315\n",
      "13 : 150946647\n",
      "14 : 72696275\n",
      "15 : 70690018\n",
      "16 : 132466207\n",
      "17 : 364721\n",
      "18 : 1397732\n",
      "19 : 708445\n",
      "20 : 150361908\n",
      "21 : 23248475\n",
      "22 : 702048\n",
      "23 : 129882848\n",
      "24 : 752161\n",
      "25 : 70690020\n",
      "26 : 40206146\n",
      "27 : 702080\n",
      "28 : 752162\n",
      "29 : 2114010\n",
      "30 : 153908250\n",
      "31 : 11454798\n",
      "32 : 654371\n",
      "33 : 70690019\n",
      "34 : 70694238\n",
      "35 : 647632\n",
      "36 : 136376421\n",
      "37 : 6914643\n",
      "38 : 118736396\n",
      "39 : 70687997\n",
      "40 : 654035\n",
      "41 : 3213399\n",
      "42 : 44593120\n",
      "43 : 57894519\n",
      "44 : 70687994\n",
      "45 : 150613368\n",
      "46 : 14640247\n",
      "47 : 141074326\n",
      "48 : 118986721\n",
      "49 : 102059679\n",
      "50 : 337362\n"
     ]
    }
   ],
   "source": [
    "print(\"The Top 50 Drug Leads Which are identified with PubChem cid's are (USING Linear REGRESSION): \")\n",
    "itter_count = 0\n",
    "for itter in top_cid:\n",
    "    itter_count+=1\n",
    "    \n",
    "    print(str(itter_count)+\" : \"+str(itter))"
   ]
  },
  {
   "cell_type": "code",
   "execution_count": 133,
   "metadata": {},
   "outputs": [
    {
     "name": "stdout",
     "output_type": "stream",
     "text": [
      "r2 = 0.4792535624044717\n"
     ]
    }
   ],
   "source": [
    "print(\"r2 = \"+str(r2_score(y_test, y_pred, multioutput='uniform_average')))"
   ]
  },
  {
   "cell_type": "code",
   "execution_count": 134,
   "metadata": {},
   "outputs": [],
   "source": [
    "top_cid_mix_df['Degree 1'] = top_cid"
   ]
  },
  {
   "cell_type": "code",
   "execution_count": 135,
   "metadata": {},
   "outputs": [],
   "source": [
    "final_cid_1 = pd.DataFrame()\n",
    "final_cid_1['CID'] = top_cid\n",
    "final_cid_1.to_csv(\"final_cid_degree_1.csv\")"
   ]
  },
  {
   "cell_type": "markdown",
   "metadata": {},
   "source": [
    " "
   ]
  },
  {
   "cell_type": "markdown",
   "metadata": {},
   "source": [
    " "
   ]
  },
  {
   "cell_type": "markdown",
   "metadata": {},
   "source": [
    " "
   ]
  },
  {
   "cell_type": "code",
   "execution_count": 136,
   "metadata": {},
   "outputs": [
    {
     "data": {
      "text/plain": [
       "[0.5811898180540496,\n",
       " ('HeavyAtomCount',\n",
       "  'XLogP',\n",
       "  'Complexity',\n",
       "  'MonoisotopicMass',\n",
       "  'RotatableBondCount',\n",
       "  'TPSA')]"
      ]
     },
     "execution_count": 136,
     "metadata": {},
     "output_type": "execute_result"
    }
   ],
   "source": [
    "model_dict[2]"
   ]
  },
  {
   "cell_type": "code",
   "execution_count": 137,
   "metadata": {},
   "outputs": [
    {
     "data": {
      "text/plain": [
       "['HeavyAtomCount',\n",
       " 'XLogP',\n",
       " 'Complexity',\n",
       " 'MonoisotopicMass',\n",
       " 'RotatableBondCount',\n",
       " 'TPSA']"
      ]
     },
     "execution_count": 137,
     "metadata": {},
     "output_type": "execute_result"
    }
   ],
   "source": [
    "features = list(model_dict[2][1])\n",
    "features"
   ]
  },
  {
   "cell_type": "code",
   "execution_count": 138,
   "metadata": {},
   "outputs": [
    {
     "data": {
      "text/plain": [
       "((2461, 6), (2461,))"
      ]
     },
     "execution_count": 138,
     "metadata": {},
     "output_type": "execute_result"
    }
   ],
   "source": [
    "x_trained =train_file[features].values\n",
    "y_trained = train_file['y'].values\n",
    "x_trained.shape,y_trained.shape"
   ]
  },
  {
   "cell_type": "code",
   "execution_count": 139,
   "metadata": {},
   "outputs": [],
   "source": [
    "X_train, X_test, y_train, y_test = train_test_split(x_trained, y_trained, test_size=0.1, random_state=0)"
   ]
  },
  {
   "cell_type": "code",
   "execution_count": 140,
   "metadata": {},
   "outputs": [
    {
     "data": {
      "text/plain": [
       "Pipeline(memory=None,\n",
       "         steps=[('polynomialfeatures',\n",
       "                 PolynomialFeatures(degree=2, include_bias=True,\n",
       "                                    interaction_only=False, order='C')),\n",
       "                ('standardscaler',\n",
       "                 StandardScaler(copy=True, with_mean=True, with_std=True)),\n",
       "                ('linearregression',\n",
       "                 LinearRegression(copy_X=True, fit_intercept=True, n_jobs=None,\n",
       "                                  normalize=False))],\n",
       "         verbose=False)"
      ]
     },
     "execution_count": 140,
     "metadata": {},
     "output_type": "execute_result"
    }
   ],
   "source": [
    "#poly regression - degree 2\n",
    "scaler = preprocessing.StandardScaler()\n",
    "degree=2\n",
    "polyreg_scaled=make_pipeline(PolynomialFeatures(degree),scaler,LinearRegression())\n",
    "polyreg_scaled.fit(X_train,y_train)"
   ]
  },
  {
   "cell_type": "code",
   "execution_count": 141,
   "metadata": {},
   "outputs": [
    {
     "data": {
      "text/plain": [
       "0.5811898180540496"
      ]
     },
     "execution_count": 141,
     "metadata": {},
     "output_type": "execute_result"
    }
   ],
   "source": [
    "#R2 Score\n",
    "y_pred = polyreg_scaled.predict(X_test)\n",
    "r2_score(y_test, y_pred, multioutput='uniform_average')"
   ]
  },
  {
   "cell_type": "code",
   "execution_count": 142,
   "metadata": {},
   "outputs": [],
   "source": [
    "final_data_frameF1 = final_data_frame[final_data_frame['MolecularWeight'] <= 500]\n",
    "final_data_frameF2 = final_data_frameF1[final_data_frameF1['XLogP'] <=5.6]"
   ]
  },
  {
   "cell_type": "code",
   "execution_count": 143,
   "metadata": {},
   "outputs": [],
   "source": [
    "pred_data_cid = final_data_frameF2[\"CID\"].to_list()"
   ]
  },
  {
   "cell_type": "code",
   "execution_count": 144,
   "metadata": {},
   "outputs": [
    {
     "data": {
      "text/plain": [
       "['HeavyAtomCount',\n",
       " 'XLogP',\n",
       " 'Complexity',\n",
       " 'MonoisotopicMass',\n",
       " 'RotatableBondCount',\n",
       " 'TPSA',\n",
       " 'CID']"
      ]
     },
     "execution_count": 144,
     "metadata": {},
     "output_type": "execute_result"
    }
   ],
   "source": [
    "#features.append('CID')\n",
    "new_features = features.append(\"CID\")\n",
    "features"
   ]
  },
  {
   "cell_type": "code",
   "execution_count": 145,
   "metadata": {},
   "outputs": [
    {
     "name": "stderr",
     "output_type": "stream",
     "text": [
      "/home/ben/anaconda3/lib/python3.7/site-packages/pandas/core/frame.py:3997: SettingWithCopyWarning: \n",
      "A value is trying to be set on a copy of a slice from a DataFrame\n",
      "\n",
      "See the caveats in the documentation: https://pandas.pydata.org/pandas-docs/stable/user_guide/indexing.html#returning-a-view-versus-a-copy\n",
      "  errors=errors,\n"
     ]
    },
    {
     "data": {
      "text/plain": [
       "(3485, 6)"
      ]
     },
     "execution_count": 145,
     "metadata": {},
     "output_type": "execute_result"
    }
   ],
   "source": [
    "final_data_frame1 = final_data_frameF2[features]\n",
    "for x in final_data_frame1.isnull().any():\n",
    "    if x == True:\n",
    "        final_data_frame1 = final_data_frame1.fillna(method='ffill')\n",
    "final_data_frame1.drop(columns='CID',inplace=True)\n",
    "final_data_frame1.shape"
   ]
  },
  {
   "cell_type": "code",
   "execution_count": 146,
   "metadata": {},
   "outputs": [
    {
     "name": "stderr",
     "output_type": "stream",
     "text": [
      "/home/ben/anaconda3/lib/python3.7/site-packages/ipykernel_launcher.py:3: SettingWithCopyWarning: \n",
      "A value is trying to be set on a copy of a slice from a DataFrame.\n",
      "Try using .loc[row_indexer,col_indexer] = value instead\n",
      "\n",
      "See the caveats in the documentation: https://pandas.pydata.org/pandas-docs/stable/user_guide/indexing.html#returning-a-view-versus-a-copy\n",
      "  This is separate from the ipykernel package so we can avoid doing imports until\n",
      "/home/ben/anaconda3/lib/python3.7/site-packages/ipykernel_launcher.py:4: SettingWithCopyWarning: \n",
      "A value is trying to be set on a copy of a slice from a DataFrame.\n",
      "Try using .loc[row_indexer,col_indexer] = value instead\n",
      "\n",
      "See the caveats in the documentation: https://pandas.pydata.org/pandas-docs/stable/user_guide/indexing.html#returning-a-view-versus-a-copy\n",
      "  after removing the cwd from sys.path.\n"
     ]
    }
   ],
   "source": [
    "final_pred_1 = polyreg_scaled.predict(final_data_frame1)\n",
    "final_pred_1 = list(final_pred_1)\n",
    "final_data_frame1['CID'] = pred_data_cid\n",
    "final_data_frame1['y_'] = final_pred_1"
   ]
  },
  {
   "cell_type": "code",
   "execution_count": 147,
   "metadata": {},
   "outputs": [],
   "source": [
    "saved_final_data_frame1 = final_data_frame1\n",
    "sorted_final_df = final_data_frame1.sort_values('y_',ascending =0)\n",
    "final_larg= sorted_final_df.head(50)"
   ]
  },
  {
   "cell_type": "code",
   "execution_count": 148,
   "metadata": {},
   "outputs": [],
   "source": [
    "final_larg = final_larg[['CID','y_']]\n",
    "top_cid = final_larg[\"CID\"].to_list()"
   ]
  },
  {
   "cell_type": "code",
   "execution_count": 149,
   "metadata": {},
   "outputs": [
    {
     "name": "stdout",
     "output_type": "stream",
     "text": [
      "The Top 50 Drug Leads Which are identified with PubChem cid's are (USING DEGREE 2 REGRESSION): \n",
      "1 : 3074872\n",
      "2 : 70681601\n",
      "3 : 76308151\n",
      "4 : 144048489\n",
      "5 : 11454798\n",
      "6 : 118736396\n",
      "7 : 70690018\n",
      "8 : 44593120\n",
      "9 : 6914643\n",
      "10 : 654035\n",
      "11 : 654371\n",
      "12 : 70690020\n",
      "13 : 3213399\n",
      "14 : 133314\n",
      "15 : 70690019\n",
      "16 : 70694238\n",
      "17 : 126459002\n",
      "18 : 70687997\n",
      "19 : 136376421\n",
      "20 : 70687994\n",
      "21 : 53802\n",
      "22 : 150613368\n",
      "23 : 72696275\n",
      "24 : 40206146\n",
      "25 : 132466207\n",
      "26 : 1312315\n",
      "27 : 364721\n",
      "28 : 44452251\n",
      "29 : 11027418\n",
      "30 : 71811258\n",
      "31 : 142723051\n",
      "32 : 3157191\n",
      "33 : 134146806\n",
      "34 : 150432640\n",
      "35 : 44452332\n",
      "36 : 24980701\n",
      "37 : 1454593\n",
      "38 : 648426\n",
      "39 : 24978980\n",
      "40 : 11547797\n",
      "41 : 647632\n",
      "42 : 24749927\n",
      "43 : 134150252\n",
      "44 : 131979407\n",
      "45 : 1896005\n",
      "46 : 134154648\n",
      "47 : 134139036\n",
      "48 : 24750165\n",
      "49 : 6485862\n",
      "50 : 145974899\n"
     ]
    }
   ],
   "source": [
    "print(\"The Top 50 Drug Leads Which are identified with PubChem cid's are (USING DEGREE 2 REGRESSION): \")\n",
    "itter_count = 0\n",
    "for itter in top_cid:\n",
    "    itter_count+=1\n",
    "    \n",
    "    print(str(itter_count)+\" : \"+str(itter))"
   ]
  },
  {
   "cell_type": "code",
   "execution_count": 150,
   "metadata": {},
   "outputs": [],
   "source": [
    "top_cid_mix_df['Degree 2'] = top_cid"
   ]
  },
  {
   "cell_type": "code",
   "execution_count": 151,
   "metadata": {},
   "outputs": [
    {
     "name": "stdout",
     "output_type": "stream",
     "text": [
      "r2 = 0.5811898180540496\n"
     ]
    }
   ],
   "source": [
    "print(\"r2 = \"+str(r2_score(y_test, y_pred, multioutput='uniform_average')))\n",
    "final_cid_2 = pd.DataFrame()\n",
    "final_cid_2['CID'] = top_cid\n",
    "final_cid_2.to_csv(\"final_cid_degree_2.csv\")"
   ]
  },
  {
   "cell_type": "markdown",
   "metadata": {},
   "source": [
    " "
   ]
  },
  {
   "cell_type": "markdown",
   "metadata": {},
   "source": [
    " "
   ]
  },
  {
   "cell_type": "markdown",
   "metadata": {},
   "source": [
    " "
   ]
  },
  {
   "cell_type": "code",
   "execution_count": 152,
   "metadata": {},
   "outputs": [
    {
     "data": {
      "text/plain": [
       "[0.5915122224245102,\n",
       " ('HeavyAtomCount',\n",
       "  'Complexity',\n",
       "  'HBondAcceptorCount',\n",
       "  'MonoisotopicMass',\n",
       "  'RotatableBondCount',\n",
       "  'TPSA')]"
      ]
     },
     "execution_count": 152,
     "metadata": {},
     "output_type": "execute_result"
    }
   ],
   "source": [
    "model_dict[3]"
   ]
  },
  {
   "cell_type": "code",
   "execution_count": 153,
   "metadata": {},
   "outputs": [
    {
     "data": {
      "text/plain": [
       "['HeavyAtomCount',\n",
       " 'Complexity',\n",
       " 'HBondAcceptorCount',\n",
       " 'MonoisotopicMass',\n",
       " 'RotatableBondCount',\n",
       " 'TPSA']"
      ]
     },
     "execution_count": 153,
     "metadata": {},
     "output_type": "execute_result"
    }
   ],
   "source": [
    "features = list(model_dict[3][1])\n",
    "features"
   ]
  },
  {
   "cell_type": "code",
   "execution_count": 154,
   "metadata": {},
   "outputs": [
    {
     "data": {
      "text/plain": [
       "((2461, 6), (2461,))"
      ]
     },
     "execution_count": 154,
     "metadata": {},
     "output_type": "execute_result"
    }
   ],
   "source": [
    "x_trained =train_file[features].values\n",
    "y_trained = train_file['y'].values\n",
    "x_trained.shape,y_trained.shape"
   ]
  },
  {
   "cell_type": "code",
   "execution_count": 155,
   "metadata": {},
   "outputs": [],
   "source": [
    "X_train, X_test, y_train, y_test = train_test_split(x_trained, y_trained, test_size=0.1, random_state=0)"
   ]
  },
  {
   "cell_type": "code",
   "execution_count": 156,
   "metadata": {},
   "outputs": [
    {
     "data": {
      "text/plain": [
       "Pipeline(memory=None,\n",
       "         steps=[('polynomialfeatures',\n",
       "                 PolynomialFeatures(degree=3, include_bias=True,\n",
       "                                    interaction_only=False, order='C')),\n",
       "                ('standardscaler',\n",
       "                 StandardScaler(copy=True, with_mean=True, with_std=True)),\n",
       "                ('linearregression',\n",
       "                 LinearRegression(copy_X=True, fit_intercept=True, n_jobs=None,\n",
       "                                  normalize=False))],\n",
       "         verbose=False)"
      ]
     },
     "execution_count": 156,
     "metadata": {},
     "output_type": "execute_result"
    }
   ],
   "source": [
    "#poly regression - degree 3\n",
    "scaler = preprocessing.StandardScaler()\n",
    "degree=3\n",
    "polyreg_scaled=make_pipeline(PolynomialFeatures(degree),scaler,LinearRegression())\n",
    "polyreg_scaled.fit(X_train,y_train)"
   ]
  },
  {
   "cell_type": "code",
   "execution_count": 157,
   "metadata": {},
   "outputs": [
    {
     "data": {
      "text/plain": [
       "0.5915122224245102"
      ]
     },
     "execution_count": 157,
     "metadata": {},
     "output_type": "execute_result"
    }
   ],
   "source": [
    "#R2 Score\n",
    "y_pred = polyreg_scaled.predict(X_test)\n",
    "r2_score(y_test, y_pred, multioutput='uniform_average')"
   ]
  },
  {
   "cell_type": "code",
   "execution_count": 158,
   "metadata": {},
   "outputs": [],
   "source": [
    "final_data_frameF1 = final_data_frame[final_data_frame['MolecularWeight'] <= 500]\n",
    "final_data_frameF2 = final_data_frameF1[final_data_frameF1['XLogP'] <=5.6]"
   ]
  },
  {
   "cell_type": "code",
   "execution_count": 159,
   "metadata": {},
   "outputs": [],
   "source": [
    "pred_data_cid = final_data_frameF2[\"CID\"].to_list()"
   ]
  },
  {
   "cell_type": "code",
   "execution_count": 160,
   "metadata": {},
   "outputs": [
    {
     "data": {
      "text/plain": [
       "['HeavyAtomCount',\n",
       " 'Complexity',\n",
       " 'HBondAcceptorCount',\n",
       " 'MonoisotopicMass',\n",
       " 'RotatableBondCount',\n",
       " 'TPSA',\n",
       " 'CID']"
      ]
     },
     "execution_count": 160,
     "metadata": {},
     "output_type": "execute_result"
    }
   ],
   "source": [
    "#features.append('CID')\n",
    "new_features = features.append(\"CID\")\n",
    "features"
   ]
  },
  {
   "cell_type": "code",
   "execution_count": 161,
   "metadata": {},
   "outputs": [
    {
     "name": "stderr",
     "output_type": "stream",
     "text": [
      "/home/ben/anaconda3/lib/python3.7/site-packages/pandas/core/frame.py:3997: SettingWithCopyWarning: \n",
      "A value is trying to be set on a copy of a slice from a DataFrame\n",
      "\n",
      "See the caveats in the documentation: https://pandas.pydata.org/pandas-docs/stable/user_guide/indexing.html#returning-a-view-versus-a-copy\n",
      "  errors=errors,\n"
     ]
    },
    {
     "data": {
      "text/plain": [
       "(3485, 6)"
      ]
     },
     "execution_count": 161,
     "metadata": {},
     "output_type": "execute_result"
    }
   ],
   "source": [
    "final_data_frame1 = final_data_frameF2[features]\n",
    "for x in final_data_frame1.isnull().any():\n",
    "    if x == True:\n",
    "        final_data_frame1 = final_data_frame1.fillna(method='ffill')\n",
    "final_data_frame1.drop(columns='CID',inplace=True)\n",
    "final_data_frame1.shape"
   ]
  },
  {
   "cell_type": "code",
   "execution_count": 162,
   "metadata": {},
   "outputs": [
    {
     "name": "stderr",
     "output_type": "stream",
     "text": [
      "/home/ben/anaconda3/lib/python3.7/site-packages/ipykernel_launcher.py:3: SettingWithCopyWarning: \n",
      "A value is trying to be set on a copy of a slice from a DataFrame.\n",
      "Try using .loc[row_indexer,col_indexer] = value instead\n",
      "\n",
      "See the caveats in the documentation: https://pandas.pydata.org/pandas-docs/stable/user_guide/indexing.html#returning-a-view-versus-a-copy\n",
      "  This is separate from the ipykernel package so we can avoid doing imports until\n",
      "/home/ben/anaconda3/lib/python3.7/site-packages/ipykernel_launcher.py:4: SettingWithCopyWarning: \n",
      "A value is trying to be set on a copy of a slice from a DataFrame.\n",
      "Try using .loc[row_indexer,col_indexer] = value instead\n",
      "\n",
      "See the caveats in the documentation: https://pandas.pydata.org/pandas-docs/stable/user_guide/indexing.html#returning-a-view-versus-a-copy\n",
      "  after removing the cwd from sys.path.\n"
     ]
    }
   ],
   "source": [
    "final_pred_1 = polyreg_scaled.predict(final_data_frame1)\n",
    "final_pred_1 = list(final_pred_1)\n",
    "final_data_frame1['CID'] = pred_data_cid\n",
    "final_data_frame1['y_'] = final_pred_1"
   ]
  },
  {
   "cell_type": "code",
   "execution_count": 163,
   "metadata": {},
   "outputs": [],
   "source": [
    "saved_final_data_frame1 = final_data_frame1\n",
    "sorted_final_df = final_data_frame1.sort_values('y_',ascending =0)\n",
    "final_larg= sorted_final_df.head(50)"
   ]
  },
  {
   "cell_type": "code",
   "execution_count": 164,
   "metadata": {},
   "outputs": [],
   "source": [
    "final_larg = final_larg[['CID','y_']]\n",
    "top_cid = final_larg[\"CID\"].to_list()"
   ]
  },
  {
   "cell_type": "code",
   "execution_count": 165,
   "metadata": {},
   "outputs": [
    {
     "name": "stdout",
     "output_type": "stream",
     "text": [
      "The Top 50 Drug Leads Which are identified with PubChem cid's are (USING DEGREE 3 REGRESSION): \n",
      "1 : 148332828\n",
      "2 : 24830655\n",
      "3 : 3473521\n",
      "4 : 150946647\n",
      "5 : 2134718\n",
      "6 : 44593120\n",
      "7 : 752162\n",
      "8 : 153908250\n",
      "9 : 2134378\n",
      "10 : 55080117\n",
      "11 : 752161\n",
      "12 : 132466207\n",
      "13 : 131983136\n",
      "14 : 3157191\n",
      "15 : 1312315\n",
      "16 : 387846\n",
      "17 : 711253\n",
      "18 : 56927101\n",
      "19 : 11547797\n",
      "20 : 129780132\n",
      "21 : 144415584\n",
      "22 : 18591132\n",
      "23 : 703093\n",
      "24 : 52102698\n",
      "25 : 708445\n",
      "26 : 249748\n",
      "27 : 73852568\n",
      "28 : 144048489\n",
      "29 : 364723\n",
      "30 : 133314\n",
      "31 : 2133311\n",
      "32 : 1397732\n",
      "33 : 76308151\n",
      "34 : 356283\n",
      "35 : 2133307\n",
      "36 : 3074872\n",
      "37 : 4487604\n",
      "38 : 364721\n",
      "39 : 702048\n",
      "40 : 2833930\n",
      "41 : 1899741\n",
      "42 : 7120706\n",
      "43 : 5761940\n",
      "44 : 3116128\n",
      "45 : 356284\n",
      "46 : 22588269\n",
      "47 : 72651363\n",
      "48 : 60111994\n",
      "49 : 147042332\n",
      "50 : 70681601\n"
     ]
    }
   ],
   "source": [
    "print(\"The Top 50 Drug Leads Which are identified with PubChem cid's are (USING DEGREE 3 REGRESSION): \")\n",
    "itter_count = 0\n",
    "for itter in top_cid:\n",
    "    itter_count+=1\n",
    "    \n",
    "    print(str(itter_count)+\" : \"+str(itter))"
   ]
  },
  {
   "cell_type": "code",
   "execution_count": 166,
   "metadata": {},
   "outputs": [],
   "source": [
    "top_cid_mix_df['Degree 3'] = top_cid"
   ]
  },
  {
   "cell_type": "code",
   "execution_count": 167,
   "metadata": {},
   "outputs": [
    {
     "name": "stdout",
     "output_type": "stream",
     "text": [
      "r2 = 0.5915122224245102\n"
     ]
    }
   ],
   "source": [
    "print(\"r2 = \"+str(r2_score(y_test, y_pred, multioutput='uniform_average')))\n",
    "final_cid_2 = pd.DataFrame()\n",
    "final_cid_2['CID'] = top_cid\n",
    "final_cid_2.to_csv(\"final_cid_degree_2.csv\")"
   ]
  },
  {
   "cell_type": "markdown",
   "metadata": {},
   "source": [
    " THE END - COMPOUND FETCHING"
   ]
  },
  {
   "cell_type": "code",
   "execution_count": 168,
   "metadata": {},
   "outputs": [
    {
     "data": {
      "text/html": [
       "<div>\n",
       "<style scoped>\n",
       "    .dataframe tbody tr th:only-of-type {\n",
       "        vertical-align: middle;\n",
       "    }\n",
       "\n",
       "    .dataframe tbody tr th {\n",
       "        vertical-align: top;\n",
       "    }\n",
       "\n",
       "    .dataframe thead th {\n",
       "        text-align: right;\n",
       "    }\n",
       "</style>\n",
       "<table border=\"1\" class=\"dataframe\">\n",
       "  <thead>\n",
       "    <tr style=\"text-align: right;\">\n",
       "      <th></th>\n",
       "      <th>Degree 1</th>\n",
       "      <th>Degree 2</th>\n",
       "      <th>Degree 3</th>\n",
       "    </tr>\n",
       "  </thead>\n",
       "  <tbody>\n",
       "    <tr>\n",
       "      <th>0</th>\n",
       "      <td>364723</td>\n",
       "      <td>3074872</td>\n",
       "      <td>148332828</td>\n",
       "    </tr>\n",
       "    <tr>\n",
       "      <th>1</th>\n",
       "      <td>356283</td>\n",
       "      <td>70681601</td>\n",
       "      <td>24830655</td>\n",
       "    </tr>\n",
       "    <tr>\n",
       "      <th>2</th>\n",
       "      <td>3074872</td>\n",
       "      <td>76308151</td>\n",
       "      <td>3473521</td>\n",
       "    </tr>\n",
       "    <tr>\n",
       "      <th>3</th>\n",
       "      <td>70681601</td>\n",
       "      <td>144048489</td>\n",
       "      <td>150946647</td>\n",
       "    </tr>\n",
       "    <tr>\n",
       "      <th>4</th>\n",
       "      <td>129780132</td>\n",
       "      <td>11454798</td>\n",
       "      <td>2134718</td>\n",
       "    </tr>\n",
       "    <tr>\n",
       "      <th>5</th>\n",
       "      <td>3157191</td>\n",
       "      <td>118736396</td>\n",
       "      <td>44593120</td>\n",
       "    </tr>\n",
       "    <tr>\n",
       "      <th>6</th>\n",
       "      <td>711253</td>\n",
       "      <td>70690018</td>\n",
       "      <td>752162</td>\n",
       "    </tr>\n",
       "    <tr>\n",
       "      <th>7</th>\n",
       "      <td>387846</td>\n",
       "      <td>44593120</td>\n",
       "      <td>153908250</td>\n",
       "    </tr>\n",
       "    <tr>\n",
       "      <th>8</th>\n",
       "      <td>356284</td>\n",
       "      <td>6914643</td>\n",
       "      <td>2134378</td>\n",
       "    </tr>\n",
       "    <tr>\n",
       "      <th>9</th>\n",
       "      <td>613997</td>\n",
       "      <td>654035</td>\n",
       "      <td>55080117</td>\n",
       "    </tr>\n",
       "    <tr>\n",
       "      <th>10</th>\n",
       "      <td>76308151</td>\n",
       "      <td>654371</td>\n",
       "      <td>752161</td>\n",
       "    </tr>\n",
       "    <tr>\n",
       "      <th>11</th>\n",
       "      <td>1312315</td>\n",
       "      <td>70690020</td>\n",
       "      <td>132466207</td>\n",
       "    </tr>\n",
       "    <tr>\n",
       "      <th>12</th>\n",
       "      <td>150946647</td>\n",
       "      <td>3213399</td>\n",
       "      <td>131983136</td>\n",
       "    </tr>\n",
       "    <tr>\n",
       "      <th>13</th>\n",
       "      <td>72696275</td>\n",
       "      <td>133314</td>\n",
       "      <td>3157191</td>\n",
       "    </tr>\n",
       "    <tr>\n",
       "      <th>14</th>\n",
       "      <td>70690018</td>\n",
       "      <td>70690019</td>\n",
       "      <td>1312315</td>\n",
       "    </tr>\n",
       "    <tr>\n",
       "      <th>15</th>\n",
       "      <td>132466207</td>\n",
       "      <td>70694238</td>\n",
       "      <td>387846</td>\n",
       "    </tr>\n",
       "    <tr>\n",
       "      <th>16</th>\n",
       "      <td>364721</td>\n",
       "      <td>126459002</td>\n",
       "      <td>711253</td>\n",
       "    </tr>\n",
       "    <tr>\n",
       "      <th>17</th>\n",
       "      <td>1397732</td>\n",
       "      <td>70687997</td>\n",
       "      <td>56927101</td>\n",
       "    </tr>\n",
       "    <tr>\n",
       "      <th>18</th>\n",
       "      <td>708445</td>\n",
       "      <td>136376421</td>\n",
       "      <td>11547797</td>\n",
       "    </tr>\n",
       "    <tr>\n",
       "      <th>19</th>\n",
       "      <td>150361908</td>\n",
       "      <td>70687994</td>\n",
       "      <td>129780132</td>\n",
       "    </tr>\n",
       "    <tr>\n",
       "      <th>20</th>\n",
       "      <td>23248475</td>\n",
       "      <td>53802</td>\n",
       "      <td>144415584</td>\n",
       "    </tr>\n",
       "    <tr>\n",
       "      <th>21</th>\n",
       "      <td>702048</td>\n",
       "      <td>150613368</td>\n",
       "      <td>18591132</td>\n",
       "    </tr>\n",
       "    <tr>\n",
       "      <th>22</th>\n",
       "      <td>129882848</td>\n",
       "      <td>72696275</td>\n",
       "      <td>703093</td>\n",
       "    </tr>\n",
       "    <tr>\n",
       "      <th>23</th>\n",
       "      <td>752161</td>\n",
       "      <td>40206146</td>\n",
       "      <td>52102698</td>\n",
       "    </tr>\n",
       "    <tr>\n",
       "      <th>24</th>\n",
       "      <td>70690020</td>\n",
       "      <td>132466207</td>\n",
       "      <td>708445</td>\n",
       "    </tr>\n",
       "    <tr>\n",
       "      <th>25</th>\n",
       "      <td>40206146</td>\n",
       "      <td>1312315</td>\n",
       "      <td>249748</td>\n",
       "    </tr>\n",
       "    <tr>\n",
       "      <th>26</th>\n",
       "      <td>702080</td>\n",
       "      <td>364721</td>\n",
       "      <td>73852568</td>\n",
       "    </tr>\n",
       "    <tr>\n",
       "      <th>27</th>\n",
       "      <td>752162</td>\n",
       "      <td>44452251</td>\n",
       "      <td>144048489</td>\n",
       "    </tr>\n",
       "    <tr>\n",
       "      <th>28</th>\n",
       "      <td>2114010</td>\n",
       "      <td>11027418</td>\n",
       "      <td>364723</td>\n",
       "    </tr>\n",
       "    <tr>\n",
       "      <th>29</th>\n",
       "      <td>153908250</td>\n",
       "      <td>71811258</td>\n",
       "      <td>133314</td>\n",
       "    </tr>\n",
       "    <tr>\n",
       "      <th>30</th>\n",
       "      <td>11454798</td>\n",
       "      <td>142723051</td>\n",
       "      <td>2133311</td>\n",
       "    </tr>\n",
       "    <tr>\n",
       "      <th>31</th>\n",
       "      <td>654371</td>\n",
       "      <td>3157191</td>\n",
       "      <td>1397732</td>\n",
       "    </tr>\n",
       "    <tr>\n",
       "      <th>32</th>\n",
       "      <td>70690019</td>\n",
       "      <td>134146806</td>\n",
       "      <td>76308151</td>\n",
       "    </tr>\n",
       "    <tr>\n",
       "      <th>33</th>\n",
       "      <td>70694238</td>\n",
       "      <td>150432640</td>\n",
       "      <td>356283</td>\n",
       "    </tr>\n",
       "    <tr>\n",
       "      <th>34</th>\n",
       "      <td>647632</td>\n",
       "      <td>44452332</td>\n",
       "      <td>2133307</td>\n",
       "    </tr>\n",
       "    <tr>\n",
       "      <th>35</th>\n",
       "      <td>136376421</td>\n",
       "      <td>24980701</td>\n",
       "      <td>3074872</td>\n",
       "    </tr>\n",
       "    <tr>\n",
       "      <th>36</th>\n",
       "      <td>6914643</td>\n",
       "      <td>1454593</td>\n",
       "      <td>4487604</td>\n",
       "    </tr>\n",
       "    <tr>\n",
       "      <th>37</th>\n",
       "      <td>118736396</td>\n",
       "      <td>648426</td>\n",
       "      <td>364721</td>\n",
       "    </tr>\n",
       "    <tr>\n",
       "      <th>38</th>\n",
       "      <td>70687997</td>\n",
       "      <td>24978980</td>\n",
       "      <td>702048</td>\n",
       "    </tr>\n",
       "    <tr>\n",
       "      <th>39</th>\n",
       "      <td>654035</td>\n",
       "      <td>11547797</td>\n",
       "      <td>2833930</td>\n",
       "    </tr>\n",
       "    <tr>\n",
       "      <th>40</th>\n",
       "      <td>3213399</td>\n",
       "      <td>647632</td>\n",
       "      <td>1899741</td>\n",
       "    </tr>\n",
       "    <tr>\n",
       "      <th>41</th>\n",
       "      <td>44593120</td>\n",
       "      <td>24749927</td>\n",
       "      <td>7120706</td>\n",
       "    </tr>\n",
       "    <tr>\n",
       "      <th>42</th>\n",
       "      <td>57894519</td>\n",
       "      <td>134150252</td>\n",
       "      <td>5761940</td>\n",
       "    </tr>\n",
       "    <tr>\n",
       "      <th>43</th>\n",
       "      <td>70687994</td>\n",
       "      <td>131979407</td>\n",
       "      <td>3116128</td>\n",
       "    </tr>\n",
       "    <tr>\n",
       "      <th>44</th>\n",
       "      <td>150613368</td>\n",
       "      <td>1896005</td>\n",
       "      <td>356284</td>\n",
       "    </tr>\n",
       "    <tr>\n",
       "      <th>45</th>\n",
       "      <td>14640247</td>\n",
       "      <td>134154648</td>\n",
       "      <td>22588269</td>\n",
       "    </tr>\n",
       "    <tr>\n",
       "      <th>46</th>\n",
       "      <td>141074326</td>\n",
       "      <td>134139036</td>\n",
       "      <td>72651363</td>\n",
       "    </tr>\n",
       "    <tr>\n",
       "      <th>47</th>\n",
       "      <td>118986721</td>\n",
       "      <td>24750165</td>\n",
       "      <td>60111994</td>\n",
       "    </tr>\n",
       "    <tr>\n",
       "      <th>48</th>\n",
       "      <td>102059679</td>\n",
       "      <td>6485862</td>\n",
       "      <td>147042332</td>\n",
       "    </tr>\n",
       "    <tr>\n",
       "      <th>49</th>\n",
       "      <td>337362</td>\n",
       "      <td>145974899</td>\n",
       "      <td>70681601</td>\n",
       "    </tr>\n",
       "  </tbody>\n",
       "</table>\n",
       "</div>"
      ],
      "text/plain": [
       "     Degree 1   Degree 2   Degree 3\n",
       "0      364723    3074872  148332828\n",
       "1      356283   70681601   24830655\n",
       "2     3074872   76308151    3473521\n",
       "3    70681601  144048489  150946647\n",
       "4   129780132   11454798    2134718\n",
       "5     3157191  118736396   44593120\n",
       "6      711253   70690018     752162\n",
       "7      387846   44593120  153908250\n",
       "8      356284    6914643    2134378\n",
       "9      613997     654035   55080117\n",
       "10   76308151     654371     752161\n",
       "11    1312315   70690020  132466207\n",
       "12  150946647    3213399  131983136\n",
       "13   72696275     133314    3157191\n",
       "14   70690018   70690019    1312315\n",
       "15  132466207   70694238     387846\n",
       "16     364721  126459002     711253\n",
       "17    1397732   70687997   56927101\n",
       "18     708445  136376421   11547797\n",
       "19  150361908   70687994  129780132\n",
       "20   23248475      53802  144415584\n",
       "21     702048  150613368   18591132\n",
       "22  129882848   72696275     703093\n",
       "23     752161   40206146   52102698\n",
       "24   70690020  132466207     708445\n",
       "25   40206146    1312315     249748\n",
       "26     702080     364721   73852568\n",
       "27     752162   44452251  144048489\n",
       "28    2114010   11027418     364723\n",
       "29  153908250   71811258     133314\n",
       "30   11454798  142723051    2133311\n",
       "31     654371    3157191    1397732\n",
       "32   70690019  134146806   76308151\n",
       "33   70694238  150432640     356283\n",
       "34     647632   44452332    2133307\n",
       "35  136376421   24980701    3074872\n",
       "36    6914643    1454593    4487604\n",
       "37  118736396     648426     364721\n",
       "38   70687997   24978980     702048\n",
       "39     654035   11547797    2833930\n",
       "40    3213399     647632    1899741\n",
       "41   44593120   24749927    7120706\n",
       "42   57894519  134150252    5761940\n",
       "43   70687994  131979407    3116128\n",
       "44  150613368    1896005     356284\n",
       "45   14640247  134154648   22588269\n",
       "46  141074326  134139036   72651363\n",
       "47  118986721   24750165   60111994\n",
       "48  102059679    6485862  147042332\n",
       "49     337362  145974899   70681601"
      ]
     },
     "execution_count": 168,
     "metadata": {},
     "output_type": "execute_result"
    }
   ],
   "source": [
    "top_cid_mix_df"
   ]
  },
  {
   "cell_type": "code",
   "execution_count": null,
   "metadata": {},
   "outputs": [],
   "source": [
    "top_cid_mix_df.to_csv(\"TOP_CID_123.csv\")\n",
    "\n",
    "top_cid = top_cid_mix_df['Degree 3'].tolist()"
   ]
  },
  {
   "cell_type": "markdown",
   "metadata": {},
   "source": [
    " "
   ]
  },
  {
   "cell_type": "markdown",
   "metadata": {},
   "source": [
    " "
   ]
  },
  {
   "cell_type": "markdown",
   "metadata": {},
   "source": [
    " "
   ]
  },
  {
   "cell_type": "markdown",
   "metadata": {},
   "source": [
    "Automated In Silico modelling for drug leads generated from PubChem"
   ]
  },
  {
   "cell_type": "code",
   "execution_count": 32,
   "metadata": {},
   "outputs": [],
   "source": [
    "class ResSelect(Select):\n",
    "    def accept_residue(self, residue):\n",
    "        if is_aa(residue):\n",
    "            return 1\n",
    "        else:\n",
    "            return 0\n",
    "\n",
    "\n",
    "class ProteinPreparer:\n",
    "\n",
    "\n",
    "\n",
    "    def __init__(self, protein: str, dir: str):\n",
    "        self.protein = protein\n",
    "        self.tmpdir = dir\n",
    "        self.filename = self.tmpdir + '/pdb{}.ent'.format(self.protein)\n",
    "\n",
    "    def prepare_protein(self):\n",
    "        parser = PDBParser()\n",
    "        io = PDBIO()\n",
    "        PDBList().retrieve_pdb_file(pdb_code=self.protein, pdir=self.tmpdir,\n",
    "                                    file_format='pdb')  # saves pdb in a form of ent file\n",
    "        ipdb = parser.get_structure('ipdb', self.filename)  # Input pdb as a self.filename\n",
    "        io.set_structure(ipdb)  # Setting structure for input pdb\n",
    "        io.save(self.tmpdir + '/'+self.protein + '.pdb', ResSelect(),\n",
    "                preserve_atom_numbering=True)  # saves the cleaned pdb\n",
    "        os.system(prepare_protein_path + self.tmpdir + '/{}.pdb'.format(\n",
    "            self.protein))  # prepares the structure by adding polar hydrogens and adding gesteiger charges\n",
    "        shutil.move(self.protein + '.pdbqt', self.tmpdir)\n",
    "\n",
    "prepare_ligand_path = '~/MGLTools-1.5.6/bin/pythonsh ~/MGLTools-1.5.6/MGLToolsPckgs/AutoDockTools/Utilities24/prepare_ligand4.py -A bonds_hydrogens -U nphs_lps -l'\n",
    "\n",
    "class LigandPreparer:\n",
    "\n",
    "    def __init__(self, ligand_file: str, dir: str):\n",
    "        self.ligand = ligand_file\n",
    "        self.tmpdir = dir\n",
    "\n",
    "    def prepare_ligand(self):\n",
    "        url = 'https://pubchem.ncbi.nlm.nih.gov/rest/pug/compound/cid/{}/SDF'.format(self.ligand)\n",
    "        urllib.request.urlretrieve(url, self.tmpdir + '/{}'.format(self.ligand + '.sdf')) # downloads the file\n",
    "        os.system('obabel {} -O {} --gen3d'.format(\n",
    "            self.tmpdir + '/' + self.ligand + '.sdf', self.tmpdir + '/' + self.ligand + 'prep.pdb')\n",
    "        ) # generates 3d coords\n",
    "        os.system(\n",
    "            'obminimize -ff GAFF {} > {}'.format(\n",
    "                self.tmpdir + '/' + self.ligand + 'prep.pdb', self.tmpdir + '/' + self.ligand + '.pdb'\n",
    "                                                 )\n",
    "        ) # minimizes using GAFF\n",
    "        os.system(prepare_ligand_path + '{}'.format(self.tmpdir + '/' + self.ligand + '.pdb'\n",
    "                                                    )) # adds charges, sets rotatable bonds\n",
    "        shutil.move(self.ligand + '.pdbqt', self.tmpdir)\n",
    "\n",
    "class VinaDocker:\n",
    "\n",
    "    def __init__(self, ligentry: str, protentry: str, protein_pdbqt: str, ligand_pdbqt: str, dir: str):\n",
    "        self.protein = protein_pdbqt + '.pdbqt'\n",
    "        self.protpdb = protentry + '.pdb'\n",
    "        self.protname = os.path.basename(self.protein)\n",
    "        self.ligand = ligand_pdbqt + '.pdbqt'\n",
    "        self.ligname = os.path.basename(self.ligand)\n",
    "        self.tmpdir = dir\n",
    "        self.docklog = './results/' + protentry + '_' + ligentry + '_docking.log' # !!\n",
    "        self.dockfile =  './results/' + protentry + '_' + ligentry + '.out' # !!\n",
    "        self.complex_name = protentry + '_' + ligentry + '_cplx.pdb'\n",
    "\n",
    "    def dock_merge_plip(self):\n",
    "        df = PandasPdb().read_pdb(self.tmpdir + '/' + self.protpdb)  # opens protein to calculate grid\n",
    "        minx = df.df['ATOM']['x_coord'].min()\n",
    "        maxx = df.df['ATOM']['x_coord'].max()\n",
    "        cent_x = round((maxx + minx) / 2, 2)\n",
    "        size_x = round(abs(maxx - minx) + 3, 2)\n",
    "        miny = df.df['ATOM']['y_coord'].min()\n",
    "        maxy = df.df['ATOM']['y_coord'].max()\n",
    "        cent_y = round((maxy + miny) / 2, 2)\n",
    "        size_y = round(abs(maxy - miny) + 3, 2)\n",
    "        minz = df.df['ATOM']['z_coord'].min()\n",
    "        maxz = df.df['ATOM']['z_coord'].max()\n",
    "        cent_z = round((maxz + minz) / 2, 2)\n",
    "        size_z = round(abs(maxz - minz) + 3, 2)\n",
    "        assert (type(cent_x) != None), \"Protein structure is damaged\"\n",
    "        assert (type(cent_y) != None), \"Protein structure is damaged\"\n",
    "        assert (type(cent_z) != None), \"Protein structure is damaged\"\n",
    "\n",
    "\n",
    "        print(\"Center point of docking grid for {} is as follows: \"\n",
    "              \"x: {}, y: {}, z: {}\".format(self.protein, size_x, size_y, size_z))\n",
    "        print(\"Sizes of docking grid are as follows:\"\n",
    "              \"x: {}, y: {}, z: {}\".format(cent_x, cent_y, cent_z))\n",
    "        print(\"Receptor: \", self.protein, \"\\n\", \"Ligand: \", self.ligand, \"\\n\", \"Output file: \", self.dockfile)\n",
    "        os.system(\n",
    "            'vina --receptor {} --ligand \"{}\" --center_x {} --center_y {} --center_z {} --size_x {} --size_y {} --size_z {} --log \"{}\" --out \"{}\"'.format(\n",
    "                self.protein,\n",
    "                self.ligand,\n",
    "                cent_x,\n",
    "                cent_y,\n",
    "                cent_z,\n",
    "                size_x,\n",
    "                size_y,\n",
    "                size_z,\n",
    "                self.docklog,\n",
    "                self.dockfile\n",
    "            ))\n",
    "        \"\"\"Postprocessing of docking files\"\"\"\n",
    "        # time.sleep(60)\n",
    "        df.df['ATOM']['segment_id'].replace(r'.{1,}', '', regex=True, inplace=True) # Clean pdbqt inheritance\n",
    "        df.df['ATOM']['blank_4'].replace(r'.{1,}', '', regex=True, inplace=True)\n",
    "        docking_output_df = PandasPdb().read_pdb(self.dockfile)\n",
    "        docking_output_df.df['HETATM'].drop_duplicates(subset='atom_number', keep='first', inplace=True)  # extract first model\n",
    "        docking_output_df.df['HETATM']['segment_id'].replace(r'.{1,}', '', regex=True, inplace=True)\n",
    "        docking_output_df.df['HETATM']['element_symbol'].replace('A', 'C', inplace=True) # OpenBabel fix\n",
    "        docking_output_df.df['HETATM']['blank_4'].replace(r'.{1,}', '', regex=True, inplace=True)  # clean pdbqt inheritance\n",
    "        df.df['ATOM'] = df.df['ATOM'].append(docking_output_df.df['HETATM'], ignore_index=True) # merges the files\n",
    "        df.to_pdb(path = self.complex_name,\n",
    "                  records=['ATOM','HETATM'],\n",
    "                  gz = False,\n",
    "                  append_newline=True)\n",
    "        shutil.move(self.complex_name, './results')"
   ]
  },
  {
   "cell_type": "code",
   "execution_count": 33,
   "metadata": {},
   "outputs": [
    {
     "name": "stdout",
     "output_type": "stream",
     "text": [
      "List of found pdbs:  ['1A8M', '1TNF', '2AZ5', '2E7A', '2TUN', '2ZJC', '2ZPX', '3ALQ', '3IT8', '3L9J', '3WD5', '4G3Y', '4TSV', '4TWT', '4Y6O', '5M2I', '5M2J', '5M2M', '5MU8', '5TSW', '5UUI', '5WUX', '5YOY', '6OOY', '6OOZ', '6OP0', '6RMJ']\n",
      "Downloading PDB structure '1a8m'...\n"
     ]
    },
    {
     "name": "stderr",
     "output_type": "stream",
     "text": [
      "/home/ben/anaconda3/lib/python3.7/site-packages/Bio/PDB/StructureBuilder.py:92: PDBConstructionWarning: WARNING: Chain A is discontinuous at line 4109.\n",
      "  PDBConstructionWarning,\n",
      "/home/ben/anaconda3/lib/python3.7/site-packages/Bio/PDB/StructureBuilder.py:92: PDBConstructionWarning: WARNING: Chain B is discontinuous at line 4125.\n",
      "  PDBConstructionWarning,\n",
      "/home/ben/anaconda3/lib/python3.7/site-packages/Bio/PDB/StructureBuilder.py:92: PDBConstructionWarning: WARNING: Chain C is discontinuous at line 4150.\n",
      "  PDBConstructionWarning,\n"
     ]
    },
    {
     "name": "stdout",
     "output_type": "stream",
     "text": [
      "Center point of docking grid for /home/ben/Documents/Target2DeNovoDrug/tmp12248oxo/1a8m.pdbqt is as follows: x: 64.23, y: 65.34, z: 63.32\n",
      "Sizes of docking grid are as follows:x: 20.25, y: 50.86, z: 41.17\n",
      "Receptor:  /home/ben/Documents/Target2DeNovoDrug/tmp12248oxo/1a8m.pdbqt \n",
      " Ligand:  /home/ben/Documents/Target2DeNovoDrug/tmp12248oxo/148332828.pdbqt \n",
      " Output file:  ./results/1a8m_148332828.out\n",
      "Center point of docking grid for /home/ben/Documents/Target2DeNovoDrug/tmp12248oxo/1a8m.pdbqt is as follows: x: 64.23, y: 65.34, z: 63.32\n",
      "Sizes of docking grid are as follows:x: 20.25, y: 50.86, z: 41.17\n",
      "Receptor:  /home/ben/Documents/Target2DeNovoDrug/tmp12248oxo/1a8m.pdbqt \n",
      " Ligand:  /home/ben/Documents/Target2DeNovoDrug/tmp12248oxo/24830655.pdbqt \n",
      " Output file:  ./results/1a8m_24830655.out\n",
      "Center point of docking grid for /home/ben/Documents/Target2DeNovoDrug/tmp12248oxo/1a8m.pdbqt is as follows: x: 64.23, y: 65.34, z: 63.32\n",
      "Sizes of docking grid are as follows:x: 20.25, y: 50.86, z: 41.17\n",
      "Receptor:  /home/ben/Documents/Target2DeNovoDrug/tmp12248oxo/1a8m.pdbqt \n",
      " Ligand:  /home/ben/Documents/Target2DeNovoDrug/tmp12248oxo/3473521.pdbqt \n",
      " Output file:  ./results/1a8m_3473521.out\n",
      "Center point of docking grid for /home/ben/Documents/Target2DeNovoDrug/tmp12248oxo/1a8m.pdbqt is as follows: x: 64.23, y: 65.34, z: 63.32\n",
      "Sizes of docking grid are as follows:x: 20.25, y: 50.86, z: 41.17\n",
      "Receptor:  /home/ben/Documents/Target2DeNovoDrug/tmp12248oxo/1a8m.pdbqt \n",
      " Ligand:  /home/ben/Documents/Target2DeNovoDrug/tmp12248oxo/150946647.pdbqt \n",
      " Output file:  ./results/1a8m_150946647.out\n",
      "Center point of docking grid for /home/ben/Documents/Target2DeNovoDrug/tmp12248oxo/1a8m.pdbqt is as follows: x: 64.23, y: 65.34, z: 63.32\n",
      "Sizes of docking grid are as follows:x: 20.25, y: 50.86, z: 41.17\n",
      "Receptor:  /home/ben/Documents/Target2DeNovoDrug/tmp12248oxo/1a8m.pdbqt \n",
      " Ligand:  /home/ben/Documents/Target2DeNovoDrug/tmp12248oxo/2134718.pdbqt \n",
      " Output file:  ./results/1a8m_2134718.out\n",
      "Center point of docking grid for /home/ben/Documents/Target2DeNovoDrug/tmp12248oxo/1a8m.pdbqt is as follows: x: 64.23, y: 65.34, z: 63.32\n",
      "Sizes of docking grid are as follows:x: 20.25, y: 50.86, z: 41.17\n",
      "Receptor:  /home/ben/Documents/Target2DeNovoDrug/tmp12248oxo/1a8m.pdbqt \n",
      " Ligand:  /home/ben/Documents/Target2DeNovoDrug/tmp12248oxo/44593120.pdbqt \n",
      " Output file:  ./results/1a8m_44593120.out\n",
      "Center point of docking grid for /home/ben/Documents/Target2DeNovoDrug/tmp12248oxo/1a8m.pdbqt is as follows: x: 64.23, y: 65.34, z: 63.32\n",
      "Sizes of docking grid are as follows:x: 20.25, y: 50.86, z: 41.17\n",
      "Receptor:  /home/ben/Documents/Target2DeNovoDrug/tmp12248oxo/1a8m.pdbqt \n",
      " Ligand:  /home/ben/Documents/Target2DeNovoDrug/tmp12248oxo/752162.pdbqt \n",
      " Output file:  ./results/1a8m_752162.out\n",
      "Center point of docking grid for /home/ben/Documents/Target2DeNovoDrug/tmp12248oxo/1a8m.pdbqt is as follows: x: 64.23, y: 65.34, z: 63.32\n",
      "Sizes of docking grid are as follows:x: 20.25, y: 50.86, z: 41.17\n",
      "Receptor:  /home/ben/Documents/Target2DeNovoDrug/tmp12248oxo/1a8m.pdbqt \n",
      " Ligand:  /home/ben/Documents/Target2DeNovoDrug/tmp12248oxo/153908250.pdbqt \n",
      " Output file:  ./results/1a8m_153908250.out\n",
      "Center point of docking grid for /home/ben/Documents/Target2DeNovoDrug/tmp12248oxo/1a8m.pdbqt is as follows: x: 64.23, y: 65.34, z: 63.32\n",
      "Sizes of docking grid are as follows:x: 20.25, y: 50.86, z: 41.17\n",
      "Receptor:  /home/ben/Documents/Target2DeNovoDrug/tmp12248oxo/1a8m.pdbqt \n",
      " Ligand:  /home/ben/Documents/Target2DeNovoDrug/tmp12248oxo/2134378.pdbqt \n",
      " Output file:  ./results/1a8m_2134378.out\n",
      "Center point of docking grid for /home/ben/Documents/Target2DeNovoDrug/tmp12248oxo/1a8m.pdbqt is as follows: x: 64.23, y: 65.34, z: 63.32\n",
      "Sizes of docking grid are as follows:x: 20.25, y: 50.86, z: 41.17\n",
      "Receptor:  /home/ben/Documents/Target2DeNovoDrug/tmp12248oxo/1a8m.pdbqt \n",
      " Ligand:  /home/ben/Documents/Target2DeNovoDrug/tmp12248oxo/55080117.pdbqt \n",
      " Output file:  ./results/1a8m_55080117.out\n",
      "Center point of docking grid for /home/ben/Documents/Target2DeNovoDrug/tmp12248oxo/1a8m.pdbqt is as follows: x: 64.23, y: 65.34, z: 63.32\n",
      "Sizes of docking grid are as follows:x: 20.25, y: 50.86, z: 41.17\n",
      "Receptor:  /home/ben/Documents/Target2DeNovoDrug/tmp12248oxo/1a8m.pdbqt \n",
      " Ligand:  /home/ben/Documents/Target2DeNovoDrug/tmp12248oxo/752161.pdbqt \n",
      " Output file:  ./results/1a8m_752161.out\n",
      "Center point of docking grid for /home/ben/Documents/Target2DeNovoDrug/tmp12248oxo/1a8m.pdbqt is as follows: x: 64.23, y: 65.34, z: 63.32\n",
      "Sizes of docking grid are as follows:x: 20.25, y: 50.86, z: 41.17\n",
      "Receptor:  /home/ben/Documents/Target2DeNovoDrug/tmp12248oxo/1a8m.pdbqt \n",
      " Ligand:  /home/ben/Documents/Target2DeNovoDrug/tmp12248oxo/132466207.pdbqt \n",
      " Output file:  ./results/1a8m_132466207.out\n",
      "Center point of docking grid for /home/ben/Documents/Target2DeNovoDrug/tmp12248oxo/1a8m.pdbqt is as follows: x: 64.23, y: 65.34, z: 63.32\n",
      "Sizes of docking grid are as follows:x: 20.25, y: 50.86, z: 41.17\n",
      "Receptor:  /home/ben/Documents/Target2DeNovoDrug/tmp12248oxo/1a8m.pdbqt \n",
      " Ligand:  /home/ben/Documents/Target2DeNovoDrug/tmp12248oxo/131983136.pdbqt \n",
      " Output file:  ./results/1a8m_131983136.out\n",
      "Center point of docking grid for /home/ben/Documents/Target2DeNovoDrug/tmp12248oxo/1a8m.pdbqt is as follows: x: 64.23, y: 65.34, z: 63.32\n",
      "Sizes of docking grid are as follows:x: 20.25, y: 50.86, z: 41.17\n",
      "Receptor:  /home/ben/Documents/Target2DeNovoDrug/tmp12248oxo/1a8m.pdbqt \n",
      " Ligand:  /home/ben/Documents/Target2DeNovoDrug/tmp12248oxo/3157191.pdbqt \n",
      " Output file:  ./results/1a8m_3157191.out\n",
      "Center point of docking grid for /home/ben/Documents/Target2DeNovoDrug/tmp12248oxo/1a8m.pdbqt is as follows: x: 64.23, y: 65.34, z: 63.32\n",
      "Sizes of docking grid are as follows:x: 20.25, y: 50.86, z: 41.17\n",
      "Receptor:  /home/ben/Documents/Target2DeNovoDrug/tmp12248oxo/1a8m.pdbqt \n",
      " Ligand:  /home/ben/Documents/Target2DeNovoDrug/tmp12248oxo/1312315.pdbqt \n",
      " Output file:  ./results/1a8m_1312315.out\n",
      "Center point of docking grid for /home/ben/Documents/Target2DeNovoDrug/tmp12248oxo/1a8m.pdbqt is as follows: x: 64.23, y: 65.34, z: 63.32\n",
      "Sizes of docking grid are as follows:x: 20.25, y: 50.86, z: 41.17\n",
      "Receptor:  /home/ben/Documents/Target2DeNovoDrug/tmp12248oxo/1a8m.pdbqt \n",
      " Ligand:  /home/ben/Documents/Target2DeNovoDrug/tmp12248oxo/387846.pdbqt \n",
      " Output file:  ./results/1a8m_387846.out\n",
      "Center point of docking grid for /home/ben/Documents/Target2DeNovoDrug/tmp12248oxo/1a8m.pdbqt is as follows: x: 64.23, y: 65.34, z: 63.32\n",
      "Sizes of docking grid are as follows:x: 20.25, y: 50.86, z: 41.17\n",
      "Receptor:  /home/ben/Documents/Target2DeNovoDrug/tmp12248oxo/1a8m.pdbqt \n",
      " Ligand:  /home/ben/Documents/Target2DeNovoDrug/tmp12248oxo/711253.pdbqt \n",
      " Output file:  ./results/1a8m_711253.out\n",
      "Center point of docking grid for /home/ben/Documents/Target2DeNovoDrug/tmp12248oxo/1a8m.pdbqt is as follows: x: 64.23, y: 65.34, z: 63.32\n",
      "Sizes of docking grid are as follows:x: 20.25, y: 50.86, z: 41.17\n",
      "Receptor:  /home/ben/Documents/Target2DeNovoDrug/tmp12248oxo/1a8m.pdbqt \n",
      " Ligand:  /home/ben/Documents/Target2DeNovoDrug/tmp12248oxo/56927101.pdbqt \n",
      " Output file:  ./results/1a8m_56927101.out\n",
      "Center point of docking grid for /home/ben/Documents/Target2DeNovoDrug/tmp12248oxo/1a8m.pdbqt is as follows: x: 64.23, y: 65.34, z: 63.32\n",
      "Sizes of docking grid are as follows:x: 20.25, y: 50.86, z: 41.17\n",
      "Receptor:  /home/ben/Documents/Target2DeNovoDrug/tmp12248oxo/1a8m.pdbqt \n",
      " Ligand:  /home/ben/Documents/Target2DeNovoDrug/tmp12248oxo/11547797.pdbqt \n",
      " Output file:  ./results/1a8m_11547797.out\n",
      "Center point of docking grid for /home/ben/Documents/Target2DeNovoDrug/tmp12248oxo/1a8m.pdbqt is as follows: x: 64.23, y: 65.34, z: 63.32\n",
      "Sizes of docking grid are as follows:x: 20.25, y: 50.86, z: 41.17\n",
      "Receptor:  /home/ben/Documents/Target2DeNovoDrug/tmp12248oxo/1a8m.pdbqt \n",
      " Ligand:  /home/ben/Documents/Target2DeNovoDrug/tmp12248oxo/129780132.pdbqt \n",
      " Output file:  ./results/1a8m_129780132.out\n",
      "[Errno 2] No such file or directory: '144415584.pdbqt'\n",
      "Center point of docking grid for /home/ben/Documents/Target2DeNovoDrug/tmp12248oxo/1a8m.pdbqt is as follows: x: 64.23, y: 65.34, z: 63.32\n",
      "Sizes of docking grid are as follows:x: 20.25, y: 50.86, z: 41.17\n",
      "Receptor:  /home/ben/Documents/Target2DeNovoDrug/tmp12248oxo/1a8m.pdbqt \n",
      " Ligand:  /home/ben/Documents/Target2DeNovoDrug/tmp12248oxo/144415584.pdbqt \n",
      " Output file:  ./results/1a8m_144415584.out\n",
      "[Errno 2] No such file or directory: './results/1a8m_144415584.out'\n"
     ]
    },
    {
     "name": "stdout",
     "output_type": "stream",
     "text": [
      "Center point of docking grid for /home/ben/Documents/Target2DeNovoDrug/tmp12248oxo/1a8m.pdbqt is as follows: x: 64.23, y: 65.34, z: 63.32\n",
      "Sizes of docking grid are as follows:x: 20.25, y: 50.86, z: 41.17\n",
      "Receptor:  /home/ben/Documents/Target2DeNovoDrug/tmp12248oxo/1a8m.pdbqt \n",
      " Ligand:  /home/ben/Documents/Target2DeNovoDrug/tmp12248oxo/18591132.pdbqt \n",
      " Output file:  ./results/1a8m_18591132.out\n",
      "Center point of docking grid for /home/ben/Documents/Target2DeNovoDrug/tmp12248oxo/1a8m.pdbqt is as follows: x: 64.23, y: 65.34, z: 63.32\n",
      "Sizes of docking grid are as follows:x: 20.25, y: 50.86, z: 41.17\n",
      "Receptor:  /home/ben/Documents/Target2DeNovoDrug/tmp12248oxo/1a8m.pdbqt \n",
      " Ligand:  /home/ben/Documents/Target2DeNovoDrug/tmp12248oxo/703093.pdbqt \n",
      " Output file:  ./results/1a8m_703093.out\n",
      "Center point of docking grid for /home/ben/Documents/Target2DeNovoDrug/tmp12248oxo/1a8m.pdbqt is as follows: x: 64.23, y: 65.34, z: 63.32\n",
      "Sizes of docking grid are as follows:x: 20.25, y: 50.86, z: 41.17\n",
      "Receptor:  /home/ben/Documents/Target2DeNovoDrug/tmp12248oxo/1a8m.pdbqt \n",
      " Ligand:  /home/ben/Documents/Target2DeNovoDrug/tmp12248oxo/52102698.pdbqt \n",
      " Output file:  ./results/1a8m_52102698.out\n",
      "Center point of docking grid for /home/ben/Documents/Target2DeNovoDrug/tmp12248oxo/1a8m.pdbqt is as follows: x: 64.23, y: 65.34, z: 63.32\n",
      "Sizes of docking grid are as follows:x: 20.25, y: 50.86, z: 41.17\n",
      "Receptor:  /home/ben/Documents/Target2DeNovoDrug/tmp12248oxo/1a8m.pdbqt \n",
      " Ligand:  /home/ben/Documents/Target2DeNovoDrug/tmp12248oxo/708445.pdbqt \n",
      " Output file:  ./results/1a8m_708445.out\n",
      "Center point of docking grid for /home/ben/Documents/Target2DeNovoDrug/tmp12248oxo/1a8m.pdbqt is as follows: x: 64.23, y: 65.34, z: 63.32\n",
      "Sizes of docking grid are as follows:x: 20.25, y: 50.86, z: 41.17\n",
      "Receptor:  /home/ben/Documents/Target2DeNovoDrug/tmp12248oxo/1a8m.pdbqt \n",
      " Ligand:  /home/ben/Documents/Target2DeNovoDrug/tmp12248oxo/249748.pdbqt \n",
      " Output file:  ./results/1a8m_249748.out\n",
      "Center point of docking grid for /home/ben/Documents/Target2DeNovoDrug/tmp12248oxo/1a8m.pdbqt is as follows: x: 64.23, y: 65.34, z: 63.32\n",
      "Sizes of docking grid are as follows:x: 20.25, y: 50.86, z: 41.17\n",
      "Receptor:  /home/ben/Documents/Target2DeNovoDrug/tmp12248oxo/1a8m.pdbqt \n",
      " Ligand:  /home/ben/Documents/Target2DeNovoDrug/tmp12248oxo/73852568.pdbqt \n",
      " Output file:  ./results/1a8m_73852568.out\n",
      "Center point of docking grid for /home/ben/Documents/Target2DeNovoDrug/tmp12248oxo/1a8m.pdbqt is as follows: x: 64.23, y: 65.34, z: 63.32\n",
      "Sizes of docking grid are as follows:x: 20.25, y: 50.86, z: 41.17\n",
      "Receptor:  /home/ben/Documents/Target2DeNovoDrug/tmp12248oxo/1a8m.pdbqt \n",
      " Ligand:  /home/ben/Documents/Target2DeNovoDrug/tmp12248oxo/144048489.pdbqt \n",
      " Output file:  ./results/1a8m_144048489.out\n",
      "Center point of docking grid for /home/ben/Documents/Target2DeNovoDrug/tmp12248oxo/1a8m.pdbqt is as follows: x: 64.23, y: 65.34, z: 63.32\n",
      "Sizes of docking grid are as follows:x: 20.25, y: 50.86, z: 41.17\n",
      "Receptor:  /home/ben/Documents/Target2DeNovoDrug/tmp12248oxo/1a8m.pdbqt \n",
      " Ligand:  /home/ben/Documents/Target2DeNovoDrug/tmp12248oxo/364723.pdbqt \n",
      " Output file:  ./results/1a8m_364723.out\n",
      "Center point of docking grid for /home/ben/Documents/Target2DeNovoDrug/tmp12248oxo/1a8m.pdbqt is as follows: x: 64.23, y: 65.34, z: 63.32\n",
      "Sizes of docking grid are as follows:x: 20.25, y: 50.86, z: 41.17\n",
      "Receptor:  /home/ben/Documents/Target2DeNovoDrug/tmp12248oxo/1a8m.pdbqt \n",
      " Ligand:  /home/ben/Documents/Target2DeNovoDrug/tmp12248oxo/133314.pdbqt \n",
      " Output file:  ./results/1a8m_133314.out\n",
      "Center point of docking grid for /home/ben/Documents/Target2DeNovoDrug/tmp12248oxo/1a8m.pdbqt is as follows: x: 64.23, y: 65.34, z: 63.32\n",
      "Sizes of docking grid are as follows:x: 20.25, y: 50.86, z: 41.17\n",
      "Receptor:  /home/ben/Documents/Target2DeNovoDrug/tmp12248oxo/1a8m.pdbqt \n",
      " Ligand:  /home/ben/Documents/Target2DeNovoDrug/tmp12248oxo/2133311.pdbqt \n",
      " Output file:  ./results/1a8m_2133311.out\n",
      "Center point of docking grid for /home/ben/Documents/Target2DeNovoDrug/tmp12248oxo/1a8m.pdbqt is as follows: x: 64.23, y: 65.34, z: 63.32\n",
      "Sizes of docking grid are as follows:x: 20.25, y: 50.86, z: 41.17\n",
      "Receptor:  /home/ben/Documents/Target2DeNovoDrug/tmp12248oxo/1a8m.pdbqt \n",
      " Ligand:  /home/ben/Documents/Target2DeNovoDrug/tmp12248oxo/1397732.pdbqt \n",
      " Output file:  ./results/1a8m_1397732.out\n",
      "Center point of docking grid for /home/ben/Documents/Target2DeNovoDrug/tmp12248oxo/1a8m.pdbqt is as follows: x: 64.23, y: 65.34, z: 63.32\n",
      "Sizes of docking grid are as follows:x: 20.25, y: 50.86, z: 41.17\n",
      "Receptor:  /home/ben/Documents/Target2DeNovoDrug/tmp12248oxo/1a8m.pdbqt \n",
      " Ligand:  /home/ben/Documents/Target2DeNovoDrug/tmp12248oxo/76308151.pdbqt \n",
      " Output file:  ./results/1a8m_76308151.out\n",
      "Center point of docking grid for /home/ben/Documents/Target2DeNovoDrug/tmp12248oxo/1a8m.pdbqt is as follows: x: 64.23, y: 65.34, z: 63.32\n",
      "Sizes of docking grid are as follows:x: 20.25, y: 50.86, z: 41.17\n",
      "Receptor:  /home/ben/Documents/Target2DeNovoDrug/tmp12248oxo/1a8m.pdbqt \n",
      " Ligand:  /home/ben/Documents/Target2DeNovoDrug/tmp12248oxo/356283.pdbqt \n",
      " Output file:  ./results/1a8m_356283.out\n",
      "Center point of docking grid for /home/ben/Documents/Target2DeNovoDrug/tmp12248oxo/1a8m.pdbqt is as follows: x: 64.23, y: 65.34, z: 63.32\n",
      "Sizes of docking grid are as follows:x: 20.25, y: 50.86, z: 41.17\n",
      "Receptor:  /home/ben/Documents/Target2DeNovoDrug/tmp12248oxo/1a8m.pdbqt \n",
      " Ligand:  /home/ben/Documents/Target2DeNovoDrug/tmp12248oxo/2133307.pdbqt \n",
      " Output file:  ./results/1a8m_2133307.out\n",
      "Center point of docking grid for /home/ben/Documents/Target2DeNovoDrug/tmp12248oxo/1a8m.pdbqt is as follows: x: 64.23, y: 65.34, z: 63.32\n",
      "Sizes of docking grid are as follows:x: 20.25, y: 50.86, z: 41.17\n",
      "Receptor:  /home/ben/Documents/Target2DeNovoDrug/tmp12248oxo/1a8m.pdbqt \n",
      " Ligand:  /home/ben/Documents/Target2DeNovoDrug/tmp12248oxo/3074872.pdbqt \n",
      " Output file:  ./results/1a8m_3074872.out\n",
      "Center point of docking grid for /home/ben/Documents/Target2DeNovoDrug/tmp12248oxo/1a8m.pdbqt is as follows: x: 64.23, y: 65.34, z: 63.32\n",
      "Sizes of docking grid are as follows:x: 20.25, y: 50.86, z: 41.17\n",
      "Receptor:  /home/ben/Documents/Target2DeNovoDrug/tmp12248oxo/1a8m.pdbqt \n",
      " Ligand:  /home/ben/Documents/Target2DeNovoDrug/tmp12248oxo/4487604.pdbqt \n",
      " Output file:  ./results/1a8m_4487604.out\n",
      "Center point of docking grid for /home/ben/Documents/Target2DeNovoDrug/tmp12248oxo/1a8m.pdbqt is as follows: x: 64.23, y: 65.34, z: 63.32\n",
      "Sizes of docking grid are as follows:x: 20.25, y: 50.86, z: 41.17\n",
      "Receptor:  /home/ben/Documents/Target2DeNovoDrug/tmp12248oxo/1a8m.pdbqt \n",
      " Ligand:  /home/ben/Documents/Target2DeNovoDrug/tmp12248oxo/364721.pdbqt \n",
      " Output file:  ./results/1a8m_364721.out\n",
      "Center point of docking grid for /home/ben/Documents/Target2DeNovoDrug/tmp12248oxo/1a8m.pdbqt is as follows: x: 64.23, y: 65.34, z: 63.32\n",
      "Sizes of docking grid are as follows:x: 20.25, y: 50.86, z: 41.17\n",
      "Receptor:  /home/ben/Documents/Target2DeNovoDrug/tmp12248oxo/1a8m.pdbqt \n",
      " Ligand:  /home/ben/Documents/Target2DeNovoDrug/tmp12248oxo/702048.pdbqt \n",
      " Output file:  ./results/1a8m_702048.out\n",
      "Center point of docking grid for /home/ben/Documents/Target2DeNovoDrug/tmp12248oxo/1a8m.pdbqt is as follows: x: 64.23, y: 65.34, z: 63.32\n",
      "Sizes of docking grid are as follows:x: 20.25, y: 50.86, z: 41.17\n",
      "Receptor:  /home/ben/Documents/Target2DeNovoDrug/tmp12248oxo/1a8m.pdbqt \n",
      " Ligand:  /home/ben/Documents/Target2DeNovoDrug/tmp12248oxo/2833930.pdbqt \n",
      " Output file:  ./results/1a8m_2833930.out\n",
      "Center point of docking grid for /home/ben/Documents/Target2DeNovoDrug/tmp12248oxo/1a8m.pdbqt is as follows: x: 64.23, y: 65.34, z: 63.32\n",
      "Sizes of docking grid are as follows:x: 20.25, y: 50.86, z: 41.17\n",
      "Receptor:  /home/ben/Documents/Target2DeNovoDrug/tmp12248oxo/1a8m.pdbqt \n",
      " Ligand:  /home/ben/Documents/Target2DeNovoDrug/tmp12248oxo/1899741.pdbqt \n",
      " Output file:  ./results/1a8m_1899741.out\n",
      "Center point of docking grid for /home/ben/Documents/Target2DeNovoDrug/tmp12248oxo/1a8m.pdbqt is as follows: x: 64.23, y: 65.34, z: 63.32\n",
      "Sizes of docking grid are as follows:x: 20.25, y: 50.86, z: 41.17\n",
      "Receptor:  /home/ben/Documents/Target2DeNovoDrug/tmp12248oxo/1a8m.pdbqt \n",
      " Ligand:  /home/ben/Documents/Target2DeNovoDrug/tmp12248oxo/7120706.pdbqt \n",
      " Output file:  ./results/1a8m_7120706.out\n"
     ]
    },
    {
     "name": "stdout",
     "output_type": "stream",
     "text": [
      "Center point of docking grid for /home/ben/Documents/Target2DeNovoDrug/tmp12248oxo/1a8m.pdbqt is as follows: x: 64.23, y: 65.34, z: 63.32\n",
      "Sizes of docking grid are as follows:x: 20.25, y: 50.86, z: 41.17\n",
      "Receptor:  /home/ben/Documents/Target2DeNovoDrug/tmp12248oxo/1a8m.pdbqt \n",
      " Ligand:  /home/ben/Documents/Target2DeNovoDrug/tmp12248oxo/5761940.pdbqt \n",
      " Output file:  ./results/1a8m_5761940.out\n",
      "Center point of docking grid for /home/ben/Documents/Target2DeNovoDrug/tmp12248oxo/1a8m.pdbqt is as follows: x: 64.23, y: 65.34, z: 63.32\n",
      "Sizes of docking grid are as follows:x: 20.25, y: 50.86, z: 41.17\n",
      "Receptor:  /home/ben/Documents/Target2DeNovoDrug/tmp12248oxo/1a8m.pdbqt \n",
      " Ligand:  /home/ben/Documents/Target2DeNovoDrug/tmp12248oxo/3116128.pdbqt \n",
      " Output file:  ./results/1a8m_3116128.out\n",
      "Center point of docking grid for /home/ben/Documents/Target2DeNovoDrug/tmp12248oxo/1a8m.pdbqt is as follows: x: 64.23, y: 65.34, z: 63.32\n",
      "Sizes of docking grid are as follows:x: 20.25, y: 50.86, z: 41.17\n",
      "Receptor:  /home/ben/Documents/Target2DeNovoDrug/tmp12248oxo/1a8m.pdbqt \n",
      " Ligand:  /home/ben/Documents/Target2DeNovoDrug/tmp12248oxo/356284.pdbqt \n",
      " Output file:  ./results/1a8m_356284.out\n",
      "Center point of docking grid for /home/ben/Documents/Target2DeNovoDrug/tmp12248oxo/1a8m.pdbqt is as follows: x: 64.23, y: 65.34, z: 63.32\n",
      "Sizes of docking grid are as follows:x: 20.25, y: 50.86, z: 41.17\n",
      "Receptor:  /home/ben/Documents/Target2DeNovoDrug/tmp12248oxo/1a8m.pdbqt \n",
      " Ligand:  /home/ben/Documents/Target2DeNovoDrug/tmp12248oxo/22588269.pdbqt \n",
      " Output file:  ./results/1a8m_22588269.out\n",
      "Center point of docking grid for /home/ben/Documents/Target2DeNovoDrug/tmp12248oxo/1a8m.pdbqt is as follows: x: 64.23, y: 65.34, z: 63.32\n",
      "Sizes of docking grid are as follows:x: 20.25, y: 50.86, z: 41.17\n",
      "Receptor:  /home/ben/Documents/Target2DeNovoDrug/tmp12248oxo/1a8m.pdbqt \n",
      " Ligand:  /home/ben/Documents/Target2DeNovoDrug/tmp12248oxo/72651363.pdbqt \n",
      " Output file:  ./results/1a8m_72651363.out\n",
      "Center point of docking grid for /home/ben/Documents/Target2DeNovoDrug/tmp12248oxo/1a8m.pdbqt is as follows: x: 64.23, y: 65.34, z: 63.32\n",
      "Sizes of docking grid are as follows:x: 20.25, y: 50.86, z: 41.17\n",
      "Receptor:  /home/ben/Documents/Target2DeNovoDrug/tmp12248oxo/1a8m.pdbqt \n",
      " Ligand:  /home/ben/Documents/Target2DeNovoDrug/tmp12248oxo/60111994.pdbqt \n",
      " Output file:  ./results/1a8m_60111994.out\n",
      "Center point of docking grid for /home/ben/Documents/Target2DeNovoDrug/tmp12248oxo/1a8m.pdbqt is as follows: x: 64.23, y: 65.34, z: 63.32\n",
      "Sizes of docking grid are as follows:x: 20.25, y: 50.86, z: 41.17\n",
      "Receptor:  /home/ben/Documents/Target2DeNovoDrug/tmp12248oxo/1a8m.pdbqt \n",
      " Ligand:  /home/ben/Documents/Target2DeNovoDrug/tmp12248oxo/147042332.pdbqt \n",
      " Output file:  ./results/1a8m_147042332.out\n",
      "Center point of docking grid for /home/ben/Documents/Target2DeNovoDrug/tmp12248oxo/1a8m.pdbqt is as follows: x: 64.23, y: 65.34, z: 63.32\n",
      "Sizes of docking grid are as follows:x: 20.25, y: 50.86, z: 41.17\n",
      "Receptor:  /home/ben/Documents/Target2DeNovoDrug/tmp12248oxo/1a8m.pdbqt \n",
      " Ligand:  /home/ben/Documents/Target2DeNovoDrug/tmp12248oxo/70681601.pdbqt \n",
      " Output file:  ./results/1a8m_70681601.out\n",
      "****Docking procedure finished****\n"
     ]
    }
   ],
   "source": [
    "from Bio import SwissProt\n",
    "import tempfile \n",
    "#Dummy CID:\n",
    "# top_cid=[6500, 6501]\n",
    "\n",
    "top_cid=[str(x) for x in top_cid]\n",
    "# check_id='POC6X7'\n",
    "# Part 1 - look for PDB entry\n",
    "\n",
    "list_of_pdbs = []\n",
    "handle = ExPASy.get_sprot_raw(check_id)\n",
    "record = SwissProt.read(handle)\n",
    "for i in record.cross_references:\n",
    "    if i[0] == 'PDB':\n",
    "        list_of_pdbs.append(i[1].upper())\n",
    "        \n",
    "print(\"List of found pdbs: \", list_of_pdbs)\n",
    "#Part 2 - download and prepare PDB\n",
    "prepare_protein_path = '~/MGLTools-1.5.6/bin/pythonsh ~/MGLTools-1.5.6/MGLToolsPckgs/AutoDockTools/Utilities24/prepare_receptor4.py -A bonds_hydrogens -U nphs_lps_waters_nonstdres_deleteAltB -r'\n",
    "with tempfile.TemporaryDirectory(dir=os.getcwd()) as tmpdir:\n",
    "    for entry in list_of_pdbs:\n",
    "        try:\n",
    "            ProteinPreparer(entry.lower(), tmpdir).prepare_protein()\n",
    "            break\n",
    "        except:\n",
    "            pass\n",
    "#Part 3 - prepare ligands\n",
    "    for CID_entry in top_cid:\n",
    "        try:\n",
    "            LigandPreparer(CID_entry,tmpdir).prepare_ligand()\n",
    "        except Exception as e:\n",
    "            print(e)\n",
    "#Part 4 - dock the ligand\n",
    "        try:\n",
    "            for entry in os.listdir(tmpdir):\n",
    "                if (entry[0:4].upper() in list_of_pdbs) and (entry.endswith('.pdbqt')):\n",
    "                    VinaDocker(protentry=entry[0:4].lower(),\n",
    "                                        ligentry=CID_entry,\n",
    "                                        protein_pdbqt=tmpdir + '/' + entry[0:4].lower(),\n",
    "                                        ligand_pdbqt=tmpdir + '/' + CID_entry,\n",
    "                                        dir=tmpdir\n",
    "                                        ).dock_merge_plip()\n",
    "        except Exception as e:\n",
    "            print(e)\n",
    "            \n",
    "            \n",
    "            \n",
    "            \n",
    "print(\"****Docking procedure finished****\")"
   ]
  },
  {
   "cell_type": "code",
   "execution_count": null,
   "metadata": {},
   "outputs": [],
   "source": [
    "#Part 5 - PLIP\n",
    "#protein-ligand interaction profiling through PLIP \n",
    "options=Options()\n",
    "options.headless = True\n",
    "plip = webdriver.Firefox(options=options)\n",
    "plip.get(\"https://projects.biotec.tu-dresden.de/plip-web/plip\")\n",
    "print(\"Connection successful\")\n",
    "\n",
    "for cplx in os.listdir('./results/'):\n",
    "    if cplx.endswith('cplx.pdb'):\n",
    "        cplx=f'./results/{cplx}'\n",
    "        print(\"Processing file {}\".format(cplx))\n",
    "    \n",
    "        select_pdb_input = plip.find_element_by_xpath(\"//*[@id='select-pdb-by-file']\").click() \n",
    "\n",
    "        browse = plip.find_element_by_xpath(\n",
    "            '/html/body/div[1]/div[2]/div/form/div[1]/div[1]/div[3]/input'\n",
    "        ).send_keys(                                                       \n",
    "            os.getcwd()+'/{}'.format(cplx)\n",
    "        )\n",
    "\n",
    "        send_file = plip.find_element_by_xpath(\"//*[@id='submit']\").click() \n",
    "        time.sleep(10) \n",
    "        try:\n",
    "            try:\n",
    "                open_interactions_1 = plip.find_element_by_xpath('/html/body/div/div[2]/div/div[1]/h2[2]').click()\n",
    "                open_interactions_2 = plip.find_element_by_xpath('/html/body/div[1]/div[2]/div/div[1]/div[2]/h3').click()\n",
    "                open_interactions_3 = plip.find_element_by_xpath('/html/body/div[1]/div[2]/div/div[1]/div[2]/div/h4').click()\n",
    "                pngs = plip.find_elements_by_xpath(\"//a[contains(@href,'.png')]\")\n",
    "                pymolsessions = plip.find_elements_by_xpath(\"//a[contains(@href,'.pse')]\")\n",
    "                \n",
    "            except:\n",
    "                open_interactions_1 = plip.find_element_by_xpath('/html/body/div[1]/div[2]/div/div[1]/h2[1]').click()\n",
    "                open_interactions_2 = plip.find_element_by_xpath('/html/body/div[1]/div[2]/div/div[1]/div[1]/h3').click()\n",
    "                open_interactions_3 = plip.find_element_by_xpath('/html/body/div[1]/div[2]/div/div[1]/div[1]/div/h4').click()\n",
    "                pngs = plip.find_elements_by_xpath(\"//a[contains(@href,'.png')]\")\n",
    "                pymolsessions = plip.find_elements_by_xpath(\"//a[contains(@href,'.pse')]\")\n",
    "\n",
    "            for image in pngs:\n",
    "                print(image.get_attribute(\"href\"))\n",
    "                output_image = requests.get(image.get_attribute(\"href\"))\n",
    "                open(\n",
    "                    os.getcwd()+'/{}'.format(cplx+'.png'), 'wb'\n",
    "                ).write(output_image.content)\n",
    "                print(\"Image saved as {}\".format(cplx+'.png'))\n",
    "\n",
    "            for pysession in pymolsessions:\n",
    "                print(pysession.get_attribute(\"href\"))\n",
    "                pse = requests.get(pysession.get_attribute(\"href\"))\n",
    "                open(\n",
    "                    os.getcwd()+'/{}'.format(cplx+'.pse'), 'wb'\n",
    "                ).write(pse.content)\n",
    "                print(\"Pymol sessions saved as {}\".format(cplx+'.pse'))\n",
    "                  \n",
    "            restart_plip = plip.find_element_by_xpath('/html/body/div[1]/div[2]/div/p[3]/a').click()\n",
    "            time.sleep(5)\n",
    "        except:\n",
    "            print(\"No interactions found for {} or damaged structure\".format(cplx))\n",
    "            try:\n",
    "                restart_plip = plip.find_element_by_xpath('/html/body/div[1]/div[2]/div/p[3]/a').click()\n",
    "                time.sleep(5)\n",
    "            except:\n",
    "                restart_plip = plip.find_element_by_xpath('/html/body/div[1]/div[2]/div[2]/p/a').click() "
   ]
  },
  {
   "cell_type": "markdown",
   "metadata": {},
   "source": [
    "Generative LSTM neural network based DeNovo drug lead compound generation"
   ]
  },
  {
   "cell_type": "code",
   "execution_count": null,
   "metadata": {},
   "outputs": [],
   "source": [
    "import pandas as pd\n",
    "import pubchempy as pc\n",
    "from collections import OrderedDict\n",
    "import os\n",
    "\n",
    "with open(\"./datasets/dataset.smi\", \"w\") as f:\n",
    "        for cid in n_cid:\n",
    "            f.write(pc.Compound.from_cid(cid).canonical_smiles + \"\\n\")\n",
    "            "
   ]
  },
  {
   "cell_type": "code",
   "execution_count": 195,
   "metadata": {},
   "outputs": [],
   "source": [
    "a = len(n_cid)\n",
    "b = a*0.001\n",
    "c = int(b)\n",
    "with open(\"./datasets/fine-tune.smi\", \"w\") as f:\n",
    "    i=0\n",
    "    while i in range(c):\n",
    "        f.write(pc.Compound.from_cid(n_cid[i]).canonical_smiles + \"\\n\")\n",
    "        i+=1"
   ]
  },
  {
   "cell_type": "code",
   "execution_count": 186,
   "metadata": {},
   "outputs": [
    {
     "data": {
      "text/plain": [
       "0"
      ]
     },
     "execution_count": 186,
     "metadata": {},
     "output_type": "execute_result"
    }
   ],
   "source": [
    "import os\n",
    "os.system('python3 cleanup_smiles.py datasets/dataset.smi datasets/dataset_cleansed.smi')"
   ]
  },
  {
   "cell_type": "code",
   "execution_count": 196,
   "metadata": {},
   "outputs": [
    {
     "data": {
      "text/plain": [
       "0"
      ]
     },
     "execution_count": 196,
     "metadata": {},
     "output_type": "execute_result"
    }
   ],
   "source": [
    "import os\n",
    "os.system('python3 cleanup_smiles.py datasets/fine-tune.smi datasets/cleansed_fine-tune.smi')"
   ]
  },
  {
   "cell_type": "code",
   "execution_count": 6,
   "metadata": {},
   "outputs": [
    {
     "data": {
      "text/plain": [
       "0"
      ]
     },
     "execution_count": 6,
     "metadata": {},
     "output_type": "execute_result"
    }
   ],
   "source": [
    "import os\n",
    "os.system('python train.py')"
   ]
  },
  {
   "cell_type": "code",
   "execution_count": 1,
   "metadata": {},
   "outputs": [],
   "source": [
    "import numpy as np\n",
    "import matplotlib.pyplot as plt\n",
    "%matplotlib inline\n",
    "\n",
    "from lstm_chem.utils.config import process_config\n",
    "from lstm_chem.model import LSTMChem\n",
    "from lstm_chem.generator import LSTMChemGenerator"
   ]
  },
  {
   "cell_type": "code",
   "execution_count": 2,
   "metadata": {},
   "outputs": [],
   "source": [
    "CONFIG_FILE = 'experiments/2020-12-10/LSTM_Chem/config.json'\n",
    "config = process_config(CONFIG_FILE)"
   ]
  },
  {
   "cell_type": "code",
   "execution_count": 3,
   "metadata": {},
   "outputs": [
    {
     "name": "stdout",
     "output_type": "stream",
     "text": [
      "Loading model architecture from experiments/2020-12-10/LSTM_Chem/model_arch.json ...\n",
      "Loading model checkpoint from experiments/2020-12-10/LSTM_Chem/checkpoints/LSTM_Chem-30-0.36.hdf5 ...\n",
      "Loaded the Model.\n"
     ]
    }
   ],
   "source": [
    "modeler = LSTMChem(config, session='generate')"
   ]
  },
  {
   "cell_type": "code",
   "execution_count": 4,
   "metadata": {},
   "outputs": [
    {
     "name": "stderr",
     "output_type": "stream",
     "text": [
      "100%|██████████| 500/500 [02:52<00:00,  2.90it/s]\n"
     ]
    }
   ],
   "source": [
    "# It took more than 4 hours!\n",
    "generator = LSTMChemGenerator(modeler)\n",
    "sampled_smiles = generator.sample(num=500)"
   ]
  },
  {
   "cell_type": "code",
   "execution_count": 5,
   "metadata": {},
   "outputs": [],
   "source": [
    "Generated_Smiles = []"
   ]
  },
  {
   "cell_type": "code",
   "execution_count": 6,
   "metadata": {},
   "outputs": [],
   "source": [
    "from rdkit import RDLogger, Chem, DataStructs\n",
    "from rdkit.Chem import AllChem, Descriptors\n",
    "RDLogger.DisableLog('rdApp.*')\n"
   ]
  },
  {
   "cell_type": "markdown",
   "metadata": {},
   "source": [
    " "
   ]
  },
  {
   "cell_type": "code",
   "execution_count": 43,
   "metadata": {},
   "outputs": [
    {
     "name": "stdout",
     "output_type": "stream",
     "text": [
      "Number of Valid Smiles out of the 500 generated by the neural network is\n",
      "182\n"
     ]
    }
   ],
   "source": [
    "valid_mols = []\n",
    "for smi in sampled_smiles:\n",
    "    mol = Chem.MolFromSmiles(smi)\n",
    "    if mol is not None:\n",
    "        valid_mols.append(mol)\n",
    "print('Number of Valid Smiles out of the 500 generated by the neural network is')\n",
    "print(len(valid_mols))"
   ]
  },
  {
   "cell_type": "code",
   "execution_count": 11,
   "metadata": {},
   "outputs": [],
   "source": [
    "i=0\n",
    "while i in range(len(valid_mols)):\n",
    "    Generated_Smiles.append(Chem.MolToSmiles(valid_mols[i],isomericSmiles=False))\n",
    "    i+=1"
   ]
  },
  {
   "cell_type": "code",
   "execution_count": 42,
   "metadata": {},
   "outputs": [
    {
     "data": {
      "text/plain": [
       "['O=C(Cc1ccc(Cl)cn1)c1ccc(Cl)c(S(=O)(=O)N2CCOCC2)c1',\n",
       " 'COC(=O)c1ccccc1C(=O)N1CCN(C2CCc3ccccc3S2)CC1',\n",
       " 'CCC1CCCCC1C(=O)CSC1=NC2=CC=C(OCc3ccccc3)C2=C1',\n",
       " 'Cc1ccccc1NC(=S)NNc1ncc(C(F)(F)F)cc1Cl',\n",
       " 'CCOC(=O)c1ccccc1C(=O)c1ccccc1C(F)(F)F',\n",
       " 'COc1ccc(CC(=O)c2cc(C)n(Cc3ccccc3)c2C)cc1',\n",
       " 'COc1ccc(C(=O)c2cc(C)n(Cc3cccs3)c2)cc1',\n",
       " 'COc1cc(-c2cc3ccccc3sc2=O)ccc1NC(=O)c1ccccc1OC',\n",
       " 'CC(C)(C)c1nn(CCC(=O)Nc2ccccc2)c2ccccc12',\n",
       " 'Cc1ccc(C(=O)CNc2ncc(-c3ccccc3)s2)cc1',\n",
       " 'CC(=O)Nc1ccc(C(=O)Nc2ccc(C(F)(F)F)cc2)cc1',\n",
       " 'Cn1c(=O)c2c(nc(N3CCCC(O)C3)n2Cc2ccccc2)n(C)c1=O',\n",
       " 'Cc1ccc(S(=O)(=O)Nc2ccc(C(=O)Nc3ccccc3C)cc2)cc1',\n",
       " 'C=CCN1Sc2cc(C(C)C)nnc2NC(=O)c2ccccc2S1(=O)=O',\n",
       " 'CCCCCCC(=O)Nc1cc(-c2ccc(Cl)cc2)cs1',\n",
       " 'COc1ccc(NC(=O)c2ccccc2Oc2ccc(C)cc2)cc1',\n",
       " 'CC(C)(C)Cc1ccc(-c2csc(NC(=O)c3ccc(C(=O)O)cc3)n2)cc1',\n",
       " 'CC(=O)c1ccc(NC(=O)c2cccc([N+](=O)[O-])c2)cc1',\n",
       " 'CCN(c1ccccc1)S(=O)(=O)c1ccc(C(=O)Nc2ccc3c(c2)OCCO3)cc1',\n",
       " 'COc1ccc(-c2nnc(N(C)C)s2)cc1',\n",
       " 'Cc1ccccc1NC(=O)c1cccc(CS(=O)(=O)c2ccccc2)c1',\n",
       " 'CN(C)CC(=O)Nc1ccc(S(=O)(=O)N2CCCCC2)cc1',\n",
       " 'COc1ccc(NC(=O)c2cccc([N+](=O)[O-])c2)cc1OC',\n",
       " 'Cc1ccccc1NC(=S)Nc1ccc(C(F)(F)F)cc1',\n",
       " 'O=C(N=Cc1ccccc1)c1cccc(S(=O)(=O)N2CCCCC2)c1',\n",
       " 'CC(=O)c1nc(NC(=O)NSc2nc(-c3ccccc3)cs2)cc(C)c1C',\n",
       " 'COc1ccccc1C(=O)Nc1ccc2oc(-c3ccccc3)nc2c1',\n",
       " 'Cc1ccc(C)c(N2CCN(c3ncnc4scc(-c5ccccc5)c34)CC2)c1',\n",
       " 'Cc1cccc(C(=O)Nc2ccc(C(F)(F)F)cc2)c1',\n",
       " 'CCCCCCCCC(=O)Nc1ccc(C(=O)Nc2cccc(F)c2)cc1',\n",
       " 'CCCCCCCCCCCCC(=O)Nc1ccc2oc(-c3ccccc3)nc2c1',\n",
       " 'O=C(CCl)Nc1ccc(CS(=O)(=O)c2cccc(Cl)c2)cc1',\n",
       " 'CC(=O)Nc1ccc(S(=O)(=O)N2CCN(Cc3ccccc3)CC2)cc1S(=O)(=O)N1CCCCC1',\n",
       " 'Cc1ccc(Nc2nc3c(c(=O)n(C)c(=O)n3C)n2Cc2ccccc2)cc1',\n",
       " 'COc1ccccc1NC(=O)c1ccc(Cl)c(S(=O)(=O)N2CCCC2)c1',\n",
       " 'COc1ccc(CNC(=O)C(=Cc2ccccc2)c2ccccc2)cc1',\n",
       " 'O=C(Cc1ccccc1)Nc1ccc(S(=O)(=O)N2CCOCC2)cc1',\n",
       " 'CC(=O)Nc1ccc(S(=O)(=O)Nc2cccc(Br)c2)cc1',\n",
       " 'Cc1cccc(NC(=S)NSc2nc3ccccc3s2)c1C',\n",
       " 'CC(=O)N1CCN(c2ncnc3scc(-c4ccccc4)c23)CC1',\n",
       " 'COc1cc(C=C2SC(=O)NC2=O)ccc1OCCc1ccccc1',\n",
       " 'COc1ccc(NC(=O)c2cc(-c3ccccc3)cnc2Cl)cc1C',\n",
       " 'O=C(Nc1nc(-c2ccc(Cl)cc2)cs1)c1ccc(Br)c(S(=O)(=O)N2CCOCC2)c1',\n",
       " 'Cc1ccc(S(=O)(=O)NCc2cccnc2)cc1',\n",
       " 'O=C(NCCC(=S)N1CCN(c2ccccc2)CC1)c1ccccc1',\n",
       " 'CC(C)CCn1c(N)c(C(=O)COC(=O)C23CC4CC(CC(C4)C2)C3)c(=O)n(C)c1=O',\n",
       " 'CC(C)c1ccc(S(=O)(=O)N2CCC(c3ccccc3)CC2)cc1',\n",
       " 'CC(=O)c1ccc(NC(=O)c2ccc(CN3CCCCC3)cc2)cc1',\n",
       " 'CC(C)CN1C(=O)C(C(=O)COC(=O)c2cccc(F)c2)=C1N',\n",
       " 'COc1ccc(C(=O)Nc2nc3ccccc3nc2NS(=O)(=O)c2ccccc2)cc1',\n",
       " 'Cc1c(-c2ccccc2)nnn1Sc1cccc(S(=O)(=O)N2CCCCC2)c1',\n",
       " 'COc1ccccc1C(=O)NCCc1ccc(S(=O)(=O)N2CCOCC2)cc1',\n",
       " 'CCCCCC(=O)Nc1ccc(S(=O)(=O)Nc2ccccc2)cc1',\n",
       " 'Cc1ccc(OC(=O)c2ccc(NS(=O)(=O)c3ccccc3)cc2)cc1',\n",
       " 'COc1ccccc1C(=O)NCCc1ccccc1',\n",
       " 'COc1cccc(C(=O)N2CCN(Cc3ccc(C)cc3)CC2)c1',\n",
       " 'CCCCOC(=O)CSc1nc2ccccc2c(=O)n1-c1cccc(C)c1',\n",
       " 'CC(=O)c1c(C)[nH]c(-c2ccccc2Cl)c1-c1ccccc1',\n",
       " 'O=C(Nc1ncc([N+](=O)[O-])s1)c1ccc(Cl)cc1',\n",
       " 'CCOC(=O)COC(=O)c1ccccc1C(=O)c1ccccc1Oc1cccc([N+](=O)[O-])c1',\n",
       " 'O=C(Nc1ccc(Cl)c([N+](=O)[O-])c1)c1ccc2cccnc2c1O',\n",
       " 'CC(C)(C)c1ccc(C(=O)Cc2ccccc2)cc1S(=O)(=O)N1CCCCC1',\n",
       " 'Cc1ccccc1NC(=O)c1ccc(C)c(-c2ccc(F)cc2)c1',\n",
       " 'Cc1[nH]n(-c2ccccc2)c(=O)c1Cc1ccccc1',\n",
       " 'O=C(c1ccc(Cn2ccnc2)cc1)c1ccc(Cl)c(S(=O)(=O)N2CCCCC2)c1',\n",
       " 'CC(=O)N1CCN(c2ncnc3c2cnn3-c2ccccc2)CC1',\n",
       " 'Cc1ccc(S(=O)(=O)Nc2ccc(C(=O)Nc3ccccn3)cc2)cc1',\n",
       " 'CCCCCC(=O)Nc1ccc(S(=O)(=O)N2CCCCC2)cc1',\n",
       " 'COc1ccccc1NC(=S)NNc1ncc(C(F)(F)F)cc1Cl',\n",
       " 'Cc1ccc(NC(=O)Nc2ccc(-c3ccccc3)cc2)cc1',\n",
       " 'O=C(c1ccccc1)c1ccccc1S(=O)(=O)Nc1ccc(Cl)cc1',\n",
       " 'O=C(Nc1ccc(Cl)cc1)Nc1ccccc1C(=O)c1cccc(Br)c1',\n",
       " 'CCc1ccc(NC(=O)NS(=O)(=O)c2ccccc2)c(C)c1',\n",
       " 'COc1ccc(CC(=O)c2ccn(Oc3ccccc3)c2)cc1',\n",
       " 'CCC(=O)c1ccc(NC(=O)c2ccc([N+](=O)[O-])cc2)cc1',\n",
       " 'Cc1ccc(NC(=O)NCc2ccc(Cl)cn2)cc1',\n",
       " 'Cc1ccc(S(=O)(=O)Nc2cccc(C(F)(F)F)c2)cc1',\n",
       " 'COc1ccccc1NC(=O)c1ccccc1NS(=O)(=O)c1ccc(Cl)cc1',\n",
       " 'O=C(Nc1ccc(F)cc1)Nc1ncc([N+](=O)[O-])s1',\n",
       " 'Cc1ccc(S(=O)(=O)Nc2ccc(C(=O)NCCC(C)C)cc2)cc1',\n",
       " 'O=C(NCc1ccccc1)c1ccc(NS(=O)(=O)c2ccccc2)cc1',\n",
       " 'CCc1cc(NCCC(=O)O)ccc1NC(=O)c1ccc(Cl)c(S(=O)(=O)N2CCCC2)c1',\n",
       " 'COc1ccccc1C(=O)Nc1ccc(S(=O)(=O)N2CCOCC2)cc1',\n",
       " 'Cc1ccc(SC(=O)Nc2cnc(-c3ccc(Cl)cc3)o2)cc1',\n",
       " 'CCCCCC(C)CCC(=O)Nc1nc(-c2ccccc2)cs1',\n",
       " 'Cc1ccc(C)c(NC(=O)CSC2=Nc3scc(-c4ccccc4)c3C2=O)c1',\n",
       " 'Cc1ccc(Nc2nc3ccccc3nc2NS(=O)(=O)c2cccs2)cc1',\n",
       " 'CCN(CC)C(=O)c1ccccc1C(=O)c1ccc(Br)c([N+](=O)[O-])c1',\n",
       " 'CCN(CC)C(=O)C(C#N)=Cc1ccc(C(=O)OCc2ccccc2)cc1',\n",
       " 'Cc1ccc(NC(=O)C=C(S)c2ccccc2C(=O)c2ccccc2)cc1',\n",
       " 'COc1ccc(NC(=O)c2cccc([N+](=O)[O-])c2)cc1',\n",
       " 'O=C(CCc1cccc(Cl)c1)Nc1nc(-c2ccccc2)cs1',\n",
       " 'COc1ccccc1C(=O)Nc1ccc(-c2cccc([N+](=O)[O-])c2)cc1',\n",
       " 'COc1ccc(C(=O)Nc2ccc(O)c(OC)c2)cc1',\n",
       " 'O=S(=O)(Nc1csc(-c2cccnc2)n1)c1ccccc1Cl',\n",
       " 'O=C(Nc1nc2ccccc2nc1NS(=O)(=O)c1ccccc1)C(=O)NC1CCN(c2cccc(Cl)c2)CC1',\n",
       " 'CCCC(C)CCCC(=O)Nc1cc(-c2cccnc2)sc1-c1ccccc1',\n",
       " 'Cc1ccc(Oc2cccc(C(=O)Nc3ccc(F)cc3)c2)cc1',\n",
       " 'COc1ccc(NC(=O)N2CCN(c3ccc(F)cc3)CC2)cc1',\n",
       " 'CCOC(=O)c1ccc(NC(=O)c2ccc3c(c2)OCO3)cc1',\n",
       " 'COc1cccc(OC)c1C(=O)Nc1ccc2c(c1)CCCO2',\n",
       " 'COCCN(C)CCCNc1cc(C)cc(S(=O)(=O)N2CCOCC2)c1',\n",
       " 'Cc1ccc(S(=O)(=O)Nc2ccc(Cc3nc4ccccc4s3)cc2)cc1',\n",
       " 'Cc1c(-c2ccc(Cl)cc2)nc2c(-c3ccc(Cl)cc3)cnn2c1C',\n",
       " 'O=C(Nc1ncc([N+](=O)[O-])s1)c1cccc(Cl)c1',\n",
       " 'CCN(CC)S(=O)(=O)c1ccc(C(=O)Nc2nc3ccccc3o2)cc1',\n",
       " 'Cc1ccc(NS(=O)(=O)c2ccc(C(=O)NC(=O)c3ccc(C)cc3)cc2)cc1',\n",
       " 'COc1cccc(C(=O)Nc2ccnc3cccnc23)c1',\n",
       " 'CC(=O)Nc1ccc(C(=O)c2ccccc2OC(F)(F)F)cc1',\n",
       " 'CCOc1ccc(-n2nc(C(=O)Cc3ccccc3)cc2C)cc1',\n",
       " 'Cc1ccc(NC(=S)NN2CCN(c3ccccn3)CC2)cc1',\n",
       " 'COc1ccc(C)cc1NC(=S)NCc1cc(F)c(Cl)cc1F',\n",
       " 'Cc1ccc(CCC(=O)N2CCN(c3ccccc3)CC2)c2ccccc12',\n",
       " 'COc1ccc(C)cc1NC(=O)c1cccc([N+](=O)[O-])c1',\n",
       " 'Cc1ccc(C(=O)Nc2ccc(C(=O)Nc3ccccc3C)cc2)cc1',\n",
       " 'CCCc1ccccc1NC(=O)c1ccccc1C(=O)c1ccc(Cl)c([N+](=O)[O-])c1',\n",
       " 'CC(=O)c1ccc(NC(=O)c2ccc(CN3CCOCC3)cc2)cc1',\n",
       " 'CC(=O)N1CCN(C2=CC=C(C(=O)Nc3ccccc3)CC2)c2ccccc21',\n",
       " 'O=C(Nc1nc(-c2ccccc2)n[nH]1)N1CCN(c2ccc(F)cc2)CC1',\n",
       " 'Cc1cccc(C(=O)Nc2ccc(C(=O)N3CCN(c4ccccc4)CC3)o2)c1',\n",
       " 'Cn1cc(C(=O)O)c(-c2ncc(-c3ccccc3)o2)n1',\n",
       " 'CCCCc1cc(N)c(S(=O)(=O)Nc2ccccc2)cc1OC',\n",
       " 'Cc1nc(N2CCN(C(=O)c3ccccc3)CC2)c2ccc(Cl)cc2n1',\n",
       " 'Cc1ccc(Sc2[nH]nc(-c3cccc(OO)c3)c2C)cc1',\n",
       " 'CCOC(=O)c1ccc(NC(=O)c2cc(Cl)ccc2Cl)cc1',\n",
       " 'Cc1cnc(SCC(=O)NC(=O)c2ccc(Cl)cc2)cn1',\n",
       " 'Cc1cc(C)c(C(=O)COc2ncccc2[N+](=O)[O-])c(C)c1',\n",
       " 'Cc1cccc(C(=O)N2CCN(C(C)Cc3ccc(Cl)cc3)C2)c1',\n",
       " 'Cn1c(=O)c2c(nc(CSc3ccccn3)n2C)n(C)c1=O',\n",
       " 'O=C(CC(=S)N1CCN(c2ccccn2)CC1)c1cccc([N+](=O)[O-])c1',\n",
       " 'CCN(CC)S(=O)(=O)c1ccc(NC(=O)c2cc(C)nc3ccccc23)cc1',\n",
       " 'COc1ccc(C2=CC=C(NC(=O)C3CCC(C(=O)NCc4ccccc4)C3)C2)cc1',\n",
       " 'COc1cccc(C(=O)Nc2ccc3c(c2)CCC3)c1',\n",
       " 'Cc1ccc(S(=O)(=O)N2CCCC2)cc1OCC(=O)Nc1ccc(Cl)c(Cl)c1',\n",
       " 'Cc1ccc(S(=O)(=O)Nc2cccc(C)c2)cc1',\n",
       " 'CC1CC(C(=O)c2ccc(Cl)c(Cl)c2)c2ccccc21',\n",
       " 'COc1ccc(NC(=O)c2ccccc2C(=O)c2ccccc2)cc1',\n",
       " 'Cc1ccc(C(=O)NC2CCN(C(=O)c3ccccc3)C2)cc1',\n",
       " 'CCCOC(=O)C(C#N)=Cc1ccc(-c2nnnn2-c2ccccc2)o1',\n",
       " 'Cc1ccc(S(=O)(=O)Nc2ccc(C(=O)NC(C)C)cc2)cc1',\n",
       " 'O=C(Cc1cccc(Br)c1)Nc1ccccc1C(=O)c1ccccc1',\n",
       " 'CCOC(=O)c1ccccc1N1CCN(Cc2ccccc2)CC1',\n",
       " 'CCN(CC)S(=O)(=O)c1ccc(C(=O)Nc2nc(-c3cc4ccccc4s3)cs2)cc1',\n",
       " 'C=CCN1C(=O)C(=CC2=CC2)C(=O)N(Cc2ccc(O)cc2)C1=O',\n",
       " 'CC(C)CNC(=O)c1ccccc1C(=O)c1ccccc1C(=O)c1cccs1',\n",
       " 'CCCCCCCCCCCC(=O)Nc1nc2ccc(NC(=O)c3ccccc3)cc2s1',\n",
       " 'CCN(CC)S(=O)(=O)c1cccc(C(=O)Nc2ccc(F)cc2)c1',\n",
       " 'CC1=NC2=CC(NC(=O)c3ccccc3)=NC=NN2S1',\n",
       " 'COc1ccccc1C=CC(=O)c1cccc(C(=O)c2ccc(C(N)=O)cc2)c1',\n",
       " 'Cc1ccc(C)c(NC(=O)c2cccc(NS(=O)(=O)c3cccc(Cl)c3)c2)c1',\n",
       " 'COc1ccc(C=C2C(=O)Cc3ccccc3C=CC(=O)OC2=O)cc1',\n",
       " 'CCCCCCC(=O)Nc1ccc(C(=O)N2CCN(c3ccccn3)CC2)cc1',\n",
       " 'COc1ccc(NC(=O)c2ccccc2Nc2cccc(Cl)c2)cc1',\n",
       " 'CC(C)CC(=O)Nc1ccc(-c2ccc(C(F)(F)F)cc2)cc1',\n",
       " 'Cc1cccc(NC(=O)Nc2nc3ccccc3nc2NS(=O)(=O)c2ccccc2)c1',\n",
       " 'COc1ccc(-c2csc(NC(=O)c3ccc([N+](=O)[O-])cc3)n2)cc1C',\n",
       " 'Cc1ccc(O)c(Nc2nc3ccccc3[nH]2)c1',\n",
       " 'CC(C)(C)c1ccc(Nc2nc3ncccc3nc2NS(=O)(=O)c2ccccc2)cc1',\n",
       " 'CC(C)Cn1c(N)c(C(=O)COC(=O)C23CC4CC(CC(C4)C2)C3)c(=O)n(C)c1=O',\n",
       " 'COC(=O)c1ccc(NC(=O)c2ccccc2)cc1C',\n",
       " 'Cc1ccc(CCC(=O)Nc2nc(-c3ccccc3)cs2)cc1',\n",
       " 'Cc1ccc(OCC(=O)c2cc(C)n(C(=O)c3ccccc3[N+](=O)[O-])c2C)cc1',\n",
       " 'Cc1ccc(NC(=O)CC(=O)c2ccc(S(=O)(=O)N3CCOCC3)cc2)cc1',\n",
       " 'COc1ccccc1C(=O)Nc1ccc(S(=O)(=O)N2CCCCC2)cc1',\n",
       " 'Cc1ccc(C(=O)NC(=O)c2ccccc2)cc1',\n",
       " 'Nc1ccc(S(=O)(=O)N2CCN(c3ccccc3)CC2)cc1',\n",
       " 'COc1ccc(NC(=O)c2cccc([N+](=O)[O-])c2)c(C#N)c1',\n",
       " 'CC(=O)Nc1ccc(Nc2nnc(-c3ccccc3)s2)cc1',\n",
       " 'CC(=O)c1ccc(NC(=O)c2ccc(Cl)c(S(=O)(=O)N3CCOCC3)c2)cc1',\n",
       " 'COC1=CC=C(C(=O)N=Cc2ccccc2)C=c2ccccc2=N1',\n",
       " 'Cc1ccc(C(=O)Nc2ccc(C(F)(F)F)cc2)cc1',\n",
       " 'COc1ccccc1C(=O)NCCC(=O)Nc1ccc(S(=O)(=O)N(C)C)cc1',\n",
       " 'O=C(NCC1CCCO1)c1ccc(Oc2ccc([N+](=O)[O-])cc2)cc1S(=O)(=O)Nc1ccccc1',\n",
       " 'CCC(Cc1ccc(S(=O)(=O)N2CCCCC2)cc1)c1cc(Cl)ccc1Br',\n",
       " 'COc1ccc(C(=O)Nc2cc(C)n(Cc3cccc(C)c3)c2)cc1',\n",
       " 'O=C(Nc1cccc2cccnc12)Nc1cccc2cccnc12',\n",
       " 'Cc1ccccc1-c1csc(NC(=O)c2ccccc2[N+](=O)[O-])n1',\n",
       " 'COc1ccccc1N1CCN(C(=O)c2ccc([N+](=O)[O-])cc2)CC1',\n",
       " 'COc1ccccc1CC(=O)Nc1ccc(C)cc1',\n",
       " 'O=C(Nc1ccc(S(=O)(=O)N2CCOCC2)cc1)c1cccc(Cl)c1',\n",
       " 'CCCc1nc2ccc(NC(=O)c3ccc(F)cc3)ccnc1-2',\n",
       " 'COC(=O)c1ccc(S(=O)(=O)N2CCN(c3ncccn3)CC2)cc1']"
      ]
     },
     "execution_count": 42,
     "metadata": {},
     "output_type": "execute_result"
    }
   ],
   "source": [
    "A = Generated_Smiles[:len(Generated_Smiles)//2]\n",
    "B = Generated_Smiles[len(Generated_Smiles)//2:]\n",
    "A1 = A[:len(A)//2]\n",
    "A2 = A[len(A)//2:]\n",
    "B1 = B[:len(B)//2]\n",
    "B2 = B[len(B)//2:]\n",
    "\n",
    "Print('The Generated SMILES of compounds with drug lead potential')\n",
    "Generated_Smiles"
   ]
  },
  {
   "cell_type": "markdown",
   "metadata": {},
   "source": [
    "Automated In Silico modelling of interaction of the drug target and compounds not registered on PubChem, generated as drug leads by the generative LSTM model"
   ]
  },
  {
   "cell_type": "code",
   "execution_count": null,
   "metadata": {},
   "outputs": [],
   "source": [
    "\"\"\"Repeated & modified docking procedure for generated, custom smiles\"\"\"\n",
    "#set preparation pathways\n",
    "prepare_protein_path = '~/MGLTools-1.5.6/bin/pythonsh ~/MGLTools-1.5.6/MGLToolsPckgs/AutoDockTools/Utilities24/prepare_receptor4.py -A bonds_hydrogens -U nphs_lps_waters_nonstdres_deleteAltB -r'\n",
    "\n",
    "\"\"\"Class inheriting from Select checking if the residue is aminoacid\"\"\"\n",
    "class ResSelect(Select):\n",
    "    def accept_residue(self, residue):\n",
    "        if is_aa(residue):\n",
    "            return 1\n",
    "        else:\n",
    "            return 0\n",
    "\n",
    "\n",
    "class ProteinPreparer:\n",
    "\n",
    "    def __init__(self, protein: str, dir: str):\n",
    "        self.protein = protein\n",
    "        self.tmpdir = dir\n",
    "        self.filename = self.tmpdir + '/pdb{}.ent'.format(self.protein)\n",
    "\n",
    "    def prepare_protein(self):\n",
    "        parser = PDBParser()\n",
    "        io = PDBIO()\n",
    "        PDBList().retrieve_pdb_file(pdb_code=self.protein, pdir=self.tmpdir,\n",
    "                                    file_format='pdb')  # saves pdb in a form of ent file\n",
    "        ipdb = parser.get_structure('ipdb', self.filename)  # Input pdb as a self.filename\n",
    "        io.set_structure(ipdb)  # Setting structure for input pdb\n",
    "        io.save(self.tmpdir + '/'+self.protein + '.pdb', ResSelect(),\n",
    "                preserve_atom_numbering=True)  # saves the cleaned pdb\n",
    "        os.system(prepare_protein_path + self.tmpdir + '/{}.pdb'.format(\n",
    "            self.protein))  # prepares the structure by adding polar hydrogens and adding gesteiger charges\n",
    "        shutil.move(self.protein + '.pdbqt', self.tmpdir)\n",
    "\n",
    "class ObtainInteractionsFromComplex:\n",
    "    def __init__(self, protein_ligand_complex):\n",
    "        self.cplx = protein_ligand_complex\n",
    "\n",
    "    def connect_retrieve(self):\n",
    "        try:\n",
    "            options = Options()\n",
    "            options.headless = True\n",
    "            plip = webdriver.Firefox(options=options)\n",
    "            plip.get(\"https://projects.biotec.tu-dresden.de/plip-web/plip\")\n",
    "            print(\"Connection to PLIP server successful\")\n",
    "\n",
    "            print(\"Processing file {}\".format(self.cplx))\n",
    "            select_pdb_input = plip.find_element_by_xpath(\n",
    "                \"//*[@id='select-pdb-by-file']\").click()  # Click upload pdb\n",
    "\n",
    "            browse = plip.find_element_by_xpath(\n",
    "                '/html/body/div[1]/div[2]/div/form/div[1]/div[1]/div[3]/input'\n",
    "            ).send_keys(  # search for browse button and choose complex\n",
    "                os.getcwd() + '/{}'.format(self.cplx)\n",
    "            )\n",
    "\n",
    "            send_file = plip.find_element_by_xpath(\"//*[@id='submit']\").click()  # apply operation\n",
    "            time.sleep(10)  # wait for some time by the time connection is stabilized\n",
    "            try:\n",
    "                try:\n",
    "                    open_interactions_1 = plip.find_element_by_xpath(\n",
    "                        '/html/body/div/div[2]/div/div[1]/h2[2]').click()\n",
    "                    open_interactions_2 = plip.find_element_by_xpath(\n",
    "                        '/html/body/div[1]/div[2]/div/div[1]/div[2]/h3').click()\n",
    "                    open_interactions_3 = plip.find_element_by_xpath(\n",
    "                        '/html/body/div[1]/div[2]/div/div[1]/div[2]/div/h4').click()\n",
    "                    pngs = plip.find_elements_by_xpath(\"//a[contains(@href,'.png')]\")\n",
    "                    pymolsessions = plip.find_elements_by_xpath(\"//a[contains(@href,'.pse')]\")\n",
    "\n",
    "                except:\n",
    "                    open_interactions_1 = plip.find_element_by_xpath(\n",
    "                        '/html/body/div[1]/div[2]/div/div[1]/h2[1]').click()\n",
    "                    open_interactions_2 = plip.find_element_by_xpath(\n",
    "                        '/html/body/div[1]/div[2]/div/div[1]/div[1]/h3').click()\n",
    "                    open_interactions_3 = plip.find_element_by_xpath(\n",
    "                        '/html/body/div[1]/div[2]/div/div[1]/div[1]/div/h4').click()\n",
    "                    pngs = plip.find_elements_by_xpath(\"//a[contains(@href,'.png')]\")\n",
    "                    pymolsessions = plip.find_elements_by_xpath(\"//a[contains(@href,'.pse')]\")\n",
    "\n",
    "                for image in pngs:\n",
    "                    print(image.get_attribute(\"href\"))\n",
    "                    output_image = requests.get(image.get_attribute(\"href\"))\n",
    "                    open(\n",
    "                        os.getcwd() + '/results/{}'.format(self.cplx + '.png'), 'wb'\n",
    "                    ).write(output_image.content)\n",
    "                    print(\"Image saved as {}\".format(self.cplx + '.png'))\n",
    "\n",
    "                for pysession in pymolsessions:\n",
    "                    print(pysession.get_attribute(\"href\"))\n",
    "                    pse = requests.get(pysession.get_attribute(\"href\"))\n",
    "                    open(\n",
    "                        os.getcwd() + '/results/{}'.format(self.cplx + '.pse'), 'wb'\n",
    "                    ).write(pse.content)\n",
    "                    print(\"Pymol sessions saved as {}\".format(self.cplx + '.pse'))\n",
    "\n",
    "                restart_plip = plip.find_element_by_xpath('/html/body/div[1]/div[2]/div/p[3]/a').click()\n",
    "                time.sleep(5)\n",
    "\n",
    "            except:\n",
    "                print(\"No interactions found for {} or damaged structure\".format(self.cplx))\n",
    "                try:\n",
    "                    restart_plip = plip.find_element_by_xpath('/html/body/div[1]/div[2]/div/p[3]/a').click()\n",
    "                    time.sleep(5)\n",
    "                except:\n",
    "                    restart_plip = plip.find_element_by_xpath('/html/body/div[1]/div[2]/div[2]/p/a').click()\n",
    "        except Exception as e:\n",
    "            print(e)\n",
    "            pass\n",
    "\n",
    "class SmileVinaDocker:\n",
    "\n",
    "    def __init__(self, ligentry: str, protentry: str, protein_pdbqt: str, ligand_pdbqt: str, dir: str):\n",
    "        self.protein = protein_pdbqt + '.pdbqt'\n",
    "        self.protpdb = protentry + '.pdb'\n",
    "        self.protname = os.path.basename(self.protein)\n",
    "        self.ligand = ligand_pdbqt + '.pdbqt'\n",
    "        self.ligname = os.path.basename(self.ligand)\n",
    "        self.tmpdir = dir\n",
    "        self.docklog = './results/' + protentry + '_' + ligentry + '_docking.log'\n",
    "        self.dockfile =  './results/' + protentry + '_' + ligentry + '.out'\n",
    "        self.complex_name = protentry + '_' + ligentry + '_cplx.pdb'\n",
    "\n",
    "    def dock_merge_plip(self):\n",
    "        df = PandasPdb().read_pdb(self.tmpdir + '/' + self.protpdb)  # opens protein to calculate grid\n",
    "        minx = df.df['ATOM']['x_coord'].min()\n",
    "        maxx = df.df['ATOM']['x_coord'].max()\n",
    "        cent_x = round((maxx + minx) / 2, 2)\n",
    "        size_x = round(abs(maxx - minx) + 3, 2)\n",
    "        miny = df.df['ATOM']['y_coord'].min()\n",
    "        maxy = df.df['ATOM']['y_coord'].max()\n",
    "        cent_y = round((maxy + miny) / 2, 2)\n",
    "        size_y = round(abs(maxy - miny) + 3, 2)\n",
    "        minz = df.df['ATOM']['z_coord'].min()\n",
    "        maxz = df.df['ATOM']['z_coord'].max()\n",
    "        cent_z = round((maxz + minz) / 2, 2)\n",
    "        size_z = round(abs(maxz - minz) + 3, 2)\n",
    "        assert (type(cent_x) != None), \"Protein structure is damaged\"\n",
    "        assert (type(cent_y) != None), \"Protein structure is damaged\"\n",
    "        assert (type(cent_z) != None), \"Protein structure is damaged\"\n",
    "\n",
    "\n",
    "        print(\"Center point of docking grid for {} is as follows: \"\n",
    "              \"x: {}, y: {}, z: {}\".format(self.protein, size_x, size_y, size_z))\n",
    "        print(\"Sizes of docking grid are as follows:\"\n",
    "              \"x: {}, y: {}, z: {}\".format(cent_x, cent_y, cent_z))\n",
    "        os.system(\n",
    "            'vina --receptor {} --ligand \"{}\" --center_x {} --center_y {} --center_z {} --size_x {} --size_y {} --size_z {} --log \"{}\" --out \"{}\"'.format(\n",
    "                self.protein,\n",
    "                self.ligand,\n",
    "                cent_x,\n",
    "                cent_y,\n",
    "                cent_z,\n",
    "                size_x,\n",
    "                size_y,\n",
    "                size_z,\n",
    "                self.docklog,\n",
    "                self.dockfile\n",
    "            ))\n",
    "        \"\"\"Postprocessing of docking files\"\"\"\n",
    "\n",
    "        df.df['ATOM']['segment_id'].replace(r'.{1,}', '', regex=True, inplace=True) # Clean pdbqt inheritance\n",
    "        df.df['ATOM']['blank_4'].replace(r'.{1,}', '', regex=True, inplace=True)\n",
    "        docking_output_df = PandasPdb().read_pdb(self.dockfile)\n",
    "        docking_output_df.df['HETATM'].drop_duplicates(subset='atom_number', keep='first', inplace=True)  # extract first model\n",
    "        docking_output_df.df['HETATM']['segment_id'].replace(r'.{1,}', '', regex=True, inplace=True)\n",
    "        docking_output_df.df['HETATM']['element_symbol'].replace('A', 'C', inplace=True) # OpenBabel fix\n",
    "        docking_output_df.df['HETATM']['blank_4'].replace(r'.{1,}', '', regex=True, inplace=True)  # clean pdbqt inheritance\n",
    "        df.df['ATOM'] = df.df['ATOM'].append(docking_output_df.df['HETATM'], ignore_index=True) # merges the files\n",
    "        df.to_pdb(path = self.complex_name,\n",
    "                  records=['ATOM','HETATM'],\n",
    "                  gz = False,\n",
    "                  append_newline=True)\n",
    "        try:\n",
    "            ObtainInteractionsFromComplex(self.complex_name).connect_retrieve() # PLIP analysis\n",
    "        except:\n",
    "            pass\n",
    "        shutil.move(self.complex_name, './results')\n",
    "\n",
    "#set preparation pathways\n",
    "prepare_ligand_path = '~/MGLTools-1.5.6/bin/pythonsh ~/MGLTools-1.5.6/MGLToolsPckgs/AutoDockTools/Utilities24/prepare_ligand4.py -A bonds_hydrogens -U nphs_lps -l'\n",
    "\n",
    "class SmileLigandPreparer:\n",
    "\n",
    "    def __init__(self, smile: str, dir: str):\n",
    "        self.ligand = smile\n",
    "        self.tmpdir = dir\n",
    "\n",
    "    def prepare_ligand(self):\n",
    "        with open(self.tmpdir+'/'+self.ligand+'.smi', 'w') as smile_input_file:\n",
    "            smile_input_file.write(self.ligand)\n",
    "\n",
    "        os.system('obabel \"{}\" -O \"{}\" --gen3d'.format(\n",
    "            self.tmpdir + '/' + self.ligand + '.smi', self.tmpdir + '/' + self.ligand + 'prep.pdb'))\n",
    "        # generates 3d coords\n",
    "        os.system(\n",
    "            'obminimize -ff GAFF \"{}\" > \"{}\"'.format(\n",
    "                self.tmpdir + '/' + self.ligand + 'prep.pdb', self.tmpdir + '/' + self.ligand + '.pdb'\n",
    "                                                 )\n",
    "        )\n",
    "        #minimizes using GAFF\n",
    "        os.system(prepare_ligand_path + '\"{}\"'.format(self.tmpdir + '/' + self.ligand + '.pdb'\n",
    "                                                    )) # adds charges, sets rotatable bonds\n",
    "        shutil.move(self.ligand + '.pdbqt', self.tmpdir)\n",
    "class PLIP_modifier:\n",
    "    def __init__(self, file):\n",
    "        self.file = file\n",
    "\n",
    "    def customize_plip_pse(self) -> str:\n",
    "        try:\n",
    "            print(f\"Opening the file {self.file}\")\n",
    "            p.cmd.load(self.file)\n",
    "            p.cmd.show(representation=\"sticks\", selection=\" resn UNL\")\n",
    "            p.cmd.show(representation=\"spheres\", selection=\" resn UNL\")\n",
    "            p.cmd.color(color='gray85', selection=\"resn UNL and elem C\")\n",
    "            p.cmd.color(color='red', selection=\"resn UNL and elem O\")\n",
    "            p.cmd.color(color='slate', selection=\"resn UNL and elem N\")\n",
    "            p.cmd.color(color='gray85', selection=\"resn UNL and elem H\")\n",
    "            p.cmd.set('stick_color','black','resn UNL')\n",
    "            p.cmd.set('stick_radius','.01','resn UNL')\n",
    "            p.cmd.set( 'ray_texture', '2')\n",
    "            p.cmd.set( 'antialias', '3')\n",
    "            p.cmd.set( 'sphere_scale', '.25')\n",
    "            p.cmd.set( 'ambient', '0.5')\n",
    "            p.cmd.set( 'sphere_scale', '.13', 'elem H ')\n",
    "            p.cmd.set( 'spec_count', '5')\n",
    "            p.cmd.set( 'bg_rgb','[1, 1, 1]')\n",
    "            p.cmd.set( 'shininess', '50')\n",
    "            p.cmd.set( 'stick_quality', '50')\n",
    "            p.cmd.set( 'specular', '1')\n",
    "            p.cmd.set( 'sphere_quality', '4')\n",
    "            p.cmd.set( 'reflect',' .1')\n",
    "            p.cmd.set( 'ray_trace_mode', '1')\n",
    "            p.cmd.set( 'dash_gap', '0.2')\n",
    "            p.cmd.set( 'dash_color', 'blue')\n",
    "            p.cmd.set( 'dash_gap', '.3')\n",
    "            p.cmd.set( 'dash_length', '.05')\n",
    "            p.cmd.set( 'dash_round_ends', '0')\n",
    "            p.cmd.color(\"grey\", \"resn UNL and e. C\")\n",
    "            p.cmd.label2(\"visible and polymer and n. ca\", \"%s:%s\" % ('resn','resi'))\n",
    "            p.cmd.set( \"label_color\", \"black\")\n",
    "            p.cmd.set( \"label_position\",\"(0,0,5)\")\n",
    "            p.cmd.set( \"label_font_id\", \"7\")\n",
    "            p.cmd.set( \"label_size\", \"-0.7\")\n",
    "            p.cmd.bg_color(\"white\")\n",
    "            p.cmd.set('ray_opaque_background', '1')\n",
    "            p.cmd.save(f\"./results/{self.file}_customized.png\")\n",
    "            p.cmd.save(f\"./results/{self.file}_customized.pse\")\n",
    "            print(f\"File {self.file} successfully converted and saved as _customized\")\n",
    "        except Exception as e:\n",
    "            print(e)\n",
    "            pass\n",
    "\n",
    "\n"
   ]
  },
  {
   "cell_type": "code",
   "execution_count": 36,
   "metadata": {},
   "outputs": [
    {
     "data": {
      "text/plain": [
       "['1A8M']"
      ]
     },
     "execution_count": 36,
     "metadata": {},
     "output_type": "execute_result"
    }
   ],
   "source": [
    "PDB = []\n",
    "PDB.append(list_of_pdbs[0])\n",
    "PDB\n",
    "\n"
   ]
  },
  {
   "cell_type": "code",
   "execution_count": 1,
   "metadata": {},
   "outputs": [],
   "source": [
    "home = os.path.expanduser(\"~\")\n",
    "\n",
    "def execute(PDB_list: list, CID_list: list):\n",
    "    assert (os.path.isdir(\n",
    "        home + '/MGLTools-1.5.6')), \"AutoDockTools not found! Script stopped\"  # check if mgltools are present\n",
    "\n",
    "    for CID_entry in CID_list:\n",
    "        with tempfile.TemporaryDirectory(dir=os.getcwd()) as tmpdir:\n",
    "            SmileLigandPreparer(CID_entry, dir=tmpdir).prepare_ligand()\n",
    "            for PDB_entry in PDB_list:\n",
    "                ProteinPreparer(PDB_entry.lower(), dir=tmpdir).prepare_protein()\n",
    "                SmileVinaDocker(protentry=PDB_entry.lower(),\n",
    "                                           ligentry=CID_entry,\n",
    "                                           protein_pdbqt=tmpdir + '/' + PDB_entry.lower(),\n",
    "                                           ligand_pdbqt=tmpdir + '/' + CID_entry,\n",
    "                                           dir=tmpdir\n",
    "                                           ).dock_merge_plip()\n",
    "\n",
    "                    "
   ]
  },
  {
   "cell_type": "code",
   "execution_count": null,
   "metadata": {},
   "outputs": [],
   "source": [
    "for file in os.listdir('./results/'):\n",
    "    if file.endswith('cplx.pdb.pse'):\n",
    "        PLIP_modifier(file).customize_plip_pse()\n",
    "\n"
   ]
  },
  {
   "cell_type": "code",
   "execution_count": 38,
   "metadata": {},
   "outputs": [
    {
     "name": "stdout",
     "output_type": "stream",
     "text": [
      "Downloading PDB structure '1a8m'...\n"
     ]
    },
    {
     "name": "stderr",
     "output_type": "stream",
     "text": [
      "/home/ben/anaconda3/lib/python3.7/site-packages/Bio/PDB/StructureBuilder.py:92: PDBConstructionWarning: WARNING: Chain A is discontinuous at line 4109.\n",
      "  PDBConstructionWarning,\n",
      "/home/ben/anaconda3/lib/python3.7/site-packages/Bio/PDB/StructureBuilder.py:92: PDBConstructionWarning: WARNING: Chain B is discontinuous at line 4125.\n",
      "  PDBConstructionWarning,\n",
      "/home/ben/anaconda3/lib/python3.7/site-packages/Bio/PDB/StructureBuilder.py:92: PDBConstructionWarning: WARNING: Chain C is discontinuous at line 4150.\n",
      "  PDBConstructionWarning,\n"
     ]
    },
    {
     "name": "stdout",
     "output_type": "stream",
     "text": [
      "Center point of docking grid for /home/ben/Documents/Target2DeNovoDrug/tmpz9tzsxwl/1a8m.pdbqt is as follows: x: 64.23, y: 65.34, z: 63.32\n",
      "Sizes of docking grid are as follows:x: 20.25, y: 50.86, z: 41.17\n",
      "Connection to PLIP server successful\n",
      "Processing file 1a8m_O=C(Cc1ccc(Cl)cn1)c1ccc(Cl)c(S(=O)(=O)N2CCOCC2)c1_cplx.pdb\n",
      "No interactions found for 1a8m_O=C(Cc1ccc(Cl)cn1)c1ccc(Cl)c(S(=O)(=O)N2CCOCC2)c1_cplx.pdb or damaged structure\n",
      "Message: Unable to locate element: /html/body/div[1]/div[2]/div[2]/p/a\n",
      "\n",
      "Downloading PDB structure '1a8m'...\n"
     ]
    },
    {
     "name": "stderr",
     "output_type": "stream",
     "text": [
      "/home/ben/anaconda3/lib/python3.7/site-packages/Bio/PDB/StructureBuilder.py:92: PDBConstructionWarning: WARNING: Chain A is discontinuous at line 4109.\n",
      "  PDBConstructionWarning,\n",
      "/home/ben/anaconda3/lib/python3.7/site-packages/Bio/PDB/StructureBuilder.py:92: PDBConstructionWarning: WARNING: Chain B is discontinuous at line 4125.\n",
      "  PDBConstructionWarning,\n",
      "/home/ben/anaconda3/lib/python3.7/site-packages/Bio/PDB/StructureBuilder.py:92: PDBConstructionWarning: WARNING: Chain C is discontinuous at line 4150.\n",
      "  PDBConstructionWarning,\n"
     ]
    },
    {
     "name": "stdout",
     "output_type": "stream",
     "text": [
      "Center point of docking grid for /home/ben/Documents/Target2DeNovoDrug/tmp06gio67_/1a8m.pdbqt is as follows: x: 64.23, y: 65.34, z: 63.32\n",
      "Sizes of docking grid are as follows:x: 20.25, y: 50.86, z: 41.17\n",
      "Connection to PLIP server successful\n",
      "Processing file 1a8m_COC(=O)c1ccccc1C(=O)N1CCN(C2CCc3ccccc3S2)CC1_cplx.pdb\n",
      "No interactions found for 1a8m_COC(=O)c1ccccc1C(=O)N1CCN(C2CCc3ccccc3S2)CC1_cplx.pdb or damaged structure\n",
      "Message: Unable to locate element: /html/body/div[1]/div[2]/div[2]/p/a\n",
      "\n",
      "Downloading PDB structure '1a8m'...\n"
     ]
    },
    {
     "name": "stderr",
     "output_type": "stream",
     "text": [
      "/home/ben/anaconda3/lib/python3.7/site-packages/Bio/PDB/StructureBuilder.py:92: PDBConstructionWarning: WARNING: Chain A is discontinuous at line 4109.\n",
      "  PDBConstructionWarning,\n",
      "/home/ben/anaconda3/lib/python3.7/site-packages/Bio/PDB/StructureBuilder.py:92: PDBConstructionWarning: WARNING: Chain B is discontinuous at line 4125.\n",
      "  PDBConstructionWarning,\n",
      "/home/ben/anaconda3/lib/python3.7/site-packages/Bio/PDB/StructureBuilder.py:92: PDBConstructionWarning: WARNING: Chain C is discontinuous at line 4150.\n",
      "  PDBConstructionWarning,\n"
     ]
    },
    {
     "name": "stdout",
     "output_type": "stream",
     "text": [
      "Center point of docking grid for /home/ben/Documents/Target2DeNovoDrug/tmpz33amlye/1a8m.pdbqt is as follows: x: 64.23, y: 65.34, z: 63.32\n",
      "Sizes of docking grid are as follows:x: 20.25, y: 50.86, z: 41.17\n",
      "Connection to PLIP server successful\n",
      "Processing file 1a8m_CCC1CCCCC1C(=O)CSC1=NC2=CC=C(OCc3ccccc3)C2=C1_cplx.pdb\n",
      "No interactions found for 1a8m_CCC1CCCCC1C(=O)CSC1=NC2=CC=C(OCc3ccccc3)C2=C1_cplx.pdb or damaged structure\n",
      "Message: Unable to locate element: /html/body/div[1]/div[2]/div[2]/p/a\n",
      "\n",
      "Downloading PDB structure '1a8m'...\n"
     ]
    },
    {
     "name": "stderr",
     "output_type": "stream",
     "text": [
      "/home/ben/anaconda3/lib/python3.7/site-packages/Bio/PDB/StructureBuilder.py:92: PDBConstructionWarning: WARNING: Chain A is discontinuous at line 4109.\n",
      "  PDBConstructionWarning,\n",
      "/home/ben/anaconda3/lib/python3.7/site-packages/Bio/PDB/StructureBuilder.py:92: PDBConstructionWarning: WARNING: Chain B is discontinuous at line 4125.\n",
      "  PDBConstructionWarning,\n",
      "/home/ben/anaconda3/lib/python3.7/site-packages/Bio/PDB/StructureBuilder.py:92: PDBConstructionWarning: WARNING: Chain C is discontinuous at line 4150.\n",
      "  PDBConstructionWarning,\n"
     ]
    },
    {
     "name": "stdout",
     "output_type": "stream",
     "text": [
      "Center point of docking grid for /home/ben/Documents/Target2DeNovoDrug/tmpcbv0diri/1a8m.pdbqt is as follows: x: 64.23, y: 65.34, z: 63.32\n",
      "Sizes of docking grid are as follows:x: 20.25, y: 50.86, z: 41.17\n",
      "Connection to PLIP server successful\n",
      "Processing file 1a8m_Cc1ccccc1NC(=S)NNc1ncc(C(F)(F)F)cc1Cl_cplx.pdb\n",
      "No interactions found for 1a8m_Cc1ccccc1NC(=S)NNc1ncc(C(F)(F)F)cc1Cl_cplx.pdb or damaged structure\n",
      "Message: Unable to locate element: /html/body/div[1]/div[2]/div[2]/p/a\n",
      "\n",
      "Downloading PDB structure '1a8m'...\n"
     ]
    },
    {
     "name": "stderr",
     "output_type": "stream",
     "text": [
      "/home/ben/anaconda3/lib/python3.7/site-packages/Bio/PDB/StructureBuilder.py:92: PDBConstructionWarning: WARNING: Chain A is discontinuous at line 4109.\n",
      "  PDBConstructionWarning,\n",
      "/home/ben/anaconda3/lib/python3.7/site-packages/Bio/PDB/StructureBuilder.py:92: PDBConstructionWarning: WARNING: Chain B is discontinuous at line 4125.\n",
      "  PDBConstructionWarning,\n",
      "/home/ben/anaconda3/lib/python3.7/site-packages/Bio/PDB/StructureBuilder.py:92: PDBConstructionWarning: WARNING: Chain C is discontinuous at line 4150.\n",
      "  PDBConstructionWarning,\n"
     ]
    },
    {
     "name": "stdout",
     "output_type": "stream",
     "text": [
      "Center point of docking grid for /home/ben/Documents/Target2DeNovoDrug/tmpy0cywpl9/1a8m.pdbqt is as follows: x: 64.23, y: 65.34, z: 63.32\n",
      "Sizes of docking grid are as follows:x: 20.25, y: 50.86, z: 41.17\n",
      "Connection to PLIP server successful\n",
      "Processing file 1a8m_CCOC(=O)c1ccccc1C(=O)c1ccccc1C(F)(F)F_cplx.pdb\n",
      "No interactions found for 1a8m_CCOC(=O)c1ccccc1C(=O)c1ccccc1C(F)(F)F_cplx.pdb or damaged structure\n",
      "Message: Unable to locate element: /html/body/div[1]/div[2]/div[2]/p/a\n",
      "\n",
      "Downloading PDB structure '1a8m'...\n"
     ]
    },
    {
     "name": "stderr",
     "output_type": "stream",
     "text": [
      "/home/ben/anaconda3/lib/python3.7/site-packages/Bio/PDB/StructureBuilder.py:92: PDBConstructionWarning: WARNING: Chain A is discontinuous at line 4109.\n",
      "  PDBConstructionWarning,\n",
      "/home/ben/anaconda3/lib/python3.7/site-packages/Bio/PDB/StructureBuilder.py:92: PDBConstructionWarning: WARNING: Chain B is discontinuous at line 4125.\n",
      "  PDBConstructionWarning,\n",
      "/home/ben/anaconda3/lib/python3.7/site-packages/Bio/PDB/StructureBuilder.py:92: PDBConstructionWarning: WARNING: Chain C is discontinuous at line 4150.\n",
      "  PDBConstructionWarning,\n"
     ]
    },
    {
     "name": "stdout",
     "output_type": "stream",
     "text": [
      "Center point of docking grid for /home/ben/Documents/Target2DeNovoDrug/tmp3hb6ucb3/1a8m.pdbqt is as follows: x: 64.23, y: 65.34, z: 63.32\n",
      "Sizes of docking grid are as follows:x: 20.25, y: 50.86, z: 41.17\n",
      "Connection to PLIP server successful\n",
      "Processing file 1a8m_COc1ccc(CC(=O)c2cc(C)n(Cc3ccccc3)c2C)cc1_cplx.pdb\n",
      "No interactions found for 1a8m_COc1ccc(CC(=O)c2cc(C)n(Cc3ccccc3)c2C)cc1_cplx.pdb or damaged structure\n",
      "Message: Unable to locate element: /html/body/div[1]/div[2]/div[2]/p/a\n",
      "\n",
      "Downloading PDB structure '1a8m'...\n"
     ]
    },
    {
     "name": "stderr",
     "output_type": "stream",
     "text": [
      "/home/ben/anaconda3/lib/python3.7/site-packages/Bio/PDB/StructureBuilder.py:92: PDBConstructionWarning: WARNING: Chain A is discontinuous at line 4109.\n",
      "  PDBConstructionWarning,\n",
      "/home/ben/anaconda3/lib/python3.7/site-packages/Bio/PDB/StructureBuilder.py:92: PDBConstructionWarning: WARNING: Chain B is discontinuous at line 4125.\n",
      "  PDBConstructionWarning,\n",
      "/home/ben/anaconda3/lib/python3.7/site-packages/Bio/PDB/StructureBuilder.py:92: PDBConstructionWarning: WARNING: Chain C is discontinuous at line 4150.\n",
      "  PDBConstructionWarning,\n"
     ]
    },
    {
     "name": "stdout",
     "output_type": "stream",
     "text": [
      "Center point of docking grid for /home/ben/Documents/Target2DeNovoDrug/tmpb1mflw3x/1a8m.pdbqt is as follows: x: 64.23, y: 65.34, z: 63.32\n",
      "Sizes of docking grid are as follows:x: 20.25, y: 50.86, z: 41.17\n",
      "Connection to PLIP server successful\n",
      "Processing file 1a8m_COc1ccc(C(=O)c2cc(C)n(Cc3cccs3)c2)cc1_cplx.pdb\n",
      "No interactions found for 1a8m_COc1ccc(C(=O)c2cc(C)n(Cc3cccs3)c2)cc1_cplx.pdb or damaged structure\n",
      "Message: Unable to locate element: /html/body/div[1]/div[2]/div[2]/p/a\n",
      "\n",
      "Downloading PDB structure '1a8m'...\n"
     ]
    },
    {
     "name": "stderr",
     "output_type": "stream",
     "text": [
      "/home/ben/anaconda3/lib/python3.7/site-packages/Bio/PDB/StructureBuilder.py:92: PDBConstructionWarning: WARNING: Chain A is discontinuous at line 4109.\n",
      "  PDBConstructionWarning,\n",
      "/home/ben/anaconda3/lib/python3.7/site-packages/Bio/PDB/StructureBuilder.py:92: PDBConstructionWarning: WARNING: Chain B is discontinuous at line 4125.\n",
      "  PDBConstructionWarning,\n",
      "/home/ben/anaconda3/lib/python3.7/site-packages/Bio/PDB/StructureBuilder.py:92: PDBConstructionWarning: WARNING: Chain C is discontinuous at line 4150.\n",
      "  PDBConstructionWarning,\n"
     ]
    },
    {
     "name": "stdout",
     "output_type": "stream",
     "text": [
      "Center point of docking grid for /home/ben/Documents/Target2DeNovoDrug/tmpgypyq444/1a8m.pdbqt is as follows: x: 64.23, y: 65.34, z: 63.32\n",
      "Sizes of docking grid are as follows:x: 20.25, y: 50.86, z: 41.17\n",
      "Connection to PLIP server successful\n",
      "Processing file 1a8m_COc1cc(-c2cc3ccccc3sc2=O)ccc1NC(=O)c1ccccc1OC_cplx.pdb\n",
      "No interactions found for 1a8m_COc1cc(-c2cc3ccccc3sc2=O)ccc1NC(=O)c1ccccc1OC_cplx.pdb or damaged structure\n",
      "Message: Unable to locate element: /html/body/div[1]/div[2]/div[2]/p/a\n",
      "\n",
      "Downloading PDB structure '1a8m'...\n"
     ]
    },
    {
     "name": "stderr",
     "output_type": "stream",
     "text": [
      "/home/ben/anaconda3/lib/python3.7/site-packages/Bio/PDB/StructureBuilder.py:92: PDBConstructionWarning: WARNING: Chain A is discontinuous at line 4109.\n",
      "  PDBConstructionWarning,\n",
      "/home/ben/anaconda3/lib/python3.7/site-packages/Bio/PDB/StructureBuilder.py:92: PDBConstructionWarning: WARNING: Chain B is discontinuous at line 4125.\n",
      "  PDBConstructionWarning,\n",
      "/home/ben/anaconda3/lib/python3.7/site-packages/Bio/PDB/StructureBuilder.py:92: PDBConstructionWarning: WARNING: Chain C is discontinuous at line 4150.\n",
      "  PDBConstructionWarning,\n"
     ]
    },
    {
     "name": "stdout",
     "output_type": "stream",
     "text": [
      "Center point of docking grid for /home/ben/Documents/Target2DeNovoDrug/tmpwdaz7nyu/1a8m.pdbqt is as follows: x: 64.23, y: 65.34, z: 63.32\n",
      "Sizes of docking grid are as follows:x: 20.25, y: 50.86, z: 41.17\n",
      "Connection to PLIP server successful\n",
      "Processing file 1a8m_CC(C)(C)c1nn(CCC(=O)Nc2ccccc2)c2ccccc12_cplx.pdb\n",
      "No interactions found for 1a8m_CC(C)(C)c1nn(CCC(=O)Nc2ccccc2)c2ccccc12_cplx.pdb or damaged structure\n",
      "Message: Unable to locate element: /html/body/div[1]/div[2]/div[2]/p/a\n",
      "\n",
      "Downloading PDB structure '1a8m'...\n"
     ]
    },
    {
     "name": "stderr",
     "output_type": "stream",
     "text": [
      "/home/ben/anaconda3/lib/python3.7/site-packages/Bio/PDB/StructureBuilder.py:92: PDBConstructionWarning: WARNING: Chain A is discontinuous at line 4109.\n",
      "  PDBConstructionWarning,\n",
      "/home/ben/anaconda3/lib/python3.7/site-packages/Bio/PDB/StructureBuilder.py:92: PDBConstructionWarning: WARNING: Chain B is discontinuous at line 4125.\n",
      "  PDBConstructionWarning,\n",
      "/home/ben/anaconda3/lib/python3.7/site-packages/Bio/PDB/StructureBuilder.py:92: PDBConstructionWarning: WARNING: Chain C is discontinuous at line 4150.\n",
      "  PDBConstructionWarning,\n"
     ]
    },
    {
     "name": "stdout",
     "output_type": "stream",
     "text": [
      "Center point of docking grid for /home/ben/Documents/Target2DeNovoDrug/tmpsw6ij_bi/1a8m.pdbqt is as follows: x: 64.23, y: 65.34, z: 63.32\n",
      "Sizes of docking grid are as follows:x: 20.25, y: 50.86, z: 41.17\n",
      "Connection to PLIP server successful\n",
      "Processing file 1a8m_Cc1ccc(C(=O)CNc2ncc(-c3ccccc3)s2)cc1_cplx.pdb\n",
      "No interactions found for 1a8m_Cc1ccc(C(=O)CNc2ncc(-c3ccccc3)s2)cc1_cplx.pdb or damaged structure\n",
      "Message: Unable to locate element: /html/body/div[1]/div[2]/div[2]/p/a\n",
      "\n",
      "Downloading PDB structure '1a8m'...\n"
     ]
    },
    {
     "name": "stderr",
     "output_type": "stream",
     "text": [
      "/home/ben/anaconda3/lib/python3.7/site-packages/Bio/PDB/StructureBuilder.py:92: PDBConstructionWarning: WARNING: Chain A is discontinuous at line 4109.\n",
      "  PDBConstructionWarning,\n",
      "/home/ben/anaconda3/lib/python3.7/site-packages/Bio/PDB/StructureBuilder.py:92: PDBConstructionWarning: WARNING: Chain B is discontinuous at line 4125.\n",
      "  PDBConstructionWarning,\n",
      "/home/ben/anaconda3/lib/python3.7/site-packages/Bio/PDB/StructureBuilder.py:92: PDBConstructionWarning: WARNING: Chain C is discontinuous at line 4150.\n",
      "  PDBConstructionWarning,\n"
     ]
    },
    {
     "name": "stdout",
     "output_type": "stream",
     "text": [
      "Center point of docking grid for /home/ben/Documents/Target2DeNovoDrug/tmp4huczt6m/1a8m.pdbqt is as follows: x: 64.23, y: 65.34, z: 63.32\n",
      "Sizes of docking grid are as follows:x: 20.25, y: 50.86, z: 41.17\n",
      "Connection to PLIP server successful\n",
      "Processing file 1a8m_CC(=O)Nc1ccc(C(=O)Nc2ccc(C(F)(F)F)cc2)cc1_cplx.pdb\n",
      "No interactions found for 1a8m_CC(=O)Nc1ccc(C(=O)Nc2ccc(C(F)(F)F)cc2)cc1_cplx.pdb or damaged structure\n",
      "Message: Unable to locate element: /html/body/div[1]/div[2]/div[2]/p/a\n",
      "\n",
      "Downloading PDB structure '1a8m'...\n"
     ]
    },
    {
     "name": "stderr",
     "output_type": "stream",
     "text": [
      "/home/ben/anaconda3/lib/python3.7/site-packages/Bio/PDB/StructureBuilder.py:92: PDBConstructionWarning: WARNING: Chain A is discontinuous at line 4109.\n",
      "  PDBConstructionWarning,\n",
      "/home/ben/anaconda3/lib/python3.7/site-packages/Bio/PDB/StructureBuilder.py:92: PDBConstructionWarning: WARNING: Chain B is discontinuous at line 4125.\n",
      "  PDBConstructionWarning,\n",
      "/home/ben/anaconda3/lib/python3.7/site-packages/Bio/PDB/StructureBuilder.py:92: PDBConstructionWarning: WARNING: Chain C is discontinuous at line 4150.\n",
      "  PDBConstructionWarning,\n"
     ]
    },
    {
     "name": "stdout",
     "output_type": "stream",
     "text": [
      "Center point of docking grid for /home/ben/Documents/Target2DeNovoDrug/tmpew98wevf/1a8m.pdbqt is as follows: x: 64.23, y: 65.34, z: 63.32\n",
      "Sizes of docking grid are as follows:x: 20.25, y: 50.86, z: 41.17\n",
      "Connection to PLIP server successful\n",
      "Processing file 1a8m_Cn1c(=O)c2c(nc(N3CCCC(O)C3)n2Cc2ccccc2)n(C)c1=O_cplx.pdb\n",
      "No interactions found for 1a8m_Cn1c(=O)c2c(nc(N3CCCC(O)C3)n2Cc2ccccc2)n(C)c1=O_cplx.pdb or damaged structure\n",
      "Message: Unable to locate element: /html/body/div[1]/div[2]/div[2]/p/a\n",
      "\n",
      "Downloading PDB structure '1a8m'...\n"
     ]
    },
    {
     "name": "stderr",
     "output_type": "stream",
     "text": [
      "/home/ben/anaconda3/lib/python3.7/site-packages/Bio/PDB/StructureBuilder.py:92: PDBConstructionWarning: WARNING: Chain A is discontinuous at line 4109.\n",
      "  PDBConstructionWarning,\n",
      "/home/ben/anaconda3/lib/python3.7/site-packages/Bio/PDB/StructureBuilder.py:92: PDBConstructionWarning: WARNING: Chain B is discontinuous at line 4125.\n",
      "  PDBConstructionWarning,\n",
      "/home/ben/anaconda3/lib/python3.7/site-packages/Bio/PDB/StructureBuilder.py:92: PDBConstructionWarning: WARNING: Chain C is discontinuous at line 4150.\n",
      "  PDBConstructionWarning,\n"
     ]
    },
    {
     "name": "stdout",
     "output_type": "stream",
     "text": [
      "Center point of docking grid for /home/ben/Documents/Target2DeNovoDrug/tmpthsy2nw8/1a8m.pdbqt is as follows: x: 64.23, y: 65.34, z: 63.32\n",
      "Sizes of docking grid are as follows:x: 20.25, y: 50.86, z: 41.17\n",
      "Connection to PLIP server successful\n",
      "Processing file 1a8m_Cc1ccc(S(=O)(=O)Nc2ccc(C(=O)Nc3ccccc3C)cc2)cc1_cplx.pdb\n",
      "No interactions found for 1a8m_Cc1ccc(S(=O)(=O)Nc2ccc(C(=O)Nc3ccccc3C)cc2)cc1_cplx.pdb or damaged structure\n",
      "Message: Unable to locate element: /html/body/div[1]/div[2]/div[2]/p/a\n",
      "\n",
      "Downloading PDB structure '1a8m'...\n"
     ]
    },
    {
     "name": "stderr",
     "output_type": "stream",
     "text": [
      "/home/ben/anaconda3/lib/python3.7/site-packages/Bio/PDB/StructureBuilder.py:92: PDBConstructionWarning: WARNING: Chain A is discontinuous at line 4109.\n",
      "  PDBConstructionWarning,\n",
      "/home/ben/anaconda3/lib/python3.7/site-packages/Bio/PDB/StructureBuilder.py:92: PDBConstructionWarning: WARNING: Chain B is discontinuous at line 4125.\n",
      "  PDBConstructionWarning,\n",
      "/home/ben/anaconda3/lib/python3.7/site-packages/Bio/PDB/StructureBuilder.py:92: PDBConstructionWarning: WARNING: Chain C is discontinuous at line 4150.\n",
      "  PDBConstructionWarning,\n"
     ]
    },
    {
     "name": "stdout",
     "output_type": "stream",
     "text": [
      "Center point of docking grid for /home/ben/Documents/Target2DeNovoDrug/tmp4u0dk658/1a8m.pdbqt is as follows: x: 64.23, y: 65.34, z: 63.32\n",
      "Sizes of docking grid are as follows:x: 20.25, y: 50.86, z: 41.17\n",
      "Connection to PLIP server successful\n",
      "Processing file 1a8m_C=CCN1Sc2cc(C(C)C)nnc2NC(=O)c2ccccc2S1(=O)=O_cplx.pdb\n",
      "No interactions found for 1a8m_C=CCN1Sc2cc(C(C)C)nnc2NC(=O)c2ccccc2S1(=O)=O_cplx.pdb or damaged structure\n",
      "Message: Unable to locate element: /html/body/div[1]/div[2]/div[2]/p/a\n",
      "\n",
      "Downloading PDB structure '1a8m'...\n"
     ]
    },
    {
     "name": "stderr",
     "output_type": "stream",
     "text": [
      "/home/ben/anaconda3/lib/python3.7/site-packages/Bio/PDB/StructureBuilder.py:92: PDBConstructionWarning: WARNING: Chain A is discontinuous at line 4109.\n",
      "  PDBConstructionWarning,\n",
      "/home/ben/anaconda3/lib/python3.7/site-packages/Bio/PDB/StructureBuilder.py:92: PDBConstructionWarning: WARNING: Chain B is discontinuous at line 4125.\n",
      "  PDBConstructionWarning,\n",
      "/home/ben/anaconda3/lib/python3.7/site-packages/Bio/PDB/StructureBuilder.py:92: PDBConstructionWarning: WARNING: Chain C is discontinuous at line 4150.\n",
      "  PDBConstructionWarning,\n"
     ]
    },
    {
     "name": "stdout",
     "output_type": "stream",
     "text": [
      "Center point of docking grid for /home/ben/Documents/Target2DeNovoDrug/tmpdbcl87u9/1a8m.pdbqt is as follows: x: 64.23, y: 65.34, z: 63.32\n",
      "Sizes of docking grid are as follows:x: 20.25, y: 50.86, z: 41.17\n",
      "Connection to PLIP server successful\n",
      "Processing file 1a8m_CCCCCCC(=O)Nc1cc(-c2ccc(Cl)cc2)cs1_cplx.pdb\n",
      "No interactions found for 1a8m_CCCCCCC(=O)Nc1cc(-c2ccc(Cl)cc2)cs1_cplx.pdb or damaged structure\n",
      "Message: Unable to locate element: /html/body/div[1]/div[2]/div[2]/p/a\n",
      "\n",
      "Downloading PDB structure '1a8m'...\n"
     ]
    },
    {
     "name": "stderr",
     "output_type": "stream",
     "text": [
      "/home/ben/anaconda3/lib/python3.7/site-packages/Bio/PDB/StructureBuilder.py:92: PDBConstructionWarning: WARNING: Chain A is discontinuous at line 4109.\n",
      "  PDBConstructionWarning,\n",
      "/home/ben/anaconda3/lib/python3.7/site-packages/Bio/PDB/StructureBuilder.py:92: PDBConstructionWarning: WARNING: Chain B is discontinuous at line 4125.\n",
      "  PDBConstructionWarning,\n",
      "/home/ben/anaconda3/lib/python3.7/site-packages/Bio/PDB/StructureBuilder.py:92: PDBConstructionWarning: WARNING: Chain C is discontinuous at line 4150.\n",
      "  PDBConstructionWarning,\n"
     ]
    },
    {
     "name": "stdout",
     "output_type": "stream",
     "text": [
      "Center point of docking grid for /home/ben/Documents/Target2DeNovoDrug/tmp6b7v5qxx/1a8m.pdbqt is as follows: x: 64.23, y: 65.34, z: 63.32\n",
      "Sizes of docking grid are as follows:x: 20.25, y: 50.86, z: 41.17\n",
      "Connection to PLIP server successful\n",
      "Processing file 1a8m_COc1ccc(NC(=O)c2ccccc2Oc2ccc(C)cc2)cc1_cplx.pdb\n",
      "No interactions found for 1a8m_COc1ccc(NC(=O)c2ccccc2Oc2ccc(C)cc2)cc1_cplx.pdb or damaged structure\n",
      "Message: Unable to locate element: /html/body/div[1]/div[2]/div[2]/p/a\n",
      "\n",
      "Downloading PDB structure '1a8m'...\n"
     ]
    },
    {
     "name": "stderr",
     "output_type": "stream",
     "text": [
      "/home/ben/anaconda3/lib/python3.7/site-packages/Bio/PDB/StructureBuilder.py:92: PDBConstructionWarning: WARNING: Chain A is discontinuous at line 4109.\n",
      "  PDBConstructionWarning,\n",
      "/home/ben/anaconda3/lib/python3.7/site-packages/Bio/PDB/StructureBuilder.py:92: PDBConstructionWarning: WARNING: Chain B is discontinuous at line 4125.\n",
      "  PDBConstructionWarning,\n",
      "/home/ben/anaconda3/lib/python3.7/site-packages/Bio/PDB/StructureBuilder.py:92: PDBConstructionWarning: WARNING: Chain C is discontinuous at line 4150.\n",
      "  PDBConstructionWarning,\n"
     ]
    },
    {
     "name": "stdout",
     "output_type": "stream",
     "text": [
      "Center point of docking grid for /home/ben/Documents/Target2DeNovoDrug/tmpebrebgqd/1a8m.pdbqt is as follows: x: 64.23, y: 65.34, z: 63.32\n",
      "Sizes of docking grid are as follows:x: 20.25, y: 50.86, z: 41.17\n",
      "Connection to PLIP server successful\n",
      "Processing file 1a8m_CC(C)(C)Cc1ccc(-c2csc(NC(=O)c3ccc(C(=O)O)cc3)n2)cc1_cplx.pdb\n",
      "No interactions found for 1a8m_CC(C)(C)Cc1ccc(-c2csc(NC(=O)c3ccc(C(=O)O)cc3)n2)cc1_cplx.pdb or damaged structure\n",
      "Message: Unable to locate element: /html/body/div[1]/div[2]/div[2]/p/a\n",
      "\n",
      "Downloading PDB structure '1a8m'...\n"
     ]
    },
    {
     "name": "stderr",
     "output_type": "stream",
     "text": [
      "/home/ben/anaconda3/lib/python3.7/site-packages/Bio/PDB/StructureBuilder.py:92: PDBConstructionWarning: WARNING: Chain A is discontinuous at line 4109.\n",
      "  PDBConstructionWarning,\n",
      "/home/ben/anaconda3/lib/python3.7/site-packages/Bio/PDB/StructureBuilder.py:92: PDBConstructionWarning: WARNING: Chain B is discontinuous at line 4125.\n",
      "  PDBConstructionWarning,\n",
      "/home/ben/anaconda3/lib/python3.7/site-packages/Bio/PDB/StructureBuilder.py:92: PDBConstructionWarning: WARNING: Chain C is discontinuous at line 4150.\n",
      "  PDBConstructionWarning,\n"
     ]
    },
    {
     "name": "stdout",
     "output_type": "stream",
     "text": [
      "Center point of docking grid for /home/ben/Documents/Target2DeNovoDrug/tmpb5r5x89l/1a8m.pdbqt is as follows: x: 64.23, y: 65.34, z: 63.32\n",
      "Sizes of docking grid are as follows:x: 20.25, y: 50.86, z: 41.17\n",
      "Connection to PLIP server successful\n",
      "Processing file 1a8m_CC(=O)c1ccc(NC(=O)c2cccc([N+](=O)[O-])c2)cc1_cplx.pdb\n",
      "No interactions found for 1a8m_CC(=O)c1ccc(NC(=O)c2cccc([N+](=O)[O-])c2)cc1_cplx.pdb or damaged structure\n",
      "Message: Unable to locate element: /html/body/div[1]/div[2]/div[2]/p/a\n",
      "\n",
      "Downloading PDB structure '1a8m'...\n"
     ]
    },
    {
     "name": "stderr",
     "output_type": "stream",
     "text": [
      "/home/ben/anaconda3/lib/python3.7/site-packages/Bio/PDB/StructureBuilder.py:92: PDBConstructionWarning: WARNING: Chain A is discontinuous at line 4109.\n",
      "  PDBConstructionWarning,\n",
      "/home/ben/anaconda3/lib/python3.7/site-packages/Bio/PDB/StructureBuilder.py:92: PDBConstructionWarning: WARNING: Chain B is discontinuous at line 4125.\n",
      "  PDBConstructionWarning,\n",
      "/home/ben/anaconda3/lib/python3.7/site-packages/Bio/PDB/StructureBuilder.py:92: PDBConstructionWarning: WARNING: Chain C is discontinuous at line 4150.\n",
      "  PDBConstructionWarning,\n"
     ]
    },
    {
     "name": "stdout",
     "output_type": "stream",
     "text": [
      "Center point of docking grid for /home/ben/Documents/Target2DeNovoDrug/tmp749n3lbx/1a8m.pdbqt is as follows: x: 64.23, y: 65.34, z: 63.32\n",
      "Sizes of docking grid are as follows:x: 20.25, y: 50.86, z: 41.17\n",
      "Connection to PLIP server successful\n",
      "Processing file 1a8m_CCN(c1ccccc1)S(=O)(=O)c1ccc(C(=O)Nc2ccc3c(c2)OCCO3)cc1_cplx.pdb\n",
      "No interactions found for 1a8m_CCN(c1ccccc1)S(=O)(=O)c1ccc(C(=O)Nc2ccc3c(c2)OCCO3)cc1_cplx.pdb or damaged structure\n",
      "Message: Unable to locate element: /html/body/div[1]/div[2]/div[2]/p/a\n",
      "\n",
      "Downloading PDB structure '1a8m'...\n"
     ]
    },
    {
     "name": "stderr",
     "output_type": "stream",
     "text": [
      "/home/ben/anaconda3/lib/python3.7/site-packages/Bio/PDB/StructureBuilder.py:92: PDBConstructionWarning: WARNING: Chain A is discontinuous at line 4109.\n",
      "  PDBConstructionWarning,\n",
      "/home/ben/anaconda3/lib/python3.7/site-packages/Bio/PDB/StructureBuilder.py:92: PDBConstructionWarning: WARNING: Chain B is discontinuous at line 4125.\n",
      "  PDBConstructionWarning,\n",
      "/home/ben/anaconda3/lib/python3.7/site-packages/Bio/PDB/StructureBuilder.py:92: PDBConstructionWarning: WARNING: Chain C is discontinuous at line 4150.\n",
      "  PDBConstructionWarning,\n"
     ]
    },
    {
     "name": "stdout",
     "output_type": "stream",
     "text": [
      "Center point of docking grid for /home/ben/Documents/Target2DeNovoDrug/tmpr7is5stk/1a8m.pdbqt is as follows: x: 64.23, y: 65.34, z: 63.32\n",
      "Sizes of docking grid are as follows:x: 20.25, y: 50.86, z: 41.17\n",
      "Connection to PLIP server successful\n",
      "Processing file 1a8m_COc1ccc(-c2nnc(N(C)C)s2)cc1_cplx.pdb\n",
      "https://projects.biotec.tu-dresden.de/plip-web/plip/download/429a893e-c4ed-43e3-aa1c-779522669fc1?filePath=outputs%2F1A8M_COC1CCC_C2NNCNCCS2CC1_CPLX_PROTEIN_UNL_Z_1.png\n",
      "Image saved as 1a8m_COc1ccc(-c2nnc(N(C)C)s2)cc1_cplx.pdb.png\n",
      "https://projects.biotec.tu-dresden.de/plip-web/plip/download/429a893e-c4ed-43e3-aa1c-779522669fc1?filePath=outputs%2F1A8M_COC1CCC_C2NNCNCCS2CC1_CPLX_PROTEIN_UNL_Z_1.pse\n",
      "Pymol sessions saved as 1a8m_COc1ccc(-c2nnc(N(C)C)s2)cc1_cplx.pdb.pse\n",
      "Downloading PDB structure '1a8m'...\n"
     ]
    },
    {
     "name": "stderr",
     "output_type": "stream",
     "text": [
      "/home/ben/anaconda3/lib/python3.7/site-packages/Bio/PDB/StructureBuilder.py:92: PDBConstructionWarning: WARNING: Chain A is discontinuous at line 4109.\n",
      "  PDBConstructionWarning,\n",
      "/home/ben/anaconda3/lib/python3.7/site-packages/Bio/PDB/StructureBuilder.py:92: PDBConstructionWarning: WARNING: Chain B is discontinuous at line 4125.\n",
      "  PDBConstructionWarning,\n",
      "/home/ben/anaconda3/lib/python3.7/site-packages/Bio/PDB/StructureBuilder.py:92: PDBConstructionWarning: WARNING: Chain C is discontinuous at line 4150.\n",
      "  PDBConstructionWarning,\n"
     ]
    },
    {
     "name": "stdout",
     "output_type": "stream",
     "text": [
      "Center point of docking grid for /home/ben/Documents/Target2DeNovoDrug/tmpku7hzfad/1a8m.pdbqt is as follows: x: 64.23, y: 65.34, z: 63.32\n",
      "Sizes of docking grid are as follows:x: 20.25, y: 50.86, z: 41.17\n",
      "Connection to PLIP server successful\n",
      "Processing file 1a8m_Cc1ccccc1NC(=O)c1cccc(CS(=O)(=O)c2ccccc2)c1_cplx.pdb\n",
      "No interactions found for 1a8m_Cc1ccccc1NC(=O)c1cccc(CS(=O)(=O)c2ccccc2)c1_cplx.pdb or damaged structure\n",
      "Message: Unable to locate element: /html/body/div[1]/div[2]/div[2]/p/a\n",
      "\n",
      "Downloading PDB structure '1a8m'...\n"
     ]
    },
    {
     "name": "stderr",
     "output_type": "stream",
     "text": [
      "/home/ben/anaconda3/lib/python3.7/site-packages/Bio/PDB/StructureBuilder.py:92: PDBConstructionWarning: WARNING: Chain A is discontinuous at line 4109.\n",
      "  PDBConstructionWarning,\n",
      "/home/ben/anaconda3/lib/python3.7/site-packages/Bio/PDB/StructureBuilder.py:92: PDBConstructionWarning: WARNING: Chain B is discontinuous at line 4125.\n",
      "  PDBConstructionWarning,\n",
      "/home/ben/anaconda3/lib/python3.7/site-packages/Bio/PDB/StructureBuilder.py:92: PDBConstructionWarning: WARNING: Chain C is discontinuous at line 4150.\n",
      "  PDBConstructionWarning,\n"
     ]
    },
    {
     "name": "stdout",
     "output_type": "stream",
     "text": [
      "Center point of docking grid for /home/ben/Documents/Target2DeNovoDrug/tmpw5pjf24q/1a8m.pdbqt is as follows: x: 64.23, y: 65.34, z: 63.32\n",
      "Sizes of docking grid are as follows:x: 20.25, y: 50.86, z: 41.17\n",
      "Connection to PLIP server successful\n",
      "Processing file 1a8m_CN(C)CC(=O)Nc1ccc(S(=O)(=O)N2CCCCC2)cc1_cplx.pdb\n",
      "No interactions found for 1a8m_CN(C)CC(=O)Nc1ccc(S(=O)(=O)N2CCCCC2)cc1_cplx.pdb or damaged structure\n",
      "Message: Unable to locate element: /html/body/div[1]/div[2]/div[2]/p/a\n",
      "\n",
      "Downloading PDB structure '1a8m'...\n"
     ]
    },
    {
     "name": "stderr",
     "output_type": "stream",
     "text": [
      "/home/ben/anaconda3/lib/python3.7/site-packages/Bio/PDB/StructureBuilder.py:92: PDBConstructionWarning: WARNING: Chain A is discontinuous at line 4109.\n",
      "  PDBConstructionWarning,\n",
      "/home/ben/anaconda3/lib/python3.7/site-packages/Bio/PDB/StructureBuilder.py:92: PDBConstructionWarning: WARNING: Chain B is discontinuous at line 4125.\n",
      "  PDBConstructionWarning,\n",
      "/home/ben/anaconda3/lib/python3.7/site-packages/Bio/PDB/StructureBuilder.py:92: PDBConstructionWarning: WARNING: Chain C is discontinuous at line 4150.\n",
      "  PDBConstructionWarning,\n"
     ]
    },
    {
     "name": "stdout",
     "output_type": "stream",
     "text": [
      "Center point of docking grid for /home/ben/Documents/Target2DeNovoDrug/tmp1imlu3yg/1a8m.pdbqt is as follows: x: 64.23, y: 65.34, z: 63.32\n",
      "Sizes of docking grid are as follows:x: 20.25, y: 50.86, z: 41.17\n",
      "Connection to PLIP server successful\n",
      "Processing file 1a8m_COc1ccc(NC(=O)c2cccc([N+](=O)[O-])c2)cc1OC_cplx.pdb\n",
      "No interactions found for 1a8m_COc1ccc(NC(=O)c2cccc([N+](=O)[O-])c2)cc1OC_cplx.pdb or damaged structure\n",
      "Message: Unable to locate element: /html/body/div[1]/div[2]/div[2]/p/a\n",
      "\n",
      "Downloading PDB structure '1a8m'...\n"
     ]
    },
    {
     "name": "stderr",
     "output_type": "stream",
     "text": [
      "/home/ben/anaconda3/lib/python3.7/site-packages/Bio/PDB/StructureBuilder.py:92: PDBConstructionWarning: WARNING: Chain A is discontinuous at line 4109.\n",
      "  PDBConstructionWarning,\n",
      "/home/ben/anaconda3/lib/python3.7/site-packages/Bio/PDB/StructureBuilder.py:92: PDBConstructionWarning: WARNING: Chain B is discontinuous at line 4125.\n",
      "  PDBConstructionWarning,\n",
      "/home/ben/anaconda3/lib/python3.7/site-packages/Bio/PDB/StructureBuilder.py:92: PDBConstructionWarning: WARNING: Chain C is discontinuous at line 4150.\n",
      "  PDBConstructionWarning,\n"
     ]
    },
    {
     "name": "stdout",
     "output_type": "stream",
     "text": [
      "Center point of docking grid for /home/ben/Documents/Target2DeNovoDrug/tmpwpezyp4u/1a8m.pdbqt is as follows: x: 64.23, y: 65.34, z: 63.32\n",
      "Sizes of docking grid are as follows:x: 20.25, y: 50.86, z: 41.17\n",
      "Connection to PLIP server successful\n",
      "Processing file 1a8m_Cc1ccccc1NC(=S)Nc1ccc(C(F)(F)F)cc1_cplx.pdb\n",
      "No interactions found for 1a8m_Cc1ccccc1NC(=S)Nc1ccc(C(F)(F)F)cc1_cplx.pdb or damaged structure\n",
      "Message: Unable to locate element: /html/body/div[1]/div[2]/div[2]/p/a\n",
      "\n",
      "Downloading PDB structure '1a8m'...\n"
     ]
    },
    {
     "name": "stderr",
     "output_type": "stream",
     "text": [
      "/home/ben/anaconda3/lib/python3.7/site-packages/Bio/PDB/StructureBuilder.py:92: PDBConstructionWarning: WARNING: Chain A is discontinuous at line 4109.\n",
      "  PDBConstructionWarning,\n",
      "/home/ben/anaconda3/lib/python3.7/site-packages/Bio/PDB/StructureBuilder.py:92: PDBConstructionWarning: WARNING: Chain B is discontinuous at line 4125.\n",
      "  PDBConstructionWarning,\n",
      "/home/ben/anaconda3/lib/python3.7/site-packages/Bio/PDB/StructureBuilder.py:92: PDBConstructionWarning: WARNING: Chain C is discontinuous at line 4150.\n",
      "  PDBConstructionWarning,\n"
     ]
    },
    {
     "name": "stdout",
     "output_type": "stream",
     "text": [
      "Center point of docking grid for /home/ben/Documents/Target2DeNovoDrug/tmpu9vw3fqx/1a8m.pdbqt is as follows: x: 64.23, y: 65.34, z: 63.32\n",
      "Sizes of docking grid are as follows:x: 20.25, y: 50.86, z: 41.17\n",
      "Connection to PLIP server successful\n",
      "Processing file 1a8m_O=C(N=Cc1ccccc1)c1cccc(S(=O)(=O)N2CCCCC2)c1_cplx.pdb\n",
      "No interactions found for 1a8m_O=C(N=Cc1ccccc1)c1cccc(S(=O)(=O)N2CCCCC2)c1_cplx.pdb or damaged structure\n",
      "Message: Unable to locate element: /html/body/div[1]/div[2]/div[2]/p/a\n",
      "\n",
      "Downloading PDB structure '1a8m'...\n"
     ]
    },
    {
     "name": "stderr",
     "output_type": "stream",
     "text": [
      "/home/ben/anaconda3/lib/python3.7/site-packages/Bio/PDB/StructureBuilder.py:92: PDBConstructionWarning: WARNING: Chain A is discontinuous at line 4109.\n",
      "  PDBConstructionWarning,\n",
      "/home/ben/anaconda3/lib/python3.7/site-packages/Bio/PDB/StructureBuilder.py:92: PDBConstructionWarning: WARNING: Chain B is discontinuous at line 4125.\n",
      "  PDBConstructionWarning,\n",
      "/home/ben/anaconda3/lib/python3.7/site-packages/Bio/PDB/StructureBuilder.py:92: PDBConstructionWarning: WARNING: Chain C is discontinuous at line 4150.\n",
      "  PDBConstructionWarning,\n"
     ]
    },
    {
     "name": "stdout",
     "output_type": "stream",
     "text": [
      "Center point of docking grid for /home/ben/Documents/Target2DeNovoDrug/tmpqzusvtp6/1a8m.pdbqt is as follows: x: 64.23, y: 65.34, z: 63.32\n",
      "Sizes of docking grid are as follows:x: 20.25, y: 50.86, z: 41.17\n",
      "Connection to PLIP server successful\n",
      "Processing file 1a8m_CC(=O)c1nc(NC(=O)NSc2nc(-c3ccccc3)cs2)cc(C)c1C_cplx.pdb\n",
      "No interactions found for 1a8m_CC(=O)c1nc(NC(=O)NSc2nc(-c3ccccc3)cs2)cc(C)c1C_cplx.pdb or damaged structure\n",
      "Message: Unable to locate element: /html/body/div[1]/div[2]/div[2]/p/a\n",
      "\n",
      "Downloading PDB structure '1a8m'...\n"
     ]
    },
    {
     "name": "stderr",
     "output_type": "stream",
     "text": [
      "/home/ben/anaconda3/lib/python3.7/site-packages/Bio/PDB/StructureBuilder.py:92: PDBConstructionWarning: WARNING: Chain A is discontinuous at line 4109.\n",
      "  PDBConstructionWarning,\n",
      "/home/ben/anaconda3/lib/python3.7/site-packages/Bio/PDB/StructureBuilder.py:92: PDBConstructionWarning: WARNING: Chain B is discontinuous at line 4125.\n",
      "  PDBConstructionWarning,\n",
      "/home/ben/anaconda3/lib/python3.7/site-packages/Bio/PDB/StructureBuilder.py:92: PDBConstructionWarning: WARNING: Chain C is discontinuous at line 4150.\n",
      "  PDBConstructionWarning,\n"
     ]
    },
    {
     "name": "stdout",
     "output_type": "stream",
     "text": [
      "Center point of docking grid for /home/ben/Documents/Target2DeNovoDrug/tmp1bs5xyiy/1a8m.pdbqt is as follows: x: 64.23, y: 65.34, z: 63.32\n",
      "Sizes of docking grid are as follows:x: 20.25, y: 50.86, z: 41.17\n",
      "Connection to PLIP server successful\n",
      "Processing file 1a8m_COc1ccccc1C(=O)Nc1ccc2oc(-c3ccccc3)nc2c1_cplx.pdb\n",
      "No interactions found for 1a8m_COc1ccccc1C(=O)Nc1ccc2oc(-c3ccccc3)nc2c1_cplx.pdb or damaged structure\n",
      "Message: Unable to locate element: /html/body/div[1]/div[2]/div[2]/p/a\n",
      "\n",
      "Downloading PDB structure '1a8m'...\n"
     ]
    },
    {
     "name": "stderr",
     "output_type": "stream",
     "text": [
      "/home/ben/anaconda3/lib/python3.7/site-packages/Bio/PDB/StructureBuilder.py:92: PDBConstructionWarning: WARNING: Chain A is discontinuous at line 4109.\n",
      "  PDBConstructionWarning,\n",
      "/home/ben/anaconda3/lib/python3.7/site-packages/Bio/PDB/StructureBuilder.py:92: PDBConstructionWarning: WARNING: Chain B is discontinuous at line 4125.\n",
      "  PDBConstructionWarning,\n",
      "/home/ben/anaconda3/lib/python3.7/site-packages/Bio/PDB/StructureBuilder.py:92: PDBConstructionWarning: WARNING: Chain C is discontinuous at line 4150.\n",
      "  PDBConstructionWarning,\n"
     ]
    },
    {
     "name": "stdout",
     "output_type": "stream",
     "text": [
      "Center point of docking grid for /home/ben/Documents/Target2DeNovoDrug/tmph8w7lmyw/1a8m.pdbqt is as follows: x: 64.23, y: 65.34, z: 63.32\n",
      "Sizes of docking grid are as follows:x: 20.25, y: 50.86, z: 41.17\n",
      "Connection to PLIP server successful\n",
      "Processing file 1a8m_Cc1ccc(C)c(N2CCN(c3ncnc4scc(-c5ccccc5)c34)CC2)c1_cplx.pdb\n",
      "https://projects.biotec.tu-dresden.de/plip-web/plip/download/eb49c207-599b-44e8-a2e9-577ab0c7766c?filePath=outputs%2F1A8M_CC1CCCCCN2CCNC3NCNC4SCC_C5CCCCC5C34CC2C1_CPLX_PROTEIN_UNL_Z_1.png\n",
      "Image saved as 1a8m_Cc1ccc(C)c(N2CCN(c3ncnc4scc(-c5ccccc5)c34)CC2)c1_cplx.pdb.png\n",
      "https://projects.biotec.tu-dresden.de/plip-web/plip/download/eb49c207-599b-44e8-a2e9-577ab0c7766c?filePath=outputs%2F1A8M_CC1CCCCCN2CCNC3NCNC4SCC_C5CCCCC5C34CC2C1_CPLX_PROTEIN_UNL_Z_1.pse\n",
      "Pymol sessions saved as 1a8m_Cc1ccc(C)c(N2CCN(c3ncnc4scc(-c5ccccc5)c34)CC2)c1_cplx.pdb.pse\n",
      "Downloading PDB structure '1a8m'...\n"
     ]
    },
    {
     "name": "stderr",
     "output_type": "stream",
     "text": [
      "/home/ben/anaconda3/lib/python3.7/site-packages/Bio/PDB/StructureBuilder.py:92: PDBConstructionWarning: WARNING: Chain A is discontinuous at line 4109.\n",
      "  PDBConstructionWarning,\n",
      "/home/ben/anaconda3/lib/python3.7/site-packages/Bio/PDB/StructureBuilder.py:92: PDBConstructionWarning: WARNING: Chain B is discontinuous at line 4125.\n",
      "  PDBConstructionWarning,\n",
      "/home/ben/anaconda3/lib/python3.7/site-packages/Bio/PDB/StructureBuilder.py:92: PDBConstructionWarning: WARNING: Chain C is discontinuous at line 4150.\n",
      "  PDBConstructionWarning,\n"
     ]
    },
    {
     "name": "stdout",
     "output_type": "stream",
     "text": [
      "Center point of docking grid for /home/ben/Documents/Target2DeNovoDrug/tmpm0_9fop3/1a8m.pdbqt is as follows: x: 64.23, y: 65.34, z: 63.32\n",
      "Sizes of docking grid are as follows:x: 20.25, y: 50.86, z: 41.17\n",
      "Connection to PLIP server successful\n",
      "Processing file 1a8m_Cc1cccc(C(=O)Nc2ccc(C(F)(F)F)cc2)c1_cplx.pdb\n",
      "No interactions found for 1a8m_Cc1cccc(C(=O)Nc2ccc(C(F)(F)F)cc2)c1_cplx.pdb or damaged structure\n",
      "Message: Unable to locate element: /html/body/div[1]/div[2]/div[2]/p/a\n",
      "\n",
      "Downloading PDB structure '1a8m'...\n"
     ]
    },
    {
     "name": "stderr",
     "output_type": "stream",
     "text": [
      "/home/ben/anaconda3/lib/python3.7/site-packages/Bio/PDB/StructureBuilder.py:92: PDBConstructionWarning: WARNING: Chain A is discontinuous at line 4109.\n",
      "  PDBConstructionWarning,\n",
      "/home/ben/anaconda3/lib/python3.7/site-packages/Bio/PDB/StructureBuilder.py:92: PDBConstructionWarning: WARNING: Chain B is discontinuous at line 4125.\n",
      "  PDBConstructionWarning,\n",
      "/home/ben/anaconda3/lib/python3.7/site-packages/Bio/PDB/StructureBuilder.py:92: PDBConstructionWarning: WARNING: Chain C is discontinuous at line 4150.\n",
      "  PDBConstructionWarning,\n"
     ]
    },
    {
     "name": "stdout",
     "output_type": "stream",
     "text": [
      "Center point of docking grid for /home/ben/Documents/Target2DeNovoDrug/tmps8rpsb20/1a8m.pdbqt is as follows: x: 64.23, y: 65.34, z: 63.32\n",
      "Sizes of docking grid are as follows:x: 20.25, y: 50.86, z: 41.17\n",
      "Connection to PLIP server successful\n",
      "Processing file 1a8m_CCCCCCCCC(=O)Nc1ccc(C(=O)Nc2cccc(F)c2)cc1_cplx.pdb\n",
      "No interactions found for 1a8m_CCCCCCCCC(=O)Nc1ccc(C(=O)Nc2cccc(F)c2)cc1_cplx.pdb or damaged structure\n",
      "Message: Unable to locate element: /html/body/div[1]/div[2]/div[2]/p/a\n",
      "\n",
      "Downloading PDB structure '1a8m'...\n"
     ]
    },
    {
     "name": "stderr",
     "output_type": "stream",
     "text": [
      "/home/ben/anaconda3/lib/python3.7/site-packages/Bio/PDB/StructureBuilder.py:92: PDBConstructionWarning: WARNING: Chain A is discontinuous at line 4109.\n",
      "  PDBConstructionWarning,\n",
      "/home/ben/anaconda3/lib/python3.7/site-packages/Bio/PDB/StructureBuilder.py:92: PDBConstructionWarning: WARNING: Chain B is discontinuous at line 4125.\n",
      "  PDBConstructionWarning,\n",
      "/home/ben/anaconda3/lib/python3.7/site-packages/Bio/PDB/StructureBuilder.py:92: PDBConstructionWarning: WARNING: Chain C is discontinuous at line 4150.\n",
      "  PDBConstructionWarning,\n"
     ]
    },
    {
     "name": "stdout",
     "output_type": "stream",
     "text": [
      "Center point of docking grid for /home/ben/Documents/Target2DeNovoDrug/tmp955ala58/1a8m.pdbqt is as follows: x: 64.23, y: 65.34, z: 63.32\n",
      "Sizes of docking grid are as follows:x: 20.25, y: 50.86, z: 41.17\n",
      "Connection to PLIP server successful\n",
      "Processing file 1a8m_CCCCCCCCCCCCC(=O)Nc1ccc2oc(-c3ccccc3)nc2c1_cplx.pdb\n",
      "No interactions found for 1a8m_CCCCCCCCCCCCC(=O)Nc1ccc2oc(-c3ccccc3)nc2c1_cplx.pdb or damaged structure\n",
      "Message: Unable to locate element: /html/body/div[1]/div[2]/div[2]/p/a\n",
      "\n",
      "Downloading PDB structure '1a8m'...\n"
     ]
    },
    {
     "name": "stderr",
     "output_type": "stream",
     "text": [
      "/home/ben/anaconda3/lib/python3.7/site-packages/Bio/PDB/StructureBuilder.py:92: PDBConstructionWarning: WARNING: Chain A is discontinuous at line 4109.\n",
      "  PDBConstructionWarning,\n",
      "/home/ben/anaconda3/lib/python3.7/site-packages/Bio/PDB/StructureBuilder.py:92: PDBConstructionWarning: WARNING: Chain B is discontinuous at line 4125.\n",
      "  PDBConstructionWarning,\n",
      "/home/ben/anaconda3/lib/python3.7/site-packages/Bio/PDB/StructureBuilder.py:92: PDBConstructionWarning: WARNING: Chain C is discontinuous at line 4150.\n",
      "  PDBConstructionWarning,\n"
     ]
    },
    {
     "name": "stdout",
     "output_type": "stream",
     "text": [
      "Center point of docking grid for /home/ben/Documents/Target2DeNovoDrug/tmpoxhch0oq/1a8m.pdbqt is as follows: x: 64.23, y: 65.34, z: 63.32\n",
      "Sizes of docking grid are as follows:x: 20.25, y: 50.86, z: 41.17\n",
      "Connection to PLIP server successful\n",
      "Processing file 1a8m_O=C(CCl)Nc1ccc(CS(=O)(=O)c2cccc(Cl)c2)cc1_cplx.pdb\n",
      "No interactions found for 1a8m_O=C(CCl)Nc1ccc(CS(=O)(=O)c2cccc(Cl)c2)cc1_cplx.pdb or damaged structure\n",
      "Message: Unable to locate element: /html/body/div[1]/div[2]/div[2]/p/a\n",
      "\n",
      "Downloading PDB structure '1a8m'...\n"
     ]
    },
    {
     "name": "stderr",
     "output_type": "stream",
     "text": [
      "/home/ben/anaconda3/lib/python3.7/site-packages/Bio/PDB/StructureBuilder.py:92: PDBConstructionWarning: WARNING: Chain A is discontinuous at line 4109.\n",
      "  PDBConstructionWarning,\n",
      "/home/ben/anaconda3/lib/python3.7/site-packages/Bio/PDB/StructureBuilder.py:92: PDBConstructionWarning: WARNING: Chain B is discontinuous at line 4125.\n",
      "  PDBConstructionWarning,\n",
      "/home/ben/anaconda3/lib/python3.7/site-packages/Bio/PDB/StructureBuilder.py:92: PDBConstructionWarning: WARNING: Chain C is discontinuous at line 4150.\n",
      "  PDBConstructionWarning,\n"
     ]
    },
    {
     "name": "stdout",
     "output_type": "stream",
     "text": [
      "Center point of docking grid for /home/ben/Documents/Target2DeNovoDrug/tmp1nb0bgsm/1a8m.pdbqt is as follows: x: 64.23, y: 65.34, z: 63.32\n",
      "Sizes of docking grid are as follows:x: 20.25, y: 50.86, z: 41.17\n",
      "Connection to PLIP server successful\n",
      "Processing file 1a8m_CC(=O)Nc1ccc(S(=O)(=O)N2CCN(Cc3ccccc3)CC2)cc1S(=O)(=O)N1CCCCC1_cplx.pdb\n",
      "No interactions found for 1a8m_CC(=O)Nc1ccc(S(=O)(=O)N2CCN(Cc3ccccc3)CC2)cc1S(=O)(=O)N1CCCCC1_cplx.pdb or damaged structure\n",
      "Message: Unable to locate element: /html/body/div[1]/div[2]/div[2]/p/a\n",
      "\n",
      "Downloading PDB structure '1a8m'...\n"
     ]
    },
    {
     "name": "stderr",
     "output_type": "stream",
     "text": [
      "/home/ben/anaconda3/lib/python3.7/site-packages/Bio/PDB/StructureBuilder.py:92: PDBConstructionWarning: WARNING: Chain A is discontinuous at line 4109.\n",
      "  PDBConstructionWarning,\n",
      "/home/ben/anaconda3/lib/python3.7/site-packages/Bio/PDB/StructureBuilder.py:92: PDBConstructionWarning: WARNING: Chain B is discontinuous at line 4125.\n",
      "  PDBConstructionWarning,\n",
      "/home/ben/anaconda3/lib/python3.7/site-packages/Bio/PDB/StructureBuilder.py:92: PDBConstructionWarning: WARNING: Chain C is discontinuous at line 4150.\n",
      "  PDBConstructionWarning,\n"
     ]
    },
    {
     "name": "stdout",
     "output_type": "stream",
     "text": [
      "Center point of docking grid for /home/ben/Documents/Target2DeNovoDrug/tmpv6wy6yp3/1a8m.pdbqt is as follows: x: 64.23, y: 65.34, z: 63.32\n",
      "Sizes of docking grid are as follows:x: 20.25, y: 50.86, z: 41.17\n",
      "Connection to PLIP server successful\n",
      "Processing file 1a8m_Cc1ccc(Nc2nc3c(c(=O)n(C)c(=O)n3C)n2Cc2ccccc2)cc1_cplx.pdb\n",
      "No interactions found for 1a8m_Cc1ccc(Nc2nc3c(c(=O)n(C)c(=O)n3C)n2Cc2ccccc2)cc1_cplx.pdb or damaged structure\n",
      "Message: Unable to locate element: /html/body/div[1]/div[2]/div[2]/p/a\n",
      "\n",
      "Downloading PDB structure '1a8m'...\n"
     ]
    },
    {
     "name": "stderr",
     "output_type": "stream",
     "text": [
      "/home/ben/anaconda3/lib/python3.7/site-packages/Bio/PDB/StructureBuilder.py:92: PDBConstructionWarning: WARNING: Chain A is discontinuous at line 4109.\n",
      "  PDBConstructionWarning,\n",
      "/home/ben/anaconda3/lib/python3.7/site-packages/Bio/PDB/StructureBuilder.py:92: PDBConstructionWarning: WARNING: Chain B is discontinuous at line 4125.\n",
      "  PDBConstructionWarning,\n",
      "/home/ben/anaconda3/lib/python3.7/site-packages/Bio/PDB/StructureBuilder.py:92: PDBConstructionWarning: WARNING: Chain C is discontinuous at line 4150.\n",
      "  PDBConstructionWarning,\n"
     ]
    },
    {
     "name": "stdout",
     "output_type": "stream",
     "text": [
      "Center point of docking grid for /home/ben/Documents/Target2DeNovoDrug/tmpvyz5ds4a/1a8m.pdbqt is as follows: x: 64.23, y: 65.34, z: 63.32\n",
      "Sizes of docking grid are as follows:x: 20.25, y: 50.86, z: 41.17\n",
      "Connection to PLIP server successful\n",
      "Processing file 1a8m_COc1ccccc1NC(=O)c1ccc(Cl)c(S(=O)(=O)N2CCCC2)c1_cplx.pdb\n",
      "No interactions found for 1a8m_COc1ccccc1NC(=O)c1ccc(Cl)c(S(=O)(=O)N2CCCC2)c1_cplx.pdb or damaged structure\n",
      "Message: Unable to locate element: /html/body/div[1]/div[2]/div[2]/p/a\n",
      "\n",
      "Downloading PDB structure '1a8m'...\n"
     ]
    },
    {
     "name": "stderr",
     "output_type": "stream",
     "text": [
      "/home/ben/anaconda3/lib/python3.7/site-packages/Bio/PDB/StructureBuilder.py:92: PDBConstructionWarning: WARNING: Chain A is discontinuous at line 4109.\n",
      "  PDBConstructionWarning,\n",
      "/home/ben/anaconda3/lib/python3.7/site-packages/Bio/PDB/StructureBuilder.py:92: PDBConstructionWarning: WARNING: Chain B is discontinuous at line 4125.\n",
      "  PDBConstructionWarning,\n",
      "/home/ben/anaconda3/lib/python3.7/site-packages/Bio/PDB/StructureBuilder.py:92: PDBConstructionWarning: WARNING: Chain C is discontinuous at line 4150.\n",
      "  PDBConstructionWarning,\n"
     ]
    },
    {
     "name": "stdout",
     "output_type": "stream",
     "text": [
      "Center point of docking grid for /home/ben/Documents/Target2DeNovoDrug/tmp4eunxoce/1a8m.pdbqt is as follows: x: 64.23, y: 65.34, z: 63.32\n",
      "Sizes of docking grid are as follows:x: 20.25, y: 50.86, z: 41.17\n",
      "Connection to PLIP server successful\n",
      "Processing file 1a8m_COc1ccc(CNC(=O)C(=Cc2ccccc2)c2ccccc2)cc1_cplx.pdb\n",
      "No interactions found for 1a8m_COc1ccc(CNC(=O)C(=Cc2ccccc2)c2ccccc2)cc1_cplx.pdb or damaged structure\n",
      "Message: Unable to locate element: /html/body/div[1]/div[2]/div[2]/p/a\n",
      "\n",
      "Downloading PDB structure '1a8m'...\n"
     ]
    },
    {
     "name": "stderr",
     "output_type": "stream",
     "text": [
      "/home/ben/anaconda3/lib/python3.7/site-packages/Bio/PDB/StructureBuilder.py:92: PDBConstructionWarning: WARNING: Chain A is discontinuous at line 4109.\n",
      "  PDBConstructionWarning,\n",
      "/home/ben/anaconda3/lib/python3.7/site-packages/Bio/PDB/StructureBuilder.py:92: PDBConstructionWarning: WARNING: Chain B is discontinuous at line 4125.\n",
      "  PDBConstructionWarning,\n",
      "/home/ben/anaconda3/lib/python3.7/site-packages/Bio/PDB/StructureBuilder.py:92: PDBConstructionWarning: WARNING: Chain C is discontinuous at line 4150.\n",
      "  PDBConstructionWarning,\n"
     ]
    },
    {
     "name": "stdout",
     "output_type": "stream",
     "text": [
      "Center point of docking grid for /home/ben/Documents/Target2DeNovoDrug/tmpiwxlnj8c/1a8m.pdbqt is as follows: x: 64.23, y: 65.34, z: 63.32\n",
      "Sizes of docking grid are as follows:x: 20.25, y: 50.86, z: 41.17\n",
      "Connection to PLIP server successful\n",
      "Processing file 1a8m_O=C(Cc1ccccc1)Nc1ccc(S(=O)(=O)N2CCOCC2)cc1_cplx.pdb\n",
      "No interactions found for 1a8m_O=C(Cc1ccccc1)Nc1ccc(S(=O)(=O)N2CCOCC2)cc1_cplx.pdb or damaged structure\n",
      "Message: Unable to locate element: /html/body/div[1]/div[2]/div[2]/p/a\n",
      "\n",
      "Downloading PDB structure '1a8m'...\n"
     ]
    },
    {
     "name": "stderr",
     "output_type": "stream",
     "text": [
      "/home/ben/anaconda3/lib/python3.7/site-packages/Bio/PDB/StructureBuilder.py:92: PDBConstructionWarning: WARNING: Chain A is discontinuous at line 4109.\n",
      "  PDBConstructionWarning,\n",
      "/home/ben/anaconda3/lib/python3.7/site-packages/Bio/PDB/StructureBuilder.py:92: PDBConstructionWarning: WARNING: Chain B is discontinuous at line 4125.\n",
      "  PDBConstructionWarning,\n",
      "/home/ben/anaconda3/lib/python3.7/site-packages/Bio/PDB/StructureBuilder.py:92: PDBConstructionWarning: WARNING: Chain C is discontinuous at line 4150.\n",
      "  PDBConstructionWarning,\n"
     ]
    },
    {
     "name": "stdout",
     "output_type": "stream",
     "text": [
      "Center point of docking grid for /home/ben/Documents/Target2DeNovoDrug/tmp_4zpvn0d/1a8m.pdbqt is as follows: x: 64.23, y: 65.34, z: 63.32\n",
      "Sizes of docking grid are as follows:x: 20.25, y: 50.86, z: 41.17\n",
      "Connection to PLIP server successful\n",
      "Processing file 1a8m_CC(=O)Nc1ccc(S(=O)(=O)Nc2cccc(Br)c2)cc1_cplx.pdb\n",
      "No interactions found for 1a8m_CC(=O)Nc1ccc(S(=O)(=O)Nc2cccc(Br)c2)cc1_cplx.pdb or damaged structure\n",
      "Message: Unable to locate element: /html/body/div[1]/div[2]/div[2]/p/a\n",
      "\n",
      "Downloading PDB structure '1a8m'...\n"
     ]
    },
    {
     "name": "stderr",
     "output_type": "stream",
     "text": [
      "/home/ben/anaconda3/lib/python3.7/site-packages/Bio/PDB/StructureBuilder.py:92: PDBConstructionWarning: WARNING: Chain A is discontinuous at line 4109.\n",
      "  PDBConstructionWarning,\n",
      "/home/ben/anaconda3/lib/python3.7/site-packages/Bio/PDB/StructureBuilder.py:92: PDBConstructionWarning: WARNING: Chain B is discontinuous at line 4125.\n",
      "  PDBConstructionWarning,\n",
      "/home/ben/anaconda3/lib/python3.7/site-packages/Bio/PDB/StructureBuilder.py:92: PDBConstructionWarning: WARNING: Chain C is discontinuous at line 4150.\n",
      "  PDBConstructionWarning,\n"
     ]
    },
    {
     "name": "stdout",
     "output_type": "stream",
     "text": [
      "Center point of docking grid for /home/ben/Documents/Target2DeNovoDrug/tmp2penj845/1a8m.pdbqt is as follows: x: 64.23, y: 65.34, z: 63.32\n",
      "Sizes of docking grid are as follows:x: 20.25, y: 50.86, z: 41.17\n",
      "Connection to PLIP server successful\n",
      "Processing file 1a8m_Cc1cccc(NC(=S)NSc2nc3ccccc3s2)c1C_cplx.pdb\n",
      "No interactions found for 1a8m_Cc1cccc(NC(=S)NSc2nc3ccccc3s2)c1C_cplx.pdb or damaged structure\n",
      "Message: Unable to locate element: /html/body/div[1]/div[2]/div[2]/p/a\n",
      "\n",
      "Downloading PDB structure '1a8m'...\n"
     ]
    },
    {
     "name": "stderr",
     "output_type": "stream",
     "text": [
      "/home/ben/anaconda3/lib/python3.7/site-packages/Bio/PDB/StructureBuilder.py:92: PDBConstructionWarning: WARNING: Chain A is discontinuous at line 4109.\n",
      "  PDBConstructionWarning,\n",
      "/home/ben/anaconda3/lib/python3.7/site-packages/Bio/PDB/StructureBuilder.py:92: PDBConstructionWarning: WARNING: Chain B is discontinuous at line 4125.\n",
      "  PDBConstructionWarning,\n",
      "/home/ben/anaconda3/lib/python3.7/site-packages/Bio/PDB/StructureBuilder.py:92: PDBConstructionWarning: WARNING: Chain C is discontinuous at line 4150.\n",
      "  PDBConstructionWarning,\n"
     ]
    },
    {
     "name": "stdout",
     "output_type": "stream",
     "text": [
      "Center point of docking grid for /home/ben/Documents/Target2DeNovoDrug/tmptzo00nct/1a8m.pdbqt is as follows: x: 64.23, y: 65.34, z: 63.32\n",
      "Sizes of docking grid are as follows:x: 20.25, y: 50.86, z: 41.17\n",
      "Connection to PLIP server successful\n",
      "Processing file 1a8m_CC(=O)N1CCN(c2ncnc3scc(-c4ccccc4)c23)CC1_cplx.pdb\n",
      "No interactions found for 1a8m_CC(=O)N1CCN(c2ncnc3scc(-c4ccccc4)c23)CC1_cplx.pdb or damaged structure\n",
      "Message: Unable to locate element: /html/body/div[1]/div[2]/div[2]/p/a\n",
      "\n",
      "Downloading PDB structure '1a8m'...\n"
     ]
    },
    {
     "name": "stderr",
     "output_type": "stream",
     "text": [
      "/home/ben/anaconda3/lib/python3.7/site-packages/Bio/PDB/StructureBuilder.py:92: PDBConstructionWarning: WARNING: Chain A is discontinuous at line 4109.\n",
      "  PDBConstructionWarning,\n",
      "/home/ben/anaconda3/lib/python3.7/site-packages/Bio/PDB/StructureBuilder.py:92: PDBConstructionWarning: WARNING: Chain B is discontinuous at line 4125.\n",
      "  PDBConstructionWarning,\n",
      "/home/ben/anaconda3/lib/python3.7/site-packages/Bio/PDB/StructureBuilder.py:92: PDBConstructionWarning: WARNING: Chain C is discontinuous at line 4150.\n",
      "  PDBConstructionWarning,\n"
     ]
    },
    {
     "name": "stdout",
     "output_type": "stream",
     "text": [
      "Center point of docking grid for /home/ben/Documents/Target2DeNovoDrug/tmpvd17o5ht/1a8m.pdbqt is as follows: x: 64.23, y: 65.34, z: 63.32\n",
      "Sizes of docking grid are as follows:x: 20.25, y: 50.86, z: 41.17\n",
      "Connection to PLIP server successful\n",
      "Processing file 1a8m_COc1cc(C=C2SC(=O)NC2=O)ccc1OCCc1ccccc1_cplx.pdb\n",
      "No interactions found for 1a8m_COc1cc(C=C2SC(=O)NC2=O)ccc1OCCc1ccccc1_cplx.pdb or damaged structure\n",
      "Message: Unable to locate element: /html/body/div[1]/div[2]/div[2]/p/a\n",
      "\n",
      "Downloading PDB structure '1a8m'...\n"
     ]
    },
    {
     "name": "stderr",
     "output_type": "stream",
     "text": [
      "/home/ben/anaconda3/lib/python3.7/site-packages/Bio/PDB/StructureBuilder.py:92: PDBConstructionWarning: WARNING: Chain A is discontinuous at line 4109.\n",
      "  PDBConstructionWarning,\n",
      "/home/ben/anaconda3/lib/python3.7/site-packages/Bio/PDB/StructureBuilder.py:92: PDBConstructionWarning: WARNING: Chain B is discontinuous at line 4125.\n",
      "  PDBConstructionWarning,\n",
      "/home/ben/anaconda3/lib/python3.7/site-packages/Bio/PDB/StructureBuilder.py:92: PDBConstructionWarning: WARNING: Chain C is discontinuous at line 4150.\n",
      "  PDBConstructionWarning,\n"
     ]
    },
    {
     "name": "stdout",
     "output_type": "stream",
     "text": [
      "Center point of docking grid for /home/ben/Documents/Target2DeNovoDrug/tmp0hnsi2ml/1a8m.pdbqt is as follows: x: 64.23, y: 65.34, z: 63.32\n",
      "Sizes of docking grid are as follows:x: 20.25, y: 50.86, z: 41.17\n",
      "Connection to PLIP server successful\n",
      "Processing file 1a8m_COc1ccc(NC(=O)c2cc(-c3ccccc3)cnc2Cl)cc1C_cplx.pdb\n",
      "No interactions found for 1a8m_COc1ccc(NC(=O)c2cc(-c3ccccc3)cnc2Cl)cc1C_cplx.pdb or damaged structure\n",
      "Message: Unable to locate element: /html/body/div[1]/div[2]/div[2]/p/a\n",
      "\n",
      "Downloading PDB structure '1a8m'...\n"
     ]
    },
    {
     "name": "stderr",
     "output_type": "stream",
     "text": [
      "/home/ben/anaconda3/lib/python3.7/site-packages/Bio/PDB/StructureBuilder.py:92: PDBConstructionWarning: WARNING: Chain A is discontinuous at line 4109.\n",
      "  PDBConstructionWarning,\n",
      "/home/ben/anaconda3/lib/python3.7/site-packages/Bio/PDB/StructureBuilder.py:92: PDBConstructionWarning: WARNING: Chain B is discontinuous at line 4125.\n",
      "  PDBConstructionWarning,\n",
      "/home/ben/anaconda3/lib/python3.7/site-packages/Bio/PDB/StructureBuilder.py:92: PDBConstructionWarning: WARNING: Chain C is discontinuous at line 4150.\n",
      "  PDBConstructionWarning,\n"
     ]
    },
    {
     "name": "stdout",
     "output_type": "stream",
     "text": [
      "Center point of docking grid for /home/ben/Documents/Target2DeNovoDrug/tmpdijwbyly/1a8m.pdbqt is as follows: x: 64.23, y: 65.34, z: 63.32\n",
      "Sizes of docking grid are as follows:x: 20.25, y: 50.86, z: 41.17\n",
      "Connection to PLIP server successful\n",
      "Processing file 1a8m_O=C(Nc1nc(-c2ccc(Cl)cc2)cs1)c1ccc(Br)c(S(=O)(=O)N2CCOCC2)c1_cplx.pdb\n",
      "No interactions found for 1a8m_O=C(Nc1nc(-c2ccc(Cl)cc2)cs1)c1ccc(Br)c(S(=O)(=O)N2CCOCC2)c1_cplx.pdb or damaged structure\n",
      "Message: Unable to locate element: /html/body/div[1]/div[2]/div[2]/p/a\n",
      "\n",
      "Downloading PDB structure '1a8m'...\n"
     ]
    },
    {
     "name": "stderr",
     "output_type": "stream",
     "text": [
      "/home/ben/anaconda3/lib/python3.7/site-packages/Bio/PDB/StructureBuilder.py:92: PDBConstructionWarning: WARNING: Chain A is discontinuous at line 4109.\n",
      "  PDBConstructionWarning,\n",
      "/home/ben/anaconda3/lib/python3.7/site-packages/Bio/PDB/StructureBuilder.py:92: PDBConstructionWarning: WARNING: Chain B is discontinuous at line 4125.\n",
      "  PDBConstructionWarning,\n",
      "/home/ben/anaconda3/lib/python3.7/site-packages/Bio/PDB/StructureBuilder.py:92: PDBConstructionWarning: WARNING: Chain C is discontinuous at line 4150.\n",
      "  PDBConstructionWarning,\n"
     ]
    },
    {
     "name": "stdout",
     "output_type": "stream",
     "text": [
      "Center point of docking grid for /home/ben/Documents/Target2DeNovoDrug/tmp_eoer5dh/1a8m.pdbqt is as follows: x: 64.23, y: 65.34, z: 63.32\n",
      "Sizes of docking grid are as follows:x: 20.25, y: 50.86, z: 41.17\n",
      "Connection to PLIP server successful\n",
      "Processing file 1a8m_Cc1ccc(S(=O)(=O)NCc2cccnc2)cc1_cplx.pdb\n",
      "No interactions found for 1a8m_Cc1ccc(S(=O)(=O)NCc2cccnc2)cc1_cplx.pdb or damaged structure\n",
      "Message: Unable to locate element: /html/body/div[1]/div[2]/div[2]/p/a\n",
      "\n",
      "Downloading PDB structure '1a8m'...\n"
     ]
    },
    {
     "name": "stderr",
     "output_type": "stream",
     "text": [
      "/home/ben/anaconda3/lib/python3.7/site-packages/Bio/PDB/StructureBuilder.py:92: PDBConstructionWarning: WARNING: Chain A is discontinuous at line 4109.\n",
      "  PDBConstructionWarning,\n",
      "/home/ben/anaconda3/lib/python3.7/site-packages/Bio/PDB/StructureBuilder.py:92: PDBConstructionWarning: WARNING: Chain B is discontinuous at line 4125.\n",
      "  PDBConstructionWarning,\n",
      "/home/ben/anaconda3/lib/python3.7/site-packages/Bio/PDB/StructureBuilder.py:92: PDBConstructionWarning: WARNING: Chain C is discontinuous at line 4150.\n",
      "  PDBConstructionWarning,\n"
     ]
    },
    {
     "name": "stdout",
     "output_type": "stream",
     "text": [
      "Center point of docking grid for /home/ben/Documents/Target2DeNovoDrug/tmpvi0xdqs6/1a8m.pdbqt is as follows: x: 64.23, y: 65.34, z: 63.32\n",
      "Sizes of docking grid are as follows:x: 20.25, y: 50.86, z: 41.17\n",
      "Connection to PLIP server successful\n",
      "Processing file 1a8m_O=C(NCCC(=S)N1CCN(c2ccccc2)CC1)c1ccccc1_cplx.pdb\n",
      "No interactions found for 1a8m_O=C(NCCC(=S)N1CCN(c2ccccc2)CC1)c1ccccc1_cplx.pdb or damaged structure\n",
      "Message: Unable to locate element: /html/body/div[1]/div[2]/div[2]/p/a\n",
      "\n"
     ]
    }
   ],
   "source": [
    "execute(PDB, A1)\n",
    "\n"
   ]
  },
  {
   "cell_type": "code",
   "execution_count": 39,
   "metadata": {},
   "outputs": [
    {
     "name": "stdout",
     "output_type": "stream",
     "text": [
      "Downloading PDB structure '1a8m'...\n"
     ]
    },
    {
     "name": "stderr",
     "output_type": "stream",
     "text": [
      "/home/ben/anaconda3/lib/python3.7/site-packages/Bio/PDB/StructureBuilder.py:92: PDBConstructionWarning: WARNING: Chain A is discontinuous at line 4109.\n",
      "  PDBConstructionWarning,\n",
      "/home/ben/anaconda3/lib/python3.7/site-packages/Bio/PDB/StructureBuilder.py:92: PDBConstructionWarning: WARNING: Chain B is discontinuous at line 4125.\n",
      "  PDBConstructionWarning,\n",
      "/home/ben/anaconda3/lib/python3.7/site-packages/Bio/PDB/StructureBuilder.py:92: PDBConstructionWarning: WARNING: Chain C is discontinuous at line 4150.\n",
      "  PDBConstructionWarning,\n"
     ]
    },
    {
     "name": "stdout",
     "output_type": "stream",
     "text": [
      "Center point of docking grid for /home/ben/Documents/Target2DeNovoDrug/tmp9mntemx5/1a8m.pdbqt is as follows: x: 64.23, y: 65.34, z: 63.32\n",
      "Sizes of docking grid are as follows:x: 20.25, y: 50.86, z: 41.17\n",
      "Connection to PLIP server successful\n",
      "Processing file 1a8m_CC(C)CCn1c(N)c(C(=O)COC(=O)C23CC4CC(CC(C4)C2)C3)c(=O)n(C)c1=O_cplx.pdb\n",
      "No interactions found for 1a8m_CC(C)CCn1c(N)c(C(=O)COC(=O)C23CC4CC(CC(C4)C2)C3)c(=O)n(C)c1=O_cplx.pdb or damaged structure\n",
      "Message: Unable to locate element: /html/body/div[1]/div[2]/div[2]/p/a\n",
      "\n",
      "Downloading PDB structure '1a8m'...\n"
     ]
    },
    {
     "name": "stderr",
     "output_type": "stream",
     "text": [
      "/home/ben/anaconda3/lib/python3.7/site-packages/Bio/PDB/StructureBuilder.py:92: PDBConstructionWarning: WARNING: Chain A is discontinuous at line 4109.\n",
      "  PDBConstructionWarning,\n",
      "/home/ben/anaconda3/lib/python3.7/site-packages/Bio/PDB/StructureBuilder.py:92: PDBConstructionWarning: WARNING: Chain B is discontinuous at line 4125.\n",
      "  PDBConstructionWarning,\n",
      "/home/ben/anaconda3/lib/python3.7/site-packages/Bio/PDB/StructureBuilder.py:92: PDBConstructionWarning: WARNING: Chain C is discontinuous at line 4150.\n",
      "  PDBConstructionWarning,\n"
     ]
    },
    {
     "name": "stdout",
     "output_type": "stream",
     "text": [
      "Center point of docking grid for /home/ben/Documents/Target2DeNovoDrug/tmp_ja2guur/1a8m.pdbqt is as follows: x: 64.23, y: 65.34, z: 63.32\n",
      "Sizes of docking grid are as follows:x: 20.25, y: 50.86, z: 41.17\n",
      "Connection to PLIP server successful\n",
      "Processing file 1a8m_CC(C)c1ccc(S(=O)(=O)N2CCC(c3ccccc3)CC2)cc1_cplx.pdb\n",
      "No interactions found for 1a8m_CC(C)c1ccc(S(=O)(=O)N2CCC(c3ccccc3)CC2)cc1_cplx.pdb or damaged structure\n",
      "Message: Unable to locate element: /html/body/div[1]/div[2]/div[2]/p/a\n",
      "\n",
      "Downloading PDB structure '1a8m'...\n"
     ]
    },
    {
     "name": "stderr",
     "output_type": "stream",
     "text": [
      "/home/ben/anaconda3/lib/python3.7/site-packages/Bio/PDB/StructureBuilder.py:92: PDBConstructionWarning: WARNING: Chain A is discontinuous at line 4109.\n",
      "  PDBConstructionWarning,\n",
      "/home/ben/anaconda3/lib/python3.7/site-packages/Bio/PDB/StructureBuilder.py:92: PDBConstructionWarning: WARNING: Chain B is discontinuous at line 4125.\n",
      "  PDBConstructionWarning,\n",
      "/home/ben/anaconda3/lib/python3.7/site-packages/Bio/PDB/StructureBuilder.py:92: PDBConstructionWarning: WARNING: Chain C is discontinuous at line 4150.\n",
      "  PDBConstructionWarning,\n"
     ]
    },
    {
     "name": "stdout",
     "output_type": "stream",
     "text": [
      "Center point of docking grid for /home/ben/Documents/Target2DeNovoDrug/tmp0asgaowo/1a8m.pdbqt is as follows: x: 64.23, y: 65.34, z: 63.32\n",
      "Sizes of docking grid are as follows:x: 20.25, y: 50.86, z: 41.17\n",
      "Connection to PLIP server successful\n",
      "Processing file 1a8m_CC(=O)c1ccc(NC(=O)c2ccc(CN3CCCCC3)cc2)cc1_cplx.pdb\n",
      "No interactions found for 1a8m_CC(=O)c1ccc(NC(=O)c2ccc(CN3CCCCC3)cc2)cc1_cplx.pdb or damaged structure\n",
      "Message: Unable to locate element: /html/body/div[1]/div[2]/div[2]/p/a\n",
      "\n",
      "Downloading PDB structure '1a8m'...\n"
     ]
    },
    {
     "name": "stderr",
     "output_type": "stream",
     "text": [
      "/home/ben/anaconda3/lib/python3.7/site-packages/Bio/PDB/StructureBuilder.py:92: PDBConstructionWarning: WARNING: Chain A is discontinuous at line 4109.\n",
      "  PDBConstructionWarning,\n",
      "/home/ben/anaconda3/lib/python3.7/site-packages/Bio/PDB/StructureBuilder.py:92: PDBConstructionWarning: WARNING: Chain B is discontinuous at line 4125.\n",
      "  PDBConstructionWarning,\n",
      "/home/ben/anaconda3/lib/python3.7/site-packages/Bio/PDB/StructureBuilder.py:92: PDBConstructionWarning: WARNING: Chain C is discontinuous at line 4150.\n",
      "  PDBConstructionWarning,\n"
     ]
    },
    {
     "name": "stdout",
     "output_type": "stream",
     "text": [
      "Center point of docking grid for /home/ben/Documents/Target2DeNovoDrug/tmpbc30jaf8/1a8m.pdbqt is as follows: x: 64.23, y: 65.34, z: 63.32\n",
      "Sizes of docking grid are as follows:x: 20.25, y: 50.86, z: 41.17\n",
      "Connection to PLIP server successful\n",
      "Processing file 1a8m_CC(C)CN1C(=O)C(C(=O)COC(=O)c2cccc(F)c2)=C1N_cplx.pdb\n",
      "No interactions found for 1a8m_CC(C)CN1C(=O)C(C(=O)COC(=O)c2cccc(F)c2)=C1N_cplx.pdb or damaged structure\n",
      "Message: Unable to locate element: /html/body/div[1]/div[2]/div[2]/p/a\n",
      "\n",
      "Downloading PDB structure '1a8m'...\n"
     ]
    },
    {
     "name": "stderr",
     "output_type": "stream",
     "text": [
      "/home/ben/anaconda3/lib/python3.7/site-packages/Bio/PDB/StructureBuilder.py:92: PDBConstructionWarning: WARNING: Chain A is discontinuous at line 4109.\n",
      "  PDBConstructionWarning,\n",
      "/home/ben/anaconda3/lib/python3.7/site-packages/Bio/PDB/StructureBuilder.py:92: PDBConstructionWarning: WARNING: Chain B is discontinuous at line 4125.\n",
      "  PDBConstructionWarning,\n",
      "/home/ben/anaconda3/lib/python3.7/site-packages/Bio/PDB/StructureBuilder.py:92: PDBConstructionWarning: WARNING: Chain C is discontinuous at line 4150.\n",
      "  PDBConstructionWarning,\n"
     ]
    },
    {
     "name": "stdout",
     "output_type": "stream",
     "text": [
      "Center point of docking grid for /home/ben/Documents/Target2DeNovoDrug/tmpbw9anwlw/1a8m.pdbqt is as follows: x: 64.23, y: 65.34, z: 63.32\n",
      "Sizes of docking grid are as follows:x: 20.25, y: 50.86, z: 41.17\n",
      "Connection to PLIP server successful\n",
      "Processing file 1a8m_COc1ccc(C(=O)Nc2nc3ccccc3nc2NS(=O)(=O)c2ccccc2)cc1_cplx.pdb\n",
      "No interactions found for 1a8m_COc1ccc(C(=O)Nc2nc3ccccc3nc2NS(=O)(=O)c2ccccc2)cc1_cplx.pdb or damaged structure\n",
      "Message: Unable to locate element: /html/body/div[1]/div[2]/div[2]/p/a\n",
      "\n",
      "Downloading PDB structure '1a8m'...\n"
     ]
    },
    {
     "name": "stderr",
     "output_type": "stream",
     "text": [
      "/home/ben/anaconda3/lib/python3.7/site-packages/Bio/PDB/StructureBuilder.py:92: PDBConstructionWarning: WARNING: Chain A is discontinuous at line 4109.\n",
      "  PDBConstructionWarning,\n",
      "/home/ben/anaconda3/lib/python3.7/site-packages/Bio/PDB/StructureBuilder.py:92: PDBConstructionWarning: WARNING: Chain B is discontinuous at line 4125.\n",
      "  PDBConstructionWarning,\n",
      "/home/ben/anaconda3/lib/python3.7/site-packages/Bio/PDB/StructureBuilder.py:92: PDBConstructionWarning: WARNING: Chain C is discontinuous at line 4150.\n",
      "  PDBConstructionWarning,\n"
     ]
    },
    {
     "name": "stdout",
     "output_type": "stream",
     "text": [
      "Center point of docking grid for /home/ben/Documents/Target2DeNovoDrug/tmpnq81sqtu/1a8m.pdbqt is as follows: x: 64.23, y: 65.34, z: 63.32\n",
      "Sizes of docking grid are as follows:x: 20.25, y: 50.86, z: 41.17\n",
      "Connection to PLIP server successful\n",
      "Processing file 1a8m_Cc1c(-c2ccccc2)nnn1Sc1cccc(S(=O)(=O)N2CCCCC2)c1_cplx.pdb\n",
      "No interactions found for 1a8m_Cc1c(-c2ccccc2)nnn1Sc1cccc(S(=O)(=O)N2CCCCC2)c1_cplx.pdb or damaged structure\n",
      "Message: Unable to locate element: /html/body/div[1]/div[2]/div[2]/p/a\n",
      "\n",
      "Downloading PDB structure '1a8m'...\n"
     ]
    },
    {
     "name": "stderr",
     "output_type": "stream",
     "text": [
      "/home/ben/anaconda3/lib/python3.7/site-packages/Bio/PDB/StructureBuilder.py:92: PDBConstructionWarning: WARNING: Chain A is discontinuous at line 4109.\n",
      "  PDBConstructionWarning,\n",
      "/home/ben/anaconda3/lib/python3.7/site-packages/Bio/PDB/StructureBuilder.py:92: PDBConstructionWarning: WARNING: Chain B is discontinuous at line 4125.\n",
      "  PDBConstructionWarning,\n",
      "/home/ben/anaconda3/lib/python3.7/site-packages/Bio/PDB/StructureBuilder.py:92: PDBConstructionWarning: WARNING: Chain C is discontinuous at line 4150.\n",
      "  PDBConstructionWarning,\n"
     ]
    },
    {
     "name": "stdout",
     "output_type": "stream",
     "text": [
      "Center point of docking grid for /home/ben/Documents/Target2DeNovoDrug/tmpi1hcpsis/1a8m.pdbqt is as follows: x: 64.23, y: 65.34, z: 63.32\n",
      "Sizes of docking grid are as follows:x: 20.25, y: 50.86, z: 41.17\n",
      "Connection to PLIP server successful\n",
      "Processing file 1a8m_COc1ccccc1C(=O)NCCc1ccc(S(=O)(=O)N2CCOCC2)cc1_cplx.pdb\n",
      "No interactions found for 1a8m_COc1ccccc1C(=O)NCCc1ccc(S(=O)(=O)N2CCOCC2)cc1_cplx.pdb or damaged structure\n",
      "Message: Unable to locate element: /html/body/div[1]/div[2]/div[2]/p/a\n",
      "\n",
      "Downloading PDB structure '1a8m'...\n"
     ]
    },
    {
     "name": "stderr",
     "output_type": "stream",
     "text": [
      "/home/ben/anaconda3/lib/python3.7/site-packages/Bio/PDB/StructureBuilder.py:92: PDBConstructionWarning: WARNING: Chain A is discontinuous at line 4109.\n",
      "  PDBConstructionWarning,\n",
      "/home/ben/anaconda3/lib/python3.7/site-packages/Bio/PDB/StructureBuilder.py:92: PDBConstructionWarning: WARNING: Chain B is discontinuous at line 4125.\n",
      "  PDBConstructionWarning,\n",
      "/home/ben/anaconda3/lib/python3.7/site-packages/Bio/PDB/StructureBuilder.py:92: PDBConstructionWarning: WARNING: Chain C is discontinuous at line 4150.\n",
      "  PDBConstructionWarning,\n"
     ]
    },
    {
     "name": "stdout",
     "output_type": "stream",
     "text": [
      "Center point of docking grid for /home/ben/Documents/Target2DeNovoDrug/tmptj4w2mn3/1a8m.pdbqt is as follows: x: 64.23, y: 65.34, z: 63.32\n",
      "Sizes of docking grid are as follows:x: 20.25, y: 50.86, z: 41.17\n",
      "Connection to PLIP server successful\n",
      "Processing file 1a8m_CCCCCC(=O)Nc1ccc(S(=O)(=O)Nc2ccccc2)cc1_cplx.pdb\n",
      "No interactions found for 1a8m_CCCCCC(=O)Nc1ccc(S(=O)(=O)Nc2ccccc2)cc1_cplx.pdb or damaged structure\n",
      "Message: Unable to locate element: /html/body/div[1]/div[2]/div[2]/p/a\n",
      "\n",
      "Downloading PDB structure '1a8m'...\n"
     ]
    },
    {
     "name": "stderr",
     "output_type": "stream",
     "text": [
      "/home/ben/anaconda3/lib/python3.7/site-packages/Bio/PDB/StructureBuilder.py:92: PDBConstructionWarning: WARNING: Chain A is discontinuous at line 4109.\n",
      "  PDBConstructionWarning,\n",
      "/home/ben/anaconda3/lib/python3.7/site-packages/Bio/PDB/StructureBuilder.py:92: PDBConstructionWarning: WARNING: Chain B is discontinuous at line 4125.\n",
      "  PDBConstructionWarning,\n",
      "/home/ben/anaconda3/lib/python3.7/site-packages/Bio/PDB/StructureBuilder.py:92: PDBConstructionWarning: WARNING: Chain C is discontinuous at line 4150.\n",
      "  PDBConstructionWarning,\n"
     ]
    },
    {
     "name": "stdout",
     "output_type": "stream",
     "text": [
      "Center point of docking grid for /home/ben/Documents/Target2DeNovoDrug/tmp88q7w_8j/1a8m.pdbqt is as follows: x: 64.23, y: 65.34, z: 63.32\n",
      "Sizes of docking grid are as follows:x: 20.25, y: 50.86, z: 41.17\n",
      "Connection to PLIP server successful\n",
      "Processing file 1a8m_Cc1ccc(OC(=O)c2ccc(NS(=O)(=O)c3ccccc3)cc2)cc1_cplx.pdb\n",
      "No interactions found for 1a8m_Cc1ccc(OC(=O)c2ccc(NS(=O)(=O)c3ccccc3)cc2)cc1_cplx.pdb or damaged structure\n",
      "Message: Unable to locate element: /html/body/div[1]/div[2]/div[2]/p/a\n",
      "\n",
      "Downloading PDB structure '1a8m'...\n"
     ]
    },
    {
     "name": "stderr",
     "output_type": "stream",
     "text": [
      "/home/ben/anaconda3/lib/python3.7/site-packages/Bio/PDB/StructureBuilder.py:92: PDBConstructionWarning: WARNING: Chain A is discontinuous at line 4109.\n",
      "  PDBConstructionWarning,\n",
      "/home/ben/anaconda3/lib/python3.7/site-packages/Bio/PDB/StructureBuilder.py:92: PDBConstructionWarning: WARNING: Chain B is discontinuous at line 4125.\n",
      "  PDBConstructionWarning,\n",
      "/home/ben/anaconda3/lib/python3.7/site-packages/Bio/PDB/StructureBuilder.py:92: PDBConstructionWarning: WARNING: Chain C is discontinuous at line 4150.\n",
      "  PDBConstructionWarning,\n"
     ]
    },
    {
     "name": "stdout",
     "output_type": "stream",
     "text": [
      "Center point of docking grid for /home/ben/Documents/Target2DeNovoDrug/tmpuar3eeb1/1a8m.pdbqt is as follows: x: 64.23, y: 65.34, z: 63.32\n",
      "Sizes of docking grid are as follows:x: 20.25, y: 50.86, z: 41.17\n",
      "Connection to PLIP server successful\n",
      "Processing file 1a8m_COc1ccccc1C(=O)NCCc1ccccc1_cplx.pdb\n",
      "No interactions found for 1a8m_COc1ccccc1C(=O)NCCc1ccccc1_cplx.pdb or damaged structure\n",
      "Message: Unable to locate element: /html/body/div[1]/div[2]/div[2]/p/a\n",
      "\n",
      "Downloading PDB structure '1a8m'...\n"
     ]
    },
    {
     "name": "stderr",
     "output_type": "stream",
     "text": [
      "/home/ben/anaconda3/lib/python3.7/site-packages/Bio/PDB/StructureBuilder.py:92: PDBConstructionWarning: WARNING: Chain A is discontinuous at line 4109.\n",
      "  PDBConstructionWarning,\n",
      "/home/ben/anaconda3/lib/python3.7/site-packages/Bio/PDB/StructureBuilder.py:92: PDBConstructionWarning: WARNING: Chain B is discontinuous at line 4125.\n",
      "  PDBConstructionWarning,\n",
      "/home/ben/anaconda3/lib/python3.7/site-packages/Bio/PDB/StructureBuilder.py:92: PDBConstructionWarning: WARNING: Chain C is discontinuous at line 4150.\n",
      "  PDBConstructionWarning,\n"
     ]
    },
    {
     "name": "stdout",
     "output_type": "stream",
     "text": [
      "Center point of docking grid for /home/ben/Documents/Target2DeNovoDrug/tmp6149r0qs/1a8m.pdbqt is as follows: x: 64.23, y: 65.34, z: 63.32\n",
      "Sizes of docking grid are as follows:x: 20.25, y: 50.86, z: 41.17\n",
      "Connection to PLIP server successful\n",
      "Processing file 1a8m_COc1cccc(C(=O)N2CCN(Cc3ccc(C)cc3)CC2)c1_cplx.pdb\n",
      "No interactions found for 1a8m_COc1cccc(C(=O)N2CCN(Cc3ccc(C)cc3)CC2)c1_cplx.pdb or damaged structure\n",
      "Message: Unable to locate element: /html/body/div[1]/div[2]/div[2]/p/a\n",
      "\n",
      "Downloading PDB structure '1a8m'...\n"
     ]
    },
    {
     "name": "stderr",
     "output_type": "stream",
     "text": [
      "/home/ben/anaconda3/lib/python3.7/site-packages/Bio/PDB/StructureBuilder.py:92: PDBConstructionWarning: WARNING: Chain A is discontinuous at line 4109.\n",
      "  PDBConstructionWarning,\n",
      "/home/ben/anaconda3/lib/python3.7/site-packages/Bio/PDB/StructureBuilder.py:92: PDBConstructionWarning: WARNING: Chain B is discontinuous at line 4125.\n",
      "  PDBConstructionWarning,\n",
      "/home/ben/anaconda3/lib/python3.7/site-packages/Bio/PDB/StructureBuilder.py:92: PDBConstructionWarning: WARNING: Chain C is discontinuous at line 4150.\n",
      "  PDBConstructionWarning,\n"
     ]
    },
    {
     "name": "stdout",
     "output_type": "stream",
     "text": [
      "Center point of docking grid for /home/ben/Documents/Target2DeNovoDrug/tmplu_5nibg/1a8m.pdbqt is as follows: x: 64.23, y: 65.34, z: 63.32\n",
      "Sizes of docking grid are as follows:x: 20.25, y: 50.86, z: 41.17\n",
      "Connection to PLIP server successful\n",
      "Processing file 1a8m_CCCCOC(=O)CSc1nc2ccccc2c(=O)n1-c1cccc(C)c1_cplx.pdb\n",
      "No interactions found for 1a8m_CCCCOC(=O)CSc1nc2ccccc2c(=O)n1-c1cccc(C)c1_cplx.pdb or damaged structure\n",
      "Message: Unable to locate element: /html/body/div[1]/div[2]/div[2]/p/a\n",
      "\n",
      "Downloading PDB structure '1a8m'...\n"
     ]
    },
    {
     "name": "stderr",
     "output_type": "stream",
     "text": [
      "/home/ben/anaconda3/lib/python3.7/site-packages/Bio/PDB/StructureBuilder.py:92: PDBConstructionWarning: WARNING: Chain A is discontinuous at line 4109.\n",
      "  PDBConstructionWarning,\n",
      "/home/ben/anaconda3/lib/python3.7/site-packages/Bio/PDB/StructureBuilder.py:92: PDBConstructionWarning: WARNING: Chain B is discontinuous at line 4125.\n",
      "  PDBConstructionWarning,\n",
      "/home/ben/anaconda3/lib/python3.7/site-packages/Bio/PDB/StructureBuilder.py:92: PDBConstructionWarning: WARNING: Chain C is discontinuous at line 4150.\n",
      "  PDBConstructionWarning,\n"
     ]
    },
    {
     "name": "stdout",
     "output_type": "stream",
     "text": [
      "Center point of docking grid for /home/ben/Documents/Target2DeNovoDrug/tmpviiwnlxu/1a8m.pdbqt is as follows: x: 64.23, y: 65.34, z: 63.32\n",
      "Sizes of docking grid are as follows:x: 20.25, y: 50.86, z: 41.17\n",
      "Connection to PLIP server successful\n",
      "Processing file 1a8m_CC(=O)c1c(C)[nH]c(-c2ccccc2Cl)c1-c1ccccc1_cplx.pdb\n",
      "No interactions found for 1a8m_CC(=O)c1c(C)[nH]c(-c2ccccc2Cl)c1-c1ccccc1_cplx.pdb or damaged structure\n",
      "Message: Unable to locate element: /html/body/div[1]/div[2]/div[2]/p/a\n",
      "\n",
      "Downloading PDB structure '1a8m'...\n"
     ]
    },
    {
     "name": "stderr",
     "output_type": "stream",
     "text": [
      "/home/ben/anaconda3/lib/python3.7/site-packages/Bio/PDB/StructureBuilder.py:92: PDBConstructionWarning: WARNING: Chain A is discontinuous at line 4109.\n",
      "  PDBConstructionWarning,\n",
      "/home/ben/anaconda3/lib/python3.7/site-packages/Bio/PDB/StructureBuilder.py:92: PDBConstructionWarning: WARNING: Chain B is discontinuous at line 4125.\n",
      "  PDBConstructionWarning,\n",
      "/home/ben/anaconda3/lib/python3.7/site-packages/Bio/PDB/StructureBuilder.py:92: PDBConstructionWarning: WARNING: Chain C is discontinuous at line 4150.\n",
      "  PDBConstructionWarning,\n"
     ]
    },
    {
     "name": "stdout",
     "output_type": "stream",
     "text": [
      "Center point of docking grid for /home/ben/Documents/Target2DeNovoDrug/tmp_gtwnsyz/1a8m.pdbqt is as follows: x: 64.23, y: 65.34, z: 63.32\n",
      "Sizes of docking grid are as follows:x: 20.25, y: 50.86, z: 41.17\n",
      "Connection to PLIP server successful\n",
      "Processing file 1a8m_O=C(Nc1ncc([N+](=O)[O-])s1)c1ccc(Cl)cc1_cplx.pdb\n",
      "No interactions found for 1a8m_O=C(Nc1ncc([N+](=O)[O-])s1)c1ccc(Cl)cc1_cplx.pdb or damaged structure\n",
      "Message: Unable to locate element: /html/body/div[1]/div[2]/div[2]/p/a\n",
      "\n",
      "Downloading PDB structure '1a8m'...\n"
     ]
    },
    {
     "name": "stderr",
     "output_type": "stream",
     "text": [
      "/home/ben/anaconda3/lib/python3.7/site-packages/Bio/PDB/StructureBuilder.py:92: PDBConstructionWarning: WARNING: Chain A is discontinuous at line 4109.\n",
      "  PDBConstructionWarning,\n",
      "/home/ben/anaconda3/lib/python3.7/site-packages/Bio/PDB/StructureBuilder.py:92: PDBConstructionWarning: WARNING: Chain B is discontinuous at line 4125.\n",
      "  PDBConstructionWarning,\n",
      "/home/ben/anaconda3/lib/python3.7/site-packages/Bio/PDB/StructureBuilder.py:92: PDBConstructionWarning: WARNING: Chain C is discontinuous at line 4150.\n",
      "  PDBConstructionWarning,\n"
     ]
    },
    {
     "name": "stdout",
     "output_type": "stream",
     "text": [
      "Center point of docking grid for /home/ben/Documents/Target2DeNovoDrug/tmpey9i0c7n/1a8m.pdbqt is as follows: x: 64.23, y: 65.34, z: 63.32\n",
      "Sizes of docking grid are as follows:x: 20.25, y: 50.86, z: 41.17\n",
      "Connection to PLIP server successful\n",
      "Processing file 1a8m_CCOC(=O)COC(=O)c1ccccc1C(=O)c1ccccc1Oc1cccc([N+](=O)[O-])c1_cplx.pdb\n",
      "No interactions found for 1a8m_CCOC(=O)COC(=O)c1ccccc1C(=O)c1ccccc1Oc1cccc([N+](=O)[O-])c1_cplx.pdb or damaged structure\n",
      "Message: Unable to locate element: /html/body/div[1]/div[2]/div[2]/p/a\n",
      "\n",
      "Downloading PDB structure '1a8m'...\n"
     ]
    },
    {
     "name": "stderr",
     "output_type": "stream",
     "text": [
      "/home/ben/anaconda3/lib/python3.7/site-packages/Bio/PDB/StructureBuilder.py:92: PDBConstructionWarning: WARNING: Chain A is discontinuous at line 4109.\n",
      "  PDBConstructionWarning,\n",
      "/home/ben/anaconda3/lib/python3.7/site-packages/Bio/PDB/StructureBuilder.py:92: PDBConstructionWarning: WARNING: Chain B is discontinuous at line 4125.\n",
      "  PDBConstructionWarning,\n",
      "/home/ben/anaconda3/lib/python3.7/site-packages/Bio/PDB/StructureBuilder.py:92: PDBConstructionWarning: WARNING: Chain C is discontinuous at line 4150.\n",
      "  PDBConstructionWarning,\n"
     ]
    },
    {
     "name": "stdout",
     "output_type": "stream",
     "text": [
      "Center point of docking grid for /home/ben/Documents/Target2DeNovoDrug/tmpo0a4eyf1/1a8m.pdbqt is as follows: x: 64.23, y: 65.34, z: 63.32\n",
      "Sizes of docking grid are as follows:x: 20.25, y: 50.86, z: 41.17\n",
      "Connection to PLIP server successful\n",
      "Processing file 1a8m_O=C(Nc1ccc(Cl)c([N+](=O)[O-])c1)c1ccc2cccnc2c1O_cplx.pdb\n",
      "No interactions found for 1a8m_O=C(Nc1ccc(Cl)c([N+](=O)[O-])c1)c1ccc2cccnc2c1O_cplx.pdb or damaged structure\n",
      "Message: Unable to locate element: /html/body/div[1]/div[2]/div[2]/p/a\n",
      "\n",
      "Downloading PDB structure '1a8m'...\n"
     ]
    },
    {
     "name": "stderr",
     "output_type": "stream",
     "text": [
      "/home/ben/anaconda3/lib/python3.7/site-packages/Bio/PDB/StructureBuilder.py:92: PDBConstructionWarning: WARNING: Chain A is discontinuous at line 4109.\n",
      "  PDBConstructionWarning,\n",
      "/home/ben/anaconda3/lib/python3.7/site-packages/Bio/PDB/StructureBuilder.py:92: PDBConstructionWarning: WARNING: Chain B is discontinuous at line 4125.\n",
      "  PDBConstructionWarning,\n",
      "/home/ben/anaconda3/lib/python3.7/site-packages/Bio/PDB/StructureBuilder.py:92: PDBConstructionWarning: WARNING: Chain C is discontinuous at line 4150.\n",
      "  PDBConstructionWarning,\n"
     ]
    },
    {
     "name": "stdout",
     "output_type": "stream",
     "text": [
      "Center point of docking grid for /home/ben/Documents/Target2DeNovoDrug/tmpmpjab8lg/1a8m.pdbqt is as follows: x: 64.23, y: 65.34, z: 63.32\n",
      "Sizes of docking grid are as follows:x: 20.25, y: 50.86, z: 41.17\n",
      "Connection to PLIP server successful\n",
      "Processing file 1a8m_CC(C)(C)c1ccc(C(=O)Cc2ccccc2)cc1S(=O)(=O)N1CCCCC1_cplx.pdb\n",
      "No interactions found for 1a8m_CC(C)(C)c1ccc(C(=O)Cc2ccccc2)cc1S(=O)(=O)N1CCCCC1_cplx.pdb or damaged structure\n",
      "Message: Unable to locate element: /html/body/div[1]/div[2]/div[2]/p/a\n",
      "\n",
      "Downloading PDB structure '1a8m'...\n"
     ]
    },
    {
     "name": "stderr",
     "output_type": "stream",
     "text": [
      "/home/ben/anaconda3/lib/python3.7/site-packages/Bio/PDB/StructureBuilder.py:92: PDBConstructionWarning: WARNING: Chain A is discontinuous at line 4109.\n",
      "  PDBConstructionWarning,\n",
      "/home/ben/anaconda3/lib/python3.7/site-packages/Bio/PDB/StructureBuilder.py:92: PDBConstructionWarning: WARNING: Chain B is discontinuous at line 4125.\n",
      "  PDBConstructionWarning,\n",
      "/home/ben/anaconda3/lib/python3.7/site-packages/Bio/PDB/StructureBuilder.py:92: PDBConstructionWarning: WARNING: Chain C is discontinuous at line 4150.\n",
      "  PDBConstructionWarning,\n"
     ]
    },
    {
     "name": "stdout",
     "output_type": "stream",
     "text": [
      "Center point of docking grid for /home/ben/Documents/Target2DeNovoDrug/tmpt8yx4okc/1a8m.pdbqt is as follows: x: 64.23, y: 65.34, z: 63.32\n",
      "Sizes of docking grid are as follows:x: 20.25, y: 50.86, z: 41.17\n",
      "Connection to PLIP server successful\n",
      "Processing file 1a8m_Cc1ccccc1NC(=O)c1ccc(C)c(-c2ccc(F)cc2)c1_cplx.pdb\n",
      "No interactions found for 1a8m_Cc1ccccc1NC(=O)c1ccc(C)c(-c2ccc(F)cc2)c1_cplx.pdb or damaged structure\n",
      "Message: Unable to locate element: /html/body/div[1]/div[2]/div[2]/p/a\n",
      "\n",
      "Downloading PDB structure '1a8m'...\n"
     ]
    },
    {
     "name": "stderr",
     "output_type": "stream",
     "text": [
      "/home/ben/anaconda3/lib/python3.7/site-packages/Bio/PDB/StructureBuilder.py:92: PDBConstructionWarning: WARNING: Chain A is discontinuous at line 4109.\n",
      "  PDBConstructionWarning,\n",
      "/home/ben/anaconda3/lib/python3.7/site-packages/Bio/PDB/StructureBuilder.py:92: PDBConstructionWarning: WARNING: Chain B is discontinuous at line 4125.\n",
      "  PDBConstructionWarning,\n",
      "/home/ben/anaconda3/lib/python3.7/site-packages/Bio/PDB/StructureBuilder.py:92: PDBConstructionWarning: WARNING: Chain C is discontinuous at line 4150.\n",
      "  PDBConstructionWarning,\n"
     ]
    },
    {
     "name": "stdout",
     "output_type": "stream",
     "text": [
      "Center point of docking grid for /home/ben/Documents/Target2DeNovoDrug/tmpxek05mme/1a8m.pdbqt is as follows: x: 64.23, y: 65.34, z: 63.32\n",
      "Sizes of docking grid are as follows:x: 20.25, y: 50.86, z: 41.17\n",
      "Connection to PLIP server successful\n",
      "Processing file 1a8m_Cc1[nH]n(-c2ccccc2)c(=O)c1Cc1ccccc1_cplx.pdb\n",
      "No interactions found for 1a8m_Cc1[nH]n(-c2ccccc2)c(=O)c1Cc1ccccc1_cplx.pdb or damaged structure\n",
      "Message: Unable to locate element: /html/body/div[1]/div[2]/div[2]/p/a\n",
      "\n",
      "Downloading PDB structure '1a8m'...\n"
     ]
    },
    {
     "name": "stderr",
     "output_type": "stream",
     "text": [
      "/home/ben/anaconda3/lib/python3.7/site-packages/Bio/PDB/StructureBuilder.py:92: PDBConstructionWarning: WARNING: Chain A is discontinuous at line 4109.\n",
      "  PDBConstructionWarning,\n",
      "/home/ben/anaconda3/lib/python3.7/site-packages/Bio/PDB/StructureBuilder.py:92: PDBConstructionWarning: WARNING: Chain B is discontinuous at line 4125.\n",
      "  PDBConstructionWarning,\n",
      "/home/ben/anaconda3/lib/python3.7/site-packages/Bio/PDB/StructureBuilder.py:92: PDBConstructionWarning: WARNING: Chain C is discontinuous at line 4150.\n",
      "  PDBConstructionWarning,\n"
     ]
    },
    {
     "name": "stdout",
     "output_type": "stream",
     "text": [
      "Center point of docking grid for /home/ben/Documents/Target2DeNovoDrug/tmpkmtrr1pg/1a8m.pdbqt is as follows: x: 64.23, y: 65.34, z: 63.32\n",
      "Sizes of docking grid are as follows:x: 20.25, y: 50.86, z: 41.17\n",
      "Connection to PLIP server successful\n",
      "Processing file 1a8m_O=C(c1ccc(Cn2ccnc2)cc1)c1ccc(Cl)c(S(=O)(=O)N2CCCCC2)c1_cplx.pdb\n",
      "No interactions found for 1a8m_O=C(c1ccc(Cn2ccnc2)cc1)c1ccc(Cl)c(S(=O)(=O)N2CCCCC2)c1_cplx.pdb or damaged structure\n",
      "Message: Unable to locate element: /html/body/div[1]/div[2]/div[2]/p/a\n",
      "\n",
      "Downloading PDB structure '1a8m'...\n"
     ]
    },
    {
     "name": "stderr",
     "output_type": "stream",
     "text": [
      "/home/ben/anaconda3/lib/python3.7/site-packages/Bio/PDB/StructureBuilder.py:92: PDBConstructionWarning: WARNING: Chain A is discontinuous at line 4109.\n",
      "  PDBConstructionWarning,\n",
      "/home/ben/anaconda3/lib/python3.7/site-packages/Bio/PDB/StructureBuilder.py:92: PDBConstructionWarning: WARNING: Chain B is discontinuous at line 4125.\n",
      "  PDBConstructionWarning,\n",
      "/home/ben/anaconda3/lib/python3.7/site-packages/Bio/PDB/StructureBuilder.py:92: PDBConstructionWarning: WARNING: Chain C is discontinuous at line 4150.\n",
      "  PDBConstructionWarning,\n"
     ]
    },
    {
     "name": "stdout",
     "output_type": "stream",
     "text": [
      "Center point of docking grid for /home/ben/Documents/Target2DeNovoDrug/tmpx7twvxgn/1a8m.pdbqt is as follows: x: 64.23, y: 65.34, z: 63.32\n",
      "Sizes of docking grid are as follows:x: 20.25, y: 50.86, z: 41.17\n",
      "Connection to PLIP server successful\n",
      "Processing file 1a8m_CC(=O)N1CCN(c2ncnc3c2cnn3-c2ccccc2)CC1_cplx.pdb\n",
      "No interactions found for 1a8m_CC(=O)N1CCN(c2ncnc3c2cnn3-c2ccccc2)CC1_cplx.pdb or damaged structure\n",
      "Message: Unable to locate element: /html/body/div[1]/div[2]/div[2]/p/a\n",
      "\n",
      "Downloading PDB structure '1a8m'...\n"
     ]
    },
    {
     "name": "stderr",
     "output_type": "stream",
     "text": [
      "/home/ben/anaconda3/lib/python3.7/site-packages/Bio/PDB/StructureBuilder.py:92: PDBConstructionWarning: WARNING: Chain A is discontinuous at line 4109.\n",
      "  PDBConstructionWarning,\n",
      "/home/ben/anaconda3/lib/python3.7/site-packages/Bio/PDB/StructureBuilder.py:92: PDBConstructionWarning: WARNING: Chain B is discontinuous at line 4125.\n",
      "  PDBConstructionWarning,\n",
      "/home/ben/anaconda3/lib/python3.7/site-packages/Bio/PDB/StructureBuilder.py:92: PDBConstructionWarning: WARNING: Chain C is discontinuous at line 4150.\n",
      "  PDBConstructionWarning,\n"
     ]
    },
    {
     "name": "stdout",
     "output_type": "stream",
     "text": [
      "Center point of docking grid for /home/ben/Documents/Target2DeNovoDrug/tmpa9kjbdrc/1a8m.pdbqt is as follows: x: 64.23, y: 65.34, z: 63.32\n",
      "Sizes of docking grid are as follows:x: 20.25, y: 50.86, z: 41.17\n",
      "Connection to PLIP server successful\n",
      "Processing file 1a8m_Cc1ccc(S(=O)(=O)Nc2ccc(C(=O)Nc3ccccn3)cc2)cc1_cplx.pdb\n",
      "No interactions found for 1a8m_Cc1ccc(S(=O)(=O)Nc2ccc(C(=O)Nc3ccccn3)cc2)cc1_cplx.pdb or damaged structure\n",
      "Message: Unable to locate element: /html/body/div[1]/div[2]/div[2]/p/a\n",
      "\n",
      "Downloading PDB structure '1a8m'...\n"
     ]
    },
    {
     "name": "stderr",
     "output_type": "stream",
     "text": [
      "/home/ben/anaconda3/lib/python3.7/site-packages/Bio/PDB/StructureBuilder.py:92: PDBConstructionWarning: WARNING: Chain A is discontinuous at line 4109.\n",
      "  PDBConstructionWarning,\n",
      "/home/ben/anaconda3/lib/python3.7/site-packages/Bio/PDB/StructureBuilder.py:92: PDBConstructionWarning: WARNING: Chain B is discontinuous at line 4125.\n",
      "  PDBConstructionWarning,\n",
      "/home/ben/anaconda3/lib/python3.7/site-packages/Bio/PDB/StructureBuilder.py:92: PDBConstructionWarning: WARNING: Chain C is discontinuous at line 4150.\n",
      "  PDBConstructionWarning,\n"
     ]
    },
    {
     "name": "stdout",
     "output_type": "stream",
     "text": [
      "Center point of docking grid for /home/ben/Documents/Target2DeNovoDrug/tmpjh7ui3c1/1a8m.pdbqt is as follows: x: 64.23, y: 65.34, z: 63.32\n",
      "Sizes of docking grid are as follows:x: 20.25, y: 50.86, z: 41.17\n",
      "Connection to PLIP server successful\n",
      "Processing file 1a8m_CCCCCC(=O)Nc1ccc(S(=O)(=O)N2CCCCC2)cc1_cplx.pdb\n",
      "No interactions found for 1a8m_CCCCCC(=O)Nc1ccc(S(=O)(=O)N2CCCCC2)cc1_cplx.pdb or damaged structure\n",
      "Message: Unable to locate element: /html/body/div[1]/div[2]/div[2]/p/a\n",
      "\n",
      "Downloading PDB structure '1a8m'...\n"
     ]
    },
    {
     "name": "stderr",
     "output_type": "stream",
     "text": [
      "/home/ben/anaconda3/lib/python3.7/site-packages/Bio/PDB/StructureBuilder.py:92: PDBConstructionWarning: WARNING: Chain A is discontinuous at line 4109.\n",
      "  PDBConstructionWarning,\n",
      "/home/ben/anaconda3/lib/python3.7/site-packages/Bio/PDB/StructureBuilder.py:92: PDBConstructionWarning: WARNING: Chain B is discontinuous at line 4125.\n",
      "  PDBConstructionWarning,\n",
      "/home/ben/anaconda3/lib/python3.7/site-packages/Bio/PDB/StructureBuilder.py:92: PDBConstructionWarning: WARNING: Chain C is discontinuous at line 4150.\n",
      "  PDBConstructionWarning,\n"
     ]
    },
    {
     "name": "stdout",
     "output_type": "stream",
     "text": [
      "Center point of docking grid for /home/ben/Documents/Target2DeNovoDrug/tmp28dts2ct/1a8m.pdbqt is as follows: x: 64.23, y: 65.34, z: 63.32\n",
      "Sizes of docking grid are as follows:x: 20.25, y: 50.86, z: 41.17\n",
      "Connection to PLIP server successful\n",
      "Processing file 1a8m_COc1ccccc1NC(=S)NNc1ncc(C(F)(F)F)cc1Cl_cplx.pdb\n",
      "No interactions found for 1a8m_COc1ccccc1NC(=S)NNc1ncc(C(F)(F)F)cc1Cl_cplx.pdb or damaged structure\n",
      "Message: Unable to locate element: /html/body/div[1]/div[2]/div[2]/p/a\n",
      "\n",
      "Downloading PDB structure '1a8m'...\n"
     ]
    },
    {
     "name": "stderr",
     "output_type": "stream",
     "text": [
      "/home/ben/anaconda3/lib/python3.7/site-packages/Bio/PDB/StructureBuilder.py:92: PDBConstructionWarning: WARNING: Chain A is discontinuous at line 4109.\n",
      "  PDBConstructionWarning,\n",
      "/home/ben/anaconda3/lib/python3.7/site-packages/Bio/PDB/StructureBuilder.py:92: PDBConstructionWarning: WARNING: Chain B is discontinuous at line 4125.\n",
      "  PDBConstructionWarning,\n",
      "/home/ben/anaconda3/lib/python3.7/site-packages/Bio/PDB/StructureBuilder.py:92: PDBConstructionWarning: WARNING: Chain C is discontinuous at line 4150.\n",
      "  PDBConstructionWarning,\n"
     ]
    },
    {
     "name": "stdout",
     "output_type": "stream",
     "text": [
      "Center point of docking grid for /home/ben/Documents/Target2DeNovoDrug/tmpqegldq_w/1a8m.pdbqt is as follows: x: 64.23, y: 65.34, z: 63.32\n",
      "Sizes of docking grid are as follows:x: 20.25, y: 50.86, z: 41.17\n",
      "Connection to PLIP server successful\n",
      "Processing file 1a8m_Cc1ccc(NC(=O)Nc2ccc(-c3ccccc3)cc2)cc1_cplx.pdb\n",
      "No interactions found for 1a8m_Cc1ccc(NC(=O)Nc2ccc(-c3ccccc3)cc2)cc1_cplx.pdb or damaged structure\n",
      "Message: Unable to locate element: /html/body/div[1]/div[2]/div[2]/p/a\n",
      "\n",
      "Downloading PDB structure '1a8m'...\n"
     ]
    },
    {
     "name": "stderr",
     "output_type": "stream",
     "text": [
      "/home/ben/anaconda3/lib/python3.7/site-packages/Bio/PDB/StructureBuilder.py:92: PDBConstructionWarning: WARNING: Chain A is discontinuous at line 4109.\n",
      "  PDBConstructionWarning,\n",
      "/home/ben/anaconda3/lib/python3.7/site-packages/Bio/PDB/StructureBuilder.py:92: PDBConstructionWarning: WARNING: Chain B is discontinuous at line 4125.\n",
      "  PDBConstructionWarning,\n",
      "/home/ben/anaconda3/lib/python3.7/site-packages/Bio/PDB/StructureBuilder.py:92: PDBConstructionWarning: WARNING: Chain C is discontinuous at line 4150.\n",
      "  PDBConstructionWarning,\n"
     ]
    },
    {
     "name": "stdout",
     "output_type": "stream",
     "text": [
      "Center point of docking grid for /home/ben/Documents/Target2DeNovoDrug/tmppx2bfcdq/1a8m.pdbqt is as follows: x: 64.23, y: 65.34, z: 63.32\n",
      "Sizes of docking grid are as follows:x: 20.25, y: 50.86, z: 41.17\n",
      "Connection to PLIP server successful\n",
      "Processing file 1a8m_O=C(c1ccccc1)c1ccccc1S(=O)(=O)Nc1ccc(Cl)cc1_cplx.pdb\n",
      "No interactions found for 1a8m_O=C(c1ccccc1)c1ccccc1S(=O)(=O)Nc1ccc(Cl)cc1_cplx.pdb or damaged structure\n",
      "Message: Unable to locate element: /html/body/div[1]/div[2]/div[2]/p/a\n",
      "\n",
      "Downloading PDB structure '1a8m'...\n"
     ]
    },
    {
     "name": "stderr",
     "output_type": "stream",
     "text": [
      "/home/ben/anaconda3/lib/python3.7/site-packages/Bio/PDB/StructureBuilder.py:92: PDBConstructionWarning: WARNING: Chain A is discontinuous at line 4109.\n",
      "  PDBConstructionWarning,\n",
      "/home/ben/anaconda3/lib/python3.7/site-packages/Bio/PDB/StructureBuilder.py:92: PDBConstructionWarning: WARNING: Chain B is discontinuous at line 4125.\n",
      "  PDBConstructionWarning,\n",
      "/home/ben/anaconda3/lib/python3.7/site-packages/Bio/PDB/StructureBuilder.py:92: PDBConstructionWarning: WARNING: Chain C is discontinuous at line 4150.\n",
      "  PDBConstructionWarning,\n"
     ]
    },
    {
     "name": "stdout",
     "output_type": "stream",
     "text": [
      "Center point of docking grid for /home/ben/Documents/Target2DeNovoDrug/tmpiyjcjl_t/1a8m.pdbqt is as follows: x: 64.23, y: 65.34, z: 63.32\n",
      "Sizes of docking grid are as follows:x: 20.25, y: 50.86, z: 41.17\n",
      "Connection to PLIP server successful\n",
      "Processing file 1a8m_O=C(Nc1ccc(Cl)cc1)Nc1ccccc1C(=O)c1cccc(Br)c1_cplx.pdb\n",
      "No interactions found for 1a8m_O=C(Nc1ccc(Cl)cc1)Nc1ccccc1C(=O)c1cccc(Br)c1_cplx.pdb or damaged structure\n",
      "Message: Unable to locate element: /html/body/div[1]/div[2]/div[2]/p/a\n",
      "\n",
      "Downloading PDB structure '1a8m'...\n"
     ]
    },
    {
     "name": "stderr",
     "output_type": "stream",
     "text": [
      "/home/ben/anaconda3/lib/python3.7/site-packages/Bio/PDB/StructureBuilder.py:92: PDBConstructionWarning: WARNING: Chain A is discontinuous at line 4109.\n",
      "  PDBConstructionWarning,\n",
      "/home/ben/anaconda3/lib/python3.7/site-packages/Bio/PDB/StructureBuilder.py:92: PDBConstructionWarning: WARNING: Chain B is discontinuous at line 4125.\n",
      "  PDBConstructionWarning,\n",
      "/home/ben/anaconda3/lib/python3.7/site-packages/Bio/PDB/StructureBuilder.py:92: PDBConstructionWarning: WARNING: Chain C is discontinuous at line 4150.\n",
      "  PDBConstructionWarning,\n"
     ]
    },
    {
     "name": "stdout",
     "output_type": "stream",
     "text": [
      "Center point of docking grid for /home/ben/Documents/Target2DeNovoDrug/tmpexslp4an/1a8m.pdbqt is as follows: x: 64.23, y: 65.34, z: 63.32\n",
      "Sizes of docking grid are as follows:x: 20.25, y: 50.86, z: 41.17\n",
      "Connection to PLIP server successful\n",
      "Processing file 1a8m_CCc1ccc(NC(=O)NS(=O)(=O)c2ccccc2)c(C)c1_cplx.pdb\n",
      "No interactions found for 1a8m_CCc1ccc(NC(=O)NS(=O)(=O)c2ccccc2)c(C)c1_cplx.pdb or damaged structure\n",
      "Message: Unable to locate element: /html/body/div[1]/div[2]/div[2]/p/a\n",
      "\n",
      "Downloading PDB structure '1a8m'...\n"
     ]
    },
    {
     "name": "stderr",
     "output_type": "stream",
     "text": [
      "/home/ben/anaconda3/lib/python3.7/site-packages/Bio/PDB/StructureBuilder.py:92: PDBConstructionWarning: WARNING: Chain A is discontinuous at line 4109.\n",
      "  PDBConstructionWarning,\n",
      "/home/ben/anaconda3/lib/python3.7/site-packages/Bio/PDB/StructureBuilder.py:92: PDBConstructionWarning: WARNING: Chain B is discontinuous at line 4125.\n",
      "  PDBConstructionWarning,\n",
      "/home/ben/anaconda3/lib/python3.7/site-packages/Bio/PDB/StructureBuilder.py:92: PDBConstructionWarning: WARNING: Chain C is discontinuous at line 4150.\n",
      "  PDBConstructionWarning,\n"
     ]
    },
    {
     "name": "stdout",
     "output_type": "stream",
     "text": [
      "Center point of docking grid for /home/ben/Documents/Target2DeNovoDrug/tmp5cp1qbji/1a8m.pdbqt is as follows: x: 64.23, y: 65.34, z: 63.32\n",
      "Sizes of docking grid are as follows:x: 20.25, y: 50.86, z: 41.17\n",
      "Connection to PLIP server successful\n",
      "Processing file 1a8m_COc1ccc(CC(=O)c2ccn(Oc3ccccc3)c2)cc1_cplx.pdb\n",
      "No interactions found for 1a8m_COc1ccc(CC(=O)c2ccn(Oc3ccccc3)c2)cc1_cplx.pdb or damaged structure\n",
      "Message: Unable to locate element: /html/body/div[1]/div[2]/div[2]/p/a\n",
      "\n",
      "Downloading PDB structure '1a8m'...\n"
     ]
    },
    {
     "name": "stderr",
     "output_type": "stream",
     "text": [
      "/home/ben/anaconda3/lib/python3.7/site-packages/Bio/PDB/StructureBuilder.py:92: PDBConstructionWarning: WARNING: Chain A is discontinuous at line 4109.\n",
      "  PDBConstructionWarning,\n",
      "/home/ben/anaconda3/lib/python3.7/site-packages/Bio/PDB/StructureBuilder.py:92: PDBConstructionWarning: WARNING: Chain B is discontinuous at line 4125.\n",
      "  PDBConstructionWarning,\n",
      "/home/ben/anaconda3/lib/python3.7/site-packages/Bio/PDB/StructureBuilder.py:92: PDBConstructionWarning: WARNING: Chain C is discontinuous at line 4150.\n",
      "  PDBConstructionWarning,\n"
     ]
    },
    {
     "name": "stdout",
     "output_type": "stream",
     "text": [
      "Center point of docking grid for /home/ben/Documents/Target2DeNovoDrug/tmp3t3bdyy3/1a8m.pdbqt is as follows: x: 64.23, y: 65.34, z: 63.32\n",
      "Sizes of docking grid are as follows:x: 20.25, y: 50.86, z: 41.17\n",
      "Connection to PLIP server successful\n",
      "Processing file 1a8m_CCC(=O)c1ccc(NC(=O)c2ccc([N+](=O)[O-])cc2)cc1_cplx.pdb\n",
      "No interactions found for 1a8m_CCC(=O)c1ccc(NC(=O)c2ccc([N+](=O)[O-])cc2)cc1_cplx.pdb or damaged structure\n",
      "Message: Unable to locate element: /html/body/div[1]/div[2]/div[2]/p/a\n",
      "\n",
      "Downloading PDB structure '1a8m'...\n"
     ]
    },
    {
     "name": "stderr",
     "output_type": "stream",
     "text": [
      "/home/ben/anaconda3/lib/python3.7/site-packages/Bio/PDB/StructureBuilder.py:92: PDBConstructionWarning: WARNING: Chain A is discontinuous at line 4109.\n",
      "  PDBConstructionWarning,\n",
      "/home/ben/anaconda3/lib/python3.7/site-packages/Bio/PDB/StructureBuilder.py:92: PDBConstructionWarning: WARNING: Chain B is discontinuous at line 4125.\n",
      "  PDBConstructionWarning,\n",
      "/home/ben/anaconda3/lib/python3.7/site-packages/Bio/PDB/StructureBuilder.py:92: PDBConstructionWarning: WARNING: Chain C is discontinuous at line 4150.\n",
      "  PDBConstructionWarning,\n"
     ]
    },
    {
     "name": "stdout",
     "output_type": "stream",
     "text": [
      "Center point of docking grid for /home/ben/Documents/Target2DeNovoDrug/tmpydcr53xa/1a8m.pdbqt is as follows: x: 64.23, y: 65.34, z: 63.32\n",
      "Sizes of docking grid are as follows:x: 20.25, y: 50.86, z: 41.17\n",
      "Connection to PLIP server successful\n",
      "Processing file 1a8m_Cc1ccc(NC(=O)NCc2ccc(Cl)cn2)cc1_cplx.pdb\n",
      "No interactions found for 1a8m_Cc1ccc(NC(=O)NCc2ccc(Cl)cn2)cc1_cplx.pdb or damaged structure\n",
      "Message: Unable to locate element: /html/body/div[1]/div[2]/div[2]/p/a\n",
      "\n",
      "Downloading PDB structure '1a8m'...\n"
     ]
    },
    {
     "name": "stderr",
     "output_type": "stream",
     "text": [
      "/home/ben/anaconda3/lib/python3.7/site-packages/Bio/PDB/StructureBuilder.py:92: PDBConstructionWarning: WARNING: Chain A is discontinuous at line 4109.\n",
      "  PDBConstructionWarning,\n",
      "/home/ben/anaconda3/lib/python3.7/site-packages/Bio/PDB/StructureBuilder.py:92: PDBConstructionWarning: WARNING: Chain B is discontinuous at line 4125.\n",
      "  PDBConstructionWarning,\n",
      "/home/ben/anaconda3/lib/python3.7/site-packages/Bio/PDB/StructureBuilder.py:92: PDBConstructionWarning: WARNING: Chain C is discontinuous at line 4150.\n",
      "  PDBConstructionWarning,\n"
     ]
    },
    {
     "name": "stdout",
     "output_type": "stream",
     "text": [
      "Center point of docking grid for /home/ben/Documents/Target2DeNovoDrug/tmpxvy3jax3/1a8m.pdbqt is as follows: x: 64.23, y: 65.34, z: 63.32\n",
      "Sizes of docking grid are as follows:x: 20.25, y: 50.86, z: 41.17\n",
      "Connection to PLIP server successful\n",
      "Processing file 1a8m_Cc1ccc(S(=O)(=O)Nc2cccc(C(F)(F)F)c2)cc1_cplx.pdb\n",
      "No interactions found for 1a8m_Cc1ccc(S(=O)(=O)Nc2cccc(C(F)(F)F)c2)cc1_cplx.pdb or damaged structure\n",
      "Message: Unable to locate element: /html/body/div[1]/div[2]/div[2]/p/a\n",
      "\n",
      "Downloading PDB structure '1a8m'...\n"
     ]
    },
    {
     "name": "stderr",
     "output_type": "stream",
     "text": [
      "/home/ben/anaconda3/lib/python3.7/site-packages/Bio/PDB/StructureBuilder.py:92: PDBConstructionWarning: WARNING: Chain A is discontinuous at line 4109.\n",
      "  PDBConstructionWarning,\n",
      "/home/ben/anaconda3/lib/python3.7/site-packages/Bio/PDB/StructureBuilder.py:92: PDBConstructionWarning: WARNING: Chain B is discontinuous at line 4125.\n",
      "  PDBConstructionWarning,\n",
      "/home/ben/anaconda3/lib/python3.7/site-packages/Bio/PDB/StructureBuilder.py:92: PDBConstructionWarning: WARNING: Chain C is discontinuous at line 4150.\n",
      "  PDBConstructionWarning,\n"
     ]
    },
    {
     "name": "stdout",
     "output_type": "stream",
     "text": [
      "Center point of docking grid for /home/ben/Documents/Target2DeNovoDrug/tmp1reldyzn/1a8m.pdbqt is as follows: x: 64.23, y: 65.34, z: 63.32\n",
      "Sizes of docking grid are as follows:x: 20.25, y: 50.86, z: 41.17\n",
      "Connection to PLIP server successful\n",
      "Processing file 1a8m_COc1ccccc1NC(=O)c1ccccc1NS(=O)(=O)c1ccc(Cl)cc1_cplx.pdb\n",
      "No interactions found for 1a8m_COc1ccccc1NC(=O)c1ccccc1NS(=O)(=O)c1ccc(Cl)cc1_cplx.pdb or damaged structure\n",
      "Message: Unable to locate element: /html/body/div[1]/div[2]/div[2]/p/a\n",
      "\n",
      "Downloading PDB structure '1a8m'...\n"
     ]
    },
    {
     "name": "stderr",
     "output_type": "stream",
     "text": [
      "/home/ben/anaconda3/lib/python3.7/site-packages/Bio/PDB/StructureBuilder.py:92: PDBConstructionWarning: WARNING: Chain A is discontinuous at line 4109.\n",
      "  PDBConstructionWarning,\n",
      "/home/ben/anaconda3/lib/python3.7/site-packages/Bio/PDB/StructureBuilder.py:92: PDBConstructionWarning: WARNING: Chain B is discontinuous at line 4125.\n",
      "  PDBConstructionWarning,\n",
      "/home/ben/anaconda3/lib/python3.7/site-packages/Bio/PDB/StructureBuilder.py:92: PDBConstructionWarning: WARNING: Chain C is discontinuous at line 4150.\n",
      "  PDBConstructionWarning,\n"
     ]
    },
    {
     "name": "stdout",
     "output_type": "stream",
     "text": [
      "Center point of docking grid for /home/ben/Documents/Target2DeNovoDrug/tmpe_o8muo9/1a8m.pdbqt is as follows: x: 64.23, y: 65.34, z: 63.32\n",
      "Sizes of docking grid are as follows:x: 20.25, y: 50.86, z: 41.17\n",
      "Connection to PLIP server successful\n",
      "Processing file 1a8m_O=C(Nc1ccc(F)cc1)Nc1ncc([N+](=O)[O-])s1_cplx.pdb\n",
      "No interactions found for 1a8m_O=C(Nc1ccc(F)cc1)Nc1ncc([N+](=O)[O-])s1_cplx.pdb or damaged structure\n",
      "Message: Unable to locate element: /html/body/div[1]/div[2]/div[2]/p/a\n",
      "\n",
      "Downloading PDB structure '1a8m'...\n"
     ]
    },
    {
     "name": "stderr",
     "output_type": "stream",
     "text": [
      "/home/ben/anaconda3/lib/python3.7/site-packages/Bio/PDB/StructureBuilder.py:92: PDBConstructionWarning: WARNING: Chain A is discontinuous at line 4109.\n",
      "  PDBConstructionWarning,\n",
      "/home/ben/anaconda3/lib/python3.7/site-packages/Bio/PDB/StructureBuilder.py:92: PDBConstructionWarning: WARNING: Chain B is discontinuous at line 4125.\n",
      "  PDBConstructionWarning,\n",
      "/home/ben/anaconda3/lib/python3.7/site-packages/Bio/PDB/StructureBuilder.py:92: PDBConstructionWarning: WARNING: Chain C is discontinuous at line 4150.\n",
      "  PDBConstructionWarning,\n"
     ]
    },
    {
     "name": "stdout",
     "output_type": "stream",
     "text": [
      "Center point of docking grid for /home/ben/Documents/Target2DeNovoDrug/tmpalhse1cu/1a8m.pdbqt is as follows: x: 64.23, y: 65.34, z: 63.32\n",
      "Sizes of docking grid are as follows:x: 20.25, y: 50.86, z: 41.17\n",
      "Connection to PLIP server successful\n",
      "Processing file 1a8m_Cc1ccc(S(=O)(=O)Nc2ccc(C(=O)NCCC(C)C)cc2)cc1_cplx.pdb\n",
      "No interactions found for 1a8m_Cc1ccc(S(=O)(=O)Nc2ccc(C(=O)NCCC(C)C)cc2)cc1_cplx.pdb or damaged structure\n",
      "Message: Unable to locate element: /html/body/div[1]/div[2]/div[2]/p/a\n",
      "\n",
      "Downloading PDB structure '1a8m'...\n"
     ]
    },
    {
     "name": "stderr",
     "output_type": "stream",
     "text": [
      "/home/ben/anaconda3/lib/python3.7/site-packages/Bio/PDB/StructureBuilder.py:92: PDBConstructionWarning: WARNING: Chain A is discontinuous at line 4109.\n",
      "  PDBConstructionWarning,\n",
      "/home/ben/anaconda3/lib/python3.7/site-packages/Bio/PDB/StructureBuilder.py:92: PDBConstructionWarning: WARNING: Chain B is discontinuous at line 4125.\n",
      "  PDBConstructionWarning,\n",
      "/home/ben/anaconda3/lib/python3.7/site-packages/Bio/PDB/StructureBuilder.py:92: PDBConstructionWarning: WARNING: Chain C is discontinuous at line 4150.\n",
      "  PDBConstructionWarning,\n"
     ]
    },
    {
     "name": "stdout",
     "output_type": "stream",
     "text": [
      "Center point of docking grid for /home/ben/Documents/Target2DeNovoDrug/tmpt2va_lkg/1a8m.pdbqt is as follows: x: 64.23, y: 65.34, z: 63.32\n",
      "Sizes of docking grid are as follows:x: 20.25, y: 50.86, z: 41.17\n",
      "Connection to PLIP server successful\n",
      "Processing file 1a8m_O=C(NCc1ccccc1)c1ccc(NS(=O)(=O)c2ccccc2)cc1_cplx.pdb\n",
      "No interactions found for 1a8m_O=C(NCc1ccccc1)c1ccc(NS(=O)(=O)c2ccccc2)cc1_cplx.pdb or damaged structure\n",
      "Message: Unable to locate element: /html/body/div[1]/div[2]/div[2]/p/a\n",
      "\n",
      "Downloading PDB structure '1a8m'...\n"
     ]
    },
    {
     "name": "stderr",
     "output_type": "stream",
     "text": [
      "/home/ben/anaconda3/lib/python3.7/site-packages/Bio/PDB/StructureBuilder.py:92: PDBConstructionWarning: WARNING: Chain A is discontinuous at line 4109.\n",
      "  PDBConstructionWarning,\n",
      "/home/ben/anaconda3/lib/python3.7/site-packages/Bio/PDB/StructureBuilder.py:92: PDBConstructionWarning: WARNING: Chain B is discontinuous at line 4125.\n",
      "  PDBConstructionWarning,\n",
      "/home/ben/anaconda3/lib/python3.7/site-packages/Bio/PDB/StructureBuilder.py:92: PDBConstructionWarning: WARNING: Chain C is discontinuous at line 4150.\n",
      "  PDBConstructionWarning,\n"
     ]
    },
    {
     "name": "stdout",
     "output_type": "stream",
     "text": [
      "Center point of docking grid for /home/ben/Documents/Target2DeNovoDrug/tmp7vt9fuj7/1a8m.pdbqt is as follows: x: 64.23, y: 65.34, z: 63.32\n",
      "Sizes of docking grid are as follows:x: 20.25, y: 50.86, z: 41.17\n",
      "Connection to PLIP server successful\n",
      "Processing file 1a8m_CCc1cc(NCCC(=O)O)ccc1NC(=O)c1ccc(Cl)c(S(=O)(=O)N2CCCC2)c1_cplx.pdb\n",
      "No interactions found for 1a8m_CCc1cc(NCCC(=O)O)ccc1NC(=O)c1ccc(Cl)c(S(=O)(=O)N2CCCC2)c1_cplx.pdb or damaged structure\n",
      "Message: Unable to locate element: /html/body/div[1]/div[2]/div[2]/p/a\n",
      "\n",
      "Downloading PDB structure '1a8m'...\n"
     ]
    },
    {
     "name": "stderr",
     "output_type": "stream",
     "text": [
      "/home/ben/anaconda3/lib/python3.7/site-packages/Bio/PDB/StructureBuilder.py:92: PDBConstructionWarning: WARNING: Chain A is discontinuous at line 4109.\n",
      "  PDBConstructionWarning,\n",
      "/home/ben/anaconda3/lib/python3.7/site-packages/Bio/PDB/StructureBuilder.py:92: PDBConstructionWarning: WARNING: Chain B is discontinuous at line 4125.\n",
      "  PDBConstructionWarning,\n",
      "/home/ben/anaconda3/lib/python3.7/site-packages/Bio/PDB/StructureBuilder.py:92: PDBConstructionWarning: WARNING: Chain C is discontinuous at line 4150.\n",
      "  PDBConstructionWarning,\n"
     ]
    },
    {
     "name": "stdout",
     "output_type": "stream",
     "text": [
      "Center point of docking grid for /home/ben/Documents/Target2DeNovoDrug/tmpk0j81e41/1a8m.pdbqt is as follows: x: 64.23, y: 65.34, z: 63.32\n",
      "Sizes of docking grid are as follows:x: 20.25, y: 50.86, z: 41.17\n",
      "Connection to PLIP server successful\n",
      "Processing file 1a8m_COc1ccccc1C(=O)Nc1ccc(S(=O)(=O)N2CCOCC2)cc1_cplx.pdb\n",
      "No interactions found for 1a8m_COc1ccccc1C(=O)Nc1ccc(S(=O)(=O)N2CCOCC2)cc1_cplx.pdb or damaged structure\n",
      "Message: Unable to locate element: /html/body/div[1]/div[2]/div[2]/p/a\n",
      "\n",
      "Downloading PDB structure '1a8m'...\n"
     ]
    },
    {
     "name": "stderr",
     "output_type": "stream",
     "text": [
      "/home/ben/anaconda3/lib/python3.7/site-packages/Bio/PDB/StructureBuilder.py:92: PDBConstructionWarning: WARNING: Chain A is discontinuous at line 4109.\n",
      "  PDBConstructionWarning,\n",
      "/home/ben/anaconda3/lib/python3.7/site-packages/Bio/PDB/StructureBuilder.py:92: PDBConstructionWarning: WARNING: Chain B is discontinuous at line 4125.\n",
      "  PDBConstructionWarning,\n",
      "/home/ben/anaconda3/lib/python3.7/site-packages/Bio/PDB/StructureBuilder.py:92: PDBConstructionWarning: WARNING: Chain C is discontinuous at line 4150.\n",
      "  PDBConstructionWarning,\n"
     ]
    },
    {
     "name": "stdout",
     "output_type": "stream",
     "text": [
      "Center point of docking grid for /home/ben/Documents/Target2DeNovoDrug/tmpc7_8h6zu/1a8m.pdbqt is as follows: x: 64.23, y: 65.34, z: 63.32\n",
      "Sizes of docking grid are as follows:x: 20.25, y: 50.86, z: 41.17\n",
      "Connection to PLIP server successful\n",
      "Processing file 1a8m_Cc1ccc(SC(=O)Nc2cnc(-c3ccc(Cl)cc3)o2)cc1_cplx.pdb\n",
      "No interactions found for 1a8m_Cc1ccc(SC(=O)Nc2cnc(-c3ccc(Cl)cc3)o2)cc1_cplx.pdb or damaged structure\n",
      "Message: Unable to locate element: /html/body/div[1]/div[2]/div[2]/p/a\n",
      "\n",
      "Downloading PDB structure '1a8m'...\n"
     ]
    },
    {
     "name": "stderr",
     "output_type": "stream",
     "text": [
      "/home/ben/anaconda3/lib/python3.7/site-packages/Bio/PDB/StructureBuilder.py:92: PDBConstructionWarning: WARNING: Chain A is discontinuous at line 4109.\n",
      "  PDBConstructionWarning,\n",
      "/home/ben/anaconda3/lib/python3.7/site-packages/Bio/PDB/StructureBuilder.py:92: PDBConstructionWarning: WARNING: Chain B is discontinuous at line 4125.\n",
      "  PDBConstructionWarning,\n",
      "/home/ben/anaconda3/lib/python3.7/site-packages/Bio/PDB/StructureBuilder.py:92: PDBConstructionWarning: WARNING: Chain C is discontinuous at line 4150.\n",
      "  PDBConstructionWarning,\n"
     ]
    },
    {
     "name": "stdout",
     "output_type": "stream",
     "text": [
      "Center point of docking grid for /home/ben/Documents/Target2DeNovoDrug/tmpkt6h8lst/1a8m.pdbqt is as follows: x: 64.23, y: 65.34, z: 63.32\n",
      "Sizes of docking grid are as follows:x: 20.25, y: 50.86, z: 41.17\n",
      "Connection to PLIP server successful\n",
      "Processing file 1a8m_CCCCCC(C)CCC(=O)Nc1nc(-c2ccccc2)cs1_cplx.pdb\n",
      "No interactions found for 1a8m_CCCCCC(C)CCC(=O)Nc1nc(-c2ccccc2)cs1_cplx.pdb or damaged structure\n",
      "Message: Unable to locate element: /html/body/div[1]/div[2]/div[2]/p/a\n",
      "\n",
      "Downloading PDB structure '1a8m'...\n"
     ]
    },
    {
     "name": "stderr",
     "output_type": "stream",
     "text": [
      "/home/ben/anaconda3/lib/python3.7/site-packages/Bio/PDB/StructureBuilder.py:92: PDBConstructionWarning: WARNING: Chain A is discontinuous at line 4109.\n",
      "  PDBConstructionWarning,\n",
      "/home/ben/anaconda3/lib/python3.7/site-packages/Bio/PDB/StructureBuilder.py:92: PDBConstructionWarning: WARNING: Chain B is discontinuous at line 4125.\n",
      "  PDBConstructionWarning,\n",
      "/home/ben/anaconda3/lib/python3.7/site-packages/Bio/PDB/StructureBuilder.py:92: PDBConstructionWarning: WARNING: Chain C is discontinuous at line 4150.\n",
      "  PDBConstructionWarning,\n"
     ]
    },
    {
     "name": "stdout",
     "output_type": "stream",
     "text": [
      "Center point of docking grid for /home/ben/Documents/Target2DeNovoDrug/tmpyiicfym0/1a8m.pdbqt is as follows: x: 64.23, y: 65.34, z: 63.32\n",
      "Sizes of docking grid are as follows:x: 20.25, y: 50.86, z: 41.17\n",
      "Connection to PLIP server successful\n",
      "Processing file 1a8m_Cc1ccc(C)c(NC(=O)CSC2=Nc3scc(-c4ccccc4)c3C2=O)c1_cplx.pdb\n",
      "No interactions found for 1a8m_Cc1ccc(C)c(NC(=O)CSC2=Nc3scc(-c4ccccc4)c3C2=O)c1_cplx.pdb or damaged structure\n",
      "Message: Unable to locate element: /html/body/div[1]/div[2]/div[2]/p/a\n",
      "\n",
      "Downloading PDB structure '1a8m'...\n"
     ]
    },
    {
     "name": "stderr",
     "output_type": "stream",
     "text": [
      "/home/ben/anaconda3/lib/python3.7/site-packages/Bio/PDB/StructureBuilder.py:92: PDBConstructionWarning: WARNING: Chain A is discontinuous at line 4109.\n",
      "  PDBConstructionWarning,\n",
      "/home/ben/anaconda3/lib/python3.7/site-packages/Bio/PDB/StructureBuilder.py:92: PDBConstructionWarning: WARNING: Chain B is discontinuous at line 4125.\n",
      "  PDBConstructionWarning,\n",
      "/home/ben/anaconda3/lib/python3.7/site-packages/Bio/PDB/StructureBuilder.py:92: PDBConstructionWarning: WARNING: Chain C is discontinuous at line 4150.\n",
      "  PDBConstructionWarning,\n"
     ]
    },
    {
     "name": "stdout",
     "output_type": "stream",
     "text": [
      "Center point of docking grid for /home/ben/Documents/Target2DeNovoDrug/tmpf1by1is4/1a8m.pdbqt is as follows: x: 64.23, y: 65.34, z: 63.32\n",
      "Sizes of docking grid are as follows:x: 20.25, y: 50.86, z: 41.17\n",
      "Connection to PLIP server successful\n",
      "Processing file 1a8m_Cc1ccc(Nc2nc3ccccc3nc2NS(=O)(=O)c2cccs2)cc1_cplx.pdb\n",
      "No interactions found for 1a8m_Cc1ccc(Nc2nc3ccccc3nc2NS(=O)(=O)c2cccs2)cc1_cplx.pdb or damaged structure\n",
      "Message: Unable to locate element: /html/body/div[1]/div[2]/div[2]/p/a\n",
      "\n",
      "Downloading PDB structure '1a8m'...\n"
     ]
    },
    {
     "name": "stderr",
     "output_type": "stream",
     "text": [
      "/home/ben/anaconda3/lib/python3.7/site-packages/Bio/PDB/StructureBuilder.py:92: PDBConstructionWarning: WARNING: Chain A is discontinuous at line 4109.\n",
      "  PDBConstructionWarning,\n",
      "/home/ben/anaconda3/lib/python3.7/site-packages/Bio/PDB/StructureBuilder.py:92: PDBConstructionWarning: WARNING: Chain B is discontinuous at line 4125.\n",
      "  PDBConstructionWarning,\n",
      "/home/ben/anaconda3/lib/python3.7/site-packages/Bio/PDB/StructureBuilder.py:92: PDBConstructionWarning: WARNING: Chain C is discontinuous at line 4150.\n",
      "  PDBConstructionWarning,\n"
     ]
    },
    {
     "name": "stdout",
     "output_type": "stream",
     "text": [
      "Center point of docking grid for /home/ben/Documents/Target2DeNovoDrug/tmp5arg96s5/1a8m.pdbqt is as follows: x: 64.23, y: 65.34, z: 63.32\n",
      "Sizes of docking grid are as follows:x: 20.25, y: 50.86, z: 41.17\n",
      "Connection to PLIP server successful\n",
      "Processing file 1a8m_CCN(CC)C(=O)c1ccccc1C(=O)c1ccc(Br)c([N+](=O)[O-])c1_cplx.pdb\n",
      "No interactions found for 1a8m_CCN(CC)C(=O)c1ccccc1C(=O)c1ccc(Br)c([N+](=O)[O-])c1_cplx.pdb or damaged structure\n",
      "Message: Unable to locate element: /html/body/div[1]/div[2]/div[2]/p/a\n",
      "\n",
      "Downloading PDB structure '1a8m'...\n"
     ]
    },
    {
     "name": "stderr",
     "output_type": "stream",
     "text": [
      "/home/ben/anaconda3/lib/python3.7/site-packages/Bio/PDB/StructureBuilder.py:92: PDBConstructionWarning: WARNING: Chain A is discontinuous at line 4109.\n",
      "  PDBConstructionWarning,\n",
      "/home/ben/anaconda3/lib/python3.7/site-packages/Bio/PDB/StructureBuilder.py:92: PDBConstructionWarning: WARNING: Chain B is discontinuous at line 4125.\n",
      "  PDBConstructionWarning,\n",
      "/home/ben/anaconda3/lib/python3.7/site-packages/Bio/PDB/StructureBuilder.py:92: PDBConstructionWarning: WARNING: Chain C is discontinuous at line 4150.\n",
      "  PDBConstructionWarning,\n"
     ]
    },
    {
     "name": "stdout",
     "output_type": "stream",
     "text": [
      "Center point of docking grid for /home/ben/Documents/Target2DeNovoDrug/tmpcq26spgk/1a8m.pdbqt is as follows: x: 64.23, y: 65.34, z: 63.32\n",
      "Sizes of docking grid are as follows:x: 20.25, y: 50.86, z: 41.17\n",
      "Connection to PLIP server successful\n",
      "Processing file 1a8m_CCN(CC)C(=O)C(C#N)=Cc1ccc(C(=O)OCc2ccccc2)cc1_cplx.pdb\n",
      "No interactions found for 1a8m_CCN(CC)C(=O)C(C#N)=Cc1ccc(C(=O)OCc2ccccc2)cc1_cplx.pdb or damaged structure\n",
      "Message: Unable to locate element: /html/body/div[1]/div[2]/div[2]/p/a\n",
      "\n",
      "Downloading PDB structure '1a8m'...\n"
     ]
    },
    {
     "name": "stderr",
     "output_type": "stream",
     "text": [
      "/home/ben/anaconda3/lib/python3.7/site-packages/Bio/PDB/StructureBuilder.py:92: PDBConstructionWarning: WARNING: Chain A is discontinuous at line 4109.\n",
      "  PDBConstructionWarning,\n",
      "/home/ben/anaconda3/lib/python3.7/site-packages/Bio/PDB/StructureBuilder.py:92: PDBConstructionWarning: WARNING: Chain B is discontinuous at line 4125.\n",
      "  PDBConstructionWarning,\n",
      "/home/ben/anaconda3/lib/python3.7/site-packages/Bio/PDB/StructureBuilder.py:92: PDBConstructionWarning: WARNING: Chain C is discontinuous at line 4150.\n",
      "  PDBConstructionWarning,\n"
     ]
    },
    {
     "name": "stdout",
     "output_type": "stream",
     "text": [
      "Center point of docking grid for /home/ben/Documents/Target2DeNovoDrug/tmps9vwkrkg/1a8m.pdbqt is as follows: x: 64.23, y: 65.34, z: 63.32\n",
      "Sizes of docking grid are as follows:x: 20.25, y: 50.86, z: 41.17\n",
      "Connection to PLIP server successful\n",
      "Processing file 1a8m_Cc1ccc(NC(=O)C=C(S)c2ccccc2C(=O)c2ccccc2)cc1_cplx.pdb\n",
      "No interactions found for 1a8m_Cc1ccc(NC(=O)C=C(S)c2ccccc2C(=O)c2ccccc2)cc1_cplx.pdb or damaged structure\n",
      "Message: Unable to locate element: /html/body/div[1]/div[2]/div[2]/p/a\n",
      "\n",
      "Downloading PDB structure '1a8m'...\n"
     ]
    },
    {
     "name": "stderr",
     "output_type": "stream",
     "text": [
      "/home/ben/anaconda3/lib/python3.7/site-packages/Bio/PDB/StructureBuilder.py:92: PDBConstructionWarning: WARNING: Chain A is discontinuous at line 4109.\n",
      "  PDBConstructionWarning,\n",
      "/home/ben/anaconda3/lib/python3.7/site-packages/Bio/PDB/StructureBuilder.py:92: PDBConstructionWarning: WARNING: Chain B is discontinuous at line 4125.\n",
      "  PDBConstructionWarning,\n",
      "/home/ben/anaconda3/lib/python3.7/site-packages/Bio/PDB/StructureBuilder.py:92: PDBConstructionWarning: WARNING: Chain C is discontinuous at line 4150.\n",
      "  PDBConstructionWarning,\n"
     ]
    },
    {
     "name": "stdout",
     "output_type": "stream",
     "text": [
      "Center point of docking grid for /home/ben/Documents/Target2DeNovoDrug/tmpxp2lcgkn/1a8m.pdbqt is as follows: x: 64.23, y: 65.34, z: 63.32\n",
      "Sizes of docking grid are as follows:x: 20.25, y: 50.86, z: 41.17\n",
      "Connection to PLIP server successful\n",
      "Processing file 1a8m_COc1ccc(NC(=O)c2cccc([N+](=O)[O-])c2)cc1_cplx.pdb\n",
      "No interactions found for 1a8m_COc1ccc(NC(=O)c2cccc([N+](=O)[O-])c2)cc1_cplx.pdb or damaged structure\n",
      "Message: Unable to locate element: /html/body/div[1]/div[2]/div[2]/p/a\n",
      "\n"
     ]
    }
   ],
   "source": [
    "execute(PDB, A2)"
   ]
  },
  {
   "cell_type": "code",
   "execution_count": 40,
   "metadata": {},
   "outputs": [
    {
     "name": "stdout",
     "output_type": "stream",
     "text": [
      "Downloading PDB structure '1a8m'...\n"
     ]
    },
    {
     "name": "stderr",
     "output_type": "stream",
     "text": [
      "/home/ben/anaconda3/lib/python3.7/site-packages/Bio/PDB/StructureBuilder.py:92: PDBConstructionWarning: WARNING: Chain A is discontinuous at line 4109.\n",
      "  PDBConstructionWarning,\n",
      "/home/ben/anaconda3/lib/python3.7/site-packages/Bio/PDB/StructureBuilder.py:92: PDBConstructionWarning: WARNING: Chain B is discontinuous at line 4125.\n",
      "  PDBConstructionWarning,\n",
      "/home/ben/anaconda3/lib/python3.7/site-packages/Bio/PDB/StructureBuilder.py:92: PDBConstructionWarning: WARNING: Chain C is discontinuous at line 4150.\n",
      "  PDBConstructionWarning,\n"
     ]
    },
    {
     "name": "stdout",
     "output_type": "stream",
     "text": [
      "Center point of docking grid for /home/ben/Documents/Target2DeNovoDrug/tmpmpxn1f6r/1a8m.pdbqt is as follows: x: 64.23, y: 65.34, z: 63.32\n",
      "Sizes of docking grid are as follows:x: 20.25, y: 50.86, z: 41.17\n",
      "Connection to PLIP server successful\n",
      "Processing file 1a8m_O=C(CCc1cccc(Cl)c1)Nc1nc(-c2ccccc2)cs1_cplx.pdb\n",
      "No interactions found for 1a8m_O=C(CCc1cccc(Cl)c1)Nc1nc(-c2ccccc2)cs1_cplx.pdb or damaged structure\n",
      "Message: Unable to locate element: /html/body/div[1]/div[2]/div[2]/p/a\n",
      "\n",
      "Downloading PDB structure '1a8m'...\n"
     ]
    },
    {
     "name": "stderr",
     "output_type": "stream",
     "text": [
      "/home/ben/anaconda3/lib/python3.7/site-packages/Bio/PDB/StructureBuilder.py:92: PDBConstructionWarning: WARNING: Chain A is discontinuous at line 4109.\n",
      "  PDBConstructionWarning,\n",
      "/home/ben/anaconda3/lib/python3.7/site-packages/Bio/PDB/StructureBuilder.py:92: PDBConstructionWarning: WARNING: Chain B is discontinuous at line 4125.\n",
      "  PDBConstructionWarning,\n",
      "/home/ben/anaconda3/lib/python3.7/site-packages/Bio/PDB/StructureBuilder.py:92: PDBConstructionWarning: WARNING: Chain C is discontinuous at line 4150.\n",
      "  PDBConstructionWarning,\n"
     ]
    },
    {
     "name": "stdout",
     "output_type": "stream",
     "text": [
      "Center point of docking grid for /home/ben/Documents/Target2DeNovoDrug/tmpdl6covbz/1a8m.pdbqt is as follows: x: 64.23, y: 65.34, z: 63.32\n",
      "Sizes of docking grid are as follows:x: 20.25, y: 50.86, z: 41.17\n",
      "Connection to PLIP server successful\n",
      "Processing file 1a8m_COc1ccccc1C(=O)Nc1ccc(-c2cccc([N+](=O)[O-])c2)cc1_cplx.pdb\n",
      "No interactions found for 1a8m_COc1ccccc1C(=O)Nc1ccc(-c2cccc([N+](=O)[O-])c2)cc1_cplx.pdb or damaged structure\n",
      "Message: Unable to locate element: /html/body/div[1]/div[2]/div[2]/p/a\n",
      "\n",
      "Downloading PDB structure '1a8m'...\n"
     ]
    },
    {
     "name": "stderr",
     "output_type": "stream",
     "text": [
      "/home/ben/anaconda3/lib/python3.7/site-packages/Bio/PDB/StructureBuilder.py:92: PDBConstructionWarning: WARNING: Chain A is discontinuous at line 4109.\n",
      "  PDBConstructionWarning,\n",
      "/home/ben/anaconda3/lib/python3.7/site-packages/Bio/PDB/StructureBuilder.py:92: PDBConstructionWarning: WARNING: Chain B is discontinuous at line 4125.\n",
      "  PDBConstructionWarning,\n",
      "/home/ben/anaconda3/lib/python3.7/site-packages/Bio/PDB/StructureBuilder.py:92: PDBConstructionWarning: WARNING: Chain C is discontinuous at line 4150.\n",
      "  PDBConstructionWarning,\n"
     ]
    },
    {
     "name": "stdout",
     "output_type": "stream",
     "text": [
      "Center point of docking grid for /home/ben/Documents/Target2DeNovoDrug/tmp9dcry2u1/1a8m.pdbqt is as follows: x: 64.23, y: 65.34, z: 63.32\n",
      "Sizes of docking grid are as follows:x: 20.25, y: 50.86, z: 41.17\n",
      "Connection to PLIP server successful\n",
      "Processing file 1a8m_COc1ccc(C(=O)Nc2ccc(O)c(OC)c2)cc1_cplx.pdb\n",
      "No interactions found for 1a8m_COc1ccc(C(=O)Nc2ccc(O)c(OC)c2)cc1_cplx.pdb or damaged structure\n",
      "Message: Unable to locate element: /html/body/div[1]/div[2]/div[2]/p/a\n",
      "\n",
      "Downloading PDB structure '1a8m'...\n"
     ]
    },
    {
     "name": "stderr",
     "output_type": "stream",
     "text": [
      "/home/ben/anaconda3/lib/python3.7/site-packages/Bio/PDB/StructureBuilder.py:92: PDBConstructionWarning: WARNING: Chain A is discontinuous at line 4109.\n",
      "  PDBConstructionWarning,\n",
      "/home/ben/anaconda3/lib/python3.7/site-packages/Bio/PDB/StructureBuilder.py:92: PDBConstructionWarning: WARNING: Chain B is discontinuous at line 4125.\n",
      "  PDBConstructionWarning,\n",
      "/home/ben/anaconda3/lib/python3.7/site-packages/Bio/PDB/StructureBuilder.py:92: PDBConstructionWarning: WARNING: Chain C is discontinuous at line 4150.\n",
      "  PDBConstructionWarning,\n"
     ]
    },
    {
     "name": "stdout",
     "output_type": "stream",
     "text": [
      "Center point of docking grid for /home/ben/Documents/Target2DeNovoDrug/tmpi_f3eooe/1a8m.pdbqt is as follows: x: 64.23, y: 65.34, z: 63.32\n",
      "Sizes of docking grid are as follows:x: 20.25, y: 50.86, z: 41.17\n",
      "Connection to PLIP server successful\n",
      "Processing file 1a8m_O=S(=O)(Nc1csc(-c2cccnc2)n1)c1ccccc1Cl_cplx.pdb\n",
      "No interactions found for 1a8m_O=S(=O)(Nc1csc(-c2cccnc2)n1)c1ccccc1Cl_cplx.pdb or damaged structure\n",
      "Message: Unable to locate element: /html/body/div[1]/div[2]/div[2]/p/a\n",
      "\n",
      "Downloading PDB structure '1a8m'...\n"
     ]
    },
    {
     "name": "stderr",
     "output_type": "stream",
     "text": [
      "/home/ben/anaconda3/lib/python3.7/site-packages/Bio/PDB/StructureBuilder.py:92: PDBConstructionWarning: WARNING: Chain A is discontinuous at line 4109.\n",
      "  PDBConstructionWarning,\n",
      "/home/ben/anaconda3/lib/python3.7/site-packages/Bio/PDB/StructureBuilder.py:92: PDBConstructionWarning: WARNING: Chain B is discontinuous at line 4125.\n",
      "  PDBConstructionWarning,\n",
      "/home/ben/anaconda3/lib/python3.7/site-packages/Bio/PDB/StructureBuilder.py:92: PDBConstructionWarning: WARNING: Chain C is discontinuous at line 4150.\n",
      "  PDBConstructionWarning,\n"
     ]
    },
    {
     "name": "stdout",
     "output_type": "stream",
     "text": [
      "Center point of docking grid for /home/ben/Documents/Target2DeNovoDrug/tmp02k1llcr/1a8m.pdbqt is as follows: x: 64.23, y: 65.34, z: 63.32\n",
      "Sizes of docking grid are as follows:x: 20.25, y: 50.86, z: 41.17\n",
      "Connection to PLIP server successful\n",
      "Processing file 1a8m_O=C(Nc1nc2ccccc2nc1NS(=O)(=O)c1ccccc1)C(=O)NC1CCN(c2cccc(Cl)c2)CC1_cplx.pdb\n",
      "No interactions found for 1a8m_O=C(Nc1nc2ccccc2nc1NS(=O)(=O)c1ccccc1)C(=O)NC1CCN(c2cccc(Cl)c2)CC1_cplx.pdb or damaged structure\n",
      "Message: Unable to locate element: /html/body/div[1]/div[2]/div[2]/p/a\n",
      "\n",
      "Downloading PDB structure '1a8m'...\n"
     ]
    },
    {
     "name": "stderr",
     "output_type": "stream",
     "text": [
      "/home/ben/anaconda3/lib/python3.7/site-packages/Bio/PDB/StructureBuilder.py:92: PDBConstructionWarning: WARNING: Chain A is discontinuous at line 4109.\n",
      "  PDBConstructionWarning,\n",
      "/home/ben/anaconda3/lib/python3.7/site-packages/Bio/PDB/StructureBuilder.py:92: PDBConstructionWarning: WARNING: Chain B is discontinuous at line 4125.\n",
      "  PDBConstructionWarning,\n",
      "/home/ben/anaconda3/lib/python3.7/site-packages/Bio/PDB/StructureBuilder.py:92: PDBConstructionWarning: WARNING: Chain C is discontinuous at line 4150.\n",
      "  PDBConstructionWarning,\n"
     ]
    },
    {
     "name": "stdout",
     "output_type": "stream",
     "text": [
      "Center point of docking grid for /home/ben/Documents/Target2DeNovoDrug/tmpl15mdgwc/1a8m.pdbqt is as follows: x: 64.23, y: 65.34, z: 63.32\n",
      "Sizes of docking grid are as follows:x: 20.25, y: 50.86, z: 41.17\n",
      "Connection to PLIP server successful\n",
      "Processing file 1a8m_CCCC(C)CCCC(=O)Nc1cc(-c2cccnc2)sc1-c1ccccc1_cplx.pdb\n",
      "No interactions found for 1a8m_CCCC(C)CCCC(=O)Nc1cc(-c2cccnc2)sc1-c1ccccc1_cplx.pdb or damaged structure\n",
      "Message: Unable to locate element: /html/body/div[1]/div[2]/div[2]/p/a\n",
      "\n",
      "Downloading PDB structure '1a8m'...\n"
     ]
    },
    {
     "name": "stderr",
     "output_type": "stream",
     "text": [
      "/home/ben/anaconda3/lib/python3.7/site-packages/Bio/PDB/StructureBuilder.py:92: PDBConstructionWarning: WARNING: Chain A is discontinuous at line 4109.\n",
      "  PDBConstructionWarning,\n",
      "/home/ben/anaconda3/lib/python3.7/site-packages/Bio/PDB/StructureBuilder.py:92: PDBConstructionWarning: WARNING: Chain B is discontinuous at line 4125.\n",
      "  PDBConstructionWarning,\n",
      "/home/ben/anaconda3/lib/python3.7/site-packages/Bio/PDB/StructureBuilder.py:92: PDBConstructionWarning: WARNING: Chain C is discontinuous at line 4150.\n",
      "  PDBConstructionWarning,\n"
     ]
    },
    {
     "name": "stdout",
     "output_type": "stream",
     "text": [
      "Center point of docking grid for /home/ben/Documents/Target2DeNovoDrug/tmp7icm8tzv/1a8m.pdbqt is as follows: x: 64.23, y: 65.34, z: 63.32\n",
      "Sizes of docking grid are as follows:x: 20.25, y: 50.86, z: 41.17\n",
      "Connection to PLIP server successful\n",
      "Processing file 1a8m_Cc1ccc(Oc2cccc(C(=O)Nc3ccc(F)cc3)c2)cc1_cplx.pdb\n",
      "No interactions found for 1a8m_Cc1ccc(Oc2cccc(C(=O)Nc3ccc(F)cc3)c2)cc1_cplx.pdb or damaged structure\n",
      "Message: Unable to locate element: /html/body/div[1]/div[2]/div[2]/p/a\n",
      "\n",
      "Downloading PDB structure '1a8m'...\n"
     ]
    },
    {
     "name": "stderr",
     "output_type": "stream",
     "text": [
      "/home/ben/anaconda3/lib/python3.7/site-packages/Bio/PDB/StructureBuilder.py:92: PDBConstructionWarning: WARNING: Chain A is discontinuous at line 4109.\n",
      "  PDBConstructionWarning,\n",
      "/home/ben/anaconda3/lib/python3.7/site-packages/Bio/PDB/StructureBuilder.py:92: PDBConstructionWarning: WARNING: Chain B is discontinuous at line 4125.\n",
      "  PDBConstructionWarning,\n",
      "/home/ben/anaconda3/lib/python3.7/site-packages/Bio/PDB/StructureBuilder.py:92: PDBConstructionWarning: WARNING: Chain C is discontinuous at line 4150.\n",
      "  PDBConstructionWarning,\n"
     ]
    },
    {
     "name": "stdout",
     "output_type": "stream",
     "text": [
      "Center point of docking grid for /home/ben/Documents/Target2DeNovoDrug/tmpqlfztvcu/1a8m.pdbqt is as follows: x: 64.23, y: 65.34, z: 63.32\n",
      "Sizes of docking grid are as follows:x: 20.25, y: 50.86, z: 41.17\n",
      "Connection to PLIP server successful\n",
      "Processing file 1a8m_COc1ccc(NC(=O)N2CCN(c3ccc(F)cc3)CC2)cc1_cplx.pdb\n",
      "No interactions found for 1a8m_COc1ccc(NC(=O)N2CCN(c3ccc(F)cc3)CC2)cc1_cplx.pdb or damaged structure\n",
      "Message: Unable to locate element: /html/body/div[1]/div[2]/div[2]/p/a\n",
      "\n",
      "Downloading PDB structure '1a8m'...\n"
     ]
    },
    {
     "name": "stderr",
     "output_type": "stream",
     "text": [
      "/home/ben/anaconda3/lib/python3.7/site-packages/Bio/PDB/StructureBuilder.py:92: PDBConstructionWarning: WARNING: Chain A is discontinuous at line 4109.\n",
      "  PDBConstructionWarning,\n",
      "/home/ben/anaconda3/lib/python3.7/site-packages/Bio/PDB/StructureBuilder.py:92: PDBConstructionWarning: WARNING: Chain B is discontinuous at line 4125.\n",
      "  PDBConstructionWarning,\n",
      "/home/ben/anaconda3/lib/python3.7/site-packages/Bio/PDB/StructureBuilder.py:92: PDBConstructionWarning: WARNING: Chain C is discontinuous at line 4150.\n",
      "  PDBConstructionWarning,\n"
     ]
    },
    {
     "name": "stdout",
     "output_type": "stream",
     "text": [
      "Center point of docking grid for /home/ben/Documents/Target2DeNovoDrug/tmpepkobebc/1a8m.pdbqt is as follows: x: 64.23, y: 65.34, z: 63.32\n",
      "Sizes of docking grid are as follows:x: 20.25, y: 50.86, z: 41.17\n",
      "Connection to PLIP server successful\n",
      "Processing file 1a8m_CCOC(=O)c1ccc(NC(=O)c2ccc3c(c2)OCO3)cc1_cplx.pdb\n",
      "No interactions found for 1a8m_CCOC(=O)c1ccc(NC(=O)c2ccc3c(c2)OCO3)cc1_cplx.pdb or damaged structure\n",
      "Message: Unable to locate element: /html/body/div[1]/div[2]/div[2]/p/a\n",
      "\n",
      "Downloading PDB structure '1a8m'...\n"
     ]
    },
    {
     "name": "stderr",
     "output_type": "stream",
     "text": [
      "/home/ben/anaconda3/lib/python3.7/site-packages/Bio/PDB/StructureBuilder.py:92: PDBConstructionWarning: WARNING: Chain A is discontinuous at line 4109.\n",
      "  PDBConstructionWarning,\n",
      "/home/ben/anaconda3/lib/python3.7/site-packages/Bio/PDB/StructureBuilder.py:92: PDBConstructionWarning: WARNING: Chain B is discontinuous at line 4125.\n",
      "  PDBConstructionWarning,\n",
      "/home/ben/anaconda3/lib/python3.7/site-packages/Bio/PDB/StructureBuilder.py:92: PDBConstructionWarning: WARNING: Chain C is discontinuous at line 4150.\n",
      "  PDBConstructionWarning,\n"
     ]
    },
    {
     "name": "stdout",
     "output_type": "stream",
     "text": [
      "Center point of docking grid for /home/ben/Documents/Target2DeNovoDrug/tmpwqo16_9o/1a8m.pdbqt is as follows: x: 64.23, y: 65.34, z: 63.32\n",
      "Sizes of docking grid are as follows:x: 20.25, y: 50.86, z: 41.17\n",
      "Connection to PLIP server successful\n",
      "Processing file 1a8m_COc1cccc(OC)c1C(=O)Nc1ccc2c(c1)CCCO2_cplx.pdb\n",
      "No interactions found for 1a8m_COc1cccc(OC)c1C(=O)Nc1ccc2c(c1)CCCO2_cplx.pdb or damaged structure\n",
      "Message: Unable to locate element: /html/body/div[1]/div[2]/div[2]/p/a\n",
      "\n",
      "Downloading PDB structure '1a8m'...\n"
     ]
    },
    {
     "name": "stderr",
     "output_type": "stream",
     "text": [
      "/home/ben/anaconda3/lib/python3.7/site-packages/Bio/PDB/StructureBuilder.py:92: PDBConstructionWarning: WARNING: Chain A is discontinuous at line 4109.\n",
      "  PDBConstructionWarning,\n",
      "/home/ben/anaconda3/lib/python3.7/site-packages/Bio/PDB/StructureBuilder.py:92: PDBConstructionWarning: WARNING: Chain B is discontinuous at line 4125.\n",
      "  PDBConstructionWarning,\n",
      "/home/ben/anaconda3/lib/python3.7/site-packages/Bio/PDB/StructureBuilder.py:92: PDBConstructionWarning: WARNING: Chain C is discontinuous at line 4150.\n",
      "  PDBConstructionWarning,\n"
     ]
    },
    {
     "name": "stdout",
     "output_type": "stream",
     "text": [
      "Center point of docking grid for /home/ben/Documents/Target2DeNovoDrug/tmp7zgm0tkz/1a8m.pdbqt is as follows: x: 64.23, y: 65.34, z: 63.32\n",
      "Sizes of docking grid are as follows:x: 20.25, y: 50.86, z: 41.17\n",
      "Connection to PLIP server successful\n",
      "Processing file 1a8m_COCCN(C)CCCNc1cc(C)cc(S(=O)(=O)N2CCOCC2)c1_cplx.pdb\n",
      "No interactions found for 1a8m_COCCN(C)CCCNc1cc(C)cc(S(=O)(=O)N2CCOCC2)c1_cplx.pdb or damaged structure\n",
      "Message: Unable to locate element: /html/body/div[1]/div[2]/div[2]/p/a\n",
      "\n",
      "Downloading PDB structure '1a8m'...\n"
     ]
    },
    {
     "name": "stderr",
     "output_type": "stream",
     "text": [
      "/home/ben/anaconda3/lib/python3.7/site-packages/Bio/PDB/StructureBuilder.py:92: PDBConstructionWarning: WARNING: Chain A is discontinuous at line 4109.\n",
      "  PDBConstructionWarning,\n",
      "/home/ben/anaconda3/lib/python3.7/site-packages/Bio/PDB/StructureBuilder.py:92: PDBConstructionWarning: WARNING: Chain B is discontinuous at line 4125.\n",
      "  PDBConstructionWarning,\n",
      "/home/ben/anaconda3/lib/python3.7/site-packages/Bio/PDB/StructureBuilder.py:92: PDBConstructionWarning: WARNING: Chain C is discontinuous at line 4150.\n",
      "  PDBConstructionWarning,\n"
     ]
    },
    {
     "name": "stdout",
     "output_type": "stream",
     "text": [
      "Center point of docking grid for /home/ben/Documents/Target2DeNovoDrug/tmp6fhnv19_/1a8m.pdbqt is as follows: x: 64.23, y: 65.34, z: 63.32\n",
      "Sizes of docking grid are as follows:x: 20.25, y: 50.86, z: 41.17\n",
      "Connection to PLIP server successful\n",
      "Processing file 1a8m_Cc1ccc(S(=O)(=O)Nc2ccc(Cc3nc4ccccc4s3)cc2)cc1_cplx.pdb\n",
      "No interactions found for 1a8m_Cc1ccc(S(=O)(=O)Nc2ccc(Cc3nc4ccccc4s3)cc2)cc1_cplx.pdb or damaged structure\n",
      "Message: Unable to locate element: /html/body/div[1]/div[2]/div[2]/p/a\n",
      "\n",
      "Downloading PDB structure '1a8m'...\n"
     ]
    },
    {
     "name": "stderr",
     "output_type": "stream",
     "text": [
      "/home/ben/anaconda3/lib/python3.7/site-packages/Bio/PDB/StructureBuilder.py:92: PDBConstructionWarning: WARNING: Chain A is discontinuous at line 4109.\n",
      "  PDBConstructionWarning,\n",
      "/home/ben/anaconda3/lib/python3.7/site-packages/Bio/PDB/StructureBuilder.py:92: PDBConstructionWarning: WARNING: Chain B is discontinuous at line 4125.\n",
      "  PDBConstructionWarning,\n",
      "/home/ben/anaconda3/lib/python3.7/site-packages/Bio/PDB/StructureBuilder.py:92: PDBConstructionWarning: WARNING: Chain C is discontinuous at line 4150.\n",
      "  PDBConstructionWarning,\n"
     ]
    },
    {
     "name": "stdout",
     "output_type": "stream",
     "text": [
      "Center point of docking grid for /home/ben/Documents/Target2DeNovoDrug/tmpljjg6rtv/1a8m.pdbqt is as follows: x: 64.23, y: 65.34, z: 63.32\n",
      "Sizes of docking grid are as follows:x: 20.25, y: 50.86, z: 41.17\n",
      "Connection to PLIP server successful\n",
      "Processing file 1a8m_Cc1c(-c2ccc(Cl)cc2)nc2c(-c3ccc(Cl)cc3)cnn2c1C_cplx.pdb\n",
      "https://projects.biotec.tu-dresden.de/plip-web/plip/download/45256295-c12c-4675-9669-faca7eea2123?filePath=outputs%2F1A8M_CC1C_C2CCCCLCC2NC2C_C3CCCCLCC3CNN2C1C_CPLX_PROTEIN_UNL_Z_1.png\n",
      "Image saved as 1a8m_Cc1c(-c2ccc(Cl)cc2)nc2c(-c3ccc(Cl)cc3)cnn2c1C_cplx.pdb.png\n",
      "https://projects.biotec.tu-dresden.de/plip-web/plip/download/45256295-c12c-4675-9669-faca7eea2123?filePath=outputs%2F1A8M_CC1C_C2CCCCLCC2NC2C_C3CCCCLCC3CNN2C1C_CPLX_PROTEIN_UNL_Z_1.pse\n",
      "Pymol sessions saved as 1a8m_Cc1c(-c2ccc(Cl)cc2)nc2c(-c3ccc(Cl)cc3)cnn2c1C_cplx.pdb.pse\n",
      "Downloading PDB structure '1a8m'...\n"
     ]
    },
    {
     "name": "stderr",
     "output_type": "stream",
     "text": [
      "/home/ben/anaconda3/lib/python3.7/site-packages/Bio/PDB/StructureBuilder.py:92: PDBConstructionWarning: WARNING: Chain A is discontinuous at line 4109.\n",
      "  PDBConstructionWarning,\n",
      "/home/ben/anaconda3/lib/python3.7/site-packages/Bio/PDB/StructureBuilder.py:92: PDBConstructionWarning: WARNING: Chain B is discontinuous at line 4125.\n",
      "  PDBConstructionWarning,\n",
      "/home/ben/anaconda3/lib/python3.7/site-packages/Bio/PDB/StructureBuilder.py:92: PDBConstructionWarning: WARNING: Chain C is discontinuous at line 4150.\n",
      "  PDBConstructionWarning,\n"
     ]
    },
    {
     "name": "stdout",
     "output_type": "stream",
     "text": [
      "Center point of docking grid for /home/ben/Documents/Target2DeNovoDrug/tmp910j_l67/1a8m.pdbqt is as follows: x: 64.23, y: 65.34, z: 63.32\n",
      "Sizes of docking grid are as follows:x: 20.25, y: 50.86, z: 41.17\n",
      "Connection to PLIP server successful\n",
      "Processing file 1a8m_O=C(Nc1ncc([N+](=O)[O-])s1)c1cccc(Cl)c1_cplx.pdb\n",
      "No interactions found for 1a8m_O=C(Nc1ncc([N+](=O)[O-])s1)c1cccc(Cl)c1_cplx.pdb or damaged structure\n",
      "Message: Unable to locate element: /html/body/div[1]/div[2]/div[2]/p/a\n",
      "\n",
      "Downloading PDB structure '1a8m'...\n"
     ]
    },
    {
     "name": "stderr",
     "output_type": "stream",
     "text": [
      "/home/ben/anaconda3/lib/python3.7/site-packages/Bio/PDB/StructureBuilder.py:92: PDBConstructionWarning: WARNING: Chain A is discontinuous at line 4109.\n",
      "  PDBConstructionWarning,\n",
      "/home/ben/anaconda3/lib/python3.7/site-packages/Bio/PDB/StructureBuilder.py:92: PDBConstructionWarning: WARNING: Chain B is discontinuous at line 4125.\n",
      "  PDBConstructionWarning,\n",
      "/home/ben/anaconda3/lib/python3.7/site-packages/Bio/PDB/StructureBuilder.py:92: PDBConstructionWarning: WARNING: Chain C is discontinuous at line 4150.\n",
      "  PDBConstructionWarning,\n"
     ]
    },
    {
     "name": "stdout",
     "output_type": "stream",
     "text": [
      "Center point of docking grid for /home/ben/Documents/Target2DeNovoDrug/tmpysn3xcuc/1a8m.pdbqt is as follows: x: 64.23, y: 65.34, z: 63.32\n",
      "Sizes of docking grid are as follows:x: 20.25, y: 50.86, z: 41.17\n",
      "Connection to PLIP server successful\n",
      "Processing file 1a8m_CCN(CC)S(=O)(=O)c1ccc(C(=O)Nc2nc3ccccc3o2)cc1_cplx.pdb\n",
      "No interactions found for 1a8m_CCN(CC)S(=O)(=O)c1ccc(C(=O)Nc2nc3ccccc3o2)cc1_cplx.pdb or damaged structure\n",
      "Message: Unable to locate element: /html/body/div[1]/div[2]/div[2]/p/a\n",
      "\n",
      "Downloading PDB structure '1a8m'...\n"
     ]
    },
    {
     "name": "stderr",
     "output_type": "stream",
     "text": [
      "/home/ben/anaconda3/lib/python3.7/site-packages/Bio/PDB/StructureBuilder.py:92: PDBConstructionWarning: WARNING: Chain A is discontinuous at line 4109.\n",
      "  PDBConstructionWarning,\n",
      "/home/ben/anaconda3/lib/python3.7/site-packages/Bio/PDB/StructureBuilder.py:92: PDBConstructionWarning: WARNING: Chain B is discontinuous at line 4125.\n",
      "  PDBConstructionWarning,\n",
      "/home/ben/anaconda3/lib/python3.7/site-packages/Bio/PDB/StructureBuilder.py:92: PDBConstructionWarning: WARNING: Chain C is discontinuous at line 4150.\n",
      "  PDBConstructionWarning,\n"
     ]
    },
    {
     "name": "stdout",
     "output_type": "stream",
     "text": [
      "Center point of docking grid for /home/ben/Documents/Target2DeNovoDrug/tmpt_ptjd2m/1a8m.pdbqt is as follows: x: 64.23, y: 65.34, z: 63.32\n",
      "Sizes of docking grid are as follows:x: 20.25, y: 50.86, z: 41.17\n",
      "Connection to PLIP server successful\n",
      "Processing file 1a8m_Cc1ccc(NS(=O)(=O)c2ccc(C(=O)NC(=O)c3ccc(C)cc3)cc2)cc1_cplx.pdb\n",
      "No interactions found for 1a8m_Cc1ccc(NS(=O)(=O)c2ccc(C(=O)NC(=O)c3ccc(C)cc3)cc2)cc1_cplx.pdb or damaged structure\n",
      "Message: Unable to locate element: /html/body/div[1]/div[2]/div[2]/p/a\n",
      "\n",
      "Downloading PDB structure '1a8m'...\n"
     ]
    },
    {
     "name": "stderr",
     "output_type": "stream",
     "text": [
      "/home/ben/anaconda3/lib/python3.7/site-packages/Bio/PDB/StructureBuilder.py:92: PDBConstructionWarning: WARNING: Chain A is discontinuous at line 4109.\n",
      "  PDBConstructionWarning,\n",
      "/home/ben/anaconda3/lib/python3.7/site-packages/Bio/PDB/StructureBuilder.py:92: PDBConstructionWarning: WARNING: Chain B is discontinuous at line 4125.\n",
      "  PDBConstructionWarning,\n",
      "/home/ben/anaconda3/lib/python3.7/site-packages/Bio/PDB/StructureBuilder.py:92: PDBConstructionWarning: WARNING: Chain C is discontinuous at line 4150.\n",
      "  PDBConstructionWarning,\n"
     ]
    },
    {
     "name": "stdout",
     "output_type": "stream",
     "text": [
      "Center point of docking grid for /home/ben/Documents/Target2DeNovoDrug/tmpz37ret8q/1a8m.pdbqt is as follows: x: 64.23, y: 65.34, z: 63.32\n",
      "Sizes of docking grid are as follows:x: 20.25, y: 50.86, z: 41.17\n",
      "Connection to PLIP server successful\n",
      "Processing file 1a8m_COc1cccc(C(=O)Nc2ccnc3cccnc23)c1_cplx.pdb\n",
      "No interactions found for 1a8m_COc1cccc(C(=O)Nc2ccnc3cccnc23)c1_cplx.pdb or damaged structure\n",
      "Message: Unable to locate element: /html/body/div[1]/div[2]/div[2]/p/a\n",
      "\n",
      "Downloading PDB structure '1a8m'...\n"
     ]
    },
    {
     "name": "stderr",
     "output_type": "stream",
     "text": [
      "/home/ben/anaconda3/lib/python3.7/site-packages/Bio/PDB/StructureBuilder.py:92: PDBConstructionWarning: WARNING: Chain A is discontinuous at line 4109.\n",
      "  PDBConstructionWarning,\n",
      "/home/ben/anaconda3/lib/python3.7/site-packages/Bio/PDB/StructureBuilder.py:92: PDBConstructionWarning: WARNING: Chain B is discontinuous at line 4125.\n",
      "  PDBConstructionWarning,\n",
      "/home/ben/anaconda3/lib/python3.7/site-packages/Bio/PDB/StructureBuilder.py:92: PDBConstructionWarning: WARNING: Chain C is discontinuous at line 4150.\n",
      "  PDBConstructionWarning,\n"
     ]
    },
    {
     "name": "stdout",
     "output_type": "stream",
     "text": [
      "Center point of docking grid for /home/ben/Documents/Target2DeNovoDrug/tmpqir8sest/1a8m.pdbqt is as follows: x: 64.23, y: 65.34, z: 63.32\n",
      "Sizes of docking grid are as follows:x: 20.25, y: 50.86, z: 41.17\n",
      "Connection to PLIP server successful\n",
      "Processing file 1a8m_CC(=O)Nc1ccc(C(=O)c2ccccc2OC(F)(F)F)cc1_cplx.pdb\n",
      "No interactions found for 1a8m_CC(=O)Nc1ccc(C(=O)c2ccccc2OC(F)(F)F)cc1_cplx.pdb or damaged structure\n",
      "Message: Unable to locate element: /html/body/div[1]/div[2]/div[2]/p/a\n",
      "\n",
      "Downloading PDB structure '1a8m'...\n"
     ]
    },
    {
     "name": "stderr",
     "output_type": "stream",
     "text": [
      "/home/ben/anaconda3/lib/python3.7/site-packages/Bio/PDB/StructureBuilder.py:92: PDBConstructionWarning: WARNING: Chain A is discontinuous at line 4109.\n",
      "  PDBConstructionWarning,\n",
      "/home/ben/anaconda3/lib/python3.7/site-packages/Bio/PDB/StructureBuilder.py:92: PDBConstructionWarning: WARNING: Chain B is discontinuous at line 4125.\n",
      "  PDBConstructionWarning,\n",
      "/home/ben/anaconda3/lib/python3.7/site-packages/Bio/PDB/StructureBuilder.py:92: PDBConstructionWarning: WARNING: Chain C is discontinuous at line 4150.\n",
      "  PDBConstructionWarning,\n"
     ]
    },
    {
     "name": "stdout",
     "output_type": "stream",
     "text": [
      "Center point of docking grid for /home/ben/Documents/Target2DeNovoDrug/tmpp5jbhbei/1a8m.pdbqt is as follows: x: 64.23, y: 65.34, z: 63.32\n",
      "Sizes of docking grid are as follows:x: 20.25, y: 50.86, z: 41.17\n",
      "Connection to PLIP server successful\n",
      "Processing file 1a8m_CCOc1ccc(-n2nc(C(=O)Cc3ccccc3)cc2C)cc1_cplx.pdb\n",
      "No interactions found for 1a8m_CCOc1ccc(-n2nc(C(=O)Cc3ccccc3)cc2C)cc1_cplx.pdb or damaged structure\n",
      "Message: Unable to locate element: /html/body/div[1]/div[2]/div[2]/p/a\n",
      "\n",
      "Downloading PDB structure '1a8m'...\n"
     ]
    },
    {
     "name": "stderr",
     "output_type": "stream",
     "text": [
      "/home/ben/anaconda3/lib/python3.7/site-packages/Bio/PDB/StructureBuilder.py:92: PDBConstructionWarning: WARNING: Chain A is discontinuous at line 4109.\n",
      "  PDBConstructionWarning,\n",
      "/home/ben/anaconda3/lib/python3.7/site-packages/Bio/PDB/StructureBuilder.py:92: PDBConstructionWarning: WARNING: Chain B is discontinuous at line 4125.\n",
      "  PDBConstructionWarning,\n",
      "/home/ben/anaconda3/lib/python3.7/site-packages/Bio/PDB/StructureBuilder.py:92: PDBConstructionWarning: WARNING: Chain C is discontinuous at line 4150.\n",
      "  PDBConstructionWarning,\n"
     ]
    },
    {
     "name": "stdout",
     "output_type": "stream",
     "text": [
      "Center point of docking grid for /home/ben/Documents/Target2DeNovoDrug/tmp4czjh2_p/1a8m.pdbqt is as follows: x: 64.23, y: 65.34, z: 63.32\n",
      "Sizes of docking grid are as follows:x: 20.25, y: 50.86, z: 41.17\n",
      "Connection to PLIP server successful\n",
      "Processing file 1a8m_Cc1ccc(NC(=S)NN2CCN(c3ccccn3)CC2)cc1_cplx.pdb\n",
      "No interactions found for 1a8m_Cc1ccc(NC(=S)NN2CCN(c3ccccn3)CC2)cc1_cplx.pdb or damaged structure\n",
      "Message: Unable to locate element: /html/body/div[1]/div[2]/div[2]/p/a\n",
      "\n",
      "Downloading PDB structure '1a8m'...\n"
     ]
    },
    {
     "name": "stderr",
     "output_type": "stream",
     "text": [
      "/home/ben/anaconda3/lib/python3.7/site-packages/Bio/PDB/StructureBuilder.py:92: PDBConstructionWarning: WARNING: Chain A is discontinuous at line 4109.\n",
      "  PDBConstructionWarning,\n",
      "/home/ben/anaconda3/lib/python3.7/site-packages/Bio/PDB/StructureBuilder.py:92: PDBConstructionWarning: WARNING: Chain B is discontinuous at line 4125.\n",
      "  PDBConstructionWarning,\n",
      "/home/ben/anaconda3/lib/python3.7/site-packages/Bio/PDB/StructureBuilder.py:92: PDBConstructionWarning: WARNING: Chain C is discontinuous at line 4150.\n",
      "  PDBConstructionWarning,\n"
     ]
    },
    {
     "name": "stdout",
     "output_type": "stream",
     "text": [
      "Center point of docking grid for /home/ben/Documents/Target2DeNovoDrug/tmpfu2nc9jh/1a8m.pdbqt is as follows: x: 64.23, y: 65.34, z: 63.32\n",
      "Sizes of docking grid are as follows:x: 20.25, y: 50.86, z: 41.17\n",
      "Connection to PLIP server successful\n",
      "Processing file 1a8m_COc1ccc(C)cc1NC(=S)NCc1cc(F)c(Cl)cc1F_cplx.pdb\n",
      "No interactions found for 1a8m_COc1ccc(C)cc1NC(=S)NCc1cc(F)c(Cl)cc1F_cplx.pdb or damaged structure\n",
      "Message: Unable to locate element: /html/body/div[1]/div[2]/div[2]/p/a\n",
      "\n",
      "Downloading PDB structure '1a8m'...\n"
     ]
    },
    {
     "name": "stderr",
     "output_type": "stream",
     "text": [
      "/home/ben/anaconda3/lib/python3.7/site-packages/Bio/PDB/StructureBuilder.py:92: PDBConstructionWarning: WARNING: Chain A is discontinuous at line 4109.\n",
      "  PDBConstructionWarning,\n",
      "/home/ben/anaconda3/lib/python3.7/site-packages/Bio/PDB/StructureBuilder.py:92: PDBConstructionWarning: WARNING: Chain B is discontinuous at line 4125.\n",
      "  PDBConstructionWarning,\n",
      "/home/ben/anaconda3/lib/python3.7/site-packages/Bio/PDB/StructureBuilder.py:92: PDBConstructionWarning: WARNING: Chain C is discontinuous at line 4150.\n",
      "  PDBConstructionWarning,\n"
     ]
    },
    {
     "name": "stdout",
     "output_type": "stream",
     "text": [
      "Center point of docking grid for /home/ben/Documents/Target2DeNovoDrug/tmpbguw10y4/1a8m.pdbqt is as follows: x: 64.23, y: 65.34, z: 63.32\n",
      "Sizes of docking grid are as follows:x: 20.25, y: 50.86, z: 41.17\n",
      "Connection to PLIP server successful\n",
      "Processing file 1a8m_Cc1ccc(CCC(=O)N2CCN(c3ccccc3)CC2)c2ccccc12_cplx.pdb\n",
      "No interactions found for 1a8m_Cc1ccc(CCC(=O)N2CCN(c3ccccc3)CC2)c2ccccc12_cplx.pdb or damaged structure\n",
      "Message: Unable to locate element: /html/body/div[1]/div[2]/div[2]/p/a\n",
      "\n",
      "Downloading PDB structure '1a8m'...\n"
     ]
    },
    {
     "name": "stderr",
     "output_type": "stream",
     "text": [
      "/home/ben/anaconda3/lib/python3.7/site-packages/Bio/PDB/StructureBuilder.py:92: PDBConstructionWarning: WARNING: Chain A is discontinuous at line 4109.\n",
      "  PDBConstructionWarning,\n",
      "/home/ben/anaconda3/lib/python3.7/site-packages/Bio/PDB/StructureBuilder.py:92: PDBConstructionWarning: WARNING: Chain B is discontinuous at line 4125.\n",
      "  PDBConstructionWarning,\n",
      "/home/ben/anaconda3/lib/python3.7/site-packages/Bio/PDB/StructureBuilder.py:92: PDBConstructionWarning: WARNING: Chain C is discontinuous at line 4150.\n",
      "  PDBConstructionWarning,\n"
     ]
    },
    {
     "name": "stdout",
     "output_type": "stream",
     "text": [
      "Center point of docking grid for /home/ben/Documents/Target2DeNovoDrug/tmpwqkctva4/1a8m.pdbqt is as follows: x: 64.23, y: 65.34, z: 63.32\n",
      "Sizes of docking grid are as follows:x: 20.25, y: 50.86, z: 41.17\n",
      "Connection to PLIP server successful\n",
      "Processing file 1a8m_COc1ccc(C)cc1NC(=O)c1cccc([N+](=O)[O-])c1_cplx.pdb\n",
      "No interactions found for 1a8m_COc1ccc(C)cc1NC(=O)c1cccc([N+](=O)[O-])c1_cplx.pdb or damaged structure\n",
      "Message: Unable to locate element: /html/body/div[1]/div[2]/div[2]/p/a\n",
      "\n",
      "Downloading PDB structure '1a8m'...\n"
     ]
    },
    {
     "name": "stderr",
     "output_type": "stream",
     "text": [
      "/home/ben/anaconda3/lib/python3.7/site-packages/Bio/PDB/StructureBuilder.py:92: PDBConstructionWarning: WARNING: Chain A is discontinuous at line 4109.\n",
      "  PDBConstructionWarning,\n",
      "/home/ben/anaconda3/lib/python3.7/site-packages/Bio/PDB/StructureBuilder.py:92: PDBConstructionWarning: WARNING: Chain B is discontinuous at line 4125.\n",
      "  PDBConstructionWarning,\n",
      "/home/ben/anaconda3/lib/python3.7/site-packages/Bio/PDB/StructureBuilder.py:92: PDBConstructionWarning: WARNING: Chain C is discontinuous at line 4150.\n",
      "  PDBConstructionWarning,\n"
     ]
    },
    {
     "name": "stdout",
     "output_type": "stream",
     "text": [
      "Center point of docking grid for /home/ben/Documents/Target2DeNovoDrug/tmpffvzhipy/1a8m.pdbqt is as follows: x: 64.23, y: 65.34, z: 63.32\n",
      "Sizes of docking grid are as follows:x: 20.25, y: 50.86, z: 41.17\n",
      "Connection to PLIP server successful\n",
      "Processing file 1a8m_Cc1ccc(C(=O)Nc2ccc(C(=O)Nc3ccccc3C)cc2)cc1_cplx.pdb\n",
      "No interactions found for 1a8m_Cc1ccc(C(=O)Nc2ccc(C(=O)Nc3ccccc3C)cc2)cc1_cplx.pdb or damaged structure\n",
      "Message: Unable to locate element: /html/body/div[1]/div[2]/div[2]/p/a\n",
      "\n",
      "Downloading PDB structure '1a8m'...\n"
     ]
    },
    {
     "name": "stderr",
     "output_type": "stream",
     "text": [
      "/home/ben/anaconda3/lib/python3.7/site-packages/Bio/PDB/StructureBuilder.py:92: PDBConstructionWarning: WARNING: Chain A is discontinuous at line 4109.\n",
      "  PDBConstructionWarning,\n",
      "/home/ben/anaconda3/lib/python3.7/site-packages/Bio/PDB/StructureBuilder.py:92: PDBConstructionWarning: WARNING: Chain B is discontinuous at line 4125.\n",
      "  PDBConstructionWarning,\n",
      "/home/ben/anaconda3/lib/python3.7/site-packages/Bio/PDB/StructureBuilder.py:92: PDBConstructionWarning: WARNING: Chain C is discontinuous at line 4150.\n",
      "  PDBConstructionWarning,\n"
     ]
    },
    {
     "name": "stdout",
     "output_type": "stream",
     "text": [
      "Center point of docking grid for /home/ben/Documents/Target2DeNovoDrug/tmprl_npoem/1a8m.pdbqt is as follows: x: 64.23, y: 65.34, z: 63.32\n",
      "Sizes of docking grid are as follows:x: 20.25, y: 50.86, z: 41.17\n",
      "Connection to PLIP server successful\n",
      "Processing file 1a8m_CCCc1ccccc1NC(=O)c1ccccc1C(=O)c1ccc(Cl)c([N+](=O)[O-])c1_cplx.pdb\n",
      "No interactions found for 1a8m_CCCc1ccccc1NC(=O)c1ccccc1C(=O)c1ccc(Cl)c([N+](=O)[O-])c1_cplx.pdb or damaged structure\n",
      "Message: Unable to locate element: /html/body/div[1]/div[2]/div[2]/p/a\n",
      "\n",
      "Downloading PDB structure '1a8m'...\n"
     ]
    },
    {
     "name": "stderr",
     "output_type": "stream",
     "text": [
      "/home/ben/anaconda3/lib/python3.7/site-packages/Bio/PDB/StructureBuilder.py:92: PDBConstructionWarning: WARNING: Chain A is discontinuous at line 4109.\n",
      "  PDBConstructionWarning,\n",
      "/home/ben/anaconda3/lib/python3.7/site-packages/Bio/PDB/StructureBuilder.py:92: PDBConstructionWarning: WARNING: Chain B is discontinuous at line 4125.\n",
      "  PDBConstructionWarning,\n",
      "/home/ben/anaconda3/lib/python3.7/site-packages/Bio/PDB/StructureBuilder.py:92: PDBConstructionWarning: WARNING: Chain C is discontinuous at line 4150.\n",
      "  PDBConstructionWarning,\n"
     ]
    },
    {
     "name": "stdout",
     "output_type": "stream",
     "text": [
      "Center point of docking grid for /home/ben/Documents/Target2DeNovoDrug/tmpxzf76k1n/1a8m.pdbqt is as follows: x: 64.23, y: 65.34, z: 63.32\n",
      "Sizes of docking grid are as follows:x: 20.25, y: 50.86, z: 41.17\n",
      "Connection to PLIP server successful\n",
      "Processing file 1a8m_CC(=O)c1ccc(NC(=O)c2ccc(CN3CCOCC3)cc2)cc1_cplx.pdb\n",
      "No interactions found for 1a8m_CC(=O)c1ccc(NC(=O)c2ccc(CN3CCOCC3)cc2)cc1_cplx.pdb or damaged structure\n",
      "Message: Unable to locate element: /html/body/div[1]/div[2]/div[2]/p/a\n",
      "\n",
      "Downloading PDB structure '1a8m'...\n"
     ]
    },
    {
     "name": "stderr",
     "output_type": "stream",
     "text": [
      "/home/ben/anaconda3/lib/python3.7/site-packages/Bio/PDB/StructureBuilder.py:92: PDBConstructionWarning: WARNING: Chain A is discontinuous at line 4109.\n",
      "  PDBConstructionWarning,\n",
      "/home/ben/anaconda3/lib/python3.7/site-packages/Bio/PDB/StructureBuilder.py:92: PDBConstructionWarning: WARNING: Chain B is discontinuous at line 4125.\n",
      "  PDBConstructionWarning,\n",
      "/home/ben/anaconda3/lib/python3.7/site-packages/Bio/PDB/StructureBuilder.py:92: PDBConstructionWarning: WARNING: Chain C is discontinuous at line 4150.\n",
      "  PDBConstructionWarning,\n"
     ]
    },
    {
     "name": "stdout",
     "output_type": "stream",
     "text": [
      "Center point of docking grid for /home/ben/Documents/Target2DeNovoDrug/tmph_zre4jv/1a8m.pdbqt is as follows: x: 64.23, y: 65.34, z: 63.32\n",
      "Sizes of docking grid are as follows:x: 20.25, y: 50.86, z: 41.17\n",
      "Connection to PLIP server successful\n",
      "Processing file 1a8m_CC(=O)N1CCN(C2=CC=C(C(=O)Nc3ccccc3)CC2)c2ccccc21_cplx.pdb\n",
      "No interactions found for 1a8m_CC(=O)N1CCN(C2=CC=C(C(=O)Nc3ccccc3)CC2)c2ccccc21_cplx.pdb or damaged structure\n",
      "Message: Unable to locate element: /html/body/div[1]/div[2]/div[2]/p/a\n",
      "\n",
      "Downloading PDB structure '1a8m'...\n"
     ]
    },
    {
     "name": "stderr",
     "output_type": "stream",
     "text": [
      "/home/ben/anaconda3/lib/python3.7/site-packages/Bio/PDB/StructureBuilder.py:92: PDBConstructionWarning: WARNING: Chain A is discontinuous at line 4109.\n",
      "  PDBConstructionWarning,\n",
      "/home/ben/anaconda3/lib/python3.7/site-packages/Bio/PDB/StructureBuilder.py:92: PDBConstructionWarning: WARNING: Chain B is discontinuous at line 4125.\n",
      "  PDBConstructionWarning,\n",
      "/home/ben/anaconda3/lib/python3.7/site-packages/Bio/PDB/StructureBuilder.py:92: PDBConstructionWarning: WARNING: Chain C is discontinuous at line 4150.\n",
      "  PDBConstructionWarning,\n"
     ]
    },
    {
     "name": "stdout",
     "output_type": "stream",
     "text": [
      "Center point of docking grid for /home/ben/Documents/Target2DeNovoDrug/tmp233sr17k/1a8m.pdbqt is as follows: x: 64.23, y: 65.34, z: 63.32\n",
      "Sizes of docking grid are as follows:x: 20.25, y: 50.86, z: 41.17\n",
      "Connection to PLIP server successful\n",
      "Processing file 1a8m_O=C(Nc1nc(-c2ccccc2)n[nH]1)N1CCN(c2ccc(F)cc2)CC1_cplx.pdb\n",
      "No interactions found for 1a8m_O=C(Nc1nc(-c2ccccc2)n[nH]1)N1CCN(c2ccc(F)cc2)CC1_cplx.pdb or damaged structure\n",
      "Message: Unable to locate element: /html/body/div[1]/div[2]/div[2]/p/a\n",
      "\n",
      "Downloading PDB structure '1a8m'...\n"
     ]
    },
    {
     "name": "stderr",
     "output_type": "stream",
     "text": [
      "/home/ben/anaconda3/lib/python3.7/site-packages/Bio/PDB/StructureBuilder.py:92: PDBConstructionWarning: WARNING: Chain A is discontinuous at line 4109.\n",
      "  PDBConstructionWarning,\n",
      "/home/ben/anaconda3/lib/python3.7/site-packages/Bio/PDB/StructureBuilder.py:92: PDBConstructionWarning: WARNING: Chain B is discontinuous at line 4125.\n",
      "  PDBConstructionWarning,\n",
      "/home/ben/anaconda3/lib/python3.7/site-packages/Bio/PDB/StructureBuilder.py:92: PDBConstructionWarning: WARNING: Chain C is discontinuous at line 4150.\n",
      "  PDBConstructionWarning,\n"
     ]
    },
    {
     "name": "stdout",
     "output_type": "stream",
     "text": [
      "Center point of docking grid for /home/ben/Documents/Target2DeNovoDrug/tmp45bhb5u9/1a8m.pdbqt is as follows: x: 64.23, y: 65.34, z: 63.32\n",
      "Sizes of docking grid are as follows:x: 20.25, y: 50.86, z: 41.17\n",
      "Connection to PLIP server successful\n",
      "Processing file 1a8m_Cc1cccc(C(=O)Nc2ccc(C(=O)N3CCN(c4ccccc4)CC3)o2)c1_cplx.pdb\n",
      "No interactions found for 1a8m_Cc1cccc(C(=O)Nc2ccc(C(=O)N3CCN(c4ccccc4)CC3)o2)c1_cplx.pdb or damaged structure\n",
      "Message: Unable to locate element: /html/body/div[1]/div[2]/div[2]/p/a\n",
      "\n",
      "Downloading PDB structure '1a8m'...\n"
     ]
    },
    {
     "name": "stderr",
     "output_type": "stream",
     "text": [
      "/home/ben/anaconda3/lib/python3.7/site-packages/Bio/PDB/StructureBuilder.py:92: PDBConstructionWarning: WARNING: Chain A is discontinuous at line 4109.\n",
      "  PDBConstructionWarning,\n",
      "/home/ben/anaconda3/lib/python3.7/site-packages/Bio/PDB/StructureBuilder.py:92: PDBConstructionWarning: WARNING: Chain B is discontinuous at line 4125.\n",
      "  PDBConstructionWarning,\n",
      "/home/ben/anaconda3/lib/python3.7/site-packages/Bio/PDB/StructureBuilder.py:92: PDBConstructionWarning: WARNING: Chain C is discontinuous at line 4150.\n",
      "  PDBConstructionWarning,\n"
     ]
    },
    {
     "name": "stdout",
     "output_type": "stream",
     "text": [
      "Center point of docking grid for /home/ben/Documents/Target2DeNovoDrug/tmp8ur12xir/1a8m.pdbqt is as follows: x: 64.23, y: 65.34, z: 63.32\n",
      "Sizes of docking grid are as follows:x: 20.25, y: 50.86, z: 41.17\n",
      "Connection to PLIP server successful\n",
      "Processing file 1a8m_Cn1cc(C(=O)O)c(-c2ncc(-c3ccccc3)o2)n1_cplx.pdb\n",
      "No interactions found for 1a8m_Cn1cc(C(=O)O)c(-c2ncc(-c3ccccc3)o2)n1_cplx.pdb or damaged structure\n",
      "Message: Unable to locate element: /html/body/div[1]/div[2]/div[2]/p/a\n",
      "\n",
      "Downloading PDB structure '1a8m'...\n"
     ]
    },
    {
     "name": "stderr",
     "output_type": "stream",
     "text": [
      "/home/ben/anaconda3/lib/python3.7/site-packages/Bio/PDB/StructureBuilder.py:92: PDBConstructionWarning: WARNING: Chain A is discontinuous at line 4109.\n",
      "  PDBConstructionWarning,\n",
      "/home/ben/anaconda3/lib/python3.7/site-packages/Bio/PDB/StructureBuilder.py:92: PDBConstructionWarning: WARNING: Chain B is discontinuous at line 4125.\n",
      "  PDBConstructionWarning,\n",
      "/home/ben/anaconda3/lib/python3.7/site-packages/Bio/PDB/StructureBuilder.py:92: PDBConstructionWarning: WARNING: Chain C is discontinuous at line 4150.\n",
      "  PDBConstructionWarning,\n"
     ]
    },
    {
     "name": "stdout",
     "output_type": "stream",
     "text": [
      "Center point of docking grid for /home/ben/Documents/Target2DeNovoDrug/tmpaqxovgwj/1a8m.pdbqt is as follows: x: 64.23, y: 65.34, z: 63.32\n",
      "Sizes of docking grid are as follows:x: 20.25, y: 50.86, z: 41.17\n",
      "Connection to PLIP server successful\n",
      "Processing file 1a8m_CCCCc1cc(N)c(S(=O)(=O)Nc2ccccc2)cc1OC_cplx.pdb\n",
      "No interactions found for 1a8m_CCCCc1cc(N)c(S(=O)(=O)Nc2ccccc2)cc1OC_cplx.pdb or damaged structure\n",
      "Message: Unable to locate element: /html/body/div[1]/div[2]/div[2]/p/a\n",
      "\n",
      "Downloading PDB structure '1a8m'...\n"
     ]
    },
    {
     "name": "stderr",
     "output_type": "stream",
     "text": [
      "/home/ben/anaconda3/lib/python3.7/site-packages/Bio/PDB/StructureBuilder.py:92: PDBConstructionWarning: WARNING: Chain A is discontinuous at line 4109.\n",
      "  PDBConstructionWarning,\n",
      "/home/ben/anaconda3/lib/python3.7/site-packages/Bio/PDB/StructureBuilder.py:92: PDBConstructionWarning: WARNING: Chain B is discontinuous at line 4125.\n",
      "  PDBConstructionWarning,\n",
      "/home/ben/anaconda3/lib/python3.7/site-packages/Bio/PDB/StructureBuilder.py:92: PDBConstructionWarning: WARNING: Chain C is discontinuous at line 4150.\n",
      "  PDBConstructionWarning,\n"
     ]
    },
    {
     "name": "stdout",
     "output_type": "stream",
     "text": [
      "Center point of docking grid for /home/ben/Documents/Target2DeNovoDrug/tmp7n_uzngd/1a8m.pdbqt is as follows: x: 64.23, y: 65.34, z: 63.32\n",
      "Sizes of docking grid are as follows:x: 20.25, y: 50.86, z: 41.17\n",
      "Connection to PLIP server successful\n",
      "Processing file 1a8m_Cc1nc(N2CCN(C(=O)c3ccccc3)CC2)c2ccc(Cl)cc2n1_cplx.pdb\n",
      "Downloading PDB structure '1a8m'...\n"
     ]
    },
    {
     "name": "stderr",
     "output_type": "stream",
     "text": [
      "/home/ben/anaconda3/lib/python3.7/site-packages/Bio/PDB/StructureBuilder.py:92: PDBConstructionWarning: WARNING: Chain A is discontinuous at line 4109.\n",
      "  PDBConstructionWarning,\n",
      "/home/ben/anaconda3/lib/python3.7/site-packages/Bio/PDB/StructureBuilder.py:92: PDBConstructionWarning: WARNING: Chain B is discontinuous at line 4125.\n",
      "  PDBConstructionWarning,\n",
      "/home/ben/anaconda3/lib/python3.7/site-packages/Bio/PDB/StructureBuilder.py:92: PDBConstructionWarning: WARNING: Chain C is discontinuous at line 4150.\n",
      "  PDBConstructionWarning,\n"
     ]
    },
    {
     "name": "stdout",
     "output_type": "stream",
     "text": [
      "Center point of docking grid for /home/ben/Documents/Target2DeNovoDrug/tmp5asgjugj/1a8m.pdbqt is as follows: x: 64.23, y: 65.34, z: 63.32\n",
      "Sizes of docking grid are as follows:x: 20.25, y: 50.86, z: 41.17\n",
      "Connection to PLIP server successful\n",
      "Processing file 1a8m_Cc1ccc(Sc2[nH]nc(-c3cccc(OO)c3)c2C)cc1_cplx.pdb\n",
      "No interactions found for 1a8m_Cc1ccc(Sc2[nH]nc(-c3cccc(OO)c3)c2C)cc1_cplx.pdb or damaged structure\n",
      "Message: Unable to locate element: /html/body/div[1]/div[2]/div[2]/p/a\n",
      "\n",
      "Downloading PDB structure '1a8m'...\n"
     ]
    },
    {
     "name": "stderr",
     "output_type": "stream",
     "text": [
      "/home/ben/anaconda3/lib/python3.7/site-packages/Bio/PDB/StructureBuilder.py:92: PDBConstructionWarning: WARNING: Chain A is discontinuous at line 4109.\n",
      "  PDBConstructionWarning,\n",
      "/home/ben/anaconda3/lib/python3.7/site-packages/Bio/PDB/StructureBuilder.py:92: PDBConstructionWarning: WARNING: Chain B is discontinuous at line 4125.\n",
      "  PDBConstructionWarning,\n",
      "/home/ben/anaconda3/lib/python3.7/site-packages/Bio/PDB/StructureBuilder.py:92: PDBConstructionWarning: WARNING: Chain C is discontinuous at line 4150.\n",
      "  PDBConstructionWarning,\n"
     ]
    },
    {
     "name": "stdout",
     "output_type": "stream",
     "text": [
      "Center point of docking grid for /home/ben/Documents/Target2DeNovoDrug/tmpi133isi_/1a8m.pdbqt is as follows: x: 64.23, y: 65.34, z: 63.32\n",
      "Sizes of docking grid are as follows:x: 20.25, y: 50.86, z: 41.17\n",
      "Connection to PLIP server successful\n",
      "Processing file 1a8m_CCOC(=O)c1ccc(NC(=O)c2cc(Cl)ccc2Cl)cc1_cplx.pdb\n",
      "No interactions found for 1a8m_CCOC(=O)c1ccc(NC(=O)c2cc(Cl)ccc2Cl)cc1_cplx.pdb or damaged structure\n",
      "Message: Unable to locate element: /html/body/div[1]/div[2]/div[2]/p/a\n",
      "\n",
      "Downloading PDB structure '1a8m'...\n"
     ]
    },
    {
     "name": "stderr",
     "output_type": "stream",
     "text": [
      "/home/ben/anaconda3/lib/python3.7/site-packages/Bio/PDB/StructureBuilder.py:92: PDBConstructionWarning: WARNING: Chain A is discontinuous at line 4109.\n",
      "  PDBConstructionWarning,\n",
      "/home/ben/anaconda3/lib/python3.7/site-packages/Bio/PDB/StructureBuilder.py:92: PDBConstructionWarning: WARNING: Chain B is discontinuous at line 4125.\n",
      "  PDBConstructionWarning,\n",
      "/home/ben/anaconda3/lib/python3.7/site-packages/Bio/PDB/StructureBuilder.py:92: PDBConstructionWarning: WARNING: Chain C is discontinuous at line 4150.\n",
      "  PDBConstructionWarning,\n"
     ]
    },
    {
     "name": "stdout",
     "output_type": "stream",
     "text": [
      "Center point of docking grid for /home/ben/Documents/Target2DeNovoDrug/tmp04vdyc7_/1a8m.pdbqt is as follows: x: 64.23, y: 65.34, z: 63.32\n",
      "Sizes of docking grid are as follows:x: 20.25, y: 50.86, z: 41.17\n",
      "Connection to PLIP server successful\n",
      "Processing file 1a8m_Cc1cnc(SCC(=O)NC(=O)c2ccc(Cl)cc2)cn1_cplx.pdb\n",
      "No interactions found for 1a8m_Cc1cnc(SCC(=O)NC(=O)c2ccc(Cl)cc2)cn1_cplx.pdb or damaged structure\n",
      "Message: Unable to locate element: /html/body/div[1]/div[2]/div[2]/p/a\n",
      "\n",
      "Downloading PDB structure '1a8m'...\n"
     ]
    },
    {
     "name": "stderr",
     "output_type": "stream",
     "text": [
      "/home/ben/anaconda3/lib/python3.7/site-packages/Bio/PDB/StructureBuilder.py:92: PDBConstructionWarning: WARNING: Chain A is discontinuous at line 4109.\n",
      "  PDBConstructionWarning,\n",
      "/home/ben/anaconda3/lib/python3.7/site-packages/Bio/PDB/StructureBuilder.py:92: PDBConstructionWarning: WARNING: Chain B is discontinuous at line 4125.\n",
      "  PDBConstructionWarning,\n",
      "/home/ben/anaconda3/lib/python3.7/site-packages/Bio/PDB/StructureBuilder.py:92: PDBConstructionWarning: WARNING: Chain C is discontinuous at line 4150.\n",
      "  PDBConstructionWarning,\n"
     ]
    },
    {
     "name": "stdout",
     "output_type": "stream",
     "text": [
      "Center point of docking grid for /home/ben/Documents/Target2DeNovoDrug/tmp0z5_8w6r/1a8m.pdbqt is as follows: x: 64.23, y: 65.34, z: 63.32\n",
      "Sizes of docking grid are as follows:x: 20.25, y: 50.86, z: 41.17\n",
      "Connection to PLIP server successful\n",
      "Processing file 1a8m_Cc1cc(C)c(C(=O)COc2ncccc2[N+](=O)[O-])c(C)c1_cplx.pdb\n",
      "No interactions found for 1a8m_Cc1cc(C)c(C(=O)COc2ncccc2[N+](=O)[O-])c(C)c1_cplx.pdb or damaged structure\n",
      "Message: Unable to locate element: /html/body/div[1]/div[2]/div[2]/p/a\n",
      "\n",
      "Downloading PDB structure '1a8m'...\n"
     ]
    },
    {
     "name": "stderr",
     "output_type": "stream",
     "text": [
      "/home/ben/anaconda3/lib/python3.7/site-packages/Bio/PDB/StructureBuilder.py:92: PDBConstructionWarning: WARNING: Chain A is discontinuous at line 4109.\n",
      "  PDBConstructionWarning,\n",
      "/home/ben/anaconda3/lib/python3.7/site-packages/Bio/PDB/StructureBuilder.py:92: PDBConstructionWarning: WARNING: Chain B is discontinuous at line 4125.\n",
      "  PDBConstructionWarning,\n",
      "/home/ben/anaconda3/lib/python3.7/site-packages/Bio/PDB/StructureBuilder.py:92: PDBConstructionWarning: WARNING: Chain C is discontinuous at line 4150.\n",
      "  PDBConstructionWarning,\n"
     ]
    },
    {
     "name": "stdout",
     "output_type": "stream",
     "text": [
      "Center point of docking grid for /home/ben/Documents/Target2DeNovoDrug/tmp35uifpie/1a8m.pdbqt is as follows: x: 64.23, y: 65.34, z: 63.32\n",
      "Sizes of docking grid are as follows:x: 20.25, y: 50.86, z: 41.17\n",
      "Connection to PLIP server successful\n",
      "Processing file 1a8m_Cc1cccc(C(=O)N2CCN(C(C)Cc3ccc(Cl)cc3)C2)c1_cplx.pdb\n",
      "No interactions found for 1a8m_Cc1cccc(C(=O)N2CCN(C(C)Cc3ccc(Cl)cc3)C2)c1_cplx.pdb or damaged structure\n",
      "Message: Unable to locate element: /html/body/div[1]/div[2]/div[2]/p/a\n",
      "\n",
      "Downloading PDB structure '1a8m'...\n"
     ]
    },
    {
     "name": "stderr",
     "output_type": "stream",
     "text": [
      "/home/ben/anaconda3/lib/python3.7/site-packages/Bio/PDB/StructureBuilder.py:92: PDBConstructionWarning: WARNING: Chain A is discontinuous at line 4109.\n",
      "  PDBConstructionWarning,\n",
      "/home/ben/anaconda3/lib/python3.7/site-packages/Bio/PDB/StructureBuilder.py:92: PDBConstructionWarning: WARNING: Chain B is discontinuous at line 4125.\n",
      "  PDBConstructionWarning,\n",
      "/home/ben/anaconda3/lib/python3.7/site-packages/Bio/PDB/StructureBuilder.py:92: PDBConstructionWarning: WARNING: Chain C is discontinuous at line 4150.\n",
      "  PDBConstructionWarning,\n"
     ]
    },
    {
     "name": "stdout",
     "output_type": "stream",
     "text": [
      "Center point of docking grid for /home/ben/Documents/Target2DeNovoDrug/tmp4d4cnoec/1a8m.pdbqt is as follows: x: 64.23, y: 65.34, z: 63.32\n",
      "Sizes of docking grid are as follows:x: 20.25, y: 50.86, z: 41.17\n",
      "Connection to PLIP server successful\n",
      "Processing file 1a8m_Cn1c(=O)c2c(nc(CSc3ccccn3)n2C)n(C)c1=O_cplx.pdb\n",
      "No interactions found for 1a8m_Cn1c(=O)c2c(nc(CSc3ccccn3)n2C)n(C)c1=O_cplx.pdb or damaged structure\n",
      "Message: Unable to locate element: /html/body/div[1]/div[2]/div[2]/p/a\n",
      "\n",
      "Downloading PDB structure '1a8m'...\n"
     ]
    },
    {
     "name": "stderr",
     "output_type": "stream",
     "text": [
      "/home/ben/anaconda3/lib/python3.7/site-packages/Bio/PDB/StructureBuilder.py:92: PDBConstructionWarning: WARNING: Chain A is discontinuous at line 4109.\n",
      "  PDBConstructionWarning,\n",
      "/home/ben/anaconda3/lib/python3.7/site-packages/Bio/PDB/StructureBuilder.py:92: PDBConstructionWarning: WARNING: Chain B is discontinuous at line 4125.\n",
      "  PDBConstructionWarning,\n",
      "/home/ben/anaconda3/lib/python3.7/site-packages/Bio/PDB/StructureBuilder.py:92: PDBConstructionWarning: WARNING: Chain C is discontinuous at line 4150.\n",
      "  PDBConstructionWarning,\n"
     ]
    },
    {
     "name": "stdout",
     "output_type": "stream",
     "text": [
      "Center point of docking grid for /home/ben/Documents/Target2DeNovoDrug/tmppatftx55/1a8m.pdbqt is as follows: x: 64.23, y: 65.34, z: 63.32\n",
      "Sizes of docking grid are as follows:x: 20.25, y: 50.86, z: 41.17\n",
      "Connection to PLIP server successful\n",
      "Processing file 1a8m_O=C(CC(=S)N1CCN(c2ccccn2)CC1)c1cccc([N+](=O)[O-])c1_cplx.pdb\n",
      "No interactions found for 1a8m_O=C(CC(=S)N1CCN(c2ccccn2)CC1)c1cccc([N+](=O)[O-])c1_cplx.pdb or damaged structure\n",
      "Message: Unable to locate element: /html/body/div[1]/div[2]/div[2]/p/a\n",
      "\n",
      "Downloading PDB structure '1a8m'...\n"
     ]
    },
    {
     "name": "stderr",
     "output_type": "stream",
     "text": [
      "/home/ben/anaconda3/lib/python3.7/site-packages/Bio/PDB/StructureBuilder.py:92: PDBConstructionWarning: WARNING: Chain A is discontinuous at line 4109.\n",
      "  PDBConstructionWarning,\n",
      "/home/ben/anaconda3/lib/python3.7/site-packages/Bio/PDB/StructureBuilder.py:92: PDBConstructionWarning: WARNING: Chain B is discontinuous at line 4125.\n",
      "  PDBConstructionWarning,\n",
      "/home/ben/anaconda3/lib/python3.7/site-packages/Bio/PDB/StructureBuilder.py:92: PDBConstructionWarning: WARNING: Chain C is discontinuous at line 4150.\n",
      "  PDBConstructionWarning,\n"
     ]
    },
    {
     "name": "stdout",
     "output_type": "stream",
     "text": [
      "Center point of docking grid for /home/ben/Documents/Target2DeNovoDrug/tmpi6smo0lk/1a8m.pdbqt is as follows: x: 64.23, y: 65.34, z: 63.32\n",
      "Sizes of docking grid are as follows:x: 20.25, y: 50.86, z: 41.17\n",
      "Connection to PLIP server successful\n",
      "Processing file 1a8m_CCN(CC)S(=O)(=O)c1ccc(NC(=O)c2cc(C)nc3ccccc23)cc1_cplx.pdb\n",
      "No interactions found for 1a8m_CCN(CC)S(=O)(=O)c1ccc(NC(=O)c2cc(C)nc3ccccc23)cc1_cplx.pdb or damaged structure\n",
      "Message: Unable to locate element: /html/body/div[1]/div[2]/div[2]/p/a\n",
      "\n",
      "Downloading PDB structure '1a8m'...\n"
     ]
    },
    {
     "name": "stderr",
     "output_type": "stream",
     "text": [
      "/home/ben/anaconda3/lib/python3.7/site-packages/Bio/PDB/StructureBuilder.py:92: PDBConstructionWarning: WARNING: Chain A is discontinuous at line 4109.\n",
      "  PDBConstructionWarning,\n",
      "/home/ben/anaconda3/lib/python3.7/site-packages/Bio/PDB/StructureBuilder.py:92: PDBConstructionWarning: WARNING: Chain B is discontinuous at line 4125.\n",
      "  PDBConstructionWarning,\n",
      "/home/ben/anaconda3/lib/python3.7/site-packages/Bio/PDB/StructureBuilder.py:92: PDBConstructionWarning: WARNING: Chain C is discontinuous at line 4150.\n",
      "  PDBConstructionWarning,\n"
     ]
    },
    {
     "name": "stdout",
     "output_type": "stream",
     "text": [
      "Center point of docking grid for /home/ben/Documents/Target2DeNovoDrug/tmpezvy_maf/1a8m.pdbqt is as follows: x: 64.23, y: 65.34, z: 63.32\n",
      "Sizes of docking grid are as follows:x: 20.25, y: 50.86, z: 41.17\n",
      "Connection to PLIP server successful\n",
      "Processing file 1a8m_COc1ccc(C2=CC=C(NC(=O)C3CCC(C(=O)NCc4ccccc4)C3)C2)cc1_cplx.pdb\n",
      "No interactions found for 1a8m_COc1ccc(C2=CC=C(NC(=O)C3CCC(C(=O)NCc4ccccc4)C3)C2)cc1_cplx.pdb or damaged structure\n",
      "Message: Unable to locate element: /html/body/div[1]/div[2]/div[2]/p/a\n",
      "\n",
      "Downloading PDB structure '1a8m'...\n"
     ]
    },
    {
     "name": "stderr",
     "output_type": "stream",
     "text": [
      "/home/ben/anaconda3/lib/python3.7/site-packages/Bio/PDB/StructureBuilder.py:92: PDBConstructionWarning: WARNING: Chain A is discontinuous at line 4109.\n",
      "  PDBConstructionWarning,\n",
      "/home/ben/anaconda3/lib/python3.7/site-packages/Bio/PDB/StructureBuilder.py:92: PDBConstructionWarning: WARNING: Chain B is discontinuous at line 4125.\n",
      "  PDBConstructionWarning,\n",
      "/home/ben/anaconda3/lib/python3.7/site-packages/Bio/PDB/StructureBuilder.py:92: PDBConstructionWarning: WARNING: Chain C is discontinuous at line 4150.\n",
      "  PDBConstructionWarning,\n"
     ]
    },
    {
     "name": "stdout",
     "output_type": "stream",
     "text": [
      "Center point of docking grid for /home/ben/Documents/Target2DeNovoDrug/tmpha1yh0u4/1a8m.pdbqt is as follows: x: 64.23, y: 65.34, z: 63.32\n",
      "Sizes of docking grid are as follows:x: 20.25, y: 50.86, z: 41.17\n",
      "Connection to PLIP server successful\n",
      "Processing file 1a8m_COc1cccc(C(=O)Nc2ccc3c(c2)CCC3)c1_cplx.pdb\n",
      "No interactions found for 1a8m_COc1cccc(C(=O)Nc2ccc3c(c2)CCC3)c1_cplx.pdb or damaged structure\n",
      "Message: Unable to locate element: /html/body/div[1]/div[2]/div[2]/p/a\n",
      "\n",
      "Downloading PDB structure '1a8m'...\n"
     ]
    },
    {
     "name": "stderr",
     "output_type": "stream",
     "text": [
      "/home/ben/anaconda3/lib/python3.7/site-packages/Bio/PDB/StructureBuilder.py:92: PDBConstructionWarning: WARNING: Chain A is discontinuous at line 4109.\n",
      "  PDBConstructionWarning,\n",
      "/home/ben/anaconda3/lib/python3.7/site-packages/Bio/PDB/StructureBuilder.py:92: PDBConstructionWarning: WARNING: Chain B is discontinuous at line 4125.\n",
      "  PDBConstructionWarning,\n",
      "/home/ben/anaconda3/lib/python3.7/site-packages/Bio/PDB/StructureBuilder.py:92: PDBConstructionWarning: WARNING: Chain C is discontinuous at line 4150.\n",
      "  PDBConstructionWarning,\n"
     ]
    },
    {
     "name": "stdout",
     "output_type": "stream",
     "text": [
      "Center point of docking grid for /home/ben/Documents/Target2DeNovoDrug/tmpd3hr7zhc/1a8m.pdbqt is as follows: x: 64.23, y: 65.34, z: 63.32\n",
      "Sizes of docking grid are as follows:x: 20.25, y: 50.86, z: 41.17\n",
      "Connection to PLIP server successful\n",
      "Processing file 1a8m_Cc1ccc(S(=O)(=O)N2CCCC2)cc1OCC(=O)Nc1ccc(Cl)c(Cl)c1_cplx.pdb\n",
      "No interactions found for 1a8m_Cc1ccc(S(=O)(=O)N2CCCC2)cc1OCC(=O)Nc1ccc(Cl)c(Cl)c1_cplx.pdb or damaged structure\n",
      "Message: Unable to locate element: /html/body/div[1]/div[2]/div[2]/p/a\n",
      "\n",
      "Downloading PDB structure '1a8m'...\n"
     ]
    },
    {
     "name": "stderr",
     "output_type": "stream",
     "text": [
      "/home/ben/anaconda3/lib/python3.7/site-packages/Bio/PDB/StructureBuilder.py:92: PDBConstructionWarning: WARNING: Chain A is discontinuous at line 4109.\n",
      "  PDBConstructionWarning,\n",
      "/home/ben/anaconda3/lib/python3.7/site-packages/Bio/PDB/StructureBuilder.py:92: PDBConstructionWarning: WARNING: Chain B is discontinuous at line 4125.\n",
      "  PDBConstructionWarning,\n",
      "/home/ben/anaconda3/lib/python3.7/site-packages/Bio/PDB/StructureBuilder.py:92: PDBConstructionWarning: WARNING: Chain C is discontinuous at line 4150.\n",
      "  PDBConstructionWarning,\n"
     ]
    },
    {
     "name": "stdout",
     "output_type": "stream",
     "text": [
      "Center point of docking grid for /home/ben/Documents/Target2DeNovoDrug/tmp36s6j4tk/1a8m.pdbqt is as follows: x: 64.23, y: 65.34, z: 63.32\n",
      "Sizes of docking grid are as follows:x: 20.25, y: 50.86, z: 41.17\n",
      "Connection to PLIP server successful\n",
      "Processing file 1a8m_Cc1ccc(S(=O)(=O)Nc2cccc(C)c2)cc1_cplx.pdb\n",
      "No interactions found for 1a8m_Cc1ccc(S(=O)(=O)Nc2cccc(C)c2)cc1_cplx.pdb or damaged structure\n",
      "Message: Unable to locate element: /html/body/div[1]/div[2]/div[2]/p/a\n",
      "\n",
      "Downloading PDB structure '1a8m'...\n"
     ]
    },
    {
     "name": "stderr",
     "output_type": "stream",
     "text": [
      "/home/ben/anaconda3/lib/python3.7/site-packages/Bio/PDB/StructureBuilder.py:92: PDBConstructionWarning: WARNING: Chain A is discontinuous at line 4109.\n",
      "  PDBConstructionWarning,\n",
      "/home/ben/anaconda3/lib/python3.7/site-packages/Bio/PDB/StructureBuilder.py:92: PDBConstructionWarning: WARNING: Chain B is discontinuous at line 4125.\n",
      "  PDBConstructionWarning,\n",
      "/home/ben/anaconda3/lib/python3.7/site-packages/Bio/PDB/StructureBuilder.py:92: PDBConstructionWarning: WARNING: Chain C is discontinuous at line 4150.\n",
      "  PDBConstructionWarning,\n"
     ]
    },
    {
     "name": "stdout",
     "output_type": "stream",
     "text": [
      "Center point of docking grid for /home/ben/Documents/Target2DeNovoDrug/tmpkrbxmki_/1a8m.pdbqt is as follows: x: 64.23, y: 65.34, z: 63.32\n",
      "Sizes of docking grid are as follows:x: 20.25, y: 50.86, z: 41.17\n",
      "Connection to PLIP server successful\n",
      "Processing file 1a8m_CC1CC(C(=O)c2ccc(Cl)c(Cl)c2)c2ccccc21_cplx.pdb\n",
      "No interactions found for 1a8m_CC1CC(C(=O)c2ccc(Cl)c(Cl)c2)c2ccccc21_cplx.pdb or damaged structure\n",
      "Message: Unable to locate element: /html/body/div[1]/div[2]/div[2]/p/a\n",
      "\n"
     ]
    }
   ],
   "source": [
    "execute(PDB, B1)"
   ]
  },
  {
   "cell_type": "code",
   "execution_count": 41,
   "metadata": {},
   "outputs": [
    {
     "name": "stdout",
     "output_type": "stream",
     "text": [
      "Downloading PDB structure '1a8m'...\n"
     ]
    },
    {
     "name": "stderr",
     "output_type": "stream",
     "text": [
      "/home/ben/anaconda3/lib/python3.7/site-packages/Bio/PDB/StructureBuilder.py:92: PDBConstructionWarning: WARNING: Chain A is discontinuous at line 4109.\n",
      "  PDBConstructionWarning,\n",
      "/home/ben/anaconda3/lib/python3.7/site-packages/Bio/PDB/StructureBuilder.py:92: PDBConstructionWarning: WARNING: Chain B is discontinuous at line 4125.\n",
      "  PDBConstructionWarning,\n",
      "/home/ben/anaconda3/lib/python3.7/site-packages/Bio/PDB/StructureBuilder.py:92: PDBConstructionWarning: WARNING: Chain C is discontinuous at line 4150.\n",
      "  PDBConstructionWarning,\n"
     ]
    },
    {
     "name": "stdout",
     "output_type": "stream",
     "text": [
      "Center point of docking grid for /home/ben/Documents/Target2DeNovoDrug/tmpzzylp6vf/1a8m.pdbqt is as follows: x: 64.23, y: 65.34, z: 63.32\n",
      "Sizes of docking grid are as follows:x: 20.25, y: 50.86, z: 41.17\n",
      "Connection to PLIP server successful\n",
      "Processing file 1a8m_COc1ccc(NC(=O)c2ccccc2C(=O)c2ccccc2)cc1_cplx.pdb\n",
      "No interactions found for 1a8m_COc1ccc(NC(=O)c2ccccc2C(=O)c2ccccc2)cc1_cplx.pdb or damaged structure\n",
      "Message: Unable to locate element: /html/body/div[1]/div[2]/div[2]/p/a\n",
      "\n",
      "Downloading PDB structure '1a8m'...\n"
     ]
    },
    {
     "name": "stderr",
     "output_type": "stream",
     "text": [
      "/home/ben/anaconda3/lib/python3.7/site-packages/Bio/PDB/StructureBuilder.py:92: PDBConstructionWarning: WARNING: Chain A is discontinuous at line 4109.\n",
      "  PDBConstructionWarning,\n",
      "/home/ben/anaconda3/lib/python3.7/site-packages/Bio/PDB/StructureBuilder.py:92: PDBConstructionWarning: WARNING: Chain B is discontinuous at line 4125.\n",
      "  PDBConstructionWarning,\n",
      "/home/ben/anaconda3/lib/python3.7/site-packages/Bio/PDB/StructureBuilder.py:92: PDBConstructionWarning: WARNING: Chain C is discontinuous at line 4150.\n",
      "  PDBConstructionWarning,\n"
     ]
    },
    {
     "name": "stdout",
     "output_type": "stream",
     "text": [
      "Center point of docking grid for /home/ben/Documents/Target2DeNovoDrug/tmppjlqlm8_/1a8m.pdbqt is as follows: x: 64.23, y: 65.34, z: 63.32\n",
      "Sizes of docking grid are as follows:x: 20.25, y: 50.86, z: 41.17\n",
      "Connection to PLIP server successful\n",
      "Processing file 1a8m_Cc1ccc(C(=O)NC2CCN(C(=O)c3ccccc3)C2)cc1_cplx.pdb\n",
      "No interactions found for 1a8m_Cc1ccc(C(=O)NC2CCN(C(=O)c3ccccc3)C2)cc1_cplx.pdb or damaged structure\n",
      "Message: Unable to locate element: /html/body/div[1]/div[2]/div[2]/p/a\n",
      "\n",
      "Downloading PDB structure '1a8m'...\n"
     ]
    },
    {
     "name": "stderr",
     "output_type": "stream",
     "text": [
      "/home/ben/anaconda3/lib/python3.7/site-packages/Bio/PDB/StructureBuilder.py:92: PDBConstructionWarning: WARNING: Chain A is discontinuous at line 4109.\n",
      "  PDBConstructionWarning,\n",
      "/home/ben/anaconda3/lib/python3.7/site-packages/Bio/PDB/StructureBuilder.py:92: PDBConstructionWarning: WARNING: Chain B is discontinuous at line 4125.\n",
      "  PDBConstructionWarning,\n",
      "/home/ben/anaconda3/lib/python3.7/site-packages/Bio/PDB/StructureBuilder.py:92: PDBConstructionWarning: WARNING: Chain C is discontinuous at line 4150.\n",
      "  PDBConstructionWarning,\n"
     ]
    },
    {
     "name": "stdout",
     "output_type": "stream",
     "text": [
      "Center point of docking grid for /home/ben/Documents/Target2DeNovoDrug/tmpj_cy1klv/1a8m.pdbqt is as follows: x: 64.23, y: 65.34, z: 63.32\n",
      "Sizes of docking grid are as follows:x: 20.25, y: 50.86, z: 41.17\n",
      "Connection to PLIP server successful\n",
      "Processing file 1a8m_CCCOC(=O)C(C#N)=Cc1ccc(-c2nnnn2-c2ccccc2)o1_cplx.pdb\n",
      "No interactions found for 1a8m_CCCOC(=O)C(C#N)=Cc1ccc(-c2nnnn2-c2ccccc2)o1_cplx.pdb or damaged structure\n",
      "Message: Unable to locate element: /html/body/div[1]/div[2]/div[2]/p/a\n",
      "\n",
      "Downloading PDB structure '1a8m'...\n"
     ]
    },
    {
     "name": "stderr",
     "output_type": "stream",
     "text": [
      "/home/ben/anaconda3/lib/python3.7/site-packages/Bio/PDB/StructureBuilder.py:92: PDBConstructionWarning: WARNING: Chain A is discontinuous at line 4109.\n",
      "  PDBConstructionWarning,\n",
      "/home/ben/anaconda3/lib/python3.7/site-packages/Bio/PDB/StructureBuilder.py:92: PDBConstructionWarning: WARNING: Chain B is discontinuous at line 4125.\n",
      "  PDBConstructionWarning,\n",
      "/home/ben/anaconda3/lib/python3.7/site-packages/Bio/PDB/StructureBuilder.py:92: PDBConstructionWarning: WARNING: Chain C is discontinuous at line 4150.\n",
      "  PDBConstructionWarning,\n"
     ]
    },
    {
     "name": "stdout",
     "output_type": "stream",
     "text": [
      "Center point of docking grid for /home/ben/Documents/Target2DeNovoDrug/tmp649ccp7d/1a8m.pdbqt is as follows: x: 64.23, y: 65.34, z: 63.32\n",
      "Sizes of docking grid are as follows:x: 20.25, y: 50.86, z: 41.17\n",
      "Connection to PLIP server successful\n",
      "Processing file 1a8m_Cc1ccc(S(=O)(=O)Nc2ccc(C(=O)NC(C)C)cc2)cc1_cplx.pdb\n",
      "No interactions found for 1a8m_Cc1ccc(S(=O)(=O)Nc2ccc(C(=O)NC(C)C)cc2)cc1_cplx.pdb or damaged structure\n",
      "Message: Unable to locate element: /html/body/div[1]/div[2]/div[2]/p/a\n",
      "\n",
      "Downloading PDB structure '1a8m'...\n"
     ]
    },
    {
     "name": "stderr",
     "output_type": "stream",
     "text": [
      "/home/ben/anaconda3/lib/python3.7/site-packages/Bio/PDB/StructureBuilder.py:92: PDBConstructionWarning: WARNING: Chain A is discontinuous at line 4109.\n",
      "  PDBConstructionWarning,\n",
      "/home/ben/anaconda3/lib/python3.7/site-packages/Bio/PDB/StructureBuilder.py:92: PDBConstructionWarning: WARNING: Chain B is discontinuous at line 4125.\n",
      "  PDBConstructionWarning,\n",
      "/home/ben/anaconda3/lib/python3.7/site-packages/Bio/PDB/StructureBuilder.py:92: PDBConstructionWarning: WARNING: Chain C is discontinuous at line 4150.\n",
      "  PDBConstructionWarning,\n"
     ]
    },
    {
     "name": "stdout",
     "output_type": "stream",
     "text": [
      "Center point of docking grid for /home/ben/Documents/Target2DeNovoDrug/tmp1giyicl2/1a8m.pdbqt is as follows: x: 64.23, y: 65.34, z: 63.32\n",
      "Sizes of docking grid are as follows:x: 20.25, y: 50.86, z: 41.17\n",
      "Connection to PLIP server successful\n",
      "Processing file 1a8m_O=C(Cc1cccc(Br)c1)Nc1ccccc1C(=O)c1ccccc1_cplx.pdb\n",
      "No interactions found for 1a8m_O=C(Cc1cccc(Br)c1)Nc1ccccc1C(=O)c1ccccc1_cplx.pdb or damaged structure\n",
      "Message: Unable to locate element: /html/body/div[1]/div[2]/div[2]/p/a\n",
      "\n",
      "Downloading PDB structure '1a8m'...\n"
     ]
    },
    {
     "name": "stderr",
     "output_type": "stream",
     "text": [
      "/home/ben/anaconda3/lib/python3.7/site-packages/Bio/PDB/StructureBuilder.py:92: PDBConstructionWarning: WARNING: Chain A is discontinuous at line 4109.\n",
      "  PDBConstructionWarning,\n",
      "/home/ben/anaconda3/lib/python3.7/site-packages/Bio/PDB/StructureBuilder.py:92: PDBConstructionWarning: WARNING: Chain B is discontinuous at line 4125.\n",
      "  PDBConstructionWarning,\n",
      "/home/ben/anaconda3/lib/python3.7/site-packages/Bio/PDB/StructureBuilder.py:92: PDBConstructionWarning: WARNING: Chain C is discontinuous at line 4150.\n",
      "  PDBConstructionWarning,\n"
     ]
    },
    {
     "name": "stdout",
     "output_type": "stream",
     "text": [
      "Center point of docking grid for /home/ben/Documents/Target2DeNovoDrug/tmpvv8bzo2z/1a8m.pdbqt is as follows: x: 64.23, y: 65.34, z: 63.32\n",
      "Sizes of docking grid are as follows:x: 20.25, y: 50.86, z: 41.17\n",
      "Connection to PLIP server successful\n",
      "Processing file 1a8m_CCOC(=O)c1ccccc1N1CCN(Cc2ccccc2)CC1_cplx.pdb\n",
      "No interactions found for 1a8m_CCOC(=O)c1ccccc1N1CCN(Cc2ccccc2)CC1_cplx.pdb or damaged structure\n",
      "Message: Unable to locate element: /html/body/div[1]/div[2]/div[2]/p/a\n",
      "\n",
      "Downloading PDB structure '1a8m'...\n"
     ]
    },
    {
     "name": "stderr",
     "output_type": "stream",
     "text": [
      "/home/ben/anaconda3/lib/python3.7/site-packages/Bio/PDB/StructureBuilder.py:92: PDBConstructionWarning: WARNING: Chain A is discontinuous at line 4109.\n",
      "  PDBConstructionWarning,\n",
      "/home/ben/anaconda3/lib/python3.7/site-packages/Bio/PDB/StructureBuilder.py:92: PDBConstructionWarning: WARNING: Chain B is discontinuous at line 4125.\n",
      "  PDBConstructionWarning,\n",
      "/home/ben/anaconda3/lib/python3.7/site-packages/Bio/PDB/StructureBuilder.py:92: PDBConstructionWarning: WARNING: Chain C is discontinuous at line 4150.\n",
      "  PDBConstructionWarning,\n"
     ]
    },
    {
     "name": "stdout",
     "output_type": "stream",
     "text": [
      "Center point of docking grid for /home/ben/Documents/Target2DeNovoDrug/tmp2i06sk35/1a8m.pdbqt is as follows: x: 64.23, y: 65.34, z: 63.32\n",
      "Sizes of docking grid are as follows:x: 20.25, y: 50.86, z: 41.17\n",
      "Connection to PLIP server successful\n",
      "Processing file 1a8m_CCN(CC)S(=O)(=O)c1ccc(C(=O)Nc2nc(-c3cc4ccccc4s3)cs2)cc1_cplx.pdb\n",
      "No interactions found for 1a8m_CCN(CC)S(=O)(=O)c1ccc(C(=O)Nc2nc(-c3cc4ccccc4s3)cs2)cc1_cplx.pdb or damaged structure\n",
      "Message: Unable to locate element: /html/body/div[1]/div[2]/div[2]/p/a\n",
      "\n",
      "Downloading PDB structure '1a8m'...\n"
     ]
    },
    {
     "name": "stderr",
     "output_type": "stream",
     "text": [
      "/home/ben/anaconda3/lib/python3.7/site-packages/Bio/PDB/StructureBuilder.py:92: PDBConstructionWarning: WARNING: Chain A is discontinuous at line 4109.\n",
      "  PDBConstructionWarning,\n",
      "/home/ben/anaconda3/lib/python3.7/site-packages/Bio/PDB/StructureBuilder.py:92: PDBConstructionWarning: WARNING: Chain B is discontinuous at line 4125.\n",
      "  PDBConstructionWarning,\n",
      "/home/ben/anaconda3/lib/python3.7/site-packages/Bio/PDB/StructureBuilder.py:92: PDBConstructionWarning: WARNING: Chain C is discontinuous at line 4150.\n",
      "  PDBConstructionWarning,\n"
     ]
    },
    {
     "name": "stdout",
     "output_type": "stream",
     "text": [
      "Center point of docking grid for /home/ben/Documents/Target2DeNovoDrug/tmpjju5xcqd/1a8m.pdbqt is as follows: x: 64.23, y: 65.34, z: 63.32\n",
      "Sizes of docking grid are as follows:x: 20.25, y: 50.86, z: 41.17\n",
      "Connection to PLIP server successful\n",
      "Processing file 1a8m_C=CCN1C(=O)C(=CC2=CC2)C(=O)N(Cc2ccc(O)cc2)C1=O_cplx.pdb\n",
      "No interactions found for 1a8m_C=CCN1C(=O)C(=CC2=CC2)C(=O)N(Cc2ccc(O)cc2)C1=O_cplx.pdb or damaged structure\n",
      "Message: Unable to locate element: /html/body/div[1]/div[2]/div[2]/p/a\n",
      "\n",
      "Downloading PDB structure '1a8m'...\n"
     ]
    },
    {
     "name": "stderr",
     "output_type": "stream",
     "text": [
      "/home/ben/anaconda3/lib/python3.7/site-packages/Bio/PDB/StructureBuilder.py:92: PDBConstructionWarning: WARNING: Chain A is discontinuous at line 4109.\n",
      "  PDBConstructionWarning,\n",
      "/home/ben/anaconda3/lib/python3.7/site-packages/Bio/PDB/StructureBuilder.py:92: PDBConstructionWarning: WARNING: Chain B is discontinuous at line 4125.\n",
      "  PDBConstructionWarning,\n",
      "/home/ben/anaconda3/lib/python3.7/site-packages/Bio/PDB/StructureBuilder.py:92: PDBConstructionWarning: WARNING: Chain C is discontinuous at line 4150.\n",
      "  PDBConstructionWarning,\n"
     ]
    },
    {
     "name": "stdout",
     "output_type": "stream",
     "text": [
      "Center point of docking grid for /home/ben/Documents/Target2DeNovoDrug/tmpyxovxq0w/1a8m.pdbqt is as follows: x: 64.23, y: 65.34, z: 63.32\n",
      "Sizes of docking grid are as follows:x: 20.25, y: 50.86, z: 41.17\n",
      "Connection to PLIP server successful\n",
      "Processing file 1a8m_CC(C)CNC(=O)c1ccccc1C(=O)c1ccccc1C(=O)c1cccs1_cplx.pdb\n",
      "No interactions found for 1a8m_CC(C)CNC(=O)c1ccccc1C(=O)c1ccccc1C(=O)c1cccs1_cplx.pdb or damaged structure\n",
      "Message: Unable to locate element: /html/body/div[1]/div[2]/div[2]/p/a\n",
      "\n",
      "Downloading PDB structure '1a8m'...\n"
     ]
    },
    {
     "name": "stderr",
     "output_type": "stream",
     "text": [
      "/home/ben/anaconda3/lib/python3.7/site-packages/Bio/PDB/StructureBuilder.py:92: PDBConstructionWarning: WARNING: Chain A is discontinuous at line 4109.\n",
      "  PDBConstructionWarning,\n",
      "/home/ben/anaconda3/lib/python3.7/site-packages/Bio/PDB/StructureBuilder.py:92: PDBConstructionWarning: WARNING: Chain B is discontinuous at line 4125.\n",
      "  PDBConstructionWarning,\n",
      "/home/ben/anaconda3/lib/python3.7/site-packages/Bio/PDB/StructureBuilder.py:92: PDBConstructionWarning: WARNING: Chain C is discontinuous at line 4150.\n",
      "  PDBConstructionWarning,\n"
     ]
    },
    {
     "name": "stdout",
     "output_type": "stream",
     "text": [
      "Center point of docking grid for /home/ben/Documents/Target2DeNovoDrug/tmp59ejg6cg/1a8m.pdbqt is as follows: x: 64.23, y: 65.34, z: 63.32\n",
      "Sizes of docking grid are as follows:x: 20.25, y: 50.86, z: 41.17\n",
      "Connection to PLIP server successful\n",
      "Processing file 1a8m_CCCCCCCCCCCC(=O)Nc1nc2ccc(NC(=O)c3ccccc3)cc2s1_cplx.pdb\n",
      "No interactions found for 1a8m_CCCCCCCCCCCC(=O)Nc1nc2ccc(NC(=O)c3ccccc3)cc2s1_cplx.pdb or damaged structure\n",
      "Message: Unable to locate element: /html/body/div[1]/div[2]/div[2]/p/a\n",
      "\n",
      "Downloading PDB structure '1a8m'...\n"
     ]
    },
    {
     "name": "stderr",
     "output_type": "stream",
     "text": [
      "/home/ben/anaconda3/lib/python3.7/site-packages/Bio/PDB/StructureBuilder.py:92: PDBConstructionWarning: WARNING: Chain A is discontinuous at line 4109.\n",
      "  PDBConstructionWarning,\n",
      "/home/ben/anaconda3/lib/python3.7/site-packages/Bio/PDB/StructureBuilder.py:92: PDBConstructionWarning: WARNING: Chain B is discontinuous at line 4125.\n",
      "  PDBConstructionWarning,\n",
      "/home/ben/anaconda3/lib/python3.7/site-packages/Bio/PDB/StructureBuilder.py:92: PDBConstructionWarning: WARNING: Chain C is discontinuous at line 4150.\n",
      "  PDBConstructionWarning,\n"
     ]
    },
    {
     "name": "stdout",
     "output_type": "stream",
     "text": [
      "Center point of docking grid for /home/ben/Documents/Target2DeNovoDrug/tmpq8csktv2/1a8m.pdbqt is as follows: x: 64.23, y: 65.34, z: 63.32\n",
      "Sizes of docking grid are as follows:x: 20.25, y: 50.86, z: 41.17\n",
      "Connection to PLIP server successful\n",
      "Processing file 1a8m_CCN(CC)S(=O)(=O)c1cccc(C(=O)Nc2ccc(F)cc2)c1_cplx.pdb\n",
      "No interactions found for 1a8m_CCN(CC)S(=O)(=O)c1cccc(C(=O)Nc2ccc(F)cc2)c1_cplx.pdb or damaged structure\n",
      "Message: Unable to locate element: /html/body/div[1]/div[2]/div[2]/p/a\n",
      "\n",
      "Downloading PDB structure '1a8m'...\n"
     ]
    },
    {
     "name": "stderr",
     "output_type": "stream",
     "text": [
      "/home/ben/anaconda3/lib/python3.7/site-packages/Bio/PDB/StructureBuilder.py:92: PDBConstructionWarning: WARNING: Chain A is discontinuous at line 4109.\n",
      "  PDBConstructionWarning,\n",
      "/home/ben/anaconda3/lib/python3.7/site-packages/Bio/PDB/StructureBuilder.py:92: PDBConstructionWarning: WARNING: Chain B is discontinuous at line 4125.\n",
      "  PDBConstructionWarning,\n",
      "/home/ben/anaconda3/lib/python3.7/site-packages/Bio/PDB/StructureBuilder.py:92: PDBConstructionWarning: WARNING: Chain C is discontinuous at line 4150.\n",
      "  PDBConstructionWarning,\n"
     ]
    },
    {
     "name": "stdout",
     "output_type": "stream",
     "text": [
      "Center point of docking grid for /home/ben/Documents/Target2DeNovoDrug/tmpcvbr22fb/1a8m.pdbqt is as follows: x: 64.23, y: 65.34, z: 63.32\n",
      "Sizes of docking grid are as follows:x: 20.25, y: 50.86, z: 41.17\n",
      "Connection to PLIP server successful\n",
      "Processing file 1a8m_CC1=NC2=CC(NC(=O)c3ccccc3)=NC=NN2S1_cplx.pdb\n",
      "No interactions found for 1a8m_CC1=NC2=CC(NC(=O)c3ccccc3)=NC=NN2S1_cplx.pdb or damaged structure\n",
      "Message: Unable to locate element: /html/body/div[1]/div[2]/div[2]/p/a\n",
      "\n",
      "Downloading PDB structure '1a8m'...\n"
     ]
    },
    {
     "name": "stderr",
     "output_type": "stream",
     "text": [
      "/home/ben/anaconda3/lib/python3.7/site-packages/Bio/PDB/StructureBuilder.py:92: PDBConstructionWarning: WARNING: Chain A is discontinuous at line 4109.\n",
      "  PDBConstructionWarning,\n",
      "/home/ben/anaconda3/lib/python3.7/site-packages/Bio/PDB/StructureBuilder.py:92: PDBConstructionWarning: WARNING: Chain B is discontinuous at line 4125.\n",
      "  PDBConstructionWarning,\n",
      "/home/ben/anaconda3/lib/python3.7/site-packages/Bio/PDB/StructureBuilder.py:92: PDBConstructionWarning: WARNING: Chain C is discontinuous at line 4150.\n",
      "  PDBConstructionWarning,\n"
     ]
    },
    {
     "name": "stdout",
     "output_type": "stream",
     "text": [
      "Center point of docking grid for /home/ben/Documents/Target2DeNovoDrug/tmpi5owfzy6/1a8m.pdbqt is as follows: x: 64.23, y: 65.34, z: 63.32\n",
      "Sizes of docking grid are as follows:x: 20.25, y: 50.86, z: 41.17\n",
      "Connection to PLIP server successful\n",
      "Processing file 1a8m_COc1ccccc1C=CC(=O)c1cccc(C(=O)c2ccc(C(N)=O)cc2)c1_cplx.pdb\n",
      "No interactions found for 1a8m_COc1ccccc1C=CC(=O)c1cccc(C(=O)c2ccc(C(N)=O)cc2)c1_cplx.pdb or damaged structure\n",
      "Message: Unable to locate element: /html/body/div[1]/div[2]/div[2]/p/a\n",
      "\n",
      "Downloading PDB structure '1a8m'...\n"
     ]
    },
    {
     "name": "stderr",
     "output_type": "stream",
     "text": [
      "/home/ben/anaconda3/lib/python3.7/site-packages/Bio/PDB/StructureBuilder.py:92: PDBConstructionWarning: WARNING: Chain A is discontinuous at line 4109.\n",
      "  PDBConstructionWarning,\n",
      "/home/ben/anaconda3/lib/python3.7/site-packages/Bio/PDB/StructureBuilder.py:92: PDBConstructionWarning: WARNING: Chain B is discontinuous at line 4125.\n",
      "  PDBConstructionWarning,\n",
      "/home/ben/anaconda3/lib/python3.7/site-packages/Bio/PDB/StructureBuilder.py:92: PDBConstructionWarning: WARNING: Chain C is discontinuous at line 4150.\n",
      "  PDBConstructionWarning,\n"
     ]
    },
    {
     "name": "stdout",
     "output_type": "stream",
     "text": [
      "Center point of docking grid for /home/ben/Documents/Target2DeNovoDrug/tmpdooo3z75/1a8m.pdbqt is as follows: x: 64.23, y: 65.34, z: 63.32\n",
      "Sizes of docking grid are as follows:x: 20.25, y: 50.86, z: 41.17\n",
      "Connection to PLIP server successful\n",
      "Processing file 1a8m_Cc1ccc(C)c(NC(=O)c2cccc(NS(=O)(=O)c3cccc(Cl)c3)c2)c1_cplx.pdb\n",
      "No interactions found for 1a8m_Cc1ccc(C)c(NC(=O)c2cccc(NS(=O)(=O)c3cccc(Cl)c3)c2)c1_cplx.pdb or damaged structure\n",
      "Message: Unable to locate element: /html/body/div[1]/div[2]/div[2]/p/a\n",
      "\n",
      "Downloading PDB structure '1a8m'...\n"
     ]
    },
    {
     "name": "stderr",
     "output_type": "stream",
     "text": [
      "/home/ben/anaconda3/lib/python3.7/site-packages/Bio/PDB/StructureBuilder.py:92: PDBConstructionWarning: WARNING: Chain A is discontinuous at line 4109.\n",
      "  PDBConstructionWarning,\n",
      "/home/ben/anaconda3/lib/python3.7/site-packages/Bio/PDB/StructureBuilder.py:92: PDBConstructionWarning: WARNING: Chain B is discontinuous at line 4125.\n",
      "  PDBConstructionWarning,\n",
      "/home/ben/anaconda3/lib/python3.7/site-packages/Bio/PDB/StructureBuilder.py:92: PDBConstructionWarning: WARNING: Chain C is discontinuous at line 4150.\n",
      "  PDBConstructionWarning,\n"
     ]
    },
    {
     "name": "stdout",
     "output_type": "stream",
     "text": [
      "Center point of docking grid for /home/ben/Documents/Target2DeNovoDrug/tmpddvq7trh/1a8m.pdbqt is as follows: x: 64.23, y: 65.34, z: 63.32\n",
      "Sizes of docking grid are as follows:x: 20.25, y: 50.86, z: 41.17\n",
      "Connection to PLIP server successful\n",
      "Processing file 1a8m_COc1ccc(C=C2C(=O)Cc3ccccc3C=CC(=O)OC2=O)cc1_cplx.pdb\n",
      "No interactions found for 1a8m_COc1ccc(C=C2C(=O)Cc3ccccc3C=CC(=O)OC2=O)cc1_cplx.pdb or damaged structure\n",
      "Message: Unable to locate element: /html/body/div[1]/div[2]/div[2]/p/a\n",
      "\n",
      "Downloading PDB structure '1a8m'...\n"
     ]
    },
    {
     "name": "stderr",
     "output_type": "stream",
     "text": [
      "/home/ben/anaconda3/lib/python3.7/site-packages/Bio/PDB/StructureBuilder.py:92: PDBConstructionWarning: WARNING: Chain A is discontinuous at line 4109.\n",
      "  PDBConstructionWarning,\n",
      "/home/ben/anaconda3/lib/python3.7/site-packages/Bio/PDB/StructureBuilder.py:92: PDBConstructionWarning: WARNING: Chain B is discontinuous at line 4125.\n",
      "  PDBConstructionWarning,\n",
      "/home/ben/anaconda3/lib/python3.7/site-packages/Bio/PDB/StructureBuilder.py:92: PDBConstructionWarning: WARNING: Chain C is discontinuous at line 4150.\n",
      "  PDBConstructionWarning,\n"
     ]
    },
    {
     "name": "stdout",
     "output_type": "stream",
     "text": [
      "Center point of docking grid for /home/ben/Documents/Target2DeNovoDrug/tmpbqawk4zk/1a8m.pdbqt is as follows: x: 64.23, y: 65.34, z: 63.32\n",
      "Sizes of docking grid are as follows:x: 20.25, y: 50.86, z: 41.17\n",
      "Connection to PLIP server successful\n",
      "Processing file 1a8m_CCCCCCC(=O)Nc1ccc(C(=O)N2CCN(c3ccccn3)CC2)cc1_cplx.pdb\n",
      "No interactions found for 1a8m_CCCCCCC(=O)Nc1ccc(C(=O)N2CCN(c3ccccn3)CC2)cc1_cplx.pdb or damaged structure\n",
      "Message: Unable to locate element: /html/body/div[1]/div[2]/div[2]/p/a\n",
      "\n",
      "Downloading PDB structure '1a8m'...\n"
     ]
    },
    {
     "name": "stderr",
     "output_type": "stream",
     "text": [
      "/home/ben/anaconda3/lib/python3.7/site-packages/Bio/PDB/StructureBuilder.py:92: PDBConstructionWarning: WARNING: Chain A is discontinuous at line 4109.\n",
      "  PDBConstructionWarning,\n",
      "/home/ben/anaconda3/lib/python3.7/site-packages/Bio/PDB/StructureBuilder.py:92: PDBConstructionWarning: WARNING: Chain B is discontinuous at line 4125.\n",
      "  PDBConstructionWarning,\n",
      "/home/ben/anaconda3/lib/python3.7/site-packages/Bio/PDB/StructureBuilder.py:92: PDBConstructionWarning: WARNING: Chain C is discontinuous at line 4150.\n",
      "  PDBConstructionWarning,\n"
     ]
    },
    {
     "name": "stdout",
     "output_type": "stream",
     "text": [
      "Center point of docking grid for /home/ben/Documents/Target2DeNovoDrug/tmpr1j37916/1a8m.pdbqt is as follows: x: 64.23, y: 65.34, z: 63.32\n",
      "Sizes of docking grid are as follows:x: 20.25, y: 50.86, z: 41.17\n",
      "Connection to PLIP server successful\n",
      "Processing file 1a8m_COc1ccc(NC(=O)c2ccccc2Nc2cccc(Cl)c2)cc1_cplx.pdb\n",
      "No interactions found for 1a8m_COc1ccc(NC(=O)c2ccccc2Nc2cccc(Cl)c2)cc1_cplx.pdb or damaged structure\n",
      "Message: Unable to locate element: /html/body/div[1]/div[2]/div[2]/p/a\n",
      "\n",
      "Downloading PDB structure '1a8m'...\n"
     ]
    },
    {
     "name": "stderr",
     "output_type": "stream",
     "text": [
      "/home/ben/anaconda3/lib/python3.7/site-packages/Bio/PDB/StructureBuilder.py:92: PDBConstructionWarning: WARNING: Chain A is discontinuous at line 4109.\n",
      "  PDBConstructionWarning,\n",
      "/home/ben/anaconda3/lib/python3.7/site-packages/Bio/PDB/StructureBuilder.py:92: PDBConstructionWarning: WARNING: Chain B is discontinuous at line 4125.\n",
      "  PDBConstructionWarning,\n",
      "/home/ben/anaconda3/lib/python3.7/site-packages/Bio/PDB/StructureBuilder.py:92: PDBConstructionWarning: WARNING: Chain C is discontinuous at line 4150.\n",
      "  PDBConstructionWarning,\n"
     ]
    },
    {
     "name": "stdout",
     "output_type": "stream",
     "text": [
      "Center point of docking grid for /home/ben/Documents/Target2DeNovoDrug/tmp1ko2gpwu/1a8m.pdbqt is as follows: x: 64.23, y: 65.34, z: 63.32\n",
      "Sizes of docking grid are as follows:x: 20.25, y: 50.86, z: 41.17\n",
      "Connection to PLIP server successful\n",
      "Processing file 1a8m_CC(C)CC(=O)Nc1ccc(-c2ccc(C(F)(F)F)cc2)cc1_cplx.pdb\n",
      "No interactions found for 1a8m_CC(C)CC(=O)Nc1ccc(-c2ccc(C(F)(F)F)cc2)cc1_cplx.pdb or damaged structure\n",
      "Message: Unable to locate element: /html/body/div[1]/div[2]/div[2]/p/a\n",
      "\n",
      "Downloading PDB structure '1a8m'...\n"
     ]
    },
    {
     "name": "stderr",
     "output_type": "stream",
     "text": [
      "/home/ben/anaconda3/lib/python3.7/site-packages/Bio/PDB/StructureBuilder.py:92: PDBConstructionWarning: WARNING: Chain A is discontinuous at line 4109.\n",
      "  PDBConstructionWarning,\n",
      "/home/ben/anaconda3/lib/python3.7/site-packages/Bio/PDB/StructureBuilder.py:92: PDBConstructionWarning: WARNING: Chain B is discontinuous at line 4125.\n",
      "  PDBConstructionWarning,\n",
      "/home/ben/anaconda3/lib/python3.7/site-packages/Bio/PDB/StructureBuilder.py:92: PDBConstructionWarning: WARNING: Chain C is discontinuous at line 4150.\n",
      "  PDBConstructionWarning,\n"
     ]
    },
    {
     "name": "stdout",
     "output_type": "stream",
     "text": [
      "Center point of docking grid for /home/ben/Documents/Target2DeNovoDrug/tmpx7c2t2f8/1a8m.pdbqt is as follows: x: 64.23, y: 65.34, z: 63.32\n",
      "Sizes of docking grid are as follows:x: 20.25, y: 50.86, z: 41.17\n",
      "Connection to PLIP server successful\n",
      "Processing file 1a8m_Cc1cccc(NC(=O)Nc2nc3ccccc3nc2NS(=O)(=O)c2ccccc2)c1_cplx.pdb\n",
      "No interactions found for 1a8m_Cc1cccc(NC(=O)Nc2nc3ccccc3nc2NS(=O)(=O)c2ccccc2)c1_cplx.pdb or damaged structure\n",
      "Message: Unable to locate element: /html/body/div[1]/div[2]/div[2]/p/a\n",
      "\n",
      "Downloading PDB structure '1a8m'...\n"
     ]
    },
    {
     "name": "stderr",
     "output_type": "stream",
     "text": [
      "/home/ben/anaconda3/lib/python3.7/site-packages/Bio/PDB/StructureBuilder.py:92: PDBConstructionWarning: WARNING: Chain A is discontinuous at line 4109.\n",
      "  PDBConstructionWarning,\n",
      "/home/ben/anaconda3/lib/python3.7/site-packages/Bio/PDB/StructureBuilder.py:92: PDBConstructionWarning: WARNING: Chain B is discontinuous at line 4125.\n",
      "  PDBConstructionWarning,\n",
      "/home/ben/anaconda3/lib/python3.7/site-packages/Bio/PDB/StructureBuilder.py:92: PDBConstructionWarning: WARNING: Chain C is discontinuous at line 4150.\n",
      "  PDBConstructionWarning,\n"
     ]
    },
    {
     "name": "stdout",
     "output_type": "stream",
     "text": [
      "Center point of docking grid for /home/ben/Documents/Target2DeNovoDrug/tmp4_pons7t/1a8m.pdbqt is as follows: x: 64.23, y: 65.34, z: 63.32\n",
      "Sizes of docking grid are as follows:x: 20.25, y: 50.86, z: 41.17\n",
      "Connection to PLIP server successful\n",
      "Processing file 1a8m_COc1ccc(-c2csc(NC(=O)c3ccc([N+](=O)[O-])cc3)n2)cc1C_cplx.pdb\n",
      "No interactions found for 1a8m_COc1ccc(-c2csc(NC(=O)c3ccc([N+](=O)[O-])cc3)n2)cc1C_cplx.pdb or damaged structure\n",
      "Message: Unable to locate element: /html/body/div[1]/div[2]/div[2]/p/a\n",
      "\n",
      "Downloading PDB structure '1a8m'...\n"
     ]
    },
    {
     "name": "stderr",
     "output_type": "stream",
     "text": [
      "/home/ben/anaconda3/lib/python3.7/site-packages/Bio/PDB/StructureBuilder.py:92: PDBConstructionWarning: WARNING: Chain A is discontinuous at line 4109.\n",
      "  PDBConstructionWarning,\n",
      "/home/ben/anaconda3/lib/python3.7/site-packages/Bio/PDB/StructureBuilder.py:92: PDBConstructionWarning: WARNING: Chain B is discontinuous at line 4125.\n",
      "  PDBConstructionWarning,\n",
      "/home/ben/anaconda3/lib/python3.7/site-packages/Bio/PDB/StructureBuilder.py:92: PDBConstructionWarning: WARNING: Chain C is discontinuous at line 4150.\n",
      "  PDBConstructionWarning,\n"
     ]
    },
    {
     "name": "stdout",
     "output_type": "stream",
     "text": [
      "Center point of docking grid for /home/ben/Documents/Target2DeNovoDrug/tmpywxtd965/1a8m.pdbqt is as follows: x: 64.23, y: 65.34, z: 63.32\n",
      "Sizes of docking grid are as follows:x: 20.25, y: 50.86, z: 41.17\n",
      "Connection to PLIP server successful\n",
      "Processing file 1a8m_Cc1ccc(O)c(Nc2nc3ccccc3[nH]2)c1_cplx.pdb\n",
      "No interactions found for 1a8m_Cc1ccc(O)c(Nc2nc3ccccc3[nH]2)c1_cplx.pdb or damaged structure\n",
      "Message: Unable to locate element: /html/body/div[1]/div[2]/div[2]/p/a\n",
      "\n",
      "Downloading PDB structure '1a8m'...\n"
     ]
    },
    {
     "name": "stderr",
     "output_type": "stream",
     "text": [
      "/home/ben/anaconda3/lib/python3.7/site-packages/Bio/PDB/StructureBuilder.py:92: PDBConstructionWarning: WARNING: Chain A is discontinuous at line 4109.\n",
      "  PDBConstructionWarning,\n",
      "/home/ben/anaconda3/lib/python3.7/site-packages/Bio/PDB/StructureBuilder.py:92: PDBConstructionWarning: WARNING: Chain B is discontinuous at line 4125.\n",
      "  PDBConstructionWarning,\n",
      "/home/ben/anaconda3/lib/python3.7/site-packages/Bio/PDB/StructureBuilder.py:92: PDBConstructionWarning: WARNING: Chain C is discontinuous at line 4150.\n",
      "  PDBConstructionWarning,\n"
     ]
    },
    {
     "name": "stdout",
     "output_type": "stream",
     "text": [
      "Center point of docking grid for /home/ben/Documents/Target2DeNovoDrug/tmpbtbc0lwi/1a8m.pdbqt is as follows: x: 64.23, y: 65.34, z: 63.32\n",
      "Sizes of docking grid are as follows:x: 20.25, y: 50.86, z: 41.17\n",
      "Connection to PLIP server successful\n",
      "Processing file 1a8m_CC(C)(C)c1ccc(Nc2nc3ncccc3nc2NS(=O)(=O)c2ccccc2)cc1_cplx.pdb\n",
      "No interactions found for 1a8m_CC(C)(C)c1ccc(Nc2nc3ncccc3nc2NS(=O)(=O)c2ccccc2)cc1_cplx.pdb or damaged structure\n",
      "Message: Unable to locate element: /html/body/div[1]/div[2]/div[2]/p/a\n",
      "\n",
      "Downloading PDB structure '1a8m'...\n"
     ]
    },
    {
     "name": "stderr",
     "output_type": "stream",
     "text": [
      "/home/ben/anaconda3/lib/python3.7/site-packages/Bio/PDB/StructureBuilder.py:92: PDBConstructionWarning: WARNING: Chain A is discontinuous at line 4109.\n",
      "  PDBConstructionWarning,\n",
      "/home/ben/anaconda3/lib/python3.7/site-packages/Bio/PDB/StructureBuilder.py:92: PDBConstructionWarning: WARNING: Chain B is discontinuous at line 4125.\n",
      "  PDBConstructionWarning,\n",
      "/home/ben/anaconda3/lib/python3.7/site-packages/Bio/PDB/StructureBuilder.py:92: PDBConstructionWarning: WARNING: Chain C is discontinuous at line 4150.\n",
      "  PDBConstructionWarning,\n"
     ]
    },
    {
     "name": "stdout",
     "output_type": "stream",
     "text": [
      "Center point of docking grid for /home/ben/Documents/Target2DeNovoDrug/tmp30e9xkcu/1a8m.pdbqt is as follows: x: 64.23, y: 65.34, z: 63.32\n",
      "Sizes of docking grid are as follows:x: 20.25, y: 50.86, z: 41.17\n",
      "Connection to PLIP server successful\n",
      "Processing file 1a8m_CC(C)Cn1c(N)c(C(=O)COC(=O)C23CC4CC(CC(C4)C2)C3)c(=O)n(C)c1=O_cplx.pdb\n",
      "No interactions found for 1a8m_CC(C)Cn1c(N)c(C(=O)COC(=O)C23CC4CC(CC(C4)C2)C3)c(=O)n(C)c1=O_cplx.pdb or damaged structure\n",
      "Message: Unable to locate element: /html/body/div[1]/div[2]/div[2]/p/a\n",
      "\n",
      "Downloading PDB structure '1a8m'...\n"
     ]
    },
    {
     "name": "stderr",
     "output_type": "stream",
     "text": [
      "/home/ben/anaconda3/lib/python3.7/site-packages/Bio/PDB/StructureBuilder.py:92: PDBConstructionWarning: WARNING: Chain A is discontinuous at line 4109.\n",
      "  PDBConstructionWarning,\n",
      "/home/ben/anaconda3/lib/python3.7/site-packages/Bio/PDB/StructureBuilder.py:92: PDBConstructionWarning: WARNING: Chain B is discontinuous at line 4125.\n",
      "  PDBConstructionWarning,\n",
      "/home/ben/anaconda3/lib/python3.7/site-packages/Bio/PDB/StructureBuilder.py:92: PDBConstructionWarning: WARNING: Chain C is discontinuous at line 4150.\n",
      "  PDBConstructionWarning,\n"
     ]
    },
    {
     "name": "stdout",
     "output_type": "stream",
     "text": [
      "Center point of docking grid for /home/ben/Documents/Target2DeNovoDrug/tmpaw_h195i/1a8m.pdbqt is as follows: x: 64.23, y: 65.34, z: 63.32\n",
      "Sizes of docking grid are as follows:x: 20.25, y: 50.86, z: 41.17\n",
      "Connection to PLIP server successful\n",
      "Processing file 1a8m_COC(=O)c1ccc(NC(=O)c2ccccc2)cc1C_cplx.pdb\n",
      "No interactions found for 1a8m_COC(=O)c1ccc(NC(=O)c2ccccc2)cc1C_cplx.pdb or damaged structure\n",
      "Message: Unable to locate element: /html/body/div[1]/div[2]/div[2]/p/a\n",
      "\n",
      "Downloading PDB structure '1a8m'...\n"
     ]
    },
    {
     "name": "stderr",
     "output_type": "stream",
     "text": [
      "/home/ben/anaconda3/lib/python3.7/site-packages/Bio/PDB/StructureBuilder.py:92: PDBConstructionWarning: WARNING: Chain A is discontinuous at line 4109.\n",
      "  PDBConstructionWarning,\n",
      "/home/ben/anaconda3/lib/python3.7/site-packages/Bio/PDB/StructureBuilder.py:92: PDBConstructionWarning: WARNING: Chain B is discontinuous at line 4125.\n",
      "  PDBConstructionWarning,\n",
      "/home/ben/anaconda3/lib/python3.7/site-packages/Bio/PDB/StructureBuilder.py:92: PDBConstructionWarning: WARNING: Chain C is discontinuous at line 4150.\n",
      "  PDBConstructionWarning,\n"
     ]
    },
    {
     "name": "stdout",
     "output_type": "stream",
     "text": [
      "Center point of docking grid for /home/ben/Documents/Target2DeNovoDrug/tmp4hlddt8u/1a8m.pdbqt is as follows: x: 64.23, y: 65.34, z: 63.32\n",
      "Sizes of docking grid are as follows:x: 20.25, y: 50.86, z: 41.17\n",
      "Connection to PLIP server successful\n",
      "Processing file 1a8m_Cc1ccc(CCC(=O)Nc2nc(-c3ccccc3)cs2)cc1_cplx.pdb\n",
      "No interactions found for 1a8m_Cc1ccc(CCC(=O)Nc2nc(-c3ccccc3)cs2)cc1_cplx.pdb or damaged structure\n",
      "Message: Unable to locate element: /html/body/div[1]/div[2]/div[2]/p/a\n",
      "\n",
      "Downloading PDB structure '1a8m'...\n"
     ]
    },
    {
     "name": "stderr",
     "output_type": "stream",
     "text": [
      "/home/ben/anaconda3/lib/python3.7/site-packages/Bio/PDB/StructureBuilder.py:92: PDBConstructionWarning: WARNING: Chain A is discontinuous at line 4109.\n",
      "  PDBConstructionWarning,\n",
      "/home/ben/anaconda3/lib/python3.7/site-packages/Bio/PDB/StructureBuilder.py:92: PDBConstructionWarning: WARNING: Chain B is discontinuous at line 4125.\n",
      "  PDBConstructionWarning,\n",
      "/home/ben/anaconda3/lib/python3.7/site-packages/Bio/PDB/StructureBuilder.py:92: PDBConstructionWarning: WARNING: Chain C is discontinuous at line 4150.\n",
      "  PDBConstructionWarning,\n"
     ]
    },
    {
     "name": "stdout",
     "output_type": "stream",
     "text": [
      "Center point of docking grid for /home/ben/Documents/Target2DeNovoDrug/tmp6qtpt5er/1a8m.pdbqt is as follows: x: 64.23, y: 65.34, z: 63.32\n",
      "Sizes of docking grid are as follows:x: 20.25, y: 50.86, z: 41.17\n",
      "Connection to PLIP server successful\n",
      "Processing file 1a8m_Cc1ccc(OCC(=O)c2cc(C)n(C(=O)c3ccccc3[N+](=O)[O-])c2C)cc1_cplx.pdb\n",
      "No interactions found for 1a8m_Cc1ccc(OCC(=O)c2cc(C)n(C(=O)c3ccccc3[N+](=O)[O-])c2C)cc1_cplx.pdb or damaged structure\n",
      "Message: Unable to locate element: /html/body/div[1]/div[2]/div[2]/p/a\n",
      "\n",
      "Downloading PDB structure '1a8m'...\n"
     ]
    },
    {
     "name": "stderr",
     "output_type": "stream",
     "text": [
      "/home/ben/anaconda3/lib/python3.7/site-packages/Bio/PDB/StructureBuilder.py:92: PDBConstructionWarning: WARNING: Chain A is discontinuous at line 4109.\n",
      "  PDBConstructionWarning,\n",
      "/home/ben/anaconda3/lib/python3.7/site-packages/Bio/PDB/StructureBuilder.py:92: PDBConstructionWarning: WARNING: Chain B is discontinuous at line 4125.\n",
      "  PDBConstructionWarning,\n",
      "/home/ben/anaconda3/lib/python3.7/site-packages/Bio/PDB/StructureBuilder.py:92: PDBConstructionWarning: WARNING: Chain C is discontinuous at line 4150.\n",
      "  PDBConstructionWarning,\n"
     ]
    },
    {
     "name": "stdout",
     "output_type": "stream",
     "text": [
      "Center point of docking grid for /home/ben/Documents/Target2DeNovoDrug/tmp9j0xa8w4/1a8m.pdbqt is as follows: x: 64.23, y: 65.34, z: 63.32\n",
      "Sizes of docking grid are as follows:x: 20.25, y: 50.86, z: 41.17\n",
      "Connection to PLIP server successful\n",
      "Processing file 1a8m_Cc1ccc(NC(=O)CC(=O)c2ccc(S(=O)(=O)N3CCOCC3)cc2)cc1_cplx.pdb\n",
      "No interactions found for 1a8m_Cc1ccc(NC(=O)CC(=O)c2ccc(S(=O)(=O)N3CCOCC3)cc2)cc1_cplx.pdb or damaged structure\n",
      "Message: Unable to locate element: /html/body/div[1]/div[2]/div[2]/p/a\n",
      "\n",
      "Downloading PDB structure '1a8m'...\n"
     ]
    },
    {
     "name": "stderr",
     "output_type": "stream",
     "text": [
      "/home/ben/anaconda3/lib/python3.7/site-packages/Bio/PDB/StructureBuilder.py:92: PDBConstructionWarning: WARNING: Chain A is discontinuous at line 4109.\n",
      "  PDBConstructionWarning,\n",
      "/home/ben/anaconda3/lib/python3.7/site-packages/Bio/PDB/StructureBuilder.py:92: PDBConstructionWarning: WARNING: Chain B is discontinuous at line 4125.\n",
      "  PDBConstructionWarning,\n",
      "/home/ben/anaconda3/lib/python3.7/site-packages/Bio/PDB/StructureBuilder.py:92: PDBConstructionWarning: WARNING: Chain C is discontinuous at line 4150.\n",
      "  PDBConstructionWarning,\n"
     ]
    },
    {
     "name": "stdout",
     "output_type": "stream",
     "text": [
      "Center point of docking grid for /home/ben/Documents/Target2DeNovoDrug/tmpeuni9y8i/1a8m.pdbqt is as follows: x: 64.23, y: 65.34, z: 63.32\n",
      "Sizes of docking grid are as follows:x: 20.25, y: 50.86, z: 41.17\n",
      "Connection to PLIP server successful\n",
      "Processing file 1a8m_COc1ccccc1C(=O)Nc1ccc(S(=O)(=O)N2CCCCC2)cc1_cplx.pdb\n",
      "No interactions found for 1a8m_COc1ccccc1C(=O)Nc1ccc(S(=O)(=O)N2CCCCC2)cc1_cplx.pdb or damaged structure\n",
      "Downloading PDB structure '1a8m'...\n"
     ]
    },
    {
     "name": "stderr",
     "output_type": "stream",
     "text": [
      "/home/ben/anaconda3/lib/python3.7/site-packages/Bio/PDB/StructureBuilder.py:92: PDBConstructionWarning: WARNING: Chain A is discontinuous at line 4109.\n",
      "  PDBConstructionWarning,\n",
      "/home/ben/anaconda3/lib/python3.7/site-packages/Bio/PDB/StructureBuilder.py:92: PDBConstructionWarning: WARNING: Chain B is discontinuous at line 4125.\n",
      "  PDBConstructionWarning,\n",
      "/home/ben/anaconda3/lib/python3.7/site-packages/Bio/PDB/StructureBuilder.py:92: PDBConstructionWarning: WARNING: Chain C is discontinuous at line 4150.\n",
      "  PDBConstructionWarning,\n"
     ]
    },
    {
     "name": "stdout",
     "output_type": "stream",
     "text": [
      "Center point of docking grid for /home/ben/Documents/Target2DeNovoDrug/tmp37d4uib9/1a8m.pdbqt is as follows: x: 64.23, y: 65.34, z: 63.32\n",
      "Sizes of docking grid are as follows:x: 20.25, y: 50.86, z: 41.17\n",
      "Connection to PLIP server successful\n",
      "Processing file 1a8m_Cc1ccc(C(=O)NC(=O)c2ccccc2)cc1_cplx.pdb\n",
      "No interactions found for 1a8m_Cc1ccc(C(=O)NC(=O)c2ccccc2)cc1_cplx.pdb or damaged structure\n",
      "Downloading PDB structure '1a8m'...\n"
     ]
    },
    {
     "name": "stderr",
     "output_type": "stream",
     "text": [
      "/home/ben/anaconda3/lib/python3.7/site-packages/Bio/PDB/StructureBuilder.py:92: PDBConstructionWarning: WARNING: Chain A is discontinuous at line 4109.\n",
      "  PDBConstructionWarning,\n",
      "/home/ben/anaconda3/lib/python3.7/site-packages/Bio/PDB/StructureBuilder.py:92: PDBConstructionWarning: WARNING: Chain B is discontinuous at line 4125.\n",
      "  PDBConstructionWarning,\n",
      "/home/ben/anaconda3/lib/python3.7/site-packages/Bio/PDB/StructureBuilder.py:92: PDBConstructionWarning: WARNING: Chain C is discontinuous at line 4150.\n",
      "  PDBConstructionWarning,\n"
     ]
    },
    {
     "name": "stdout",
     "output_type": "stream",
     "text": [
      "Center point of docking grid for /home/ben/Documents/Target2DeNovoDrug/tmpfk85sgpz/1a8m.pdbqt is as follows: x: 64.23, y: 65.34, z: 63.32\n",
      "Sizes of docking grid are as follows:x: 20.25, y: 50.86, z: 41.17\n",
      "Connection to PLIP server successful\n",
      "Processing file 1a8m_Nc1ccc(S(=O)(=O)N2CCN(c3ccccc3)CC2)cc1_cplx.pdb\n",
      "No interactions found for 1a8m_Nc1ccc(S(=O)(=O)N2CCN(c3ccccc3)CC2)cc1_cplx.pdb or damaged structure\n",
      "Downloading PDB structure '1a8m'...\n"
     ]
    },
    {
     "name": "stderr",
     "output_type": "stream",
     "text": [
      "/home/ben/anaconda3/lib/python3.7/site-packages/Bio/PDB/StructureBuilder.py:92: PDBConstructionWarning: WARNING: Chain A is discontinuous at line 4109.\n",
      "  PDBConstructionWarning,\n",
      "/home/ben/anaconda3/lib/python3.7/site-packages/Bio/PDB/StructureBuilder.py:92: PDBConstructionWarning: WARNING: Chain B is discontinuous at line 4125.\n",
      "  PDBConstructionWarning,\n",
      "/home/ben/anaconda3/lib/python3.7/site-packages/Bio/PDB/StructureBuilder.py:92: PDBConstructionWarning: WARNING: Chain C is discontinuous at line 4150.\n",
      "  PDBConstructionWarning,\n"
     ]
    },
    {
     "name": "stdout",
     "output_type": "stream",
     "text": [
      "Center point of docking grid for /home/ben/Documents/Target2DeNovoDrug/tmp4g76nnbc/1a8m.pdbqt is as follows: x: 64.23, y: 65.34, z: 63.32\n",
      "Sizes of docking grid are as follows:x: 20.25, y: 50.86, z: 41.17\n",
      "Connection to PLIP server successful\n",
      "Processing file 1a8m_COc1ccc(NC(=O)c2cccc([N+](=O)[O-])c2)c(C#N)c1_cplx.pdb\n",
      "No interactions found for 1a8m_COc1ccc(NC(=O)c2cccc([N+](=O)[O-])c2)c(C#N)c1_cplx.pdb or damaged structure\n",
      "Downloading PDB structure '1a8m'...\n"
     ]
    },
    {
     "name": "stderr",
     "output_type": "stream",
     "text": [
      "/home/ben/anaconda3/lib/python3.7/site-packages/Bio/PDB/StructureBuilder.py:92: PDBConstructionWarning: WARNING: Chain A is discontinuous at line 4109.\n",
      "  PDBConstructionWarning,\n",
      "/home/ben/anaconda3/lib/python3.7/site-packages/Bio/PDB/StructureBuilder.py:92: PDBConstructionWarning: WARNING: Chain B is discontinuous at line 4125.\n",
      "  PDBConstructionWarning,\n",
      "/home/ben/anaconda3/lib/python3.7/site-packages/Bio/PDB/StructureBuilder.py:92: PDBConstructionWarning: WARNING: Chain C is discontinuous at line 4150.\n",
      "  PDBConstructionWarning,\n"
     ]
    },
    {
     "name": "stdout",
     "output_type": "stream",
     "text": [
      "Center point of docking grid for /home/ben/Documents/Target2DeNovoDrug/tmpuo3ds_9n/1a8m.pdbqt is as follows: x: 64.23, y: 65.34, z: 63.32\n",
      "Sizes of docking grid are as follows:x: 20.25, y: 50.86, z: 41.17\n",
      "Connection to PLIP server successful\n",
      "Processing file 1a8m_CC(=O)Nc1ccc(Nc2nnc(-c3ccccc3)s2)cc1_cplx.pdb\n",
      "No interactions found for 1a8m_CC(=O)Nc1ccc(Nc2nnc(-c3ccccc3)s2)cc1_cplx.pdb or damaged structure\n",
      "Message: Unable to locate element: /html/body/div[1]/div[2]/div[2]/p/a\n",
      "\n",
      "Downloading PDB structure '1a8m'...\n"
     ]
    },
    {
     "name": "stderr",
     "output_type": "stream",
     "text": [
      "/home/ben/anaconda3/lib/python3.7/site-packages/Bio/PDB/StructureBuilder.py:92: PDBConstructionWarning: WARNING: Chain A is discontinuous at line 4109.\n",
      "  PDBConstructionWarning,\n",
      "/home/ben/anaconda3/lib/python3.7/site-packages/Bio/PDB/StructureBuilder.py:92: PDBConstructionWarning: WARNING: Chain B is discontinuous at line 4125.\n",
      "  PDBConstructionWarning,\n",
      "/home/ben/anaconda3/lib/python3.7/site-packages/Bio/PDB/StructureBuilder.py:92: PDBConstructionWarning: WARNING: Chain C is discontinuous at line 4150.\n",
      "  PDBConstructionWarning,\n"
     ]
    },
    {
     "name": "stdout",
     "output_type": "stream",
     "text": [
      "Center point of docking grid for /home/ben/Documents/Target2DeNovoDrug/tmpaimyt0ao/1a8m.pdbqt is as follows: x: 64.23, y: 65.34, z: 63.32\n",
      "Sizes of docking grid are as follows:x: 20.25, y: 50.86, z: 41.17\n",
      "Connection to PLIP server successful\n",
      "Processing file 1a8m_CC(=O)c1ccc(NC(=O)c2ccc(Cl)c(S(=O)(=O)N3CCOCC3)c2)cc1_cplx.pdb\n",
      "No interactions found for 1a8m_CC(=O)c1ccc(NC(=O)c2ccc(Cl)c(S(=O)(=O)N3CCOCC3)c2)cc1_cplx.pdb or damaged structure\n",
      "Message: Unable to locate element: /html/body/div[1]/div[2]/div[2]/p/a\n",
      "\n",
      "Downloading PDB structure '1a8m'...\n"
     ]
    },
    {
     "name": "stderr",
     "output_type": "stream",
     "text": [
      "/home/ben/anaconda3/lib/python3.7/site-packages/Bio/PDB/StructureBuilder.py:92: PDBConstructionWarning: WARNING: Chain A is discontinuous at line 4109.\n",
      "  PDBConstructionWarning,\n",
      "/home/ben/anaconda3/lib/python3.7/site-packages/Bio/PDB/StructureBuilder.py:92: PDBConstructionWarning: WARNING: Chain B is discontinuous at line 4125.\n",
      "  PDBConstructionWarning,\n",
      "/home/ben/anaconda3/lib/python3.7/site-packages/Bio/PDB/StructureBuilder.py:92: PDBConstructionWarning: WARNING: Chain C is discontinuous at line 4150.\n",
      "  PDBConstructionWarning,\n"
     ]
    },
    {
     "name": "stdout",
     "output_type": "stream",
     "text": [
      "Center point of docking grid for /home/ben/Documents/Target2DeNovoDrug/tmp3gk0j4ri/1a8m.pdbqt is as follows: x: 64.23, y: 65.34, z: 63.32\n",
      "Sizes of docking grid are as follows:x: 20.25, y: 50.86, z: 41.17\n",
      "Connection to PLIP server successful\n",
      "Processing file 1a8m_COC1=CC=C(C(=O)N=Cc2ccccc2)C=c2ccccc2=N1_cplx.pdb\n",
      "No interactions found for 1a8m_COC1=CC=C(C(=O)N=Cc2ccccc2)C=c2ccccc2=N1_cplx.pdb or damaged structure\n",
      "Message: Unable to locate element: /html/body/div[1]/div[2]/div[2]/p/a\n",
      "\n",
      "Downloading PDB structure '1a8m'...\n"
     ]
    },
    {
     "name": "stderr",
     "output_type": "stream",
     "text": [
      "/home/ben/anaconda3/lib/python3.7/site-packages/Bio/PDB/StructureBuilder.py:92: PDBConstructionWarning: WARNING: Chain A is discontinuous at line 4109.\n",
      "  PDBConstructionWarning,\n",
      "/home/ben/anaconda3/lib/python3.7/site-packages/Bio/PDB/StructureBuilder.py:92: PDBConstructionWarning: WARNING: Chain B is discontinuous at line 4125.\n",
      "  PDBConstructionWarning,\n",
      "/home/ben/anaconda3/lib/python3.7/site-packages/Bio/PDB/StructureBuilder.py:92: PDBConstructionWarning: WARNING: Chain C is discontinuous at line 4150.\n",
      "  PDBConstructionWarning,\n"
     ]
    },
    {
     "name": "stdout",
     "output_type": "stream",
     "text": [
      "Center point of docking grid for /home/ben/Documents/Target2DeNovoDrug/tmpcanwtx_s/1a8m.pdbqt is as follows: x: 64.23, y: 65.34, z: 63.32\n",
      "Sizes of docking grid are as follows:x: 20.25, y: 50.86, z: 41.17\n",
      "Connection to PLIP server successful\n",
      "Processing file 1a8m_Cc1ccc(C(=O)Nc2ccc(C(F)(F)F)cc2)cc1_cplx.pdb\n",
      "No interactions found for 1a8m_Cc1ccc(C(=O)Nc2ccc(C(F)(F)F)cc2)cc1_cplx.pdb or damaged structure\n",
      "Message: Unable to locate element: /html/body/div[1]/div[2]/div[2]/p/a\n",
      "\n",
      "Downloading PDB structure '1a8m'...\n"
     ]
    },
    {
     "name": "stderr",
     "output_type": "stream",
     "text": [
      "/home/ben/anaconda3/lib/python3.7/site-packages/Bio/PDB/StructureBuilder.py:92: PDBConstructionWarning: WARNING: Chain A is discontinuous at line 4109.\n",
      "  PDBConstructionWarning,\n",
      "/home/ben/anaconda3/lib/python3.7/site-packages/Bio/PDB/StructureBuilder.py:92: PDBConstructionWarning: WARNING: Chain B is discontinuous at line 4125.\n",
      "  PDBConstructionWarning,\n",
      "/home/ben/anaconda3/lib/python3.7/site-packages/Bio/PDB/StructureBuilder.py:92: PDBConstructionWarning: WARNING: Chain C is discontinuous at line 4150.\n",
      "  PDBConstructionWarning,\n"
     ]
    },
    {
     "name": "stdout",
     "output_type": "stream",
     "text": [
      "Center point of docking grid for /home/ben/Documents/Target2DeNovoDrug/tmp7q_b4ip3/1a8m.pdbqt is as follows: x: 64.23, y: 65.34, z: 63.32\n",
      "Sizes of docking grid are as follows:x: 20.25, y: 50.86, z: 41.17\n",
      "Connection to PLIP server successful\n",
      "Processing file 1a8m_COc1ccccc1C(=O)NCCC(=O)Nc1ccc(S(=O)(=O)N(C)C)cc1_cplx.pdb\n",
      "No interactions found for 1a8m_COc1ccccc1C(=O)NCCC(=O)Nc1ccc(S(=O)(=O)N(C)C)cc1_cplx.pdb or damaged structure\n",
      "Message: Unable to locate element: /html/body/div[1]/div[2]/div[2]/p/a\n",
      "\n",
      "Downloading PDB structure '1a8m'...\n"
     ]
    },
    {
     "name": "stderr",
     "output_type": "stream",
     "text": [
      "/home/ben/anaconda3/lib/python3.7/site-packages/Bio/PDB/StructureBuilder.py:92: PDBConstructionWarning: WARNING: Chain A is discontinuous at line 4109.\n",
      "  PDBConstructionWarning,\n",
      "/home/ben/anaconda3/lib/python3.7/site-packages/Bio/PDB/StructureBuilder.py:92: PDBConstructionWarning: WARNING: Chain B is discontinuous at line 4125.\n",
      "  PDBConstructionWarning,\n",
      "/home/ben/anaconda3/lib/python3.7/site-packages/Bio/PDB/StructureBuilder.py:92: PDBConstructionWarning: WARNING: Chain C is discontinuous at line 4150.\n",
      "  PDBConstructionWarning,\n"
     ]
    },
    {
     "name": "stdout",
     "output_type": "stream",
     "text": [
      "Center point of docking grid for /home/ben/Documents/Target2DeNovoDrug/tmpuiae5irn/1a8m.pdbqt is as follows: x: 64.23, y: 65.34, z: 63.32\n",
      "Sizes of docking grid are as follows:x: 20.25, y: 50.86, z: 41.17\n",
      "Connection to PLIP server successful\n",
      "Processing file 1a8m_O=C(NCC1CCCO1)c1ccc(Oc2ccc([N+](=O)[O-])cc2)cc1S(=O)(=O)Nc1ccccc1_cplx.pdb\n",
      "No interactions found for 1a8m_O=C(NCC1CCCO1)c1ccc(Oc2ccc([N+](=O)[O-])cc2)cc1S(=O)(=O)Nc1ccccc1_cplx.pdb or damaged structure\n",
      "Message: Unable to locate element: /html/body/div[1]/div[2]/div[2]/p/a\n",
      "\n",
      "Downloading PDB structure '1a8m'...\n"
     ]
    },
    {
     "name": "stderr",
     "output_type": "stream",
     "text": [
      "/home/ben/anaconda3/lib/python3.7/site-packages/Bio/PDB/StructureBuilder.py:92: PDBConstructionWarning: WARNING: Chain A is discontinuous at line 4109.\n",
      "  PDBConstructionWarning,\n",
      "/home/ben/anaconda3/lib/python3.7/site-packages/Bio/PDB/StructureBuilder.py:92: PDBConstructionWarning: WARNING: Chain B is discontinuous at line 4125.\n",
      "  PDBConstructionWarning,\n",
      "/home/ben/anaconda3/lib/python3.7/site-packages/Bio/PDB/StructureBuilder.py:92: PDBConstructionWarning: WARNING: Chain C is discontinuous at line 4150.\n",
      "  PDBConstructionWarning,\n"
     ]
    },
    {
     "name": "stdout",
     "output_type": "stream",
     "text": [
      "Center point of docking grid for /home/ben/Documents/Target2DeNovoDrug/tmpigie55ub/1a8m.pdbqt is as follows: x: 64.23, y: 65.34, z: 63.32\n",
      "Sizes of docking grid are as follows:x: 20.25, y: 50.86, z: 41.17\n",
      "Connection to PLIP server successful\n",
      "Processing file 1a8m_CCC(Cc1ccc(S(=O)(=O)N2CCCCC2)cc1)c1cc(Cl)ccc1Br_cplx.pdb\n",
      "No interactions found for 1a8m_CCC(Cc1ccc(S(=O)(=O)N2CCCCC2)cc1)c1cc(Cl)ccc1Br_cplx.pdb or damaged structure\n",
      "Message: Unable to locate element: /html/body/div[1]/div[2]/div[2]/p/a\n",
      "\n",
      "Downloading PDB structure '1a8m'...\n"
     ]
    },
    {
     "name": "stderr",
     "output_type": "stream",
     "text": [
      "/home/ben/anaconda3/lib/python3.7/site-packages/Bio/PDB/StructureBuilder.py:92: PDBConstructionWarning: WARNING: Chain A is discontinuous at line 4109.\n",
      "  PDBConstructionWarning,\n",
      "/home/ben/anaconda3/lib/python3.7/site-packages/Bio/PDB/StructureBuilder.py:92: PDBConstructionWarning: WARNING: Chain B is discontinuous at line 4125.\n",
      "  PDBConstructionWarning,\n",
      "/home/ben/anaconda3/lib/python3.7/site-packages/Bio/PDB/StructureBuilder.py:92: PDBConstructionWarning: WARNING: Chain C is discontinuous at line 4150.\n",
      "  PDBConstructionWarning,\n"
     ]
    },
    {
     "name": "stdout",
     "output_type": "stream",
     "text": [
      "Center point of docking grid for /home/ben/Documents/Target2DeNovoDrug/tmpyqkdonss/1a8m.pdbqt is as follows: x: 64.23, y: 65.34, z: 63.32\n",
      "Sizes of docking grid are as follows:x: 20.25, y: 50.86, z: 41.17\n",
      "Connection to PLIP server successful\n",
      "Processing file 1a8m_COc1ccc(C(=O)Nc2cc(C)n(Cc3cccc(C)c3)c2)cc1_cplx.pdb\n",
      "No interactions found for 1a8m_COc1ccc(C(=O)Nc2cc(C)n(Cc3cccc(C)c3)c2)cc1_cplx.pdb or damaged structure\n",
      "Message: Unable to locate element: /html/body/div[1]/div[2]/div[2]/p/a\n",
      "\n",
      "Downloading PDB structure '1a8m'...\n"
     ]
    },
    {
     "name": "stderr",
     "output_type": "stream",
     "text": [
      "/home/ben/anaconda3/lib/python3.7/site-packages/Bio/PDB/StructureBuilder.py:92: PDBConstructionWarning: WARNING: Chain A is discontinuous at line 4109.\n",
      "  PDBConstructionWarning,\n",
      "/home/ben/anaconda3/lib/python3.7/site-packages/Bio/PDB/StructureBuilder.py:92: PDBConstructionWarning: WARNING: Chain B is discontinuous at line 4125.\n",
      "  PDBConstructionWarning,\n",
      "/home/ben/anaconda3/lib/python3.7/site-packages/Bio/PDB/StructureBuilder.py:92: PDBConstructionWarning: WARNING: Chain C is discontinuous at line 4150.\n",
      "  PDBConstructionWarning,\n"
     ]
    },
    {
     "name": "stdout",
     "output_type": "stream",
     "text": [
      "Center point of docking grid for /home/ben/Documents/Target2DeNovoDrug/tmpfcqeehfx/1a8m.pdbqt is as follows: x: 64.23, y: 65.34, z: 63.32\n",
      "Sizes of docking grid are as follows:x: 20.25, y: 50.86, z: 41.17\n",
      "Connection to PLIP server successful\n",
      "Processing file 1a8m_O=C(Nc1cccc2cccnc12)Nc1cccc2cccnc12_cplx.pdb\n",
      "No interactions found for 1a8m_O=C(Nc1cccc2cccnc12)Nc1cccc2cccnc12_cplx.pdb or damaged structure\n",
      "Message: Unable to locate element: /html/body/div[1]/div[2]/div[2]/p/a\n",
      "\n",
      "Downloading PDB structure '1a8m'...\n"
     ]
    },
    {
     "name": "stderr",
     "output_type": "stream",
     "text": [
      "/home/ben/anaconda3/lib/python3.7/site-packages/Bio/PDB/StructureBuilder.py:92: PDBConstructionWarning: WARNING: Chain A is discontinuous at line 4109.\n",
      "  PDBConstructionWarning,\n",
      "/home/ben/anaconda3/lib/python3.7/site-packages/Bio/PDB/StructureBuilder.py:92: PDBConstructionWarning: WARNING: Chain B is discontinuous at line 4125.\n",
      "  PDBConstructionWarning,\n",
      "/home/ben/anaconda3/lib/python3.7/site-packages/Bio/PDB/StructureBuilder.py:92: PDBConstructionWarning: WARNING: Chain C is discontinuous at line 4150.\n",
      "  PDBConstructionWarning,\n"
     ]
    },
    {
     "name": "stdout",
     "output_type": "stream",
     "text": [
      "Center point of docking grid for /home/ben/Documents/Target2DeNovoDrug/tmp62jskzup/1a8m.pdbqt is as follows: x: 64.23, y: 65.34, z: 63.32\n",
      "Sizes of docking grid are as follows:x: 20.25, y: 50.86, z: 41.17\n",
      "Connection to PLIP server successful\n",
      "Processing file 1a8m_Cc1ccccc1-c1csc(NC(=O)c2ccccc2[N+](=O)[O-])n1_cplx.pdb\n",
      "No interactions found for 1a8m_Cc1ccccc1-c1csc(NC(=O)c2ccccc2[N+](=O)[O-])n1_cplx.pdb or damaged structure\n",
      "Message: Unable to locate element: /html/body/div[1]/div[2]/div[2]/p/a\n",
      "\n",
      "Downloading PDB structure '1a8m'...\n"
     ]
    },
    {
     "name": "stderr",
     "output_type": "stream",
     "text": [
      "/home/ben/anaconda3/lib/python3.7/site-packages/Bio/PDB/StructureBuilder.py:92: PDBConstructionWarning: WARNING: Chain A is discontinuous at line 4109.\n",
      "  PDBConstructionWarning,\n",
      "/home/ben/anaconda3/lib/python3.7/site-packages/Bio/PDB/StructureBuilder.py:92: PDBConstructionWarning: WARNING: Chain B is discontinuous at line 4125.\n",
      "  PDBConstructionWarning,\n",
      "/home/ben/anaconda3/lib/python3.7/site-packages/Bio/PDB/StructureBuilder.py:92: PDBConstructionWarning: WARNING: Chain C is discontinuous at line 4150.\n",
      "  PDBConstructionWarning,\n"
     ]
    },
    {
     "name": "stdout",
     "output_type": "stream",
     "text": [
      "Center point of docking grid for /home/ben/Documents/Target2DeNovoDrug/tmpkcer1qkb/1a8m.pdbqt is as follows: x: 64.23, y: 65.34, z: 63.32\n",
      "Sizes of docking grid are as follows:x: 20.25, y: 50.86, z: 41.17\n",
      "Connection to PLIP server successful\n",
      "Processing file 1a8m_COc1ccccc1N1CCN(C(=O)c2ccc([N+](=O)[O-])cc2)CC1_cplx.pdb\n",
      "No interactions found for 1a8m_COc1ccccc1N1CCN(C(=O)c2ccc([N+](=O)[O-])cc2)CC1_cplx.pdb or damaged structure\n",
      "Message: Unable to locate element: /html/body/div[1]/div[2]/div[2]/p/a\n",
      "\n",
      "Downloading PDB structure '1a8m'...\n"
     ]
    },
    {
     "name": "stderr",
     "output_type": "stream",
     "text": [
      "/home/ben/anaconda3/lib/python3.7/site-packages/Bio/PDB/StructureBuilder.py:92: PDBConstructionWarning: WARNING: Chain A is discontinuous at line 4109.\n",
      "  PDBConstructionWarning,\n",
      "/home/ben/anaconda3/lib/python3.7/site-packages/Bio/PDB/StructureBuilder.py:92: PDBConstructionWarning: WARNING: Chain B is discontinuous at line 4125.\n",
      "  PDBConstructionWarning,\n",
      "/home/ben/anaconda3/lib/python3.7/site-packages/Bio/PDB/StructureBuilder.py:92: PDBConstructionWarning: WARNING: Chain C is discontinuous at line 4150.\n",
      "  PDBConstructionWarning,\n"
     ]
    },
    {
     "name": "stdout",
     "output_type": "stream",
     "text": [
      "Center point of docking grid for /home/ben/Documents/Target2DeNovoDrug/tmp3j0tbhew/1a8m.pdbqt is as follows: x: 64.23, y: 65.34, z: 63.32\n",
      "Sizes of docking grid are as follows:x: 20.25, y: 50.86, z: 41.17\n",
      "Connection to PLIP server successful\n",
      "Processing file 1a8m_COc1ccccc1CC(=O)Nc1ccc(C)cc1_cplx.pdb\n",
      "No interactions found for 1a8m_COc1ccccc1CC(=O)Nc1ccc(C)cc1_cplx.pdb or damaged structure\n",
      "Message: Unable to locate element: /html/body/div[1]/div[2]/div[2]/p/a\n",
      "\n",
      "Downloading PDB structure '1a8m'...\n"
     ]
    },
    {
     "name": "stderr",
     "output_type": "stream",
     "text": [
      "/home/ben/anaconda3/lib/python3.7/site-packages/Bio/PDB/StructureBuilder.py:92: PDBConstructionWarning: WARNING: Chain A is discontinuous at line 4109.\n",
      "  PDBConstructionWarning,\n",
      "/home/ben/anaconda3/lib/python3.7/site-packages/Bio/PDB/StructureBuilder.py:92: PDBConstructionWarning: WARNING: Chain B is discontinuous at line 4125.\n",
      "  PDBConstructionWarning,\n",
      "/home/ben/anaconda3/lib/python3.7/site-packages/Bio/PDB/StructureBuilder.py:92: PDBConstructionWarning: WARNING: Chain C is discontinuous at line 4150.\n",
      "  PDBConstructionWarning,\n"
     ]
    },
    {
     "name": "stdout",
     "output_type": "stream",
     "text": [
      "Center point of docking grid for /home/ben/Documents/Target2DeNovoDrug/tmpaedx_u0d/1a8m.pdbqt is as follows: x: 64.23, y: 65.34, z: 63.32\n",
      "Sizes of docking grid are as follows:x: 20.25, y: 50.86, z: 41.17\n",
      "Connection to PLIP server successful\n",
      "Processing file 1a8m_O=C(Nc1ccc(S(=O)(=O)N2CCOCC2)cc1)c1cccc(Cl)c1_cplx.pdb\n",
      "No interactions found for 1a8m_O=C(Nc1ccc(S(=O)(=O)N2CCOCC2)cc1)c1cccc(Cl)c1_cplx.pdb or damaged structure\n",
      "Message: Unable to locate element: /html/body/div[1]/div[2]/div[2]/p/a\n",
      "\n",
      "Downloading PDB structure '1a8m'...\n"
     ]
    },
    {
     "name": "stderr",
     "output_type": "stream",
     "text": [
      "/home/ben/anaconda3/lib/python3.7/site-packages/Bio/PDB/StructureBuilder.py:92: PDBConstructionWarning: WARNING: Chain A is discontinuous at line 4109.\n",
      "  PDBConstructionWarning,\n",
      "/home/ben/anaconda3/lib/python3.7/site-packages/Bio/PDB/StructureBuilder.py:92: PDBConstructionWarning: WARNING: Chain B is discontinuous at line 4125.\n",
      "  PDBConstructionWarning,\n",
      "/home/ben/anaconda3/lib/python3.7/site-packages/Bio/PDB/StructureBuilder.py:92: PDBConstructionWarning: WARNING: Chain C is discontinuous at line 4150.\n",
      "  PDBConstructionWarning,\n"
     ]
    },
    {
     "name": "stdout",
     "output_type": "stream",
     "text": [
      "Center point of docking grid for /home/ben/Documents/Target2DeNovoDrug/tmp7esba57z/1a8m.pdbqt is as follows: x: 64.23, y: 65.34, z: 63.32\n",
      "Sizes of docking grid are as follows:x: 20.25, y: 50.86, z: 41.17\n",
      "Connection to PLIP server successful\n",
      "Processing file 1a8m_CCCc1nc2ccc(NC(=O)c3ccc(F)cc3)ccnc1-2_cplx.pdb\n",
      "No interactions found for 1a8m_CCCc1nc2ccc(NC(=O)c3ccc(F)cc3)ccnc1-2_cplx.pdb or damaged structure\n",
      "Message: Unable to locate element: /html/body/div[1]/div[2]/div[2]/p/a\n",
      "\n",
      "Downloading PDB structure '1a8m'...\n"
     ]
    },
    {
     "name": "stderr",
     "output_type": "stream",
     "text": [
      "/home/ben/anaconda3/lib/python3.7/site-packages/Bio/PDB/StructureBuilder.py:92: PDBConstructionWarning: WARNING: Chain A is discontinuous at line 4109.\n",
      "  PDBConstructionWarning,\n",
      "/home/ben/anaconda3/lib/python3.7/site-packages/Bio/PDB/StructureBuilder.py:92: PDBConstructionWarning: WARNING: Chain B is discontinuous at line 4125.\n",
      "  PDBConstructionWarning,\n",
      "/home/ben/anaconda3/lib/python3.7/site-packages/Bio/PDB/StructureBuilder.py:92: PDBConstructionWarning: WARNING: Chain C is discontinuous at line 4150.\n",
      "  PDBConstructionWarning,\n"
     ]
    },
    {
     "name": "stdout",
     "output_type": "stream",
     "text": [
      "Center point of docking grid for /home/ben/Documents/Target2DeNovoDrug/tmpdm5av67r/1a8m.pdbqt is as follows: x: 64.23, y: 65.34, z: 63.32\n",
      "Sizes of docking grid are as follows:x: 20.25, y: 50.86, z: 41.17\n",
      "Connection to PLIP server successful\n",
      "Processing file 1a8m_COC(=O)c1ccc(S(=O)(=O)N2CCN(c3ncccn3)CC2)cc1_cplx.pdb\n",
      "No interactions found for 1a8m_COC(=O)c1ccc(S(=O)(=O)N2CCN(c3ncccn3)CC2)cc1_cplx.pdb or damaged structure\n",
      "Message: Unable to locate element: /html/body/div[1]/div[2]/div[2]/p/a\n",
      "\n"
     ]
    }
   ],
   "source": [
    "execute(PDB, B2)"
   ]
  },
  {
   "cell_type": "code",
   "execution_count": null,
   "metadata": {},
   "outputs": [],
   "source": [
    "import os\n",
    "os.chdir('/home/ben/Documents/TargetDeNovoDrug with MD/results')\n",
    "os.system('bash runGromacs.sh')"
   ]
  },
  {
   "cell_type": "markdown",
   "metadata": {},
   "source": [
    "Project ends"
   ]
  }
 ],
 "metadata": {
  "kernelspec": {
   "display_name": "Python 3",
   "language": "python",
   "name": "python3"
  },
  "language_info": {
   "codemirror_mode": {
    "name": "ipython",
    "version": 3
   },
   "file_extension": ".py",
   "mimetype": "text/x-python",
   "name": "python",
   "nbconvert_exporter": "python",
   "pygments_lexer": "ipython3",
   "version": "3.6.12"
  }
 },
 "nbformat": 4,
 "nbformat_minor": 2
}
